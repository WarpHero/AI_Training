{
  "nbformat": 4,
  "nbformat_minor": 0,
  "metadata": {
    "colab": {
      "provenance": [],
      "collapsed_sections": [
        "Pm5RvegtEjP0",
        "T1kzgMK_pIjT",
        "10BGUnRT-bxb",
        "koPSFuUbSpQE",
        "gpXpfv_EiAH9",
        "XAQ0-iTCjCxB",
        "tqqWd8YepOQs",
        "GVKXcQcbpRg7",
        "fSPDl9X3roQc",
        "Dcr0g14CEK5E",
        "iWmP8AvTFLC2",
        "gOOjGaubfiAq"
      ],
      "authorship_tag": "ABX9TyP/cs+0ur/v//nHTbWz8Qq9"
    },
    "kernelspec": {
      "name": "python3",
      "display_name": "Python 3"
    },
    "language_info": {
      "name": "python"
    }
  },
  "cells": [
    {
      "cell_type": "markdown",
      "source": [
        "# Regression Model with Decision Tree\n",
        "- EDA\n",
        "- Data Processing\n",
        "- Linear Regression\n",
        "- MLP\n",
        "- K-fold Cross Validation\n",
        "- Decision Tree\n",
        "- Ensemble\n",
        "  > Random Forest\n",
        "  > Boosting\n",
        "- House Prices : https://www.kaggle.com/competitions/house-prices-advanced-regression-techniques/data"
      ],
      "metadata": {
        "id": "cO0dQqQ0onXl"
      }
    },
    {
      "cell_type": "markdown",
      "source": [
        "## EDA\n",
        "- House Prices in Kaggle"
      ],
      "metadata": {
        "id": "Pm5RvegtEjP0"
      }
    },
    {
      "cell_type": "code",
      "execution_count": 1,
      "metadata": {
        "id": "bvTBBXf3Efhr"
      },
      "outputs": [],
      "source": [
        "import pandas as pd\n",
        "import numpy as np"
      ]
    },
    {
      "cell_type": "code",
      "source": [
        "import matplotlib.pyplot as plt\n",
        "import seaborn as sns"
      ],
      "metadata": {
        "id": "k4Wx8XukFp6i"
      },
      "execution_count": 2,
      "outputs": []
    },
    {
      "cell_type": "code",
      "source": [
        "df_train = pd.read_csv(\"train.csv\")"
      ],
      "metadata": {
        "id": "1Y0lO4tQFxWb"
      },
      "execution_count": 3,
      "outputs": []
    },
    {
      "cell_type": "code",
      "source": [
        "len(df_train)"
      ],
      "metadata": {
        "colab": {
          "base_uri": "https://localhost:8080/"
        },
        "id": "KfCFm4qpF7FK",
        "outputId": "27ffef85-a21d-48a6-9b88-041f68cfd4e6"
      },
      "execution_count": 4,
      "outputs": [
        {
          "output_type": "execute_result",
          "data": {
            "text/plain": [
              "1460"
            ]
          },
          "metadata": {},
          "execution_count": 4
        }
      ]
    },
    {
      "cell_type": "markdown",
      "source": [
        "### Dataset 확인"
      ],
      "metadata": {
        "id": "mjPw2IMRN8zx"
      }
    },
    {
      "cell_type": "markdown",
      "source": [
        "- 최종 목표 : price 맞추기"
      ],
      "metadata": {
        "id": "zqcgmsK6H2TF"
      }
    },
    {
      "cell_type": "code",
      "source": [
        "df_train"
      ],
      "metadata": {
        "colab": {
          "base_uri": "https://localhost:8080/",
          "height": 488
        },
        "id": "Wp1PJeU5F4Gq",
        "outputId": "691004e1-7b0e-44b8-e1ef-d8c2814ad734"
      },
      "execution_count": 5,
      "outputs": [
        {
          "output_type": "execute_result",
          "data": {
            "text/plain": [
              "        Id  MSSubClass MSZoning  LotFrontage  LotArea Street Alley LotShape  \\\n",
              "0        1          60       RL         65.0     8450   Pave   NaN      Reg   \n",
              "1        2          20       RL         80.0     9600   Pave   NaN      Reg   \n",
              "2        3          60       RL         68.0    11250   Pave   NaN      IR1   \n",
              "3        4          70       RL         60.0     9550   Pave   NaN      IR1   \n",
              "4        5          60       RL         84.0    14260   Pave   NaN      IR1   \n",
              "...    ...         ...      ...          ...      ...    ...   ...      ...   \n",
              "1455  1456          60       RL         62.0     7917   Pave   NaN      Reg   \n",
              "1456  1457          20       RL         85.0    13175   Pave   NaN      Reg   \n",
              "1457  1458          70       RL         66.0     9042   Pave   NaN      Reg   \n",
              "1458  1459          20       RL         68.0     9717   Pave   NaN      Reg   \n",
              "1459  1460          20       RL         75.0     9937   Pave   NaN      Reg   \n",
              "\n",
              "     LandContour Utilities  ... PoolArea PoolQC  Fence MiscFeature MiscVal  \\\n",
              "0            Lvl    AllPub  ...        0    NaN    NaN         NaN       0   \n",
              "1            Lvl    AllPub  ...        0    NaN    NaN         NaN       0   \n",
              "2            Lvl    AllPub  ...        0    NaN    NaN         NaN       0   \n",
              "3            Lvl    AllPub  ...        0    NaN    NaN         NaN       0   \n",
              "4            Lvl    AllPub  ...        0    NaN    NaN         NaN       0   \n",
              "...          ...       ...  ...      ...    ...    ...         ...     ...   \n",
              "1455         Lvl    AllPub  ...        0    NaN    NaN         NaN       0   \n",
              "1456         Lvl    AllPub  ...        0    NaN  MnPrv         NaN       0   \n",
              "1457         Lvl    AllPub  ...        0    NaN  GdPrv        Shed    2500   \n",
              "1458         Lvl    AllPub  ...        0    NaN    NaN         NaN       0   \n",
              "1459         Lvl    AllPub  ...        0    NaN    NaN         NaN       0   \n",
              "\n",
              "     MoSold YrSold  SaleType  SaleCondition  SalePrice  \n",
              "0         2   2008        WD         Normal     208500  \n",
              "1         5   2007        WD         Normal     181500  \n",
              "2         9   2008        WD         Normal     223500  \n",
              "3         2   2006        WD        Abnorml     140000  \n",
              "4        12   2008        WD         Normal     250000  \n",
              "...     ...    ...       ...            ...        ...  \n",
              "1455      8   2007        WD         Normal     175000  \n",
              "1456      2   2010        WD         Normal     210000  \n",
              "1457      5   2010        WD         Normal     266500  \n",
              "1458      4   2010        WD         Normal     142125  \n",
              "1459      6   2008        WD         Normal     147500  \n",
              "\n",
              "[1460 rows x 81 columns]"
            ],
            "text/html": [
              "\n",
              "  <div id=\"df-72e392e0-4639-444c-8016-1ee4134a58ad\">\n",
              "    <div class=\"colab-df-container\">\n",
              "      <div>\n",
              "<style scoped>\n",
              "    .dataframe tbody tr th:only-of-type {\n",
              "        vertical-align: middle;\n",
              "    }\n",
              "\n",
              "    .dataframe tbody tr th {\n",
              "        vertical-align: top;\n",
              "    }\n",
              "\n",
              "    .dataframe thead th {\n",
              "        text-align: right;\n",
              "    }\n",
              "</style>\n",
              "<table border=\"1\" class=\"dataframe\">\n",
              "  <thead>\n",
              "    <tr style=\"text-align: right;\">\n",
              "      <th></th>\n",
              "      <th>Id</th>\n",
              "      <th>MSSubClass</th>\n",
              "      <th>MSZoning</th>\n",
              "      <th>LotFrontage</th>\n",
              "      <th>LotArea</th>\n",
              "      <th>Street</th>\n",
              "      <th>Alley</th>\n",
              "      <th>LotShape</th>\n",
              "      <th>LandContour</th>\n",
              "      <th>Utilities</th>\n",
              "      <th>...</th>\n",
              "      <th>PoolArea</th>\n",
              "      <th>PoolQC</th>\n",
              "      <th>Fence</th>\n",
              "      <th>MiscFeature</th>\n",
              "      <th>MiscVal</th>\n",
              "      <th>MoSold</th>\n",
              "      <th>YrSold</th>\n",
              "      <th>SaleType</th>\n",
              "      <th>SaleCondition</th>\n",
              "      <th>SalePrice</th>\n",
              "    </tr>\n",
              "  </thead>\n",
              "  <tbody>\n",
              "    <tr>\n",
              "      <th>0</th>\n",
              "      <td>1</td>\n",
              "      <td>60</td>\n",
              "      <td>RL</td>\n",
              "      <td>65.0</td>\n",
              "      <td>8450</td>\n",
              "      <td>Pave</td>\n",
              "      <td>NaN</td>\n",
              "      <td>Reg</td>\n",
              "      <td>Lvl</td>\n",
              "      <td>AllPub</td>\n",
              "      <td>...</td>\n",
              "      <td>0</td>\n",
              "      <td>NaN</td>\n",
              "      <td>NaN</td>\n",
              "      <td>NaN</td>\n",
              "      <td>0</td>\n",
              "      <td>2</td>\n",
              "      <td>2008</td>\n",
              "      <td>WD</td>\n",
              "      <td>Normal</td>\n",
              "      <td>208500</td>\n",
              "    </tr>\n",
              "    <tr>\n",
              "      <th>1</th>\n",
              "      <td>2</td>\n",
              "      <td>20</td>\n",
              "      <td>RL</td>\n",
              "      <td>80.0</td>\n",
              "      <td>9600</td>\n",
              "      <td>Pave</td>\n",
              "      <td>NaN</td>\n",
              "      <td>Reg</td>\n",
              "      <td>Lvl</td>\n",
              "      <td>AllPub</td>\n",
              "      <td>...</td>\n",
              "      <td>0</td>\n",
              "      <td>NaN</td>\n",
              "      <td>NaN</td>\n",
              "      <td>NaN</td>\n",
              "      <td>0</td>\n",
              "      <td>5</td>\n",
              "      <td>2007</td>\n",
              "      <td>WD</td>\n",
              "      <td>Normal</td>\n",
              "      <td>181500</td>\n",
              "    </tr>\n",
              "    <tr>\n",
              "      <th>2</th>\n",
              "      <td>3</td>\n",
              "      <td>60</td>\n",
              "      <td>RL</td>\n",
              "      <td>68.0</td>\n",
              "      <td>11250</td>\n",
              "      <td>Pave</td>\n",
              "      <td>NaN</td>\n",
              "      <td>IR1</td>\n",
              "      <td>Lvl</td>\n",
              "      <td>AllPub</td>\n",
              "      <td>...</td>\n",
              "      <td>0</td>\n",
              "      <td>NaN</td>\n",
              "      <td>NaN</td>\n",
              "      <td>NaN</td>\n",
              "      <td>0</td>\n",
              "      <td>9</td>\n",
              "      <td>2008</td>\n",
              "      <td>WD</td>\n",
              "      <td>Normal</td>\n",
              "      <td>223500</td>\n",
              "    </tr>\n",
              "    <tr>\n",
              "      <th>3</th>\n",
              "      <td>4</td>\n",
              "      <td>70</td>\n",
              "      <td>RL</td>\n",
              "      <td>60.0</td>\n",
              "      <td>9550</td>\n",
              "      <td>Pave</td>\n",
              "      <td>NaN</td>\n",
              "      <td>IR1</td>\n",
              "      <td>Lvl</td>\n",
              "      <td>AllPub</td>\n",
              "      <td>...</td>\n",
              "      <td>0</td>\n",
              "      <td>NaN</td>\n",
              "      <td>NaN</td>\n",
              "      <td>NaN</td>\n",
              "      <td>0</td>\n",
              "      <td>2</td>\n",
              "      <td>2006</td>\n",
              "      <td>WD</td>\n",
              "      <td>Abnorml</td>\n",
              "      <td>140000</td>\n",
              "    </tr>\n",
              "    <tr>\n",
              "      <th>4</th>\n",
              "      <td>5</td>\n",
              "      <td>60</td>\n",
              "      <td>RL</td>\n",
              "      <td>84.0</td>\n",
              "      <td>14260</td>\n",
              "      <td>Pave</td>\n",
              "      <td>NaN</td>\n",
              "      <td>IR1</td>\n",
              "      <td>Lvl</td>\n",
              "      <td>AllPub</td>\n",
              "      <td>...</td>\n",
              "      <td>0</td>\n",
              "      <td>NaN</td>\n",
              "      <td>NaN</td>\n",
              "      <td>NaN</td>\n",
              "      <td>0</td>\n",
              "      <td>12</td>\n",
              "      <td>2008</td>\n",
              "      <td>WD</td>\n",
              "      <td>Normal</td>\n",
              "      <td>250000</td>\n",
              "    </tr>\n",
              "    <tr>\n",
              "      <th>...</th>\n",
              "      <td>...</td>\n",
              "      <td>...</td>\n",
              "      <td>...</td>\n",
              "      <td>...</td>\n",
              "      <td>...</td>\n",
              "      <td>...</td>\n",
              "      <td>...</td>\n",
              "      <td>...</td>\n",
              "      <td>...</td>\n",
              "      <td>...</td>\n",
              "      <td>...</td>\n",
              "      <td>...</td>\n",
              "      <td>...</td>\n",
              "      <td>...</td>\n",
              "      <td>...</td>\n",
              "      <td>...</td>\n",
              "      <td>...</td>\n",
              "      <td>...</td>\n",
              "      <td>...</td>\n",
              "      <td>...</td>\n",
              "      <td>...</td>\n",
              "    </tr>\n",
              "    <tr>\n",
              "      <th>1455</th>\n",
              "      <td>1456</td>\n",
              "      <td>60</td>\n",
              "      <td>RL</td>\n",
              "      <td>62.0</td>\n",
              "      <td>7917</td>\n",
              "      <td>Pave</td>\n",
              "      <td>NaN</td>\n",
              "      <td>Reg</td>\n",
              "      <td>Lvl</td>\n",
              "      <td>AllPub</td>\n",
              "      <td>...</td>\n",
              "      <td>0</td>\n",
              "      <td>NaN</td>\n",
              "      <td>NaN</td>\n",
              "      <td>NaN</td>\n",
              "      <td>0</td>\n",
              "      <td>8</td>\n",
              "      <td>2007</td>\n",
              "      <td>WD</td>\n",
              "      <td>Normal</td>\n",
              "      <td>175000</td>\n",
              "    </tr>\n",
              "    <tr>\n",
              "      <th>1456</th>\n",
              "      <td>1457</td>\n",
              "      <td>20</td>\n",
              "      <td>RL</td>\n",
              "      <td>85.0</td>\n",
              "      <td>13175</td>\n",
              "      <td>Pave</td>\n",
              "      <td>NaN</td>\n",
              "      <td>Reg</td>\n",
              "      <td>Lvl</td>\n",
              "      <td>AllPub</td>\n",
              "      <td>...</td>\n",
              "      <td>0</td>\n",
              "      <td>NaN</td>\n",
              "      <td>MnPrv</td>\n",
              "      <td>NaN</td>\n",
              "      <td>0</td>\n",
              "      <td>2</td>\n",
              "      <td>2010</td>\n",
              "      <td>WD</td>\n",
              "      <td>Normal</td>\n",
              "      <td>210000</td>\n",
              "    </tr>\n",
              "    <tr>\n",
              "      <th>1457</th>\n",
              "      <td>1458</td>\n",
              "      <td>70</td>\n",
              "      <td>RL</td>\n",
              "      <td>66.0</td>\n",
              "      <td>9042</td>\n",
              "      <td>Pave</td>\n",
              "      <td>NaN</td>\n",
              "      <td>Reg</td>\n",
              "      <td>Lvl</td>\n",
              "      <td>AllPub</td>\n",
              "      <td>...</td>\n",
              "      <td>0</td>\n",
              "      <td>NaN</td>\n",
              "      <td>GdPrv</td>\n",
              "      <td>Shed</td>\n",
              "      <td>2500</td>\n",
              "      <td>5</td>\n",
              "      <td>2010</td>\n",
              "      <td>WD</td>\n",
              "      <td>Normal</td>\n",
              "      <td>266500</td>\n",
              "    </tr>\n",
              "    <tr>\n",
              "      <th>1458</th>\n",
              "      <td>1459</td>\n",
              "      <td>20</td>\n",
              "      <td>RL</td>\n",
              "      <td>68.0</td>\n",
              "      <td>9717</td>\n",
              "      <td>Pave</td>\n",
              "      <td>NaN</td>\n",
              "      <td>Reg</td>\n",
              "      <td>Lvl</td>\n",
              "      <td>AllPub</td>\n",
              "      <td>...</td>\n",
              "      <td>0</td>\n",
              "      <td>NaN</td>\n",
              "      <td>NaN</td>\n",
              "      <td>NaN</td>\n",
              "      <td>0</td>\n",
              "      <td>4</td>\n",
              "      <td>2010</td>\n",
              "      <td>WD</td>\n",
              "      <td>Normal</td>\n",
              "      <td>142125</td>\n",
              "    </tr>\n",
              "    <tr>\n",
              "      <th>1459</th>\n",
              "      <td>1460</td>\n",
              "      <td>20</td>\n",
              "      <td>RL</td>\n",
              "      <td>75.0</td>\n",
              "      <td>9937</td>\n",
              "      <td>Pave</td>\n",
              "      <td>NaN</td>\n",
              "      <td>Reg</td>\n",
              "      <td>Lvl</td>\n",
              "      <td>AllPub</td>\n",
              "      <td>...</td>\n",
              "      <td>0</td>\n",
              "      <td>NaN</td>\n",
              "      <td>NaN</td>\n",
              "      <td>NaN</td>\n",
              "      <td>0</td>\n",
              "      <td>6</td>\n",
              "      <td>2008</td>\n",
              "      <td>WD</td>\n",
              "      <td>Normal</td>\n",
              "      <td>147500</td>\n",
              "    </tr>\n",
              "  </tbody>\n",
              "</table>\n",
              "<p>1460 rows × 81 columns</p>\n",
              "</div>\n",
              "      <button class=\"colab-df-convert\" onclick=\"convertToInteractive('df-72e392e0-4639-444c-8016-1ee4134a58ad')\"\n",
              "              title=\"Convert this dataframe to an interactive table.\"\n",
              "              style=\"display:none;\">\n",
              "        \n",
              "  <svg xmlns=\"http://www.w3.org/2000/svg\" height=\"24px\"viewBox=\"0 0 24 24\"\n",
              "       width=\"24px\">\n",
              "    <path d=\"M0 0h24v24H0V0z\" fill=\"none\"/>\n",
              "    <path d=\"M18.56 5.44l.94 2.06.94-2.06 2.06-.94-2.06-.94-.94-2.06-.94 2.06-2.06.94zm-11 1L8.5 8.5l.94-2.06 2.06-.94-2.06-.94L8.5 2.5l-.94 2.06-2.06.94zm10 10l.94 2.06.94-2.06 2.06-.94-2.06-.94-.94-2.06-.94 2.06-2.06.94z\"/><path d=\"M17.41 7.96l-1.37-1.37c-.4-.4-.92-.59-1.43-.59-.52 0-1.04.2-1.43.59L10.3 9.45l-7.72 7.72c-.78.78-.78 2.05 0 2.83L4 21.41c.39.39.9.59 1.41.59.51 0 1.02-.2 1.41-.59l7.78-7.78 2.81-2.81c.8-.78.8-2.07 0-2.86zM5.41 20L4 18.59l7.72-7.72 1.47 1.35L5.41 20z\"/>\n",
              "  </svg>\n",
              "      </button>\n",
              "      \n",
              "  <style>\n",
              "    .colab-df-container {\n",
              "      display:flex;\n",
              "      flex-wrap:wrap;\n",
              "      gap: 12px;\n",
              "    }\n",
              "\n",
              "    .colab-df-convert {\n",
              "      background-color: #E8F0FE;\n",
              "      border: none;\n",
              "      border-radius: 50%;\n",
              "      cursor: pointer;\n",
              "      display: none;\n",
              "      fill: #1967D2;\n",
              "      height: 32px;\n",
              "      padding: 0 0 0 0;\n",
              "      width: 32px;\n",
              "    }\n",
              "\n",
              "    .colab-df-convert:hover {\n",
              "      background-color: #E2EBFA;\n",
              "      box-shadow: 0px 1px 2px rgba(60, 64, 67, 0.3), 0px 1px 3px 1px rgba(60, 64, 67, 0.15);\n",
              "      fill: #174EA6;\n",
              "    }\n",
              "\n",
              "    [theme=dark] .colab-df-convert {\n",
              "      background-color: #3B4455;\n",
              "      fill: #D2E3FC;\n",
              "    }\n",
              "\n",
              "    [theme=dark] .colab-df-convert:hover {\n",
              "      background-color: #434B5C;\n",
              "      box-shadow: 0px 1px 3px 1px rgba(0, 0, 0, 0.15);\n",
              "      filter: drop-shadow(0px 1px 2px rgba(0, 0, 0, 0.3));\n",
              "      fill: #FFFFFF;\n",
              "    }\n",
              "  </style>\n",
              "\n",
              "      <script>\n",
              "        const buttonEl =\n",
              "          document.querySelector('#df-72e392e0-4639-444c-8016-1ee4134a58ad button.colab-df-convert');\n",
              "        buttonEl.style.display =\n",
              "          google.colab.kernel.accessAllowed ? 'block' : 'none';\n",
              "\n",
              "        async function convertToInteractive(key) {\n",
              "          const element = document.querySelector('#df-72e392e0-4639-444c-8016-1ee4134a58ad');\n",
              "          const dataTable =\n",
              "            await google.colab.kernel.invokeFunction('convertToInteractive',\n",
              "                                                     [key], {});\n",
              "          if (!dataTable) return;\n",
              "\n",
              "          const docLinkHtml = 'Like what you see? Visit the ' +\n",
              "            '<a target=\"_blank\" href=https://colab.research.google.com/notebooks/data_table.ipynb>data table notebook</a>'\n",
              "            + ' to learn more about interactive tables.';\n",
              "          element.innerHTML = '';\n",
              "          dataTable['output_type'] = 'display_data';\n",
              "          await google.colab.output.renderOutput(dataTable, element);\n",
              "          const docLink = document.createElement('div');\n",
              "          docLink.innerHTML = docLinkHtml;\n",
              "          element.appendChild(docLink);\n",
              "        }\n",
              "      </script>\n",
              "    </div>\n",
              "  </div>\n",
              "  "
            ]
          },
          "metadata": {},
          "execution_count": 5
        }
      ]
    },
    {
      "cell_type": "markdown",
      "source": [
        "feature, 여기서는 columns 들은 숫자와 문자들이 섞여있는 형태"
      ],
      "metadata": {
        "id": "9jO2xtQeI_CD"
      }
    },
    {
      "cell_type": "code",
      "source": [
        "df_train.columns"
      ],
      "metadata": {
        "colab": {
          "base_uri": "https://localhost:8080/"
        },
        "id": "HeUQv2qZHtbr",
        "outputId": "e3169a4e-8f49-4941-ac4a-f5a84411d13f"
      },
      "execution_count": 6,
      "outputs": [
        {
          "output_type": "execute_result",
          "data": {
            "text/plain": [
              "Index(['Id', 'MSSubClass', 'MSZoning', 'LotFrontage', 'LotArea', 'Street',\n",
              "       'Alley', 'LotShape', 'LandContour', 'Utilities', 'LotConfig',\n",
              "       'LandSlope', 'Neighborhood', 'Condition1', 'Condition2', 'BldgType',\n",
              "       'HouseStyle', 'OverallQual', 'OverallCond', 'YearBuilt', 'YearRemodAdd',\n",
              "       'RoofStyle', 'RoofMatl', 'Exterior1st', 'Exterior2nd', 'MasVnrType',\n",
              "       'MasVnrArea', 'ExterQual', 'ExterCond', 'Foundation', 'BsmtQual',\n",
              "       'BsmtCond', 'BsmtExposure', 'BsmtFinType1', 'BsmtFinSF1',\n",
              "       'BsmtFinType2', 'BsmtFinSF2', 'BsmtUnfSF', 'TotalBsmtSF', 'Heating',\n",
              "       'HeatingQC', 'CentralAir', 'Electrical', '1stFlrSF', '2ndFlrSF',\n",
              "       'LowQualFinSF', 'GrLivArea', 'BsmtFullBath', 'BsmtHalfBath', 'FullBath',\n",
              "       'HalfBath', 'BedroomAbvGr', 'KitchenAbvGr', 'KitchenQual',\n",
              "       'TotRmsAbvGrd', 'Functional', 'Fireplaces', 'FireplaceQu', 'GarageType',\n",
              "       'GarageYrBlt', 'GarageFinish', 'GarageCars', 'GarageArea', 'GarageQual',\n",
              "       'GarageCond', 'PavedDrive', 'WoodDeckSF', 'OpenPorchSF',\n",
              "       'EnclosedPorch', '3SsnPorch', 'ScreenPorch', 'PoolArea', 'PoolQC',\n",
              "       'Fence', 'MiscFeature', 'MiscVal', 'MoSold', 'YrSold', 'SaleType',\n",
              "       'SaleCondition', 'SalePrice'],\n",
              "      dtype='object')"
            ]
          },
          "metadata": {},
          "execution_count": 6
        }
      ]
    },
    {
      "cell_type": "code",
      "source": [
        "len(df_train.columns)"
      ],
      "metadata": {
        "colab": {
          "base_uri": "https://localhost:8080/"
        },
        "id": "6QKJsDp0H9-D",
        "outputId": "04c5b7e9-e0a2-4222-d5a2-6625ad0280c7"
      },
      "execution_count": 7,
      "outputs": [
        {
          "output_type": "execute_result",
          "data": {
            "text/plain": [
              "81"
            ]
          },
          "metadata": {},
          "execution_count": 7
        }
      ]
    },
    {
      "cell_type": "markdown",
      "source": [
        "id : 숫자, saleprice : 최종 목표 이므로 실제 필요한 건 columns[1:80]"
      ],
      "metadata": {
        "id": "WMybvTPMIg7W"
      }
    },
    {
      "cell_type": "markdown",
      "source": [
        "숫자형 범주와 텍스트형 범주를 분류할 필요가 있음"
      ],
      "metadata": {
        "id": "1HGo45zUJOYI"
      }
    },
    {
      "cell_type": "code",
      "source": [
        "for f in df_train.columns:\n",
        "  print(f)"
      ],
      "metadata": {
        "colab": {
          "base_uri": "https://localhost:8080/"
        },
        "id": "dCHL4hFXIaCj",
        "outputId": "9d629be0-2463-4c92-b5c3-043631a0006f"
      },
      "execution_count": 8,
      "outputs": [
        {
          "output_type": "stream",
          "name": "stdout",
          "text": [
            "Id\n",
            "MSSubClass\n",
            "MSZoning\n",
            "LotFrontage\n",
            "LotArea\n",
            "Street\n",
            "Alley\n",
            "LotShape\n",
            "LandContour\n",
            "Utilities\n",
            "LotConfig\n",
            "LandSlope\n",
            "Neighborhood\n",
            "Condition1\n",
            "Condition2\n",
            "BldgType\n",
            "HouseStyle\n",
            "OverallQual\n",
            "OverallCond\n",
            "YearBuilt\n",
            "YearRemodAdd\n",
            "RoofStyle\n",
            "RoofMatl\n",
            "Exterior1st\n",
            "Exterior2nd\n",
            "MasVnrType\n",
            "MasVnrArea\n",
            "ExterQual\n",
            "ExterCond\n",
            "Foundation\n",
            "BsmtQual\n",
            "BsmtCond\n",
            "BsmtExposure\n",
            "BsmtFinType1\n",
            "BsmtFinSF1\n",
            "BsmtFinType2\n",
            "BsmtFinSF2\n",
            "BsmtUnfSF\n",
            "TotalBsmtSF\n",
            "Heating\n",
            "HeatingQC\n",
            "CentralAir\n",
            "Electrical\n",
            "1stFlrSF\n",
            "2ndFlrSF\n",
            "LowQualFinSF\n",
            "GrLivArea\n",
            "BsmtFullBath\n",
            "BsmtHalfBath\n",
            "FullBath\n",
            "HalfBath\n",
            "BedroomAbvGr\n",
            "KitchenAbvGr\n",
            "KitchenQual\n",
            "TotRmsAbvGrd\n",
            "Functional\n",
            "Fireplaces\n",
            "FireplaceQu\n",
            "GarageType\n",
            "GarageYrBlt\n",
            "GarageFinish\n",
            "GarageCars\n",
            "GarageArea\n",
            "GarageQual\n",
            "GarageCond\n",
            "PavedDrive\n",
            "WoodDeckSF\n",
            "OpenPorchSF\n",
            "EnclosedPorch\n",
            "3SsnPorch\n",
            "ScreenPorch\n",
            "PoolArea\n",
            "PoolQC\n",
            "Fence\n",
            "MiscFeature\n",
            "MiscVal\n",
            "MoSold\n",
            "YrSold\n",
            "SaleType\n",
            "SaleCondition\n",
            "SalePrice\n"
          ]
        }
      ]
    },
    {
      "cell_type": "markdown",
      "source": [
        "columns들의 데이터 타입 확인\n",
        "> - 텍스트 타입 -> object\n",
        "- numeric -> int64, float64"
      ],
      "metadata": {
        "id": "Zu2I5uuXJlFD"
      }
    },
    {
      "cell_type": "code",
      "source": [
        "for f in df_train.columns:\n",
        "  print(df_train.dtypes[f])"
      ],
      "metadata": {
        "colab": {
          "base_uri": "https://localhost:8080/"
        },
        "id": "nLXmF5kCJWzn",
        "outputId": "1a733282-4779-4f9e-e53a-22729dfd3ceb"
      },
      "execution_count": 9,
      "outputs": [
        {
          "output_type": "stream",
          "name": "stdout",
          "text": [
            "int64\n",
            "int64\n",
            "object\n",
            "float64\n",
            "int64\n",
            "object\n",
            "object\n",
            "object\n",
            "object\n",
            "object\n",
            "object\n",
            "object\n",
            "object\n",
            "object\n",
            "object\n",
            "object\n",
            "object\n",
            "int64\n",
            "int64\n",
            "int64\n",
            "int64\n",
            "object\n",
            "object\n",
            "object\n",
            "object\n",
            "object\n",
            "float64\n",
            "object\n",
            "object\n",
            "object\n",
            "object\n",
            "object\n",
            "object\n",
            "object\n",
            "int64\n",
            "object\n",
            "int64\n",
            "int64\n",
            "int64\n",
            "object\n",
            "object\n",
            "object\n",
            "object\n",
            "int64\n",
            "int64\n",
            "int64\n",
            "int64\n",
            "int64\n",
            "int64\n",
            "int64\n",
            "int64\n",
            "int64\n",
            "int64\n",
            "object\n",
            "int64\n",
            "object\n",
            "int64\n",
            "object\n",
            "object\n",
            "float64\n",
            "object\n",
            "int64\n",
            "int64\n",
            "object\n",
            "object\n",
            "object\n",
            "int64\n",
            "int64\n",
            "int64\n",
            "int64\n",
            "int64\n",
            "int64\n",
            "object\n",
            "object\n",
            "object\n",
            "int64\n",
            "int64\n",
            "int64\n",
            "object\n",
            "object\n",
            "int64\n"
          ]
        }
      ]
    },
    {
      "cell_type": "markdown",
      "source": [
        "- object가 아닌 것, 즉 numeric들만 모아본다"
      ],
      "metadata": {
        "id": "Uj707KSCJ-gk"
      }
    },
    {
      "cell_type": "code",
      "source": [
        "numeric = [\n",
        "    f for f in df_train.columns if df_train.dtypes[f] != 'object'\n",
        "] # numeric type"
      ],
      "metadata": {
        "id": "aEkAvy94JkSz"
      },
      "execution_count": 10,
      "outputs": []
    },
    {
      "cell_type": "code",
      "source": [
        "numeric"
      ],
      "metadata": {
        "colab": {
          "base_uri": "https://localhost:8080/"
        },
        "id": "zYtmJGGeKcyU",
        "outputId": "a9df25bc-69b2-4eed-a518-5e0f39378a6a"
      },
      "execution_count": 11,
      "outputs": [
        {
          "output_type": "execute_result",
          "data": {
            "text/plain": [
              "['Id',\n",
              " 'MSSubClass',\n",
              " 'LotFrontage',\n",
              " 'LotArea',\n",
              " 'OverallQual',\n",
              " 'OverallCond',\n",
              " 'YearBuilt',\n",
              " 'YearRemodAdd',\n",
              " 'MasVnrArea',\n",
              " 'BsmtFinSF1',\n",
              " 'BsmtFinSF2',\n",
              " 'BsmtUnfSF',\n",
              " 'TotalBsmtSF',\n",
              " '1stFlrSF',\n",
              " '2ndFlrSF',\n",
              " 'LowQualFinSF',\n",
              " 'GrLivArea',\n",
              " 'BsmtFullBath',\n",
              " 'BsmtHalfBath',\n",
              " 'FullBath',\n",
              " 'HalfBath',\n",
              " 'BedroomAbvGr',\n",
              " 'KitchenAbvGr',\n",
              " 'TotRmsAbvGrd',\n",
              " 'Fireplaces',\n",
              " 'GarageYrBlt',\n",
              " 'GarageCars',\n",
              " 'GarageArea',\n",
              " 'WoodDeckSF',\n",
              " 'OpenPorchSF',\n",
              " 'EnclosedPorch',\n",
              " '3SsnPorch',\n",
              " 'ScreenPorch',\n",
              " 'PoolArea',\n",
              " 'MiscVal',\n",
              " 'MoSold',\n",
              " 'YrSold',\n",
              " 'SalePrice']"
            ]
          },
          "metadata": {},
          "execution_count": 11
        }
      ]
    },
    {
      "cell_type": "markdown",
      "source": [
        "필요 없는 column 삭제: remove"
      ],
      "metadata": {
        "id": "vJGVY7icMS8O"
      }
    },
    {
      "cell_type": "code",
      "source": [
        "numeric.remove('Id')\n",
        "numeric.remove('SalePrice')"
      ],
      "metadata": {
        "id": "iYg79RnIKg6j"
      },
      "execution_count": 12,
      "outputs": []
    },
    {
      "cell_type": "markdown",
      "source": [
        "같은 방식으로 텍스트형인 categorical 분류해준다"
      ],
      "metadata": {
        "id": "0975digxMzqK"
      }
    },
    {
      "cell_type": "code",
      "source": [
        "categorical = [\n",
        "    f for f in df_train.columns if df_train.dtypes[f]== 'object'\n",
        "]"
      ],
      "metadata": {
        "id": "JxDiyfLmMg8a"
      },
      "execution_count": 13,
      "outputs": []
    },
    {
      "cell_type": "code",
      "source": [
        "categorical"
      ],
      "metadata": {
        "colab": {
          "base_uri": "https://localhost:8080/"
        },
        "id": "fsMM4j15NGoa",
        "outputId": "51ee9f03-4487-46bf-c558-4e2a241d2479"
      },
      "execution_count": 14,
      "outputs": [
        {
          "output_type": "execute_result",
          "data": {
            "text/plain": [
              "['MSZoning',\n",
              " 'Street',\n",
              " 'Alley',\n",
              " 'LotShape',\n",
              " 'LandContour',\n",
              " 'Utilities',\n",
              " 'LotConfig',\n",
              " 'LandSlope',\n",
              " 'Neighborhood',\n",
              " 'Condition1',\n",
              " 'Condition2',\n",
              " 'BldgType',\n",
              " 'HouseStyle',\n",
              " 'RoofStyle',\n",
              " 'RoofMatl',\n",
              " 'Exterior1st',\n",
              " 'Exterior2nd',\n",
              " 'MasVnrType',\n",
              " 'ExterQual',\n",
              " 'ExterCond',\n",
              " 'Foundation',\n",
              " 'BsmtQual',\n",
              " 'BsmtCond',\n",
              " 'BsmtExposure',\n",
              " 'BsmtFinType1',\n",
              " 'BsmtFinType2',\n",
              " 'Heating',\n",
              " 'HeatingQC',\n",
              " 'CentralAir',\n",
              " 'Electrical',\n",
              " 'KitchenQual',\n",
              " 'Functional',\n",
              " 'FireplaceQu',\n",
              " 'GarageType',\n",
              " 'GarageFinish',\n",
              " 'GarageQual',\n",
              " 'GarageCond',\n",
              " 'PavedDrive',\n",
              " 'PoolQC',\n",
              " 'Fence',\n",
              " 'MiscFeature',\n",
              " 'SaleType',\n",
              " 'SaleCondition']"
            ]
          },
          "metadata": {},
          "execution_count": 14
        }
      ]
    },
    {
      "cell_type": "code",
      "source": [
        "len(numeric) + len(categorical) + 2 # remove 된 2개 포함 81개"
      ],
      "metadata": {
        "colab": {
          "base_uri": "https://localhost:8080/"
        },
        "id": "1tbAT98MNIEL",
        "outputId": "1cf5bf08-0c2f-4d8c-e31e-21cea33b6e34"
      },
      "execution_count": 15,
      "outputs": [
        {
          "output_type": "execute_result",
          "data": {
            "text/plain": [
              "81"
            ]
          },
          "metadata": {},
          "execution_count": 15
        }
      ]
    },
    {
      "cell_type": "markdown",
      "source": [
        "### Label확인\n",
        "- 우리의 최종 목표\n",
        "- target 값"
      ],
      "metadata": {
        "id": "LDGxGw8WOBxU"
      }
    },
    {
      "cell_type": "code",
      "source": [
        "df_train['SalePrice'].describe()\n",
        "# describe : 우리가 궁금해하는 정보들을 알려줌\n",
        "# 비정상적인 값이 있을 경우 확인하는 용도로 쓸 수 있음."
      ],
      "metadata": {
        "colab": {
          "base_uri": "https://localhost:8080/"
        },
        "id": "ww68lnwlNUHa",
        "outputId": "5cd39af5-e0eb-4edd-9360-c744e873fe44"
      },
      "execution_count": 16,
      "outputs": [
        {
          "output_type": "execute_result",
          "data": {
            "text/plain": [
              "count      1460.000000\n",
              "mean     180921.195890\n",
              "std       79442.502883\n",
              "min       34900.000000\n",
              "25%      129975.000000\n",
              "50%      163000.000000\n",
              "75%      214000.000000\n",
              "max      755000.000000\n",
              "Name: SalePrice, dtype: float64"
            ]
          },
          "metadata": {},
          "execution_count": 16
        }
      ]
    },
    {
      "cell_type": "code",
      "source": [
        "# histogram\n",
        "sns.distplot(df_train['SalePrice']);"
      ],
      "metadata": {
        "colab": {
          "base_uri": "https://localhost:8080/",
          "height": 346
        },
        "id": "pJajElBbOSRJ",
        "outputId": "3289e03a-7386-478f-8e90-dab60b3a6b06"
      },
      "execution_count": 17,
      "outputs": [
        {
          "output_type": "stream",
          "name": "stderr",
          "text": [
            "/usr/local/lib/python3.8/dist-packages/seaborn/distributions.py:2619: FutureWarning: `distplot` is a deprecated function and will be removed in a future version. Please adapt your code to use either `displot` (a figure-level function with similar flexibility) or `histplot` (an axes-level function for histograms).\n",
            "  warnings.warn(msg, FutureWarning)\n"
          ]
        },
        {
          "output_type": "display_data",
          "data": {
            "text/plain": [
              "<Figure size 432x288 with 1 Axes>"
            ],
            "image/png": "[encoded data removed]"
          },
          "metadata": {
            "needs_background": "light"
          }
        }
      ]
    },
    {
      "cell_type": "markdown",
      "source": [
        "### Label과 Feature들 간 상관관계 파악하기"
      ],
      "metadata": {
        "id": "SYX9IaQkO6b2"
      }
    },
    {
      "cell_type": "markdown",
      "source": [
        "#### 1) numeric"
      ],
      "metadata": {
        "id": "MhkSTn4HPAKe"
      }
    },
    {
      "cell_type": "markdown",
      "source": [
        "예)\n",
        "GrLivArea : Above grade (ground) living area square feet\n",
        ") GrLivArea와 SalePrice의 상관관계 있는지 확인해보자"
      ],
      "metadata": {
        "id": "P4m_841cPPW7"
      }
    },
    {
      "cell_type": "code",
      "source": [
        "var = 'GrLivArea'\n",
        "data = pd.concat([df_train['SalePrice'], df_train[var]], axis=1)\n",
        "\n",
        "data"
      ],
      "metadata": {
        "colab": {
          "base_uri": "https://localhost:8080/",
          "height": 424
        },
        "id": "baZ1dBKqOyiT",
        "outputId": "0d4518cc-55fa-44c7-a16d-e84e57263e13"
      },
      "execution_count": 18,
      "outputs": [
        {
          "output_type": "execute_result",
          "data": {
            "text/plain": [
              "      SalePrice  GrLivArea\n",
              "0        208500       1710\n",
              "1        181500       1262\n",
              "2        223500       1786\n",
              "3        140000       1717\n",
              "4        250000       2198\n",
              "...         ...        ...\n",
              "1455     175000       1647\n",
              "1456     210000       2073\n",
              "1457     266500       2340\n",
              "1458     142125       1078\n",
              "1459     147500       1256\n",
              "\n",
              "[1460 rows x 2 columns]"
            ],
            "text/html": [
              "\n",
              "  <div id=\"df-4408c1b7-e5ab-4dd0-815a-4bb5120cc4ea\">\n",
              "    <div class=\"colab-df-container\">\n",
              "      <div>\n",
              "<style scoped>\n",
              "    .dataframe tbody tr th:only-of-type {\n",
              "        vertical-align: middle;\n",
              "    }\n",
              "\n",
              "    .dataframe tbody tr th {\n",
              "        vertical-align: top;\n",
              "    }\n",
              "\n",
              "    .dataframe thead th {\n",
              "        text-align: right;\n",
              "    }\n",
              "</style>\n",
              "<table border=\"1\" class=\"dataframe\">\n",
              "  <thead>\n",
              "    <tr style=\"text-align: right;\">\n",
              "      <th></th>\n",
              "      <th>SalePrice</th>\n",
              "      <th>GrLivArea</th>\n",
              "    </tr>\n",
              "  </thead>\n",
              "  <tbody>\n",
              "    <tr>\n",
              "      <th>0</th>\n",
              "      <td>208500</td>\n",
              "      <td>1710</td>\n",
              "    </tr>\n",
              "    <tr>\n",
              "      <th>1</th>\n",
              "      <td>181500</td>\n",
              "      <td>1262</td>\n",
              "    </tr>\n",
              "    <tr>\n",
              "      <th>2</th>\n",
              "      <td>223500</td>\n",
              "      <td>1786</td>\n",
              "    </tr>\n",
              "    <tr>\n",
              "      <th>3</th>\n",
              "      <td>140000</td>\n",
              "      <td>1717</td>\n",
              "    </tr>\n",
              "    <tr>\n",
              "      <th>4</th>\n",
              "      <td>250000</td>\n",
              "      <td>2198</td>\n",
              "    </tr>\n",
              "    <tr>\n",
              "      <th>...</th>\n",
              "      <td>...</td>\n",
              "      <td>...</td>\n",
              "    </tr>\n",
              "    <tr>\n",
              "      <th>1455</th>\n",
              "      <td>175000</td>\n",
              "      <td>1647</td>\n",
              "    </tr>\n",
              "    <tr>\n",
              "      <th>1456</th>\n",
              "      <td>210000</td>\n",
              "      <td>2073</td>\n",
              "    </tr>\n",
              "    <tr>\n",
              "      <th>1457</th>\n",
              "      <td>266500</td>\n",
              "      <td>2340</td>\n",
              "    </tr>\n",
              "    <tr>\n",
              "      <th>1458</th>\n",
              "      <td>142125</td>\n",
              "      <td>1078</td>\n",
              "    </tr>\n",
              "    <tr>\n",
              "      <th>1459</th>\n",
              "      <td>147500</td>\n",
              "      <td>1256</td>\n",
              "    </tr>\n",
              "  </tbody>\n",
              "</table>\n",
              "<p>1460 rows × 2 columns</p>\n",
              "</div>\n",
              "      <button class=\"colab-df-convert\" onclick=\"convertToInteractive('df-4408c1b7-e5ab-4dd0-815a-4bb5120cc4ea')\"\n",
              "              title=\"Convert this dataframe to an interactive table.\"\n",
              "              style=\"display:none;\">\n",
              "        \n",
              "  <svg xmlns=\"http://www.w3.org/2000/svg\" height=\"24px\"viewBox=\"0 0 24 24\"\n",
              "       width=\"24px\">\n",
              "    <path d=\"M0 0h24v24H0V0z\" fill=\"none\"/>\n",
              "    <path d=\"M18.56 5.44l.94 2.06.94-2.06 2.06-.94-2.06-.94-.94-2.06-.94 2.06-2.06.94zm-11 1L8.5 8.5l.94-2.06 2.06-.94-2.06-.94L8.5 2.5l-.94 2.06-2.06.94zm10 10l.94 2.06.94-2.06 2.06-.94-2.06-.94-.94-2.06-.94 2.06-2.06.94z\"/><path d=\"M17.41 7.96l-1.37-1.37c-.4-.4-.92-.59-1.43-.59-.52 0-1.04.2-1.43.59L10.3 9.45l-7.72 7.72c-.78.78-.78 2.05 0 2.83L4 21.41c.39.39.9.59 1.41.59.51 0 1.02-.2 1.41-.59l7.78-7.78 2.81-2.81c.8-.78.8-2.07 0-2.86zM5.41 20L4 18.59l7.72-7.72 1.47 1.35L5.41 20z\"/>\n",
              "  </svg>\n",
              "      </button>\n",
              "      \n",
              "  <style>\n",
              "    .colab-df-container {\n",
              "      display:flex;\n",
              "      flex-wrap:wrap;\n",
              "      gap: 12px;\n",
              "    }\n",
              "\n",
              "    .colab-df-convert {\n",
              "      background-color: #E8F0FE;\n",
              "      border: none;\n",
              "      border-radius: 50%;\n",
              "      cursor: pointer;\n",
              "      display: none;\n",
              "      fill: #1967D2;\n",
              "      height: 32px;\n",
              "      padding: 0 0 0 0;\n",
              "      width: 32px;\n",
              "    }\n",
              "\n",
              "    .colab-df-convert:hover {\n",
              "      background-color: #E2EBFA;\n",
              "      box-shadow: 0px 1px 2px rgba(60, 64, 67, 0.3), 0px 1px 3px 1px rgba(60, 64, 67, 0.15);\n",
              "      fill: #174EA6;\n",
              "    }\n",
              "\n",
              "    [theme=dark] .colab-df-convert {\n",
              "      background-color: #3B4455;\n",
              "      fill: #D2E3FC;\n",
              "    }\n",
              "\n",
              "    [theme=dark] .colab-df-convert:hover {\n",
              "      background-color: #434B5C;\n",
              "      box-shadow: 0px 1px 3px 1px rgba(0, 0, 0, 0.15);\n",
              "      filter: drop-shadow(0px 1px 2px rgba(0, 0, 0, 0.3));\n",
              "      fill: #FFFFFF;\n",
              "    }\n",
              "  </style>\n",
              "\n",
              "      <script>\n",
              "        const buttonEl =\n",
              "          document.querySelector('#df-4408c1b7-e5ab-4dd0-815a-4bb5120cc4ea button.colab-df-convert');\n",
              "        buttonEl.style.display =\n",
              "          google.colab.kernel.accessAllowed ? 'block' : 'none';\n",
              "\n",
              "        async function convertToInteractive(key) {\n",
              "          const element = document.querySelector('#df-4408c1b7-e5ab-4dd0-815a-4bb5120cc4ea');\n",
              "          const dataTable =\n",
              "            await google.colab.kernel.invokeFunction('convertToInteractive',\n",
              "                                                     [key], {});\n",
              "          if (!dataTable) return;\n",
              "\n",
              "          const docLinkHtml = 'Like what you see? Visit the ' +\n",
              "            '<a target=\"_blank\" href=https://colab.research.google.com/notebooks/data_table.ipynb>data table notebook</a>'\n",
              "            + ' to learn more about interactive tables.';\n",
              "          element.innerHTML = '';\n",
              "          dataTable['output_type'] = 'display_data';\n",
              "          await google.colab.output.renderOutput(dataTable, element);\n",
              "          const docLink = document.createElement('div');\n",
              "          docLink.innerHTML = docLinkHtml;\n",
              "          element.appendChild(docLink);\n",
              "        }\n",
              "      </script>\n",
              "    </div>\n",
              "  </div>\n",
              "  "
            ]
          },
          "metadata": {},
          "execution_count": 18
        }
      ]
    },
    {
      "cell_type": "code",
      "source": [
        "data.plot.scatter(x=var, y='SalePrice', ylim=(0, 800000))"
      ],
      "metadata": {
        "colab": {
          "base_uri": "https://localhost:8080/",
          "height": 301
        },
        "id": "lnrYoLxSP5Bb",
        "outputId": "b8d4813e-2fb7-4e91-d6a6-a67371b46574"
      },
      "execution_count": 19,
      "outputs": [
        {
          "output_type": "execute_result",
          "data": {
            "text/plain": [
              "<matplotlib.axes._subplots.AxesSubplot at 0x7fc0161b4f10>"
            ]
          },
          "metadata": {},
          "execution_count": 19
        },
        {
          "output_type": "display_data",
          "data": {
            "text/plain": [
              "<Figure size 432x288 with 1 Axes>"
            ],
            "image/png": "[encoded data removed]"
          },
          "metadata": {
            "needs_background": "light"
          }
        }
      ]
    },
    {
      "cell_type": "code",
      "source": [
        "# 1층 넓이와 price의 상관관계\n",
        "var = '1stFlrSF'\n",
        "data = pd.concat([df_train['SalePrice'], df_train[var]], axis=1)\n",
        "data.plot.scatter(x=var, y='SalePrice', ylim=(0, 800000))"
      ],
      "metadata": {
        "colab": {
          "base_uri": "https://localhost:8080/",
          "height": 301
        },
        "id": "T-WcC3eLSjS7",
        "outputId": "eb96b3ea-0068-410f-b89c-71a470e12581"
      },
      "execution_count": 20,
      "outputs": [
        {
          "output_type": "execute_result",
          "data": {
            "text/plain": [
              "<matplotlib.axes._subplots.AxesSubplot at 0x7fc016133ca0>"
            ]
          },
          "metadata": {},
          "execution_count": 20
        },
        {
          "output_type": "display_data",
          "data": {
            "text/plain": [
              "<Figure size 432x288 with 1 Axes>"
            ],
            "image/png": "[encoded data removed]"
          },
          "metadata": {
            "needs_background": "light"
          }
        }
      ]
    },
    {
      "cell_type": "code",
      "source": [
        "# 전반적인 퀄리티와 price의 상관관계\n",
        "var = 'OverallQual'\n",
        "data = pd.concat([df_train['SalePrice'], df_train[var]], axis=1)\n",
        "data.plot.scatter(x=var, y='SalePrice', ylim=(0, 800000))"
      ],
      "metadata": {
        "colab": {
          "base_uri": "https://localhost:8080/",
          "height": 301
        },
        "id": "GqcdeGk3UCCT",
        "outputId": "d4f18fad-9648-4eb6-ff8f-851dbbb66386"
      },
      "execution_count": 21,
      "outputs": [
        {
          "output_type": "execute_result",
          "data": {
            "text/plain": [
              "<matplotlib.axes._subplots.AxesSubplot at 0x7fc01610beb0>"
            ]
          },
          "metadata": {},
          "execution_count": 21
        },
        {
          "output_type": "display_data",
          "data": {
            "text/plain": [
              "<Figure size 432x288 with 1 Axes>"
            ],
            "image/png": "[encoded data removed]"
          },
          "metadata": {
            "needs_background": "light"
          }
        }
      ]
    },
    {
      "cell_type": "markdown",
      "source": [
        "#### 2) Categorical"
      ],
      "metadata": {
        "id": "9TCG0Qu0U3gt"
      }
    },
    {
      "cell_type": "markdown",
      "source": [
        "예) Neighborhood와 saleprice의 상관관계"
      ],
      "metadata": {
        "id": "fn6sLfJpVc68"
      }
    },
    {
      "cell_type": "code",
      "source": [
        "var = 'Neighborhood'\n",
        "data = pd.concat([df_train['SalePrice'], df_train[var]], axis=1)\n",
        "data.plot.scatter(x=var, y='SalePrice', ylim=(0, 800000))"
      ],
      "metadata": {
        "colab": {
          "base_uri": "https://localhost:8080/",
          "height": 301
        },
        "id": "5pDX81_aVVSA",
        "outputId": "aa39f989-1b9c-40ef-bf77-6ae1ad7a2c92"
      },
      "execution_count": 22,
      "outputs": [
        {
          "output_type": "execute_result",
          "data": {
            "text/plain": [
              "<matplotlib.axes._subplots.AxesSubplot at 0x7fc01669c0a0>"
            ]
          },
          "metadata": {},
          "execution_count": 22
        },
        {
          "output_type": "display_data",
          "data": {
            "text/plain": [
              "<Figure size 432x288 with 1 Axes>"
            ],
            "image/png": "[encoded data removed]"
          },
          "metadata": {
            "needs_background": "light"
          }
        }
      ]
    },
    {
      "cell_type": "code",
      "source": [
        "sns.boxplot(x=var, y='SalePrice', data=data)"
      ],
      "metadata": {
        "colab": {
          "base_uri": "https://localhost:8080/",
          "height": 297
        },
        "id": "PRR43OIBVndi",
        "outputId": "6a82168f-e84a-41ca-96bf-f52cd23ebcbf"
      },
      "execution_count": 23,
      "outputs": [
        {
          "output_type": "execute_result",
          "data": {
            "text/plain": [
              "<matplotlib.axes._subplots.AxesSubplot at 0x7fc016128e20>"
            ]
          },
          "metadata": {},
          "execution_count": 23
        },
        {
          "output_type": "display_data",
          "data": {
            "text/plain": [
              "<Figure size 432x288 with 1 Axes>"
            ],
            "image/png": "[encoded data removed]"
          },
          "metadata": {
            "needs_background": "light"
          }
        }
      ]
    },
    {
      "cell_type": "markdown",
      "source": [
        "#### 전체적으로 파악하려면 어떻게 해야 하는가?"
      ],
      "metadata": {
        "id": "g7ALAcZZiHWn"
      }
    },
    {
      "cell_type": "code",
      "source": [
        "# correlation : 상관분석\n",
        "df_train['GrLivArea'].corr(df_train['SalePrice'])\n",
        "# 이런 식으로 상관 관계 일일히 구할 수 있고"
      ],
      "metadata": {
        "colab": {
          "base_uri": "https://localhost:8080/"
        },
        "id": "CTMvT50waRaC",
        "outputId": "6ba3f9ec-a9dc-4351-f1bd-134d7ce1f340"
      },
      "execution_count": 24,
      "outputs": [
        {
          "output_type": "execute_result",
          "data": {
            "text/plain": [
              "0.7086244776126523"
            ]
          },
          "metadata": {},
          "execution_count": 24
        }
      ]
    },
    {
      "cell_type": "code",
      "source": [
        "# 데이터프레임 자체를 변수로 만들어서 직접 적용시켜줄 수 있다. \n",
        "corrmat = df_train.corr()"
      ],
      "metadata": {
        "id": "r8ucCd-rikIX"
      },
      "execution_count": 25,
      "outputs": []
    },
    {
      "cell_type": "code",
      "source": [
        "# correlation 을 적용하면 기본적으로 numeric한 feature들만 취합해서 계산해줌.\n",
        "# text형은 배제됨.\n",
        "corrmat"
      ],
      "metadata": {
        "colab": {
          "base_uri": "https://localhost:8080/",
          "height": 1000
        },
        "id": "4_iTdbHmi_IZ",
        "outputId": "f61314a5-d575-424b-9c7e-4d6cb6a32661"
      },
      "execution_count": 26,
      "outputs": [
        {
          "output_type": "execute_result",
          "data": {
            "text/plain": [
              "                     Id  MSSubClass  LotFrontage   LotArea  OverallQual  \\\n",
              "Id             1.000000    0.011156    -0.010601 -0.033226    -0.028365   \n",
              "MSSubClass     0.011156    1.000000    -0.386347 -0.139781     0.032628   \n",
              "LotFrontage   -0.010601   -0.386347     1.000000  0.426095     0.251646   \n",
              "LotArea       -0.033226   -0.139781     0.426095  1.000000     0.105806   \n",
              "OverallQual   -0.028365    0.032628     0.251646  0.105806     1.000000   \n",
              "OverallCond    0.012609   -0.059316    -0.059213 -0.005636    -0.091932   \n",
              "YearBuilt     -0.012713    0.027850     0.123349  0.014228     0.572323   \n",
              "YearRemodAdd  -0.021998    0.040581     0.088866  0.013788     0.550684   \n",
              "MasVnrArea    -0.050298    0.022936     0.193458  0.104160     0.411876   \n",
              "BsmtFinSF1    -0.005024   -0.069836     0.233633  0.214103     0.239666   \n",
              "BsmtFinSF2    -0.005968   -0.065649     0.049900  0.111170    -0.059119   \n",
              "BsmtUnfSF     -0.007940   -0.140759     0.132644 -0.002618     0.308159   \n",
              "TotalBsmtSF   -0.015415   -0.238518     0.392075  0.260833     0.537808   \n",
              "1stFlrSF       0.010496   -0.251758     0.457181  0.299475     0.476224   \n",
              "2ndFlrSF       0.005590    0.307886     0.080177  0.050986     0.295493   \n",
              "LowQualFinSF  -0.044230    0.046474     0.038469  0.004779    -0.030429   \n",
              "GrLivArea      0.008273    0.074853     0.402797  0.263116     0.593007   \n",
              "BsmtFullBath   0.002289    0.003491     0.100949  0.158155     0.111098   \n",
              "BsmtHalfBath  -0.020155   -0.002333    -0.007234  0.048046    -0.040150   \n",
              "FullBath       0.005587    0.131608     0.198769  0.126031     0.550600   \n",
              "HalfBath       0.006784    0.177354     0.053532  0.014259     0.273458   \n",
              "BedroomAbvGr   0.037719   -0.023438     0.263170  0.119690     0.101676   \n",
              "KitchenAbvGr   0.002951    0.281721    -0.006069 -0.017784    -0.183882   \n",
              "TotRmsAbvGrd   0.027239    0.040380     0.352096  0.190015     0.427452   \n",
              "Fireplaces    -0.019772   -0.045569     0.266639  0.271364     0.396765   \n",
              "GarageYrBlt    0.000072    0.085072     0.070250 -0.024947     0.547766   \n",
              "GarageCars     0.016570   -0.040110     0.285691  0.154871     0.600671   \n",
              "GarageArea     0.017634   -0.098672     0.344997  0.180403     0.562022   \n",
              "WoodDeckSF    -0.029643   -0.012579     0.088521  0.171698     0.238923   \n",
              "OpenPorchSF   -0.000477   -0.006100     0.151972  0.084774     0.308819   \n",
              "EnclosedPorch  0.002889   -0.012037     0.010700 -0.018340    -0.113937   \n",
              "3SsnPorch     -0.046635   -0.043825     0.070029  0.020423     0.030371   \n",
              "ScreenPorch    0.001330   -0.026030     0.041383  0.043160     0.064886   \n",
              "PoolArea       0.057044    0.008283     0.206167  0.077672     0.065166   \n",
              "MiscVal       -0.006242   -0.007683     0.003368  0.038068    -0.031406   \n",
              "MoSold         0.021172   -0.013585     0.011200  0.001205     0.070815   \n",
              "YrSold         0.000712   -0.021407     0.007450 -0.014261    -0.027347   \n",
              "SalePrice     -0.021917   -0.084284     0.351799  0.263843     0.790982   \n",
              "\n",
              "               OverallCond  YearBuilt  YearRemodAdd  MasVnrArea  BsmtFinSF1  \\\n",
              "Id                0.012609  -0.012713     -0.021998   -0.050298   -0.005024   \n",
              "MSSubClass       -0.059316   0.027850      0.040581    0.022936   -0.069836   \n",
              "LotFrontage      -0.059213   0.123349      0.088866    0.193458    0.233633   \n",
              "LotArea          -0.005636   0.014228      0.013788    0.104160    0.214103   \n",
              "OverallQual      -0.091932   0.572323      0.550684    0.411876    0.239666   \n",
              "OverallCond       1.000000  -0.375983      0.073741   -0.128101   -0.046231   \n",
              "YearBuilt        -0.375983   1.000000      0.592855    0.315707    0.249503   \n",
              "YearRemodAdd      0.073741   0.592855      1.000000    0.179618    0.128451   \n",
              "MasVnrArea       -0.128101   0.315707      0.179618    1.000000    0.264736   \n",
              "BsmtFinSF1       -0.046231   0.249503      0.128451    0.264736    1.000000   \n",
              "BsmtFinSF2        0.040229  -0.049107     -0.067759   -0.072319   -0.050117   \n",
              "BsmtUnfSF        -0.136841   0.149040      0.181133    0.114442   -0.495251   \n",
              "TotalBsmtSF      -0.171098   0.391452      0.291066    0.363936    0.522396   \n",
              "1stFlrSF         -0.144203   0.281986      0.240379    0.344501    0.445863   \n",
              "2ndFlrSF          0.028942   0.010308      0.140024    0.174561   -0.137079   \n",
              "LowQualFinSF      0.025494  -0.183784     -0.062419   -0.069071   -0.064503   \n",
              "GrLivArea        -0.079686   0.199010      0.287389    0.390857    0.208171   \n",
              "BsmtFullBath     -0.054942   0.187599      0.119470    0.085310    0.649212   \n",
              "BsmtHalfBath      0.117821  -0.038162     -0.012337    0.026673    0.067418   \n",
              "FullBath         -0.194149   0.468271      0.439046    0.276833    0.058543   \n",
              "HalfBath         -0.060769   0.242656      0.183331    0.201444    0.004262   \n",
              "BedroomAbvGr      0.012980  -0.070651     -0.040581    0.102821   -0.107355   \n",
              "KitchenAbvGr     -0.087001  -0.174800     -0.149598   -0.037610   -0.081007   \n",
              "TotRmsAbvGrd     -0.057583   0.095589      0.191740    0.280682    0.044316   \n",
              "Fireplaces       -0.023820   0.147716      0.112581    0.249070    0.260011   \n",
              "GarageYrBlt      -0.324297   0.825667      0.642277    0.252691    0.153484   \n",
              "GarageCars       -0.185758   0.537850      0.420622    0.364204    0.224054   \n",
              "GarageArea       -0.151521   0.478954      0.371600    0.373066    0.296970   \n",
              "WoodDeckSF       -0.003334   0.224880      0.205726    0.159718    0.204306   \n",
              "OpenPorchSF      -0.032589   0.188686      0.226298    0.125703    0.111761   \n",
              "EnclosedPorch     0.070356  -0.387268     -0.193919   -0.110204   -0.102303   \n",
              "3SsnPorch         0.025504   0.031355      0.045286    0.018796    0.026451   \n",
              "ScreenPorch       0.054811  -0.050364     -0.038740    0.061466    0.062021   \n",
              "PoolArea         -0.001985   0.004950      0.005829    0.011723    0.140491   \n",
              "MiscVal           0.068777  -0.034383     -0.010286   -0.029815    0.003571   \n",
              "MoSold           -0.003511   0.012398      0.021490   -0.005965   -0.015727   \n",
              "YrSold            0.043950  -0.013618      0.035743   -0.008201    0.014359   \n",
              "SalePrice        -0.077856   0.522897      0.507101    0.477493    0.386420   \n",
              "\n",
              "               ...  WoodDeckSF  OpenPorchSF  EnclosedPorch  3SsnPorch  \\\n",
              "Id             ...   -0.029643    -0.000477       0.002889  -0.046635   \n",
              "MSSubClass     ...   -0.012579    -0.006100      -0.012037  -0.043825   \n",
              "LotFrontage    ...    0.088521     0.151972       0.010700   0.070029   \n",
              "LotArea        ...    0.171698     0.084774      -0.018340   0.020423   \n",
              "OverallQual    ...    0.238923     0.308819      -0.113937   0.030371   \n",
              "OverallCond    ...   -0.003334    -0.032589       0.070356   0.025504   \n",
              "YearBuilt      ...    0.224880     0.188686      -0.387268   0.031355   \n",
              "YearRemodAdd   ...    0.205726     0.226298      -0.193919   0.045286   \n",
              "MasVnrArea     ...    0.159718     0.125703      -0.110204   0.018796   \n",
              "BsmtFinSF1     ...    0.204306     0.111761      -0.102303   0.026451   \n",
              "BsmtFinSF2     ...    0.067898     0.003093       0.036543  -0.029993   \n",
              "BsmtUnfSF      ...   -0.005316     0.129005      -0.002538   0.020764   \n",
              "TotalBsmtSF    ...    0.232019     0.247264      -0.095478   0.037384   \n",
              "1stFlrSF       ...    0.235459     0.211671      -0.065292   0.056104   \n",
              "2ndFlrSF       ...    0.092165     0.208026       0.061989  -0.024358   \n",
              "LowQualFinSF   ...   -0.025444     0.018251       0.061081  -0.004296   \n",
              "GrLivArea      ...    0.247433     0.330224       0.009113   0.020643   \n",
              "BsmtFullBath   ...    0.175315     0.067341      -0.049911  -0.000106   \n",
              "BsmtHalfBath   ...    0.040161    -0.025324      -0.008555   0.035114   \n",
              "FullBath       ...    0.187703     0.259977      -0.115093   0.035353   \n",
              "HalfBath       ...    0.108080     0.199740      -0.095317  -0.004972   \n",
              "BedroomAbvGr   ...    0.046854     0.093810       0.041570  -0.024478   \n",
              "KitchenAbvGr   ...   -0.090130    -0.070091       0.037312  -0.024600   \n",
              "TotRmsAbvGrd   ...    0.165984     0.234192       0.004151  -0.006683   \n",
              "Fireplaces     ...    0.200019     0.169405      -0.024822   0.011257   \n",
              "GarageYrBlt    ...    0.224577     0.228425      -0.297003   0.023544   \n",
              "GarageCars     ...    0.226342     0.213569      -0.151434   0.035765   \n",
              "GarageArea     ...    0.224666     0.241435      -0.121777   0.035087   \n",
              "WoodDeckSF     ...    1.000000     0.058661      -0.125989  -0.032771   \n",
              "OpenPorchSF    ...    0.058661     1.000000      -0.093079  -0.005842   \n",
              "EnclosedPorch  ...   -0.125989    -0.093079       1.000000  -0.037305   \n",
              "3SsnPorch      ...   -0.032771    -0.005842      -0.037305   1.000000   \n",
              "ScreenPorch    ...   -0.074181     0.074304      -0.082864  -0.031436   \n",
              "PoolArea       ...    0.073378     0.060762       0.054203  -0.007992   \n",
              "MiscVal        ...   -0.009551    -0.018584       0.018361   0.000354   \n",
              "MoSold         ...    0.021011     0.071255      -0.028887   0.029474   \n",
              "YrSold         ...    0.022270    -0.057619      -0.009916   0.018645   \n",
              "SalePrice      ...    0.324413     0.315856      -0.128578   0.044584   \n",
              "\n",
              "               ScreenPorch  PoolArea   MiscVal    MoSold    YrSold  SalePrice  \n",
              "Id                0.001330  0.057044 -0.006242  0.021172  0.000712  -0.021917  \n",
              "MSSubClass       -0.026030  0.008283 -0.007683 -0.013585 -0.021407  -0.084284  \n",
              "LotFrontage       0.041383  0.206167  0.003368  0.011200  0.007450   0.351799  \n",
              "LotArea           0.043160  0.077672  0.038068  0.001205 -0.014261   0.263843  \n",
              "OverallQual       0.064886  0.065166 -0.031406  0.070815 -0.027347   0.790982  \n",
              "OverallCond       0.054811 -0.001985  0.068777 -0.003511  0.043950  -0.077856  \n",
              "YearBuilt        -0.050364  0.004950 -0.034383  0.012398 -0.013618   0.522897  \n",
              "YearRemodAdd     -0.038740  0.005829 -0.010286  0.021490  0.035743   0.507101  \n",
              "MasVnrArea        0.061466  0.011723 -0.029815 -0.005965 -0.008201   0.477493  \n",
              "BsmtFinSF1        0.062021  0.140491  0.003571 -0.015727  0.014359   0.386420  \n",
              "BsmtFinSF2        0.088871  0.041709  0.004940 -0.015211  0.031706  -0.011378  \n",
              "BsmtUnfSF        -0.012579 -0.035092 -0.023837  0.034888 -0.041258   0.214479  \n",
              "TotalBsmtSF       0.084489  0.126053 -0.018479  0.013196 -0.014969   0.613581  \n",
              "1stFlrSF          0.088758  0.131525 -0.021096  0.031372 -0.013604   0.605852  \n",
              "2ndFlrSF          0.040606  0.081487  0.016197  0.035164 -0.028700   0.319334  \n",
              "LowQualFinSF      0.026799  0.062157 -0.003793 -0.022174 -0.028921  -0.025606  \n",
              "GrLivArea         0.101510  0.170205 -0.002416  0.050240 -0.036526   0.708624  \n",
              "BsmtFullBath      0.023148  0.067616 -0.023047 -0.025361  0.067049   0.227122  \n",
              "BsmtHalfBath      0.032121  0.020025 -0.007367  0.032873 -0.046524  -0.016844  \n",
              "FullBath         -0.008106  0.049604 -0.014290  0.055872 -0.019669   0.560664  \n",
              "HalfBath          0.072426  0.022381  0.001290 -0.009050 -0.010269   0.284108  \n",
              "BedroomAbvGr      0.044300  0.070703  0.007767  0.046544 -0.036014   0.168213  \n",
              "KitchenAbvGr     -0.051613 -0.014525  0.062341  0.026589  0.031687  -0.135907  \n",
              "TotRmsAbvGrd      0.059383  0.083757  0.024763  0.036907 -0.034516   0.533723  \n",
              "Fireplaces        0.184530  0.095074  0.001409  0.046357 -0.024096   0.466929  \n",
              "GarageYrBlt      -0.075418 -0.014501 -0.032417  0.005337 -0.001014   0.486362  \n",
              "GarageCars        0.050494  0.020934 -0.043080  0.040522 -0.039117   0.640409  \n",
              "GarageArea        0.051412  0.061047 -0.027400  0.027974 -0.027378   0.623431  \n",
              "WoodDeckSF       -0.074181  0.073378 -0.009551  0.021011  0.022270   0.324413  \n",
              "OpenPorchSF       0.074304  0.060762 -0.018584  0.071255 -0.057619   0.315856  \n",
              "EnclosedPorch    -0.082864  0.054203  0.018361 -0.028887 -0.009916  -0.128578  \n",
              "3SsnPorch        -0.031436 -0.007992  0.000354  0.029474  0.018645   0.044584  \n",
              "ScreenPorch       1.000000  0.051307  0.031946  0.023217  0.010694   0.111447  \n",
              "PoolArea          0.051307  1.000000  0.029669 -0.033737 -0.059689   0.092404  \n",
              "MiscVal           0.031946  0.029669  1.000000 -0.006495  0.004906  -0.021190  \n",
              "MoSold            0.023217 -0.033737 -0.006495  1.000000 -0.145721   0.046432  \n",
              "YrSold            0.010694 -0.059689  0.004906 -0.145721  1.000000  -0.028923  \n",
              "SalePrice         0.111447  0.092404 -0.021190  0.046432 -0.028923   1.000000  \n",
              "\n",
              "[38 rows x 38 columns]"
            ],
            "text/html": [
              "\n",
              "  <div id=\"df-1e00bdf9-c411-4ed9-941f-319fb41afd09\">\n",
              "    <div class=\"colab-df-container\">\n",
              "      <div>\n",
              "<style scoped>\n",
              "    .dataframe tbody tr th:only-of-type {\n",
              "        vertical-align: middle;\n",
              "    }\n",
              "\n",
              "    .dataframe tbody tr th {\n",
              "        vertical-align: top;\n",
              "    }\n",
              "\n",
              "    .dataframe thead th {\n",
              "        text-align: right;\n",
              "    }\n",
              "</style>\n",
              "<table border=\"1\" class=\"dataframe\">\n",
              "  <thead>\n",
              "    <tr style=\"text-align: right;\">\n",
              "      <th></th>\n",
              "      <th>Id</th>\n",
              "      <th>MSSubClass</th>\n",
              "      <th>LotFrontage</th>\n",
              "      <th>LotArea</th>\n",
              "      <th>OverallQual</th>\n",
              "      <th>OverallCond</th>\n",
              "      <th>YearBuilt</th>\n",
              "      <th>YearRemodAdd</th>\n",
              "      <th>MasVnrArea</th>\n",
              "      <th>BsmtFinSF1</th>\n",
              "      <th>...</th>\n",
              "      <th>WoodDeckSF</th>\n",
              "      <th>OpenPorchSF</th>\n",
              "      <th>EnclosedPorch</th>\n",
              "      <th>3SsnPorch</th>\n",
              "      <th>ScreenPorch</th>\n",
              "      <th>PoolArea</th>\n",
              "      <th>MiscVal</th>\n",
              "      <th>MoSold</th>\n",
              "      <th>YrSold</th>\n",
              "      <th>SalePrice</th>\n",
              "    </tr>\n",
              "  </thead>\n",
              "  <tbody>\n",
              "    <tr>\n",
              "      <th>Id</th>\n",
              "      <td>1.000000</td>\n",
              "      <td>0.011156</td>\n",
              "      <td>-0.010601</td>\n",
              "      <td>-0.033226</td>\n",
              "      <td>-0.028365</td>\n",
              "      <td>0.012609</td>\n",
              "      <td>-0.012713</td>\n",
              "      <td>-0.021998</td>\n",
              "      <td>-0.050298</td>\n",
              "      <td>-0.005024</td>\n",
              "      <td>...</td>\n",
              "      <td>-0.029643</td>\n",
              "      <td>-0.000477</td>\n",
              "      <td>0.002889</td>\n",
              "      <td>-0.046635</td>\n",
              "      <td>0.001330</td>\n",
              "      <td>0.057044</td>\n",
              "      <td>-0.006242</td>\n",
              "      <td>0.021172</td>\n",
              "      <td>0.000712</td>\n",
              "      <td>-0.021917</td>\n",
              "    </tr>\n",
              "    <tr>\n",
              "      <th>MSSubClass</th>\n",
              "      <td>0.011156</td>\n",
              "      <td>1.000000</td>\n",
              "      <td>-0.386347</td>\n",
              "      <td>-0.139781</td>\n",
              "      <td>0.032628</td>\n",
              "      <td>-0.059316</td>\n",
              "      <td>0.027850</td>\n",
              "      <td>0.040581</td>\n",
              "      <td>0.022936</td>\n",
              "      <td>-0.069836</td>\n",
              "      <td>...</td>\n",
              "      <td>-0.012579</td>\n",
              "      <td>-0.006100</td>\n",
              "      <td>-0.012037</td>\n",
              "      <td>-0.043825</td>\n",
              "      <td>-0.026030</td>\n",
              "      <td>0.008283</td>\n",
              "      <td>-0.007683</td>\n",
              "      <td>-0.013585</td>\n",
              "      <td>-0.021407</td>\n",
              "      <td>-0.084284</td>\n",
              "    </tr>\n",
              "    <tr>\n",
              "      <th>LotFrontage</th>\n",
              "      <td>-0.010601</td>\n",
              "      <td>-0.386347</td>\n",
              "      <td>1.000000</td>\n",
              "      <td>0.426095</td>\n",
              "      <td>0.251646</td>\n",
              "      <td>-0.059213</td>\n",
              "      <td>0.123349</td>\n",
              "      <td>0.088866</td>\n",
              "      <td>0.193458</td>\n",
              "      <td>0.233633</td>\n",
              "      <td>...</td>\n",
              "      <td>0.088521</td>\n",
              "      <td>0.151972</td>\n",
              "      <td>0.010700</td>\n",
              "      <td>0.070029</td>\n",
              "      <td>0.041383</td>\n",
              "      <td>0.206167</td>\n",
              "      <td>0.003368</td>\n",
              "      <td>0.011200</td>\n",
              "      <td>0.007450</td>\n",
              "      <td>0.351799</td>\n",
              "    </tr>\n",
              "    <tr>\n",
              "      <th>LotArea</th>\n",
              "      <td>-0.033226</td>\n",
              "      <td>-0.139781</td>\n",
              "      <td>0.426095</td>\n",
              "      <td>1.000000</td>\n",
              "      <td>0.105806</td>\n",
              "      <td>-0.005636</td>\n",
              "      <td>0.014228</td>\n",
              "      <td>0.013788</td>\n",
              "      <td>0.104160</td>\n",
              "      <td>0.214103</td>\n",
              "      <td>...</td>\n",
              "      <td>0.171698</td>\n",
              "      <td>0.084774</td>\n",
              "      <td>-0.018340</td>\n",
              "      <td>0.020423</td>\n",
              "      <td>0.043160</td>\n",
              "      <td>0.077672</td>\n",
              "      <td>0.038068</td>\n",
              "      <td>0.001205</td>\n",
              "      <td>-0.014261</td>\n",
              "      <td>0.263843</td>\n",
              "    </tr>\n",
              "    <tr>\n",
              "      <th>OverallQual</th>\n",
              "      <td>-0.028365</td>\n",
              "      <td>0.032628</td>\n",
              "      <td>0.251646</td>\n",
              "      <td>0.105806</td>\n",
              "      <td>1.000000</td>\n",
              "      <td>-0.091932</td>\n",
              "      <td>0.572323</td>\n",
              "      <td>0.550684</td>\n",
              "      <td>0.411876</td>\n",
              "      <td>0.239666</td>\n",
              "      <td>...</td>\n",
              "      <td>0.238923</td>\n",
              "      <td>0.308819</td>\n",
              "      <td>-0.113937</td>\n",
              "      <td>0.030371</td>\n",
              "      <td>0.064886</td>\n",
              "      <td>0.065166</td>\n",
              "      <td>-0.031406</td>\n",
              "      <td>0.070815</td>\n",
              "      <td>-0.027347</td>\n",
              "      <td>0.790982</td>\n",
              "    </tr>\n",
              "    <tr>\n",
              "      <th>OverallCond</th>\n",
              "      <td>0.012609</td>\n",
              "      <td>-0.059316</td>\n",
              "      <td>-0.059213</td>\n",
              "      <td>-0.005636</td>\n",
              "      <td>-0.091932</td>\n",
              "      <td>1.000000</td>\n",
              "      <td>-0.375983</td>\n",
              "      <td>0.073741</td>\n",
              "      <td>-0.128101</td>\n",
              "      <td>-0.046231</td>\n",
              "      <td>...</td>\n",
              "      <td>-0.003334</td>\n",
              "      <td>-0.032589</td>\n",
              "      <td>0.070356</td>\n",
              "      <td>0.025504</td>\n",
              "      <td>0.054811</td>\n",
              "      <td>-0.001985</td>\n",
              "      <td>0.068777</td>\n",
              "      <td>-0.003511</td>\n",
              "      <td>0.043950</td>\n",
              "      <td>-0.077856</td>\n",
              "    </tr>\n",
              "    <tr>\n",
              "      <th>YearBuilt</th>\n",
              "      <td>-0.012713</td>\n",
              "      <td>0.027850</td>\n",
              "      <td>0.123349</td>\n",
              "      <td>0.014228</td>\n",
              "      <td>0.572323</td>\n",
              "      <td>-0.375983</td>\n",
              "      <td>1.000000</td>\n",
              "      <td>0.592855</td>\n",
              "      <td>0.315707</td>\n",
              "      <td>0.249503</td>\n",
              "      <td>...</td>\n",
              "      <td>0.224880</td>\n",
              "      <td>0.188686</td>\n",
              "      <td>-0.387268</td>\n",
              "      <td>0.031355</td>\n",
              "      <td>-0.050364</td>\n",
              "      <td>0.004950</td>\n",
              "      <td>-0.034383</td>\n",
              "      <td>0.012398</td>\n",
              "      <td>-0.013618</td>\n",
              "      <td>0.522897</td>\n",
              "    </tr>\n",
              "    <tr>\n",
              "      <th>YearRemodAdd</th>\n",
              "      <td>-0.021998</td>\n",
              "      <td>0.040581</td>\n",
              "      <td>0.088866</td>\n",
              "      <td>0.013788</td>\n",
              "      <td>0.550684</td>\n",
              "      <td>0.073741</td>\n",
              "      <td>0.592855</td>\n",
              "      <td>1.000000</td>\n",
              "      <td>0.179618</td>\n",
              "      <td>0.128451</td>\n",
              "      <td>...</td>\n",
              "      <td>0.205726</td>\n",
              "      <td>0.226298</td>\n",
              "      <td>-0.193919</td>\n",
              "      <td>0.045286</td>\n",
              "      <td>-0.038740</td>\n",
              "      <td>0.005829</td>\n",
              "      <td>-0.010286</td>\n",
              "      <td>0.021490</td>\n",
              "      <td>0.035743</td>\n",
              "      <td>0.507101</td>\n",
              "    </tr>\n",
              "    <tr>\n",
              "      <th>MasVnrArea</th>\n",
              "      <td>-0.050298</td>\n",
              "      <td>0.022936</td>\n",
              "      <td>0.193458</td>\n",
              "      <td>0.104160</td>\n",
              "      <td>0.411876</td>\n",
              "      <td>-0.128101</td>\n",
              "      <td>0.315707</td>\n",
              "      <td>0.179618</td>\n",
              "      <td>1.000000</td>\n",
              "      <td>0.264736</td>\n",
              "      <td>...</td>\n",
              "      <td>0.159718</td>\n",
              "      <td>0.125703</td>\n",
              "      <td>-0.110204</td>\n",
              "      <td>0.018796</td>\n",
              "      <td>0.061466</td>\n",
              "      <td>0.011723</td>\n",
              "      <td>-0.029815</td>\n",
              "      <td>-0.005965</td>\n",
              "      <td>-0.008201</td>\n",
              "      <td>0.477493</td>\n",
              "    </tr>\n",
              "    <tr>\n",
              "      <th>BsmtFinSF1</th>\n",
              "      <td>-0.005024</td>\n",
              "      <td>-0.069836</td>\n",
              "      <td>0.233633</td>\n",
              "      <td>0.214103</td>\n",
              "      <td>0.239666</td>\n",
              "      <td>-0.046231</td>\n",
              "      <td>0.249503</td>\n",
              "      <td>0.128451</td>\n",
              "      <td>0.264736</td>\n",
              "      <td>1.000000</td>\n",
              "      <td>...</td>\n",
              "      <td>0.204306</td>\n",
              "      <td>0.111761</td>\n",
              "      <td>-0.102303</td>\n",
              "      <td>0.026451</td>\n",
              "      <td>0.062021</td>\n",
              "      <td>0.140491</td>\n",
              "      <td>0.003571</td>\n",
              "      <td>-0.015727</td>\n",
              "      <td>0.014359</td>\n",
              "      <td>0.386420</td>\n",
              "    </tr>\n",
              "    <tr>\n",
              "      <th>BsmtFinSF2</th>\n",
              "      <td>-0.005968</td>\n",
              "      <td>-0.065649</td>\n",
              "      <td>0.049900</td>\n",
              "      <td>0.111170</td>\n",
              "      <td>-0.059119</td>\n",
              "      <td>0.040229</td>\n",
              "      <td>-0.049107</td>\n",
              "      <td>-0.067759</td>\n",
              "      <td>-0.072319</td>\n",
              "      <td>-0.050117</td>\n",
              "      <td>...</td>\n",
              "      <td>0.067898</td>\n",
              "      <td>0.003093</td>\n",
              "      <td>0.036543</td>\n",
              "      <td>-0.029993</td>\n",
              "      <td>0.088871</td>\n",
              "      <td>0.041709</td>\n",
              "      <td>0.004940</td>\n",
              "      <td>-0.015211</td>\n",
              "      <td>0.031706</td>\n",
              "      <td>-0.011378</td>\n",
              "    </tr>\n",
              "    <tr>\n",
              "      <th>BsmtUnfSF</th>\n",
              "      <td>-0.007940</td>\n",
              "      <td>-0.140759</td>\n",
              "      <td>0.132644</td>\n",
              "      <td>-0.002618</td>\n",
              "      <td>0.308159</td>\n",
              "      <td>-0.136841</td>\n",
              "      <td>0.149040</td>\n",
              "      <td>0.181133</td>\n",
              "      <td>0.114442</td>\n",
              "      <td>-0.495251</td>\n",
              "      <td>...</td>\n",
              "      <td>-0.005316</td>\n",
              "      <td>0.129005</td>\n",
              "      <td>-0.002538</td>\n",
              "      <td>0.020764</td>\n",
              "      <td>-0.012579</td>\n",
              "      <td>-0.035092</td>\n",
              "      <td>-0.023837</td>\n",
              "      <td>0.034888</td>\n",
              "      <td>-0.041258</td>\n",
              "      <td>0.214479</td>\n",
              "    </tr>\n",
              "    <tr>\n",
              "      <th>TotalBsmtSF</th>\n",
              "      <td>-0.015415</td>\n",
              "      <td>-0.238518</td>\n",
              "      <td>0.392075</td>\n",
              "      <td>0.260833</td>\n",
              "      <td>0.537808</td>\n",
              "      <td>-0.171098</td>\n",
              "      <td>0.391452</td>\n",
              "      <td>0.291066</td>\n",
              "      <td>0.363936</td>\n",
              "      <td>0.522396</td>\n",
              "      <td>...</td>\n",
              "      <td>0.232019</td>\n",
              "      <td>0.247264</td>\n",
              "      <td>-0.095478</td>\n",
              "      <td>0.037384</td>\n",
              "      <td>0.084489</td>\n",
              "      <td>0.126053</td>\n",
              "      <td>-0.018479</td>\n",
              "      <td>0.013196</td>\n",
              "      <td>-0.014969</td>\n",
              "      <td>0.613581</td>\n",
              "    </tr>\n",
              "    <tr>\n",
              "      <th>1stFlrSF</th>\n",
              "      <td>0.010496</td>\n",
              "      <td>-0.251758</td>\n",
              "      <td>0.457181</td>\n",
              "      <td>0.299475</td>\n",
              "      <td>0.476224</td>\n",
              "      <td>-0.144203</td>\n",
              "      <td>0.281986</td>\n",
              "      <td>0.240379</td>\n",
              "      <td>0.344501</td>\n",
              "      <td>0.445863</td>\n",
              "      <td>...</td>\n",
              "      <td>0.235459</td>\n",
              "      <td>0.211671</td>\n",
              "      <td>-0.065292</td>\n",
              "      <td>0.056104</td>\n",
              "      <td>0.088758</td>\n",
              "      <td>0.131525</td>\n",
              "      <td>-0.021096</td>\n",
              "      <td>0.031372</td>\n",
              "      <td>-0.013604</td>\n",
              "      <td>0.605852</td>\n",
              "    </tr>\n",
              "    <tr>\n",
              "      <th>2ndFlrSF</th>\n",
              "      <td>0.005590</td>\n",
              "      <td>0.307886</td>\n",
              "      <td>0.080177</td>\n",
              "      <td>0.050986</td>\n",
              "      <td>0.295493</td>\n",
              "      <td>0.028942</td>\n",
              "      <td>0.010308</td>\n",
              "      <td>0.140024</td>\n",
              "      <td>0.174561</td>\n",
              "      <td>-0.137079</td>\n",
              "      <td>...</td>\n",
              "      <td>0.092165</td>\n",
              "      <td>0.208026</td>\n",
              "      <td>0.061989</td>\n",
              "      <td>-0.024358</td>\n",
              "      <td>0.040606</td>\n",
              "      <td>0.081487</td>\n",
              "      <td>0.016197</td>\n",
              "      <td>0.035164</td>\n",
              "      <td>-0.028700</td>\n",
              "      <td>0.319334</td>\n",
              "    </tr>\n",
              "    <tr>\n",
              "      <th>LowQualFinSF</th>\n",
              "      <td>-0.044230</td>\n",
              "      <td>0.046474</td>\n",
              "      <td>0.038469</td>\n",
              "      <td>0.004779</td>\n",
              "      <td>-0.030429</td>\n",
              "      <td>0.025494</td>\n",
              "      <td>-0.183784</td>\n",
              "      <td>-0.062419</td>\n",
              "      <td>-0.069071</td>\n",
              "      <td>-0.064503</td>\n",
              "      <td>...</td>\n",
              "      <td>-0.025444</td>\n",
              "      <td>0.018251</td>\n",
              "      <td>0.061081</td>\n",
              "      <td>-0.004296</td>\n",
              "      <td>0.026799</td>\n",
              "      <td>0.062157</td>\n",
              "      <td>-0.003793</td>\n",
              "      <td>-0.022174</td>\n",
              "      <td>-0.028921</td>\n",
              "      <td>-0.025606</td>\n",
              "    </tr>\n",
              "    <tr>\n",
              "      <th>GrLivArea</th>\n",
              "      <td>0.008273</td>\n",
              "      <td>0.074853</td>\n",
              "      <td>0.402797</td>\n",
              "      <td>0.263116</td>\n",
              "      <td>0.593007</td>\n",
              "      <td>-0.079686</td>\n",
              "      <td>0.199010</td>\n",
              "      <td>0.287389</td>\n",
              "      <td>0.390857</td>\n",
              "      <td>0.208171</td>\n",
              "      <td>...</td>\n",
              "      <td>0.247433</td>\n",
              "      <td>0.330224</td>\n",
              "      <td>0.009113</td>\n",
              "      <td>0.020643</td>\n",
              "      <td>0.101510</td>\n",
              "      <td>0.170205</td>\n",
              "      <td>-0.002416</td>\n",
              "      <td>0.050240</td>\n",
              "      <td>-0.036526</td>\n",
              "      <td>0.708624</td>\n",
              "    </tr>\n",
              "    <tr>\n",
              "      <th>BsmtFullBath</th>\n",
              "      <td>0.002289</td>\n",
              "      <td>0.003491</td>\n",
              "      <td>0.100949</td>\n",
              "      <td>0.158155</td>\n",
              "      <td>0.111098</td>\n",
              "      <td>-0.054942</td>\n",
              "      <td>0.187599</td>\n",
              "      <td>0.119470</td>\n",
              "      <td>0.085310</td>\n",
              "      <td>0.649212</td>\n",
              "      <td>...</td>\n",
              "      <td>0.175315</td>\n",
              "      <td>0.067341</td>\n",
              "      <td>-0.049911</td>\n",
              "      <td>-0.000106</td>\n",
              "      <td>0.023148</td>\n",
              "      <td>0.067616</td>\n",
              "      <td>-0.023047</td>\n",
              "      <td>-0.025361</td>\n",
              "      <td>0.067049</td>\n",
              "      <td>0.227122</td>\n",
              "    </tr>\n",
              "    <tr>\n",
              "      <th>BsmtHalfBath</th>\n",
              "      <td>-0.020155</td>\n",
              "      <td>-0.002333</td>\n",
              "      <td>-0.007234</td>\n",
              "      <td>0.048046</td>\n",
              "      <td>-0.040150</td>\n",
              "      <td>0.117821</td>\n",
              "      <td>-0.038162</td>\n",
              "      <td>-0.012337</td>\n",
              "      <td>0.026673</td>\n",
              "      <td>0.067418</td>\n",
              "      <td>...</td>\n",
              "      <td>0.040161</td>\n",
              "      <td>-0.025324</td>\n",
              "      <td>-0.008555</td>\n",
              "      <td>0.035114</td>\n",
              "      <td>0.032121</td>\n",
              "      <td>0.020025</td>\n",
              "      <td>-0.007367</td>\n",
              "      <td>0.032873</td>\n",
              "      <td>-0.046524</td>\n",
              "      <td>-0.016844</td>\n",
              "    </tr>\n",
              "    <tr>\n",
              "      <th>FullBath</th>\n",
              "      <td>0.005587</td>\n",
              "      <td>0.131608</td>\n",
              "      <td>0.198769</td>\n",
              "      <td>0.126031</td>\n",
              "      <td>0.550600</td>\n",
              "      <td>-0.194149</td>\n",
              "      <td>0.468271</td>\n",
              "      <td>0.439046</td>\n",
              "      <td>0.276833</td>\n",
              "      <td>0.058543</td>\n",
              "      <td>...</td>\n",
              "      <td>0.187703</td>\n",
              "      <td>0.259977</td>\n",
              "      <td>-0.115093</td>\n",
              "      <td>0.035353</td>\n",
              "      <td>-0.008106</td>\n",
              "      <td>0.049604</td>\n",
              "      <td>-0.014290</td>\n",
              "      <td>0.055872</td>\n",
              "      <td>-0.019669</td>\n",
              "      <td>0.560664</td>\n",
              "    </tr>\n",
              "    <tr>\n",
              "      <th>HalfBath</th>\n",
              "      <td>0.006784</td>\n",
              "      <td>0.177354</td>\n",
              "      <td>0.053532</td>\n",
              "      <td>0.014259</td>\n",
              "      <td>0.273458</td>\n",
              "      <td>-0.060769</td>\n",
              "      <td>0.242656</td>\n",
              "      <td>0.183331</td>\n",
              "      <td>0.201444</td>\n",
              "      <td>0.004262</td>\n",
              "      <td>...</td>\n",
              "      <td>0.108080</td>\n",
              "      <td>0.199740</td>\n",
              "      <td>-0.095317</td>\n",
              "      <td>-0.004972</td>\n",
              "      <td>0.072426</td>\n",
              "      <td>0.022381</td>\n",
              "      <td>0.001290</td>\n",
              "      <td>-0.009050</td>\n",
              "      <td>-0.010269</td>\n",
              "      <td>0.284108</td>\n",
              "    </tr>\n",
              "    <tr>\n",
              "      <th>BedroomAbvGr</th>\n",
              "      <td>0.037719</td>\n",
              "      <td>-0.023438</td>\n",
              "      <td>0.263170</td>\n",
              "      <td>0.119690</td>\n",
              "      <td>0.101676</td>\n",
              "      <td>0.012980</td>\n",
              "      <td>-0.070651</td>\n",
              "      <td>-0.040581</td>\n",
              "      <td>0.102821</td>\n",
              "      <td>-0.107355</td>\n",
              "      <td>...</td>\n",
              "      <td>0.046854</td>\n",
              "      <td>0.093810</td>\n",
              "      <td>0.041570</td>\n",
              "      <td>-0.024478</td>\n",
              "      <td>0.044300</td>\n",
              "      <td>0.070703</td>\n",
              "      <td>0.007767</td>\n",
              "      <td>0.046544</td>\n",
              "      <td>-0.036014</td>\n",
              "      <td>0.168213</td>\n",
              "    </tr>\n",
              "    <tr>\n",
              "      <th>KitchenAbvGr</th>\n",
              "      <td>0.002951</td>\n",
              "      <td>0.281721</td>\n",
              "      <td>-0.006069</td>\n",
              "      <td>-0.017784</td>\n",
              "      <td>-0.183882</td>\n",
              "      <td>-0.087001</td>\n",
              "      <td>-0.174800</td>\n",
              "      <td>-0.149598</td>\n",
              "      <td>-0.037610</td>\n",
              "      <td>-0.081007</td>\n",
              "      <td>...</td>\n",
              "      <td>-0.090130</td>\n",
              "      <td>-0.070091</td>\n",
              "      <td>0.037312</td>\n",
              "      <td>-0.024600</td>\n",
              "      <td>-0.051613</td>\n",
              "      <td>-0.014525</td>\n",
              "      <td>0.062341</td>\n",
              "      <td>0.026589</td>\n",
              "      <td>0.031687</td>\n",
              "      <td>-0.135907</td>\n",
              "    </tr>\n",
              "    <tr>\n",
              "      <th>TotRmsAbvGrd</th>\n",
              "      <td>0.027239</td>\n",
              "      <td>0.040380</td>\n",
              "      <td>0.352096</td>\n",
              "      <td>0.190015</td>\n",
              "      <td>0.427452</td>\n",
              "      <td>-0.057583</td>\n",
              "      <td>0.095589</td>\n",
              "      <td>0.191740</td>\n",
              "      <td>0.280682</td>\n",
              "      <td>0.044316</td>\n",
              "      <td>...</td>\n",
              "      <td>0.165984</td>\n",
              "      <td>0.234192</td>\n",
              "      <td>0.004151</td>\n",
              "      <td>-0.006683</td>\n",
              "      <td>0.059383</td>\n",
              "      <td>0.083757</td>\n",
              "      <td>0.024763</td>\n",
              "      <td>0.036907</td>\n",
              "      <td>-0.034516</td>\n",
              "      <td>0.533723</td>\n",
              "    </tr>\n",
              "    <tr>\n",
              "      <th>Fireplaces</th>\n",
              "      <td>-0.019772</td>\n",
              "      <td>-0.045569</td>\n",
              "      <td>0.266639</td>\n",
              "      <td>0.271364</td>\n",
              "      <td>0.396765</td>\n",
              "      <td>-0.023820</td>\n",
              "      <td>0.147716</td>\n",
              "      <td>0.112581</td>\n",
              "      <td>0.249070</td>\n",
              "      <td>0.260011</td>\n",
              "      <td>...</td>\n",
              "      <td>0.200019</td>\n",
              "      <td>0.169405</td>\n",
              "      <td>-0.024822</td>\n",
              "      <td>0.011257</td>\n",
              "      <td>0.184530</td>\n",
              "      <td>0.095074</td>\n",
              "      <td>0.001409</td>\n",
              "      <td>0.046357</td>\n",
              "      <td>-0.024096</td>\n",
              "      <td>0.466929</td>\n",
              "    </tr>\n",
              "    <tr>\n",
              "      <th>GarageYrBlt</th>\n",
              "      <td>0.000072</td>\n",
              "      <td>0.085072</td>\n",
              "      <td>0.070250</td>\n",
              "      <td>-0.024947</td>\n",
              "      <td>0.547766</td>\n",
              "      <td>-0.324297</td>\n",
              "      <td>0.825667</td>\n",
              "      <td>0.642277</td>\n",
              "      <td>0.252691</td>\n",
              "      <td>0.153484</td>\n",
              "      <td>...</td>\n",
              "      <td>0.224577</td>\n",
              "      <td>0.228425</td>\n",
              "      <td>-0.297003</td>\n",
              "      <td>0.023544</td>\n",
              "      <td>-0.075418</td>\n",
              "      <td>-0.014501</td>\n",
              "      <td>-0.032417</td>\n",
              "      <td>0.005337</td>\n",
              "      <td>-0.001014</td>\n",
              "      <td>0.486362</td>\n",
              "    </tr>\n",
              "    <tr>\n",
              "      <th>GarageCars</th>\n",
              "      <td>0.016570</td>\n",
              "      <td>-0.040110</td>\n",
              "      <td>0.285691</td>\n",
              "      <td>0.154871</td>\n",
              "      <td>0.600671</td>\n",
              "      <td>-0.185758</td>\n",
              "      <td>0.537850</td>\n",
              "      <td>0.420622</td>\n",
              "      <td>0.364204</td>\n",
              "      <td>0.224054</td>\n",
              "      <td>...</td>\n",
              "      <td>0.226342</td>\n",
              "      <td>0.213569</td>\n",
              "      <td>-0.151434</td>\n",
              "      <td>0.035765</td>\n",
              "      <td>0.050494</td>\n",
              "      <td>0.020934</td>\n",
              "      <td>-0.043080</td>\n",
              "      <td>0.040522</td>\n",
              "      <td>-0.039117</td>\n",
              "      <td>0.640409</td>\n",
              "    </tr>\n",
              "    <tr>\n",
              "      <th>GarageArea</th>\n",
              "      <td>0.017634</td>\n",
              "      <td>-0.098672</td>\n",
              "      <td>0.344997</td>\n",
              "      <td>0.180403</td>\n",
              "      <td>0.562022</td>\n",
              "      <td>-0.151521</td>\n",
              "      <td>0.478954</td>\n",
              "      <td>0.371600</td>\n",
              "      <td>0.373066</td>\n",
              "      <td>0.296970</td>\n",
              "      <td>...</td>\n",
              "      <td>0.224666</td>\n",
              "      <td>0.241435</td>\n",
              "      <td>-0.121777</td>\n",
              "      <td>0.035087</td>\n",
              "      <td>0.051412</td>\n",
              "      <td>0.061047</td>\n",
              "      <td>-0.027400</td>\n",
              "      <td>0.027974</td>\n",
              "      <td>-0.027378</td>\n",
              "      <td>0.623431</td>\n",
              "    </tr>\n",
              "    <tr>\n",
              "      <th>WoodDeckSF</th>\n",
              "      <td>-0.029643</td>\n",
              "      <td>-0.012579</td>\n",
              "      <td>0.088521</td>\n",
              "      <td>0.171698</td>\n",
              "      <td>0.238923</td>\n",
              "      <td>-0.003334</td>\n",
              "      <td>0.224880</td>\n",
              "      <td>0.205726</td>\n",
              "      <td>0.159718</td>\n",
              "      <td>0.204306</td>\n",
              "      <td>...</td>\n",
              "      <td>1.000000</td>\n",
              "      <td>0.058661</td>\n",
              "      <td>-0.125989</td>\n",
              "      <td>-0.032771</td>\n",
              "      <td>-0.074181</td>\n",
              "      <td>0.073378</td>\n",
              "      <td>-0.009551</td>\n",
              "      <td>0.021011</td>\n",
              "      <td>0.022270</td>\n",
              "      <td>0.324413</td>\n",
              "    </tr>\n",
              "    <tr>\n",
              "      <th>OpenPorchSF</th>\n",
              "      <td>-0.000477</td>\n",
              "      <td>-0.006100</td>\n",
              "      <td>0.151972</td>\n",
              "      <td>0.084774</td>\n",
              "      <td>0.308819</td>\n",
              "      <td>-0.032589</td>\n",
              "      <td>0.188686</td>\n",
              "      <td>0.226298</td>\n",
              "      <td>0.125703</td>\n",
              "      <td>0.111761</td>\n",
              "      <td>...</td>\n",
              "      <td>0.058661</td>\n",
              "      <td>1.000000</td>\n",
              "      <td>-0.093079</td>\n",
              "      <td>-0.005842</td>\n",
              "      <td>0.074304</td>\n",
              "      <td>0.060762</td>\n",
              "      <td>-0.018584</td>\n",
              "      <td>0.071255</td>\n",
              "      <td>-0.057619</td>\n",
              "      <td>0.315856</td>\n",
              "    </tr>\n",
              "    <tr>\n",
              "      <th>EnclosedPorch</th>\n",
              "      <td>0.002889</td>\n",
              "      <td>-0.012037</td>\n",
              "      <td>0.010700</td>\n",
              "      <td>-0.018340</td>\n",
              "      <td>-0.113937</td>\n",
              "      <td>0.070356</td>\n",
              "      <td>-0.387268</td>\n",
              "      <td>-0.193919</td>\n",
              "      <td>-0.110204</td>\n",
              "      <td>-0.102303</td>\n",
              "      <td>...</td>\n",
              "      <td>-0.125989</td>\n",
              "      <td>-0.093079</td>\n",
              "      <td>1.000000</td>\n",
              "      <td>-0.037305</td>\n",
              "      <td>-0.082864</td>\n",
              "      <td>0.054203</td>\n",
              "      <td>0.018361</td>\n",
              "      <td>-0.028887</td>\n",
              "      <td>-0.009916</td>\n",
              "      <td>-0.128578</td>\n",
              "    </tr>\n",
              "    <tr>\n",
              "      <th>3SsnPorch</th>\n",
              "      <td>-0.046635</td>\n",
              "      <td>-0.043825</td>\n",
              "      <td>0.070029</td>\n",
              "      <td>0.020423</td>\n",
              "      <td>0.030371</td>\n",
              "      <td>0.025504</td>\n",
              "      <td>0.031355</td>\n",
              "      <td>0.045286</td>\n",
              "      <td>0.018796</td>\n",
              "      <td>0.026451</td>\n",
              "      <td>...</td>\n",
              "      <td>-0.032771</td>\n",
              "      <td>-0.005842</td>\n",
              "      <td>-0.037305</td>\n",
              "      <td>1.000000</td>\n",
              "      <td>-0.031436</td>\n",
              "      <td>-0.007992</td>\n",
              "      <td>0.000354</td>\n",
              "      <td>0.029474</td>\n",
              "      <td>0.018645</td>\n",
              "      <td>0.044584</td>\n",
              "    </tr>\n",
              "    <tr>\n",
              "      <th>ScreenPorch</th>\n",
              "      <td>0.001330</td>\n",
              "      <td>-0.026030</td>\n",
              "      <td>0.041383</td>\n",
              "      <td>0.043160</td>\n",
              "      <td>0.064886</td>\n",
              "      <td>0.054811</td>\n",
              "      <td>-0.050364</td>\n",
              "      <td>-0.038740</td>\n",
              "      <td>0.061466</td>\n",
              "      <td>0.062021</td>\n",
              "      <td>...</td>\n",
              "      <td>-0.074181</td>\n",
              "      <td>0.074304</td>\n",
              "      <td>-0.082864</td>\n",
              "      <td>-0.031436</td>\n",
              "      <td>1.000000</td>\n",
              "      <td>0.051307</td>\n",
              "      <td>0.031946</td>\n",
              "      <td>0.023217</td>\n",
              "      <td>0.010694</td>\n",
              "      <td>0.111447</td>\n",
              "    </tr>\n",
              "    <tr>\n",
              "      <th>PoolArea</th>\n",
              "      <td>0.057044</td>\n",
              "      <td>0.008283</td>\n",
              "      <td>0.206167</td>\n",
              "      <td>0.077672</td>\n",
              "      <td>0.065166</td>\n",
              "      <td>-0.001985</td>\n",
              "      <td>0.004950</td>\n",
              "      <td>0.005829</td>\n",
              "      <td>0.011723</td>\n",
              "      <td>0.140491</td>\n",
              "      <td>...</td>\n",
              "      <td>0.073378</td>\n",
              "      <td>0.060762</td>\n",
              "      <td>0.054203</td>\n",
              "      <td>-0.007992</td>\n",
              "      <td>0.051307</td>\n",
              "      <td>1.000000</td>\n",
              "      <td>0.029669</td>\n",
              "      <td>-0.033737</td>\n",
              "      <td>-0.059689</td>\n",
              "      <td>0.092404</td>\n",
              "    </tr>\n",
              "    <tr>\n",
              "      <th>MiscVal</th>\n",
              "      <td>-0.006242</td>\n",
              "      <td>-0.007683</td>\n",
              "      <td>0.003368</td>\n",
              "      <td>0.038068</td>\n",
              "      <td>-0.031406</td>\n",
              "      <td>0.068777</td>\n",
              "      <td>-0.034383</td>\n",
              "      <td>-0.010286</td>\n",
              "      <td>-0.029815</td>\n",
              "      <td>0.003571</td>\n",
              "      <td>...</td>\n",
              "      <td>-0.009551</td>\n",
              "      <td>-0.018584</td>\n",
              "      <td>0.018361</td>\n",
              "      <td>0.000354</td>\n",
              "      <td>0.031946</td>\n",
              "      <td>0.029669</td>\n",
              "      <td>1.000000</td>\n",
              "      <td>-0.006495</td>\n",
              "      <td>0.004906</td>\n",
              "      <td>-0.021190</td>\n",
              "    </tr>\n",
              "    <tr>\n",
              "      <th>MoSold</th>\n",
              "      <td>0.021172</td>\n",
              "      <td>-0.013585</td>\n",
              "      <td>0.011200</td>\n",
              "      <td>0.001205</td>\n",
              "      <td>0.070815</td>\n",
              "      <td>-0.003511</td>\n",
              "      <td>0.012398</td>\n",
              "      <td>0.021490</td>\n",
              "      <td>-0.005965</td>\n",
              "      <td>-0.015727</td>\n",
              "      <td>...</td>\n",
              "      <td>0.021011</td>\n",
              "      <td>0.071255</td>\n",
              "      <td>-0.028887</td>\n",
              "      <td>0.029474</td>\n",
              "      <td>0.023217</td>\n",
              "      <td>-0.033737</td>\n",
              "      <td>-0.006495</td>\n",
              "      <td>1.000000</td>\n",
              "      <td>-0.145721</td>\n",
              "      <td>0.046432</td>\n",
              "    </tr>\n",
              "    <tr>\n",
              "      <th>YrSold</th>\n",
              "      <td>0.000712</td>\n",
              "      <td>-0.021407</td>\n",
              "      <td>0.007450</td>\n",
              "      <td>-0.014261</td>\n",
              "      <td>-0.027347</td>\n",
              "      <td>0.043950</td>\n",
              "      <td>-0.013618</td>\n",
              "      <td>0.035743</td>\n",
              "      <td>-0.008201</td>\n",
              "      <td>0.014359</td>\n",
              "      <td>...</td>\n",
              "      <td>0.022270</td>\n",
              "      <td>-0.057619</td>\n",
              "      <td>-0.009916</td>\n",
              "      <td>0.018645</td>\n",
              "      <td>0.010694</td>\n",
              "      <td>-0.059689</td>\n",
              "      <td>0.004906</td>\n",
              "      <td>-0.145721</td>\n",
              "      <td>1.000000</td>\n",
              "      <td>-0.028923</td>\n",
              "    </tr>\n",
              "    <tr>\n",
              "      <th>SalePrice</th>\n",
              "      <td>-0.021917</td>\n",
              "      <td>-0.084284</td>\n",
              "      <td>0.351799</td>\n",
              "      <td>0.263843</td>\n",
              "      <td>0.790982</td>\n",
              "      <td>-0.077856</td>\n",
              "      <td>0.522897</td>\n",
              "      <td>0.507101</td>\n",
              "      <td>0.477493</td>\n",
              "      <td>0.386420</td>\n",
              "      <td>...</td>\n",
              "      <td>0.324413</td>\n",
              "      <td>0.315856</td>\n",
              "      <td>-0.128578</td>\n",
              "      <td>0.044584</td>\n",
              "      <td>0.111447</td>\n",
              "      <td>0.092404</td>\n",
              "      <td>-0.021190</td>\n",
              "      <td>0.046432</td>\n",
              "      <td>-0.028923</td>\n",
              "      <td>1.000000</td>\n",
              "    </tr>\n",
              "  </tbody>\n",
              "</table>\n",
              "<p>38 rows × 38 columns</p>\n",
              "</div>\n",
              "      <button class=\"colab-df-convert\" onclick=\"convertToInteractive('df-1e00bdf9-c411-4ed9-941f-319fb41afd09')\"\n",
              "              title=\"Convert this dataframe to an interactive table.\"\n",
              "              style=\"display:none;\">\n",
              "        \n",
              "  <svg xmlns=\"http://www.w3.org/2000/svg\" height=\"24px\"viewBox=\"0 0 24 24\"\n",
              "       width=\"24px\">\n",
              "    <path d=\"M0 0h24v24H0V0z\" fill=\"none\"/>\n",
              "    <path d=\"M18.56 5.44l.94 2.06.94-2.06 2.06-.94-2.06-.94-.94-2.06-.94 2.06-2.06.94zm-11 1L8.5 8.5l.94-2.06 2.06-.94-2.06-.94L8.5 2.5l-.94 2.06-2.06.94zm10 10l.94 2.06.94-2.06 2.06-.94-2.06-.94-.94-2.06-.94 2.06-2.06.94z\"/><path d=\"M17.41 7.96l-1.37-1.37c-.4-.4-.92-.59-1.43-.59-.52 0-1.04.2-1.43.59L10.3 9.45l-7.72 7.72c-.78.78-.78 2.05 0 2.83L4 21.41c.39.39.9.59 1.41.59.51 0 1.02-.2 1.41-.59l7.78-7.78 2.81-2.81c.8-.78.8-2.07 0-2.86zM5.41 20L4 18.59l7.72-7.72 1.47 1.35L5.41 20z\"/>\n",
              "  </svg>\n",
              "      </button>\n",
              "      \n",
              "  <style>\n",
              "    .colab-df-container {\n",
              "      display:flex;\n",
              "      flex-wrap:wrap;\n",
              "      gap: 12px;\n",
              "    }\n",
              "\n",
              "    .colab-df-convert {\n",
              "      background-color: #E8F0FE;\n",
              "      border: none;\n",
              "      border-radius: 50%;\n",
              "      cursor: pointer;\n",
              "      display: none;\n",
              "      fill: #1967D2;\n",
              "      height: 32px;\n",
              "      padding: 0 0 0 0;\n",
              "      width: 32px;\n",
              "    }\n",
              "\n",
              "    .colab-df-convert:hover {\n",
              "      background-color: #E2EBFA;\n",
              "      box-shadow: 0px 1px 2px rgba(60, 64, 67, 0.3), 0px 1px 3px 1px rgba(60, 64, 67, 0.15);\n",
              "      fill: #174EA6;\n",
              "    }\n",
              "\n",
              "    [theme=dark] .colab-df-convert {\n",
              "      background-color: #3B4455;\n",
              "      fill: #D2E3FC;\n",
              "    }\n",
              "\n",
              "    [theme=dark] .colab-df-convert:hover {\n",
              "      background-color: #434B5C;\n",
              "      box-shadow: 0px 1px 3px 1px rgba(0, 0, 0, 0.15);\n",
              "      filter: drop-shadow(0px 1px 2px rgba(0, 0, 0, 0.3));\n",
              "      fill: #FFFFFF;\n",
              "    }\n",
              "  </style>\n",
              "\n",
              "      <script>\n",
              "        const buttonEl =\n",
              "          document.querySelector('#df-1e00bdf9-c411-4ed9-941f-319fb41afd09 button.colab-df-convert');\n",
              "        buttonEl.style.display =\n",
              "          google.colab.kernel.accessAllowed ? 'block' : 'none';\n",
              "\n",
              "        async function convertToInteractive(key) {\n",
              "          const element = document.querySelector('#df-1e00bdf9-c411-4ed9-941f-319fb41afd09');\n",
              "          const dataTable =\n",
              "            await google.colab.kernel.invokeFunction('convertToInteractive',\n",
              "                                                     [key], {});\n",
              "          if (!dataTable) return;\n",
              "\n",
              "          const docLinkHtml = 'Like what you see? Visit the ' +\n",
              "            '<a target=\"_blank\" href=https://colab.research.google.com/notebooks/data_table.ipynb>data table notebook</a>'\n",
              "            + ' to learn more about interactive tables.';\n",
              "          element.innerHTML = '';\n",
              "          dataTable['output_type'] = 'display_data';\n",
              "          await google.colab.output.renderOutput(dataTable, element);\n",
              "          const docLink = document.createElement('div');\n",
              "          docLink.innerHTML = docLinkHtml;\n",
              "          element.appendChild(docLink);\n",
              "        }\n",
              "      </script>\n",
              "    </div>\n",
              "  </div>\n",
              "  "
            ]
          },
          "metadata": {},
          "execution_count": 26
        }
      ]
    },
    {
      "cell_type": "code",
      "source": [
        "# 시각화 : heatmap 사용\n",
        "f, ax = plt.subplots(figsize=(12, 9))\n",
        "sns.heatmap(corrmat, vmax=0.8, square=True)"
      ],
      "metadata": {
        "colab": {
          "base_uri": "https://localhost:8080/",
          "height": 585
        },
        "id": "N6gfNGAujBEx",
        "outputId": "fecdc26c-60ad-48db-87ae-03b9af3ca3c5"
      },
      "execution_count": 27,
      "outputs": [
        {
          "output_type": "execute_result",
          "data": {
            "text/plain": [
              "<matplotlib.axes._subplots.AxesSubplot at 0x7fc015e7da60>"
            ]
          },
          "metadata": {},
          "execution_count": 27
        },
        {
          "output_type": "display_data",
          "data": {
            "text/plain": [
              "<Figure size 864x648 with 2 Axes>"
            ],
            "image/png": "[encoded data removed]"
          },
          "metadata": {
            "needs_background": "light"
          }
        }
      ]
    },
    {
      "cell_type": "code",
      "source": [
        "corrmat['SalePrice']"
      ],
      "metadata": {
        "colab": {
          "base_uri": "https://localhost:8080/"
        },
        "id": "9Fc9_ZYFkl9-",
        "outputId": "b6c4064c-0d50-4bd2-81db-d328ba7044b6"
      },
      "execution_count": 28,
      "outputs": [
        {
          "output_type": "execute_result",
          "data": {
            "text/plain": [
              "Id              -0.021917\n",
              "MSSubClass      -0.084284\n",
              "LotFrontage      0.351799\n",
              "LotArea          0.263843\n",
              "OverallQual      0.790982\n",
              "OverallCond     -0.077856\n",
              "YearBuilt        0.522897\n",
              "YearRemodAdd     0.507101\n",
              "MasVnrArea       0.477493\n",
              "BsmtFinSF1       0.386420\n",
              "BsmtFinSF2      -0.011378\n",
              "BsmtUnfSF        0.214479\n",
              "TotalBsmtSF      0.613581\n",
              "1stFlrSF         0.605852\n",
              "2ndFlrSF         0.319334\n",
              "LowQualFinSF    -0.025606\n",
              "GrLivArea        0.708624\n",
              "BsmtFullBath     0.227122\n",
              "BsmtHalfBath    -0.016844\n",
              "FullBath         0.560664\n",
              "HalfBath         0.284108\n",
              "BedroomAbvGr     0.168213\n",
              "KitchenAbvGr    -0.135907\n",
              "TotRmsAbvGrd     0.533723\n",
              "Fireplaces       0.466929\n",
              "GarageYrBlt      0.486362\n",
              "GarageCars       0.640409\n",
              "GarageArea       0.623431\n",
              "WoodDeckSF       0.324413\n",
              "OpenPorchSF      0.315856\n",
              "EnclosedPorch   -0.128578\n",
              "3SsnPorch        0.044584\n",
              "ScreenPorch      0.111447\n",
              "PoolArea         0.092404\n",
              "MiscVal         -0.021190\n",
              "MoSold           0.046432\n",
              "YrSold          -0.028923\n",
              "SalePrice        1.000000\n",
              "Name: SalePrice, dtype: float64"
            ]
          },
          "metadata": {},
          "execution_count": 28
        }
      ]
    },
    {
      "cell_type": "code",
      "source": [
        "# 상관관계가 높은 순서대로 sorting, 기준은 SalePrice\n",
        "#corrmat.sort_values(by=['SalePrice'])['SalePrice']"
      ],
      "metadata": {
        "id": "nyFserOlj5dD"
      },
      "execution_count": 29,
      "outputs": []
    },
    {
      "cell_type": "code",
      "source": [
        "# 1) SalePrice 기준으로 정리\n",
        "corrmat.sort_values(by=['SalePrice'])"
      ],
      "metadata": {
        "colab": {
          "base_uri": "https://localhost:8080/",
          "height": 1000
        },
        "id": "bYdAdZEUkzUz",
        "outputId": "778518b4-9356-4fa6-8c48-ab68729902a3"
      },
      "execution_count": 30,
      "outputs": [
        {
          "output_type": "execute_result",
          "data": {
            "text/plain": [
              "                     Id  MSSubClass  LotFrontage   LotArea  OverallQual  \\\n",
              "KitchenAbvGr   0.002951    0.281721    -0.006069 -0.017784    -0.183882   \n",
              "EnclosedPorch  0.002889   -0.012037     0.010700 -0.018340    -0.113937   \n",
              "MSSubClass     0.011156    1.000000    -0.386347 -0.139781     0.032628   \n",
              "OverallCond    0.012609   -0.059316    -0.059213 -0.005636    -0.091932   \n",
              "YrSold         0.000712   -0.021407     0.007450 -0.014261    -0.027347   \n",
              "LowQualFinSF  -0.044230    0.046474     0.038469  0.004779    -0.030429   \n",
              "Id             1.000000    0.011156    -0.010601 -0.033226    -0.028365   \n",
              "MiscVal       -0.006242   -0.007683     0.003368  0.038068    -0.031406   \n",
              "BsmtHalfBath  -0.020155   -0.002333    -0.007234  0.048046    -0.040150   \n",
              "BsmtFinSF2    -0.005968   -0.065649     0.049900  0.111170    -0.059119   \n",
              "3SsnPorch     -0.046635   -0.043825     0.070029  0.020423     0.030371   \n",
              "MoSold         0.021172   -0.013585     0.011200  0.001205     0.070815   \n",
              "PoolArea       0.057044    0.008283     0.206167  0.077672     0.065166   \n",
              "ScreenPorch    0.001330   -0.026030     0.041383  0.043160     0.064886   \n",
              "BedroomAbvGr   0.037719   -0.023438     0.263170  0.119690     0.101676   \n",
              "BsmtUnfSF     -0.007940   -0.140759     0.132644 -0.002618     0.308159   \n",
              "BsmtFullBath   0.002289    0.003491     0.100949  0.158155     0.111098   \n",
              "LotArea       -0.033226   -0.139781     0.426095  1.000000     0.105806   \n",
              "HalfBath       0.006784    0.177354     0.053532  0.014259     0.273458   \n",
              "OpenPorchSF   -0.000477   -0.006100     0.151972  0.084774     0.308819   \n",
              "2ndFlrSF       0.005590    0.307886     0.080177  0.050986     0.295493   \n",
              "WoodDeckSF    -0.029643   -0.012579     0.088521  0.171698     0.238923   \n",
              "LotFrontage   -0.010601   -0.386347     1.000000  0.426095     0.251646   \n",
              "BsmtFinSF1    -0.005024   -0.069836     0.233633  0.214103     0.239666   \n",
              "Fireplaces    -0.019772   -0.045569     0.266639  0.271364     0.396765   \n",
              "MasVnrArea    -0.050298    0.022936     0.193458  0.104160     0.411876   \n",
              "GarageYrBlt    0.000072    0.085072     0.070250 -0.024947     0.547766   \n",
              "YearRemodAdd  -0.021998    0.040581     0.088866  0.013788     0.550684   \n",
              "YearBuilt     -0.012713    0.027850     0.123349  0.014228     0.572323   \n",
              "TotRmsAbvGrd   0.027239    0.040380     0.352096  0.190015     0.427452   \n",
              "FullBath       0.005587    0.131608     0.198769  0.126031     0.550600   \n",
              "1stFlrSF       0.010496   -0.251758     0.457181  0.299475     0.476224   \n",
              "TotalBsmtSF   -0.015415   -0.238518     0.392075  0.260833     0.537808   \n",
              "GarageArea     0.017634   -0.098672     0.344997  0.180403     0.562022   \n",
              "GarageCars     0.016570   -0.040110     0.285691  0.154871     0.600671   \n",
              "GrLivArea      0.008273    0.074853     0.402797  0.263116     0.593007   \n",
              "OverallQual   -0.028365    0.032628     0.251646  0.105806     1.000000   \n",
              "SalePrice     -0.021917   -0.084284     0.351799  0.263843     0.790982   \n",
              "\n",
              "               OverallCond  YearBuilt  YearRemodAdd  MasVnrArea  BsmtFinSF1  \\\n",
              "KitchenAbvGr     -0.087001  -0.174800     -0.149598   -0.037610   -0.081007   \n",
              "EnclosedPorch     0.070356  -0.387268     -0.193919   -0.110204   -0.102303   \n",
              "MSSubClass       -0.059316   0.027850      0.040581    0.022936   -0.069836   \n",
              "OverallCond       1.000000  -0.375983      0.073741   -0.128101   -0.046231   \n",
              "YrSold            0.043950  -0.013618      0.035743   -0.008201    0.014359   \n",
              "LowQualFinSF      0.025494  -0.183784     -0.062419   -0.069071   -0.064503   \n",
              "Id                0.012609  -0.012713     -0.021998   -0.050298   -0.005024   \n",
              "MiscVal           0.068777  -0.034383     -0.010286   -0.029815    0.003571   \n",
              "BsmtHalfBath      0.117821  -0.038162     -0.012337    0.026673    0.067418   \n",
              "BsmtFinSF2        0.040229  -0.049107     -0.067759   -0.072319   -0.050117   \n",
              "3SsnPorch         0.025504   0.031355      0.045286    0.018796    0.026451   \n",
              "MoSold           -0.003511   0.012398      0.021490   -0.005965   -0.015727   \n",
              "PoolArea         -0.001985   0.004950      0.005829    0.011723    0.140491   \n",
              "ScreenPorch       0.054811  -0.050364     -0.038740    0.061466    0.062021   \n",
              "BedroomAbvGr      0.012980  -0.070651     -0.040581    0.102821   -0.107355   \n",
              "BsmtUnfSF        -0.136841   0.149040      0.181133    0.114442   -0.495251   \n",
              "BsmtFullBath     -0.054942   0.187599      0.119470    0.085310    0.649212   \n",
              "LotArea          -0.005636   0.014228      0.013788    0.104160    0.214103   \n",
              "HalfBath         -0.060769   0.242656      0.183331    0.201444    0.004262   \n",
              "OpenPorchSF      -0.032589   0.188686      0.226298    0.125703    0.111761   \n",
              "2ndFlrSF          0.028942   0.010308      0.140024    0.174561   -0.137079   \n",
              "WoodDeckSF       -0.003334   0.224880      0.205726    0.159718    0.204306   \n",
              "LotFrontage      -0.059213   0.123349      0.088866    0.193458    0.233633   \n",
              "BsmtFinSF1       -0.046231   0.249503      0.128451    0.264736    1.000000   \n",
              "Fireplaces       -0.023820   0.147716      0.112581    0.249070    0.260011   \n",
              "MasVnrArea       -0.128101   0.315707      0.179618    1.000000    0.264736   \n",
              "GarageYrBlt      -0.324297   0.825667      0.642277    0.252691    0.153484   \n",
              "YearRemodAdd      0.073741   0.592855      1.000000    0.179618    0.128451   \n",
              "YearBuilt        -0.375983   1.000000      0.592855    0.315707    0.249503   \n",
              "TotRmsAbvGrd     -0.057583   0.095589      0.191740    0.280682    0.044316   \n",
              "FullBath         -0.194149   0.468271      0.439046    0.276833    0.058543   \n",
              "1stFlrSF         -0.144203   0.281986      0.240379    0.344501    0.445863   \n",
              "TotalBsmtSF      -0.171098   0.391452      0.291066    0.363936    0.522396   \n",
              "GarageArea       -0.151521   0.478954      0.371600    0.373066    0.296970   \n",
              "GarageCars       -0.185758   0.537850      0.420622    0.364204    0.224054   \n",
              "GrLivArea        -0.079686   0.199010      0.287389    0.390857    0.208171   \n",
              "OverallQual      -0.091932   0.572323      0.550684    0.411876    0.239666   \n",
              "SalePrice        -0.077856   0.522897      0.507101    0.477493    0.386420   \n",
              "\n",
              "               ...  WoodDeckSF  OpenPorchSF  EnclosedPorch  3SsnPorch  \\\n",
              "KitchenAbvGr   ...   -0.090130    -0.070091       0.037312  -0.024600   \n",
              "EnclosedPorch  ...   -0.125989    -0.093079       1.000000  -0.037305   \n",
              "MSSubClass     ...   -0.012579    -0.006100      -0.012037  -0.043825   \n",
              "OverallCond    ...   -0.003334    -0.032589       0.070356   0.025504   \n",
              "YrSold         ...    0.022270    -0.057619      -0.009916   0.018645   \n",
              "LowQualFinSF   ...   -0.025444     0.018251       0.061081  -0.004296   \n",
              "Id             ...   -0.029643    -0.000477       0.002889  -0.046635   \n",
              "MiscVal        ...   -0.009551    -0.018584       0.018361   0.000354   \n",
              "BsmtHalfBath   ...    0.040161    -0.025324      -0.008555   0.035114   \n",
              "BsmtFinSF2     ...    0.067898     0.003093       0.036543  -0.029993   \n",
              "3SsnPorch      ...   -0.032771    -0.005842      -0.037305   1.000000   \n",
              "MoSold         ...    0.021011     0.071255      -0.028887   0.029474   \n",
              "PoolArea       ...    0.073378     0.060762       0.054203  -0.007992   \n",
              "ScreenPorch    ...   -0.074181     0.074304      -0.082864  -0.031436   \n",
              "BedroomAbvGr   ...    0.046854     0.093810       0.041570  -0.024478   \n",
              "BsmtUnfSF      ...   -0.005316     0.129005      -0.002538   0.020764   \n",
              "BsmtFullBath   ...    0.175315     0.067341      -0.049911  -0.000106   \n",
              "LotArea        ...    0.171698     0.084774      -0.018340   0.020423   \n",
              "HalfBath       ...    0.108080     0.199740      -0.095317  -0.004972   \n",
              "OpenPorchSF    ...    0.058661     1.000000      -0.093079  -0.005842   \n",
              "2ndFlrSF       ...    0.092165     0.208026       0.061989  -0.024358   \n",
              "WoodDeckSF     ...    1.000000     0.058661      -0.125989  -0.032771   \n",
              "LotFrontage    ...    0.088521     0.151972       0.010700   0.070029   \n",
              "BsmtFinSF1     ...    0.204306     0.111761      -0.102303   0.026451   \n",
              "Fireplaces     ...    0.200019     0.169405      -0.024822   0.011257   \n",
              "MasVnrArea     ...    0.159718     0.125703      -0.110204   0.018796   \n",
              "GarageYrBlt    ...    0.224577     0.228425      -0.297003   0.023544   \n",
              "YearRemodAdd   ...    0.205726     0.226298      -0.193919   0.045286   \n",
              "YearBuilt      ...    0.224880     0.188686      -0.387268   0.031355   \n",
              "TotRmsAbvGrd   ...    0.165984     0.234192       0.004151  -0.006683   \n",
              "FullBath       ...    0.187703     0.259977      -0.115093   0.035353   \n",
              "1stFlrSF       ...    0.235459     0.211671      -0.065292   0.056104   \n",
              "TotalBsmtSF    ...    0.232019     0.247264      -0.095478   0.037384   \n",
              "GarageArea     ...    0.224666     0.241435      -0.121777   0.035087   \n",
              "GarageCars     ...    0.226342     0.213569      -0.151434   0.035765   \n",
              "GrLivArea      ...    0.247433     0.330224       0.009113   0.020643   \n",
              "OverallQual    ...    0.238923     0.308819      -0.113937   0.030371   \n",
              "SalePrice      ...    0.324413     0.315856      -0.128578   0.044584   \n",
              "\n",
              "               ScreenPorch  PoolArea   MiscVal    MoSold    YrSold  SalePrice  \n",
              "KitchenAbvGr     -0.051613 -0.014525  0.062341  0.026589  0.031687  -0.135907  \n",
              "EnclosedPorch    -0.082864  0.054203  0.018361 -0.028887 -0.009916  -0.128578  \n",
              "MSSubClass       -0.026030  0.008283 -0.007683 -0.013585 -0.021407  -0.084284  \n",
              "OverallCond       0.054811 -0.001985  0.068777 -0.003511  0.043950  -0.077856  \n",
              "YrSold            0.010694 -0.059689  0.004906 -0.145721  1.000000  -0.028923  \n",
              "LowQualFinSF      0.026799  0.062157 -0.003793 -0.022174 -0.028921  -0.025606  \n",
              "Id                0.001330  0.057044 -0.006242  0.021172  0.000712  -0.021917  \n",
              "MiscVal           0.031946  0.029669  1.000000 -0.006495  0.004906  -0.021190  \n",
              "BsmtHalfBath      0.032121  0.020025 -0.007367  0.032873 -0.046524  -0.016844  \n",
              "BsmtFinSF2        0.088871  0.041709  0.004940 -0.015211  0.031706  -0.011378  \n",
              "3SsnPorch        -0.031436 -0.007992  0.000354  0.029474  0.018645   0.044584  \n",
              "MoSold            0.023217 -0.033737 -0.006495  1.000000 -0.145721   0.046432  \n",
              "PoolArea          0.051307  1.000000  0.029669 -0.033737 -0.059689   0.092404  \n",
              "ScreenPorch       1.000000  0.051307  0.031946  0.023217  0.010694   0.111447  \n",
              "BedroomAbvGr      0.044300  0.070703  0.007767  0.046544 -0.036014   0.168213  \n",
              "BsmtUnfSF        -0.012579 -0.035092 -0.023837  0.034888 -0.041258   0.214479  \n",
              "BsmtFullBath      0.023148  0.067616 -0.023047 -0.025361  0.067049   0.227122  \n",
              "LotArea           0.043160  0.077672  0.038068  0.001205 -0.014261   0.263843  \n",
              "HalfBath          0.072426  0.022381  0.001290 -0.009050 -0.010269   0.284108  \n",
              "OpenPorchSF       0.074304  0.060762 -0.018584  0.071255 -0.057619   0.315856  \n",
              "2ndFlrSF          0.040606  0.081487  0.016197  0.035164 -0.028700   0.319334  \n",
              "WoodDeckSF       -0.074181  0.073378 -0.009551  0.021011  0.022270   0.324413  \n",
              "LotFrontage       0.041383  0.206167  0.003368  0.011200  0.007450   0.351799  \n",
              "BsmtFinSF1        0.062021  0.140491  0.003571 -0.015727  0.014359   0.386420  \n",
              "Fireplaces        0.184530  0.095074  0.001409  0.046357 -0.024096   0.466929  \n",
              "MasVnrArea        0.061466  0.011723 -0.029815 -0.005965 -0.008201   0.477493  \n",
              "GarageYrBlt      -0.075418 -0.014501 -0.032417  0.005337 -0.001014   0.486362  \n",
              "YearRemodAdd     -0.038740  0.005829 -0.010286  0.021490  0.035743   0.507101  \n",
              "YearBuilt        -0.050364  0.004950 -0.034383  0.012398 -0.013618   0.522897  \n",
              "TotRmsAbvGrd      0.059383  0.083757  0.024763  0.036907 -0.034516   0.533723  \n",
              "FullBath         -0.008106  0.049604 -0.014290  0.055872 -0.019669   0.560664  \n",
              "1stFlrSF          0.088758  0.131525 -0.021096  0.031372 -0.013604   0.605852  \n",
              "TotalBsmtSF       0.084489  0.126053 -0.018479  0.013196 -0.014969   0.613581  \n",
              "GarageArea        0.051412  0.061047 -0.027400  0.027974 -0.027378   0.623431  \n",
              "GarageCars        0.050494  0.020934 -0.043080  0.040522 -0.039117   0.640409  \n",
              "GrLivArea         0.101510  0.170205 -0.002416  0.050240 -0.036526   0.708624  \n",
              "OverallQual       0.064886  0.065166 -0.031406  0.070815 -0.027347   0.790982  \n",
              "SalePrice         0.111447  0.092404 -0.021190  0.046432 -0.028923   1.000000  \n",
              "\n",
              "[38 rows x 38 columns]"
            ],
            "text/html": [
              "\n",
              "  <div id=\"df-526105c1-1948-4572-a78d-22d11e1e72ba\">\n",
              "    <div class=\"colab-df-container\">\n",
              "      <div>\n",
              "<style scoped>\n",
              "    .dataframe tbody tr th:only-of-type {\n",
              "        vertical-align: middle;\n",
              "    }\n",
              "\n",
              "    .dataframe tbody tr th {\n",
              "        vertical-align: top;\n",
              "    }\n",
              "\n",
              "    .dataframe thead th {\n",
              "        text-align: right;\n",
              "    }\n",
              "</style>\n",
              "<table border=\"1\" class=\"dataframe\">\n",
              "  <thead>\n",
              "    <tr style=\"text-align: right;\">\n",
              "      <th></th>\n",
              "      <th>Id</th>\n",
              "      <th>MSSubClass</th>\n",
              "      <th>LotFrontage</th>\n",
              "      <th>LotArea</th>\n",
              "      <th>OverallQual</th>\n",
              "      <th>OverallCond</th>\n",
              "      <th>YearBuilt</th>\n",
              "      <th>YearRemodAdd</th>\n",
              "      <th>MasVnrArea</th>\n",
              "      <th>BsmtFinSF1</th>\n",
              "      <th>...</th>\n",
              "      <th>WoodDeckSF</th>\n",
              "      <th>OpenPorchSF</th>\n",
              "      <th>EnclosedPorch</th>\n",
              "      <th>3SsnPorch</th>\n",
              "      <th>ScreenPorch</th>\n",
              "      <th>PoolArea</th>\n",
              "      <th>MiscVal</th>\n",
              "      <th>MoSold</th>\n",
              "      <th>YrSold</th>\n",
              "      <th>SalePrice</th>\n",
              "    </tr>\n",
              "  </thead>\n",
              "  <tbody>\n",
              "    <tr>\n",
              "      <th>KitchenAbvGr</th>\n",
              "      <td>0.002951</td>\n",
              "      <td>0.281721</td>\n",
              "      <td>-0.006069</td>\n",
              "      <td>-0.017784</td>\n",
              "      <td>-0.183882</td>\n",
              "      <td>-0.087001</td>\n",
              "      <td>-0.174800</td>\n",
              "      <td>-0.149598</td>\n",
              "      <td>-0.037610</td>\n",
              "      <td>-0.081007</td>\n",
              "      <td>...</td>\n",
              "      <td>-0.090130</td>\n",
              "      <td>-0.070091</td>\n",
              "      <td>0.037312</td>\n",
              "      <td>-0.024600</td>\n",
              "      <td>-0.051613</td>\n",
              "      <td>-0.014525</td>\n",
              "      <td>0.062341</td>\n",
              "      <td>0.026589</td>\n",
              "      <td>0.031687</td>\n",
              "      <td>-0.135907</td>\n",
              "    </tr>\n",
              "    <tr>\n",
              "      <th>EnclosedPorch</th>\n",
              "      <td>0.002889</td>\n",
              "      <td>-0.012037</td>\n",
              "      <td>0.010700</td>\n",
              "      <td>-0.018340</td>\n",
              "      <td>-0.113937</td>\n",
              "      <td>0.070356</td>\n",
              "      <td>-0.387268</td>\n",
              "      <td>-0.193919</td>\n",
              "      <td>-0.110204</td>\n",
              "      <td>-0.102303</td>\n",
              "      <td>...</td>\n",
              "      <td>-0.125989</td>\n",
              "      <td>-0.093079</td>\n",
              "      <td>1.000000</td>\n",
              "      <td>-0.037305</td>\n",
              "      <td>-0.082864</td>\n",
              "      <td>0.054203</td>\n",
              "      <td>0.018361</td>\n",
              "      <td>-0.028887</td>\n",
              "      <td>-0.009916</td>\n",
              "      <td>-0.128578</td>\n",
              "    </tr>\n",
              "    <tr>\n",
              "      <th>MSSubClass</th>\n",
              "      <td>0.011156</td>\n",
              "      <td>1.000000</td>\n",
              "      <td>-0.386347</td>\n",
              "      <td>-0.139781</td>\n",
              "      <td>0.032628</td>\n",
              "      <td>-0.059316</td>\n",
              "      <td>0.027850</td>\n",
              "      <td>0.040581</td>\n",
              "      <td>0.022936</td>\n",
              "      <td>-0.069836</td>\n",
              "      <td>...</td>\n",
              "      <td>-0.012579</td>\n",
              "      <td>-0.006100</td>\n",
              "      <td>-0.012037</td>\n",
              "      <td>-0.043825</td>\n",
              "      <td>-0.026030</td>\n",
              "      <td>0.008283</td>\n",
              "      <td>-0.007683</td>\n",
              "      <td>-0.013585</td>\n",
              "      <td>-0.021407</td>\n",
              "      <td>-0.084284</td>\n",
              "    </tr>\n",
              "    <tr>\n",
              "      <th>OverallCond</th>\n",
              "      <td>0.012609</td>\n",
              "      <td>-0.059316</td>\n",
              "      <td>-0.059213</td>\n",
              "      <td>-0.005636</td>\n",
              "      <td>-0.091932</td>\n",
              "      <td>1.000000</td>\n",
              "      <td>-0.375983</td>\n",
              "      <td>0.073741</td>\n",
              "      <td>-0.128101</td>\n",
              "      <td>-0.046231</td>\n",
              "      <td>...</td>\n",
              "      <td>-0.003334</td>\n",
              "      <td>-0.032589</td>\n",
              "      <td>0.070356</td>\n",
              "      <td>0.025504</td>\n",
              "      <td>0.054811</td>\n",
              "      <td>-0.001985</td>\n",
              "      <td>0.068777</td>\n",
              "      <td>-0.003511</td>\n",
              "      <td>0.043950</td>\n",
              "      <td>-0.077856</td>\n",
              "    </tr>\n",
              "    <tr>\n",
              "      <th>YrSold</th>\n",
              "      <td>0.000712</td>\n",
              "      <td>-0.021407</td>\n",
              "      <td>0.007450</td>\n",
              "      <td>-0.014261</td>\n",
              "      <td>-0.027347</td>\n",
              "      <td>0.043950</td>\n",
              "      <td>-0.013618</td>\n",
              "      <td>0.035743</td>\n",
              "      <td>-0.008201</td>\n",
              "      <td>0.014359</td>\n",
              "      <td>...</td>\n",
              "      <td>0.022270</td>\n",
              "      <td>-0.057619</td>\n",
              "      <td>-0.009916</td>\n",
              "      <td>0.018645</td>\n",
              "      <td>0.010694</td>\n",
              "      <td>-0.059689</td>\n",
              "      <td>0.004906</td>\n",
              "      <td>-0.145721</td>\n",
              "      <td>1.000000</td>\n",
              "      <td>-0.028923</td>\n",
              "    </tr>\n",
              "    <tr>\n",
              "      <th>LowQualFinSF</th>\n",
              "      <td>-0.044230</td>\n",
              "      <td>0.046474</td>\n",
              "      <td>0.038469</td>\n",
              "      <td>0.004779</td>\n",
              "      <td>-0.030429</td>\n",
              "      <td>0.025494</td>\n",
              "      <td>-0.183784</td>\n",
              "      <td>-0.062419</td>\n",
              "      <td>-0.069071</td>\n",
              "      <td>-0.064503</td>\n",
              "      <td>...</td>\n",
              "      <td>-0.025444</td>\n",
              "      <td>0.018251</td>\n",
              "      <td>0.061081</td>\n",
              "      <td>-0.004296</td>\n",
              "      <td>0.026799</td>\n",
              "      <td>0.062157</td>\n",
              "      <td>-0.003793</td>\n",
              "      <td>-0.022174</td>\n",
              "      <td>-0.028921</td>\n",
              "      <td>-0.025606</td>\n",
              "    </tr>\n",
              "    <tr>\n",
              "      <th>Id</th>\n",
              "      <td>1.000000</td>\n",
              "      <td>0.011156</td>\n",
              "      <td>-0.010601</td>\n",
              "      <td>-0.033226</td>\n",
              "      <td>-0.028365</td>\n",
              "      <td>0.012609</td>\n",
              "      <td>-0.012713</td>\n",
              "      <td>-0.021998</td>\n",
              "      <td>-0.050298</td>\n",
              "      <td>-0.005024</td>\n",
              "      <td>...</td>\n",
              "      <td>-0.029643</td>\n",
              "      <td>-0.000477</td>\n",
              "      <td>0.002889</td>\n",
              "      <td>-0.046635</td>\n",
              "      <td>0.001330</td>\n",
              "      <td>0.057044</td>\n",
              "      <td>-0.006242</td>\n",
              "      <td>0.021172</td>\n",
              "      <td>0.000712</td>\n",
              "      <td>-0.021917</td>\n",
              "    </tr>\n",
              "    <tr>\n",
              "      <th>MiscVal</th>\n",
              "      <td>-0.006242</td>\n",
              "      <td>-0.007683</td>\n",
              "      <td>0.003368</td>\n",
              "      <td>0.038068</td>\n",
              "      <td>-0.031406</td>\n",
              "      <td>0.068777</td>\n",
              "      <td>-0.034383</td>\n",
              "      <td>-0.010286</td>\n",
              "      <td>-0.029815</td>\n",
              "      <td>0.003571</td>\n",
              "      <td>...</td>\n",
              "      <td>-0.009551</td>\n",
              "      <td>-0.018584</td>\n",
              "      <td>0.018361</td>\n",
              "      <td>0.000354</td>\n",
              "      <td>0.031946</td>\n",
              "      <td>0.029669</td>\n",
              "      <td>1.000000</td>\n",
              "      <td>-0.006495</td>\n",
              "      <td>0.004906</td>\n",
              "      <td>-0.021190</td>\n",
              "    </tr>\n",
              "    <tr>\n",
              "      <th>BsmtHalfBath</th>\n",
              "      <td>-0.020155</td>\n",
              "      <td>-0.002333</td>\n",
              "      <td>-0.007234</td>\n",
              "      <td>0.048046</td>\n",
              "      <td>-0.040150</td>\n",
              "      <td>0.117821</td>\n",
              "      <td>-0.038162</td>\n",
              "      <td>-0.012337</td>\n",
              "      <td>0.026673</td>\n",
              "      <td>0.067418</td>\n",
              "      <td>...</td>\n",
              "      <td>0.040161</td>\n",
              "      <td>-0.025324</td>\n",
              "      <td>-0.008555</td>\n",
              "      <td>0.035114</td>\n",
              "      <td>0.032121</td>\n",
              "      <td>0.020025</td>\n",
              "      <td>-0.007367</td>\n",
              "      <td>0.032873</td>\n",
              "      <td>-0.046524</td>\n",
              "      <td>-0.016844</td>\n",
              "    </tr>\n",
              "    <tr>\n",
              "      <th>BsmtFinSF2</th>\n",
              "      <td>-0.005968</td>\n",
              "      <td>-0.065649</td>\n",
              "      <td>0.049900</td>\n",
              "      <td>0.111170</td>\n",
              "      <td>-0.059119</td>\n",
              "      <td>0.040229</td>\n",
              "      <td>-0.049107</td>\n",
              "      <td>-0.067759</td>\n",
              "      <td>-0.072319</td>\n",
              "      <td>-0.050117</td>\n",
              "      <td>...</td>\n",
              "      <td>0.067898</td>\n",
              "      <td>0.003093</td>\n",
              "      <td>0.036543</td>\n",
              "      <td>-0.029993</td>\n",
              "      <td>0.088871</td>\n",
              "      <td>0.041709</td>\n",
              "      <td>0.004940</td>\n",
              "      <td>-0.015211</td>\n",
              "      <td>0.031706</td>\n",
              "      <td>-0.011378</td>\n",
              "    </tr>\n",
              "    <tr>\n",
              "      <th>3SsnPorch</th>\n",
              "      <td>-0.046635</td>\n",
              "      <td>-0.043825</td>\n",
              "      <td>0.070029</td>\n",
              "      <td>0.020423</td>\n",
              "      <td>0.030371</td>\n",
              "      <td>0.025504</td>\n",
              "      <td>0.031355</td>\n",
              "      <td>0.045286</td>\n",
              "      <td>0.018796</td>\n",
              "      <td>0.026451</td>\n",
              "      <td>...</td>\n",
              "      <td>-0.032771</td>\n",
              "      <td>-0.005842</td>\n",
              "      <td>-0.037305</td>\n",
              "      <td>1.000000</td>\n",
              "      <td>-0.031436</td>\n",
              "      <td>-0.007992</td>\n",
              "      <td>0.000354</td>\n",
              "      <td>0.029474</td>\n",
              "      <td>0.018645</td>\n",
              "      <td>0.044584</td>\n",
              "    </tr>\n",
              "    <tr>\n",
              "      <th>MoSold</th>\n",
              "      <td>0.021172</td>\n",
              "      <td>-0.013585</td>\n",
              "      <td>0.011200</td>\n",
              "      <td>0.001205</td>\n",
              "      <td>0.070815</td>\n",
              "      <td>-0.003511</td>\n",
              "      <td>0.012398</td>\n",
              "      <td>0.021490</td>\n",
              "      <td>-0.005965</td>\n",
              "      <td>-0.015727</td>\n",
              "      <td>...</td>\n",
              "      <td>0.021011</td>\n",
              "      <td>0.071255</td>\n",
              "      <td>-0.028887</td>\n",
              "      <td>0.029474</td>\n",
              "      <td>0.023217</td>\n",
              "      <td>-0.033737</td>\n",
              "      <td>-0.006495</td>\n",
              "      <td>1.000000</td>\n",
              "      <td>-0.145721</td>\n",
              "      <td>0.046432</td>\n",
              "    </tr>\n",
              "    <tr>\n",
              "      <th>PoolArea</th>\n",
              "      <td>0.057044</td>\n",
              "      <td>0.008283</td>\n",
              "      <td>0.206167</td>\n",
              "      <td>0.077672</td>\n",
              "      <td>0.065166</td>\n",
              "      <td>-0.001985</td>\n",
              "      <td>0.004950</td>\n",
              "      <td>0.005829</td>\n",
              "      <td>0.011723</td>\n",
              "      <td>0.140491</td>\n",
              "      <td>...</td>\n",
              "      <td>0.073378</td>\n",
              "      <td>0.060762</td>\n",
              "      <td>0.054203</td>\n",
              "      <td>-0.007992</td>\n",
              "      <td>0.051307</td>\n",
              "      <td>1.000000</td>\n",
              "      <td>0.029669</td>\n",
              "      <td>-0.033737</td>\n",
              "      <td>-0.059689</td>\n",
              "      <td>0.092404</td>\n",
              "    </tr>\n",
              "    <tr>\n",
              "      <th>ScreenPorch</th>\n",
              "      <td>0.001330</td>\n",
              "      <td>-0.026030</td>\n",
              "      <td>0.041383</td>\n",
              "      <td>0.043160</td>\n",
              "      <td>0.064886</td>\n",
              "      <td>0.054811</td>\n",
              "      <td>-0.050364</td>\n",
              "      <td>-0.038740</td>\n",
              "      <td>0.061466</td>\n",
              "      <td>0.062021</td>\n",
              "      <td>...</td>\n",
              "      <td>-0.074181</td>\n",
              "      <td>0.074304</td>\n",
              "      <td>-0.082864</td>\n",
              "      <td>-0.031436</td>\n",
              "      <td>1.000000</td>\n",
              "      <td>0.051307</td>\n",
              "      <td>0.031946</td>\n",
              "      <td>0.023217</td>\n",
              "      <td>0.010694</td>\n",
              "      <td>0.111447</td>\n",
              "    </tr>\n",
              "    <tr>\n",
              "      <th>BedroomAbvGr</th>\n",
              "      <td>0.037719</td>\n",
              "      <td>-0.023438</td>\n",
              "      <td>0.263170</td>\n",
              "      <td>0.119690</td>\n",
              "      <td>0.101676</td>\n",
              "      <td>0.012980</td>\n",
              "      <td>-0.070651</td>\n",
              "      <td>-0.040581</td>\n",
              "      <td>0.102821</td>\n",
              "      <td>-0.107355</td>\n",
              "      <td>...</td>\n",
              "      <td>0.046854</td>\n",
              "      <td>0.093810</td>\n",
              "      <td>0.041570</td>\n",
              "      <td>-0.024478</td>\n",
              "      <td>0.044300</td>\n",
              "      <td>0.070703</td>\n",
              "      <td>0.007767</td>\n",
              "      <td>0.046544</td>\n",
              "      <td>-0.036014</td>\n",
              "      <td>0.168213</td>\n",
              "    </tr>\n",
              "    <tr>\n",
              "      <th>BsmtUnfSF</th>\n",
              "      <td>-0.007940</td>\n",
              "      <td>-0.140759</td>\n",
              "      <td>0.132644</td>\n",
              "      <td>-0.002618</td>\n",
              "      <td>0.308159</td>\n",
              "      <td>-0.136841</td>\n",
              "      <td>0.149040</td>\n",
              "      <td>0.181133</td>\n",
              "      <td>0.114442</td>\n",
              "      <td>-0.495251</td>\n",
              "      <td>...</td>\n",
              "      <td>-0.005316</td>\n",
              "      <td>0.129005</td>\n",
              "      <td>-0.002538</td>\n",
              "      <td>0.020764</td>\n",
              "      <td>-0.012579</td>\n",
              "      <td>-0.035092</td>\n",
              "      <td>-0.023837</td>\n",
              "      <td>0.034888</td>\n",
              "      <td>-0.041258</td>\n",
              "      <td>0.214479</td>\n",
              "    </tr>\n",
              "    <tr>\n",
              "      <th>BsmtFullBath</th>\n",
              "      <td>0.002289</td>\n",
              "      <td>0.003491</td>\n",
              "      <td>0.100949</td>\n",
              "      <td>0.158155</td>\n",
              "      <td>0.111098</td>\n",
              "      <td>-0.054942</td>\n",
              "      <td>0.187599</td>\n",
              "      <td>0.119470</td>\n",
              "      <td>0.085310</td>\n",
              "      <td>0.649212</td>\n",
              "      <td>...</td>\n",
              "      <td>0.175315</td>\n",
              "      <td>0.067341</td>\n",
              "      <td>-0.049911</td>\n",
              "      <td>-0.000106</td>\n",
              "      <td>0.023148</td>\n",
              "      <td>0.067616</td>\n",
              "      <td>-0.023047</td>\n",
              "      <td>-0.025361</td>\n",
              "      <td>0.067049</td>\n",
              "      <td>0.227122</td>\n",
              "    </tr>\n",
              "    <tr>\n",
              "      <th>LotArea</th>\n",
              "      <td>-0.033226</td>\n",
              "      <td>-0.139781</td>\n",
              "      <td>0.426095</td>\n",
              "      <td>1.000000</td>\n",
              "      <td>0.105806</td>\n",
              "      <td>-0.005636</td>\n",
              "      <td>0.014228</td>\n",
              "      <td>0.013788</td>\n",
              "      <td>0.104160</td>\n",
              "      <td>0.214103</td>\n",
              "      <td>...</td>\n",
              "      <td>0.171698</td>\n",
              "      <td>0.084774</td>\n",
              "      <td>-0.018340</td>\n",
              "      <td>0.020423</td>\n",
              "      <td>0.043160</td>\n",
              "      <td>0.077672</td>\n",
              "      <td>0.038068</td>\n",
              "      <td>0.001205</td>\n",
              "      <td>-0.014261</td>\n",
              "      <td>0.263843</td>\n",
              "    </tr>\n",
              "    <tr>\n",
              "      <th>HalfBath</th>\n",
              "      <td>0.006784</td>\n",
              "      <td>0.177354</td>\n",
              "      <td>0.053532</td>\n",
              "      <td>0.014259</td>\n",
              "      <td>0.273458</td>\n",
              "      <td>-0.060769</td>\n",
              "      <td>0.242656</td>\n",
              "      <td>0.183331</td>\n",
              "      <td>0.201444</td>\n",
              "      <td>0.004262</td>\n",
              "      <td>...</td>\n",
              "      <td>0.108080</td>\n",
              "      <td>0.199740</td>\n",
              "      <td>-0.095317</td>\n",
              "      <td>-0.004972</td>\n",
              "      <td>0.072426</td>\n",
              "      <td>0.022381</td>\n",
              "      <td>0.001290</td>\n",
              "      <td>-0.009050</td>\n",
              "      <td>-0.010269</td>\n",
              "      <td>0.284108</td>\n",
              "    </tr>\n",
              "    <tr>\n",
              "      <th>OpenPorchSF</th>\n",
              "      <td>-0.000477</td>\n",
              "      <td>-0.006100</td>\n",
              "      <td>0.151972</td>\n",
              "      <td>0.084774</td>\n",
              "      <td>0.308819</td>\n",
              "      <td>-0.032589</td>\n",
              "      <td>0.188686</td>\n",
              "      <td>0.226298</td>\n",
              "      <td>0.125703</td>\n",
              "      <td>0.111761</td>\n",
              "      <td>...</td>\n",
              "      <td>0.058661</td>\n",
              "      <td>1.000000</td>\n",
              "      <td>-0.093079</td>\n",
              "      <td>-0.005842</td>\n",
              "      <td>0.074304</td>\n",
              "      <td>0.060762</td>\n",
              "      <td>-0.018584</td>\n",
              "      <td>0.071255</td>\n",
              "      <td>-0.057619</td>\n",
              "      <td>0.315856</td>\n",
              "    </tr>\n",
              "    <tr>\n",
              "      <th>2ndFlrSF</th>\n",
              "      <td>0.005590</td>\n",
              "      <td>0.307886</td>\n",
              "      <td>0.080177</td>\n",
              "      <td>0.050986</td>\n",
              "      <td>0.295493</td>\n",
              "      <td>0.028942</td>\n",
              "      <td>0.010308</td>\n",
              "      <td>0.140024</td>\n",
              "      <td>0.174561</td>\n",
              "      <td>-0.137079</td>\n",
              "      <td>...</td>\n",
              "      <td>0.092165</td>\n",
              "      <td>0.208026</td>\n",
              "      <td>0.061989</td>\n",
              "      <td>-0.024358</td>\n",
              "      <td>0.040606</td>\n",
              "      <td>0.081487</td>\n",
              "      <td>0.016197</td>\n",
              "      <td>0.035164</td>\n",
              "      <td>-0.028700</td>\n",
              "      <td>0.319334</td>\n",
              "    </tr>\n",
              "    <tr>\n",
              "      <th>WoodDeckSF</th>\n",
              "      <td>-0.029643</td>\n",
              "      <td>-0.012579</td>\n",
              "      <td>0.088521</td>\n",
              "      <td>0.171698</td>\n",
              "      <td>0.238923</td>\n",
              "      <td>-0.003334</td>\n",
              "      <td>0.224880</td>\n",
              "      <td>0.205726</td>\n",
              "      <td>0.159718</td>\n",
              "      <td>0.204306</td>\n",
              "      <td>...</td>\n",
              "      <td>1.000000</td>\n",
              "      <td>0.058661</td>\n",
              "      <td>-0.125989</td>\n",
              "      <td>-0.032771</td>\n",
              "      <td>-0.074181</td>\n",
              "      <td>0.073378</td>\n",
              "      <td>-0.009551</td>\n",
              "      <td>0.021011</td>\n",
              "      <td>0.022270</td>\n",
              "      <td>0.324413</td>\n",
              "    </tr>\n",
              "    <tr>\n",
              "      <th>LotFrontage</th>\n",
              "      <td>-0.010601</td>\n",
              "      <td>-0.386347</td>\n",
              "      <td>1.000000</td>\n",
              "      <td>0.426095</td>\n",
              "      <td>0.251646</td>\n",
              "      <td>-0.059213</td>\n",
              "      <td>0.123349</td>\n",
              "      <td>0.088866</td>\n",
              "      <td>0.193458</td>\n",
              "      <td>0.233633</td>\n",
              "      <td>...</td>\n",
              "      <td>0.088521</td>\n",
              "      <td>0.151972</td>\n",
              "      <td>0.010700</td>\n",
              "      <td>0.070029</td>\n",
              "      <td>0.041383</td>\n",
              "      <td>0.206167</td>\n",
              "      <td>0.003368</td>\n",
              "      <td>0.011200</td>\n",
              "      <td>0.007450</td>\n",
              "      <td>0.351799</td>\n",
              "    </tr>\n",
              "    <tr>\n",
              "      <th>BsmtFinSF1</th>\n",
              "      <td>-0.005024</td>\n",
              "      <td>-0.069836</td>\n",
              "      <td>0.233633</td>\n",
              "      <td>0.214103</td>\n",
              "      <td>0.239666</td>\n",
              "      <td>-0.046231</td>\n",
              "      <td>0.249503</td>\n",
              "      <td>0.128451</td>\n",
              "      <td>0.264736</td>\n",
              "      <td>1.000000</td>\n",
              "      <td>...</td>\n",
              "      <td>0.204306</td>\n",
              "      <td>0.111761</td>\n",
              "      <td>-0.102303</td>\n",
              "      <td>0.026451</td>\n",
              "      <td>0.062021</td>\n",
              "      <td>0.140491</td>\n",
              "      <td>0.003571</td>\n",
              "      <td>-0.015727</td>\n",
              "      <td>0.014359</td>\n",
              "      <td>0.386420</td>\n",
              "    </tr>\n",
              "    <tr>\n",
              "      <th>Fireplaces</th>\n",
              "      <td>-0.019772</td>\n",
              "      <td>-0.045569</td>\n",
              "      <td>0.266639</td>\n",
              "      <td>0.271364</td>\n",
              "      <td>0.396765</td>\n",
              "      <td>-0.023820</td>\n",
              "      <td>0.147716</td>\n",
              "      <td>0.112581</td>\n",
              "      <td>0.249070</td>\n",
              "      <td>0.260011</td>\n",
              "      <td>...</td>\n",
              "      <td>0.200019</td>\n",
              "      <td>0.169405</td>\n",
              "      <td>-0.024822</td>\n",
              "      <td>0.011257</td>\n",
              "      <td>0.184530</td>\n",
              "      <td>0.095074</td>\n",
              "      <td>0.001409</td>\n",
              "      <td>0.046357</td>\n",
              "      <td>-0.024096</td>\n",
              "      <td>0.466929</td>\n",
              "    </tr>\n",
              "    <tr>\n",
              "      <th>MasVnrArea</th>\n",
              "      <td>-0.050298</td>\n",
              "      <td>0.022936</td>\n",
              "      <td>0.193458</td>\n",
              "      <td>0.104160</td>\n",
              "      <td>0.411876</td>\n",
              "      <td>-0.128101</td>\n",
              "      <td>0.315707</td>\n",
              "      <td>0.179618</td>\n",
              "      <td>1.000000</td>\n",
              "      <td>0.264736</td>\n",
              "      <td>...</td>\n",
              "      <td>0.159718</td>\n",
              "      <td>0.125703</td>\n",
              "      <td>-0.110204</td>\n",
              "      <td>0.018796</td>\n",
              "      <td>0.061466</td>\n",
              "      <td>0.011723</td>\n",
              "      <td>-0.029815</td>\n",
              "      <td>-0.005965</td>\n",
              "      <td>-0.008201</td>\n",
              "      <td>0.477493</td>\n",
              "    </tr>\n",
              "    <tr>\n",
              "      <th>GarageYrBlt</th>\n",
              "      <td>0.000072</td>\n",
              "      <td>0.085072</td>\n",
              "      <td>0.070250</td>\n",
              "      <td>-0.024947</td>\n",
              "      <td>0.547766</td>\n",
              "      <td>-0.324297</td>\n",
              "      <td>0.825667</td>\n",
              "      <td>0.642277</td>\n",
              "      <td>0.252691</td>\n",
              "      <td>0.153484</td>\n",
              "      <td>...</td>\n",
              "      <td>0.224577</td>\n",
              "      <td>0.228425</td>\n",
              "      <td>-0.297003</td>\n",
              "      <td>0.023544</td>\n",
              "      <td>-0.075418</td>\n",
              "      <td>-0.014501</td>\n",
              "      <td>-0.032417</td>\n",
              "      <td>0.005337</td>\n",
              "      <td>-0.001014</td>\n",
              "      <td>0.486362</td>\n",
              "    </tr>\n",
              "    <tr>\n",
              "      <th>YearRemodAdd</th>\n",
              "      <td>-0.021998</td>\n",
              "      <td>0.040581</td>\n",
              "      <td>0.088866</td>\n",
              "      <td>0.013788</td>\n",
              "      <td>0.550684</td>\n",
              "      <td>0.073741</td>\n",
              "      <td>0.592855</td>\n",
              "      <td>1.000000</td>\n",
              "      <td>0.179618</td>\n",
              "      <td>0.128451</td>\n",
              "      <td>...</td>\n",
              "      <td>0.205726</td>\n",
              "      <td>0.226298</td>\n",
              "      <td>-0.193919</td>\n",
              "      <td>0.045286</td>\n",
              "      <td>-0.038740</td>\n",
              "      <td>0.005829</td>\n",
              "      <td>-0.010286</td>\n",
              "      <td>0.021490</td>\n",
              "      <td>0.035743</td>\n",
              "      <td>0.507101</td>\n",
              "    </tr>\n",
              "    <tr>\n",
              "      <th>YearBuilt</th>\n",
              "      <td>-0.012713</td>\n",
              "      <td>0.027850</td>\n",
              "      <td>0.123349</td>\n",
              "      <td>0.014228</td>\n",
              "      <td>0.572323</td>\n",
              "      <td>-0.375983</td>\n",
              "      <td>1.000000</td>\n",
              "      <td>0.592855</td>\n",
              "      <td>0.315707</td>\n",
              "      <td>0.249503</td>\n",
              "      <td>...</td>\n",
              "      <td>0.224880</td>\n",
              "      <td>0.188686</td>\n",
              "      <td>-0.387268</td>\n",
              "      <td>0.031355</td>\n",
              "      <td>-0.050364</td>\n",
              "      <td>0.004950</td>\n",
              "      <td>-0.034383</td>\n",
              "      <td>0.012398</td>\n",
              "      <td>-0.013618</td>\n",
              "      <td>0.522897</td>\n",
              "    </tr>\n",
              "    <tr>\n",
              "      <th>TotRmsAbvGrd</th>\n",
              "      <td>0.027239</td>\n",
              "      <td>0.040380</td>\n",
              "      <td>0.352096</td>\n",
              "      <td>0.190015</td>\n",
              "      <td>0.427452</td>\n",
              "      <td>-0.057583</td>\n",
              "      <td>0.095589</td>\n",
              "      <td>0.191740</td>\n",
              "      <td>0.280682</td>\n",
              "      <td>0.044316</td>\n",
              "      <td>...</td>\n",
              "      <td>0.165984</td>\n",
              "      <td>0.234192</td>\n",
              "      <td>0.004151</td>\n",
              "      <td>-0.006683</td>\n",
              "      <td>0.059383</td>\n",
              "      <td>0.083757</td>\n",
              "      <td>0.024763</td>\n",
              "      <td>0.036907</td>\n",
              "      <td>-0.034516</td>\n",
              "      <td>0.533723</td>\n",
              "    </tr>\n",
              "    <tr>\n",
              "      <th>FullBath</th>\n",
              "      <td>0.005587</td>\n",
              "      <td>0.131608</td>\n",
              "      <td>0.198769</td>\n",
              "      <td>0.126031</td>\n",
              "      <td>0.550600</td>\n",
              "      <td>-0.194149</td>\n",
              "      <td>0.468271</td>\n",
              "      <td>0.439046</td>\n",
              "      <td>0.276833</td>\n",
              "      <td>0.058543</td>\n",
              "      <td>...</td>\n",
              "      <td>0.187703</td>\n",
              "      <td>0.259977</td>\n",
              "      <td>-0.115093</td>\n",
              "      <td>0.035353</td>\n",
              "      <td>-0.008106</td>\n",
              "      <td>0.049604</td>\n",
              "      <td>-0.014290</td>\n",
              "      <td>0.055872</td>\n",
              "      <td>-0.019669</td>\n",
              "      <td>0.560664</td>\n",
              "    </tr>\n",
              "    <tr>\n",
              "      <th>1stFlrSF</th>\n",
              "      <td>0.010496</td>\n",
              "      <td>-0.251758</td>\n",
              "      <td>0.457181</td>\n",
              "      <td>0.299475</td>\n",
              "      <td>0.476224</td>\n",
              "      <td>-0.144203</td>\n",
              "      <td>0.281986</td>\n",
              "      <td>0.240379</td>\n",
              "      <td>0.344501</td>\n",
              "      <td>0.445863</td>\n",
              "      <td>...</td>\n",
              "      <td>0.235459</td>\n",
              "      <td>0.211671</td>\n",
              "      <td>-0.065292</td>\n",
              "      <td>0.056104</td>\n",
              "      <td>0.088758</td>\n",
              "      <td>0.131525</td>\n",
              "      <td>-0.021096</td>\n",
              "      <td>0.031372</td>\n",
              "      <td>-0.013604</td>\n",
              "      <td>0.605852</td>\n",
              "    </tr>\n",
              "    <tr>\n",
              "      <th>TotalBsmtSF</th>\n",
              "      <td>-0.015415</td>\n",
              "      <td>-0.238518</td>\n",
              "      <td>0.392075</td>\n",
              "      <td>0.260833</td>\n",
              "      <td>0.537808</td>\n",
              "      <td>-0.171098</td>\n",
              "      <td>0.391452</td>\n",
              "      <td>0.291066</td>\n",
              "      <td>0.363936</td>\n",
              "      <td>0.522396</td>\n",
              "      <td>...</td>\n",
              "      <td>0.232019</td>\n",
              "      <td>0.247264</td>\n",
              "      <td>-0.095478</td>\n",
              "      <td>0.037384</td>\n",
              "      <td>0.084489</td>\n",
              "      <td>0.126053</td>\n",
              "      <td>-0.018479</td>\n",
              "      <td>0.013196</td>\n",
              "      <td>-0.014969</td>\n",
              "      <td>0.613581</td>\n",
              "    </tr>\n",
              "    <tr>\n",
              "      <th>GarageArea</th>\n",
              "      <td>0.017634</td>\n",
              "      <td>-0.098672</td>\n",
              "      <td>0.344997</td>\n",
              "      <td>0.180403</td>\n",
              "      <td>0.562022</td>\n",
              "      <td>-0.151521</td>\n",
              "      <td>0.478954</td>\n",
              "      <td>0.371600</td>\n",
              "      <td>0.373066</td>\n",
              "      <td>0.296970</td>\n",
              "      <td>...</td>\n",
              "      <td>0.224666</td>\n",
              "      <td>0.241435</td>\n",
              "      <td>-0.121777</td>\n",
              "      <td>0.035087</td>\n",
              "      <td>0.051412</td>\n",
              "      <td>0.061047</td>\n",
              "      <td>-0.027400</td>\n",
              "      <td>0.027974</td>\n",
              "      <td>-0.027378</td>\n",
              "      <td>0.623431</td>\n",
              "    </tr>\n",
              "    <tr>\n",
              "      <th>GarageCars</th>\n",
              "      <td>0.016570</td>\n",
              "      <td>-0.040110</td>\n",
              "      <td>0.285691</td>\n",
              "      <td>0.154871</td>\n",
              "      <td>0.600671</td>\n",
              "      <td>-0.185758</td>\n",
              "      <td>0.537850</td>\n",
              "      <td>0.420622</td>\n",
              "      <td>0.364204</td>\n",
              "      <td>0.224054</td>\n",
              "      <td>...</td>\n",
              "      <td>0.226342</td>\n",
              "      <td>0.213569</td>\n",
              "      <td>-0.151434</td>\n",
              "      <td>0.035765</td>\n",
              "      <td>0.050494</td>\n",
              "      <td>0.020934</td>\n",
              "      <td>-0.043080</td>\n",
              "      <td>0.040522</td>\n",
              "      <td>-0.039117</td>\n",
              "      <td>0.640409</td>\n",
              "    </tr>\n",
              "    <tr>\n",
              "      <th>GrLivArea</th>\n",
              "      <td>0.008273</td>\n",
              "      <td>0.074853</td>\n",
              "      <td>0.402797</td>\n",
              "      <td>0.263116</td>\n",
              "      <td>0.593007</td>\n",
              "      <td>-0.079686</td>\n",
              "      <td>0.199010</td>\n",
              "      <td>0.287389</td>\n",
              "      <td>0.390857</td>\n",
              "      <td>0.208171</td>\n",
              "      <td>...</td>\n",
              "      <td>0.247433</td>\n",
              "      <td>0.330224</td>\n",
              "      <td>0.009113</td>\n",
              "      <td>0.020643</td>\n",
              "      <td>0.101510</td>\n",
              "      <td>0.170205</td>\n",
              "      <td>-0.002416</td>\n",
              "      <td>0.050240</td>\n",
              "      <td>-0.036526</td>\n",
              "      <td>0.708624</td>\n",
              "    </tr>\n",
              "    <tr>\n",
              "      <th>OverallQual</th>\n",
              "      <td>-0.028365</td>\n",
              "      <td>0.032628</td>\n",
              "      <td>0.251646</td>\n",
              "      <td>0.105806</td>\n",
              "      <td>1.000000</td>\n",
              "      <td>-0.091932</td>\n",
              "      <td>0.572323</td>\n",
              "      <td>0.550684</td>\n",
              "      <td>0.411876</td>\n",
              "      <td>0.239666</td>\n",
              "      <td>...</td>\n",
              "      <td>0.238923</td>\n",
              "      <td>0.308819</td>\n",
              "      <td>-0.113937</td>\n",
              "      <td>0.030371</td>\n",
              "      <td>0.064886</td>\n",
              "      <td>0.065166</td>\n",
              "      <td>-0.031406</td>\n",
              "      <td>0.070815</td>\n",
              "      <td>-0.027347</td>\n",
              "      <td>0.790982</td>\n",
              "    </tr>\n",
              "    <tr>\n",
              "      <th>SalePrice</th>\n",
              "      <td>-0.021917</td>\n",
              "      <td>-0.084284</td>\n",
              "      <td>0.351799</td>\n",
              "      <td>0.263843</td>\n",
              "      <td>0.790982</td>\n",
              "      <td>-0.077856</td>\n",
              "      <td>0.522897</td>\n",
              "      <td>0.507101</td>\n",
              "      <td>0.477493</td>\n",
              "      <td>0.386420</td>\n",
              "      <td>...</td>\n",
              "      <td>0.324413</td>\n",
              "      <td>0.315856</td>\n",
              "      <td>-0.128578</td>\n",
              "      <td>0.044584</td>\n",
              "      <td>0.111447</td>\n",
              "      <td>0.092404</td>\n",
              "      <td>-0.021190</td>\n",
              "      <td>0.046432</td>\n",
              "      <td>-0.028923</td>\n",
              "      <td>1.000000</td>\n",
              "    </tr>\n",
              "  </tbody>\n",
              "</table>\n",
              "<p>38 rows × 38 columns</p>\n",
              "</div>\n",
              "      <button class=\"colab-df-convert\" onclick=\"convertToInteractive('df-526105c1-1948-4572-a78d-22d11e1e72ba')\"\n",
              "              title=\"Convert this dataframe to an interactive table.\"\n",
              "              style=\"display:none;\">\n",
              "        \n",
              "  <svg xmlns=\"http://www.w3.org/2000/svg\" height=\"24px\"viewBox=\"0 0 24 24\"\n",
              "       width=\"24px\">\n",
              "    <path d=\"M0 0h24v24H0V0z\" fill=\"none\"/>\n",
              "    <path d=\"M18.56 5.44l.94 2.06.94-2.06 2.06-.94-2.06-.94-.94-2.06-.94 2.06-2.06.94zm-11 1L8.5 8.5l.94-2.06 2.06-.94-2.06-.94L8.5 2.5l-.94 2.06-2.06.94zm10 10l.94 2.06.94-2.06 2.06-.94-2.06-.94-.94-2.06-.94 2.06-2.06.94z\"/><path d=\"M17.41 7.96l-1.37-1.37c-.4-.4-.92-.59-1.43-.59-.52 0-1.04.2-1.43.59L10.3 9.45l-7.72 7.72c-.78.78-.78 2.05 0 2.83L4 21.41c.39.39.9.59 1.41.59.51 0 1.02-.2 1.41-.59l7.78-7.78 2.81-2.81c.8-.78.8-2.07 0-2.86zM5.41 20L4 18.59l7.72-7.72 1.47 1.35L5.41 20z\"/>\n",
              "  </svg>\n",
              "      </button>\n",
              "      \n",
              "  <style>\n",
              "    .colab-df-container {\n",
              "      display:flex;\n",
              "      flex-wrap:wrap;\n",
              "      gap: 12px;\n",
              "    }\n",
              "\n",
              "    .colab-df-convert {\n",
              "      background-color: #E8F0FE;\n",
              "      border: none;\n",
              "      border-radius: 50%;\n",
              "      cursor: pointer;\n",
              "      display: none;\n",
              "      fill: #1967D2;\n",
              "      height: 32px;\n",
              "      padding: 0 0 0 0;\n",
              "      width: 32px;\n",
              "    }\n",
              "\n",
              "    .colab-df-convert:hover {\n",
              "      background-color: #E2EBFA;\n",
              "      box-shadow: 0px 1px 2px rgba(60, 64, 67, 0.3), 0px 1px 3px 1px rgba(60, 64, 67, 0.15);\n",
              "      fill: #174EA6;\n",
              "    }\n",
              "\n",
              "    [theme=dark] .colab-df-convert {\n",
              "      background-color: #3B4455;\n",
              "      fill: #D2E3FC;\n",
              "    }\n",
              "\n",
              "    [theme=dark] .colab-df-convert:hover {\n",
              "      background-color: #434B5C;\n",
              "      box-shadow: 0px 1px 3px 1px rgba(0, 0, 0, 0.15);\n",
              "      filter: drop-shadow(0px 1px 2px rgba(0, 0, 0, 0.3));\n",
              "      fill: #FFFFFF;\n",
              "    }\n",
              "  </style>\n",
              "\n",
              "      <script>\n",
              "        const buttonEl =\n",
              "          document.querySelector('#df-526105c1-1948-4572-a78d-22d11e1e72ba button.colab-df-convert');\n",
              "        buttonEl.style.display =\n",
              "          google.colab.kernel.accessAllowed ? 'block' : 'none';\n",
              "\n",
              "        async function convertToInteractive(key) {\n",
              "          const element = document.querySelector('#df-526105c1-1948-4572-a78d-22d11e1e72ba');\n",
              "          const dataTable =\n",
              "            await google.colab.kernel.invokeFunction('convertToInteractive',\n",
              "                                                     [key], {});\n",
              "          if (!dataTable) return;\n",
              "\n",
              "          const docLinkHtml = 'Like what you see? Visit the ' +\n",
              "            '<a target=\"_blank\" href=https://colab.research.google.com/notebooks/data_table.ipynb>data table notebook</a>'\n",
              "            + ' to learn more about interactive tables.';\n",
              "          element.innerHTML = '';\n",
              "          dataTable['output_type'] = 'display_data';\n",
              "          await google.colab.output.renderOutput(dataTable, element);\n",
              "          const docLink = document.createElement('div');\n",
              "          docLink.innerHTML = docLinkHtml;\n",
              "          element.appendChild(docLink);\n",
              "        }\n",
              "      </script>\n",
              "    </div>\n",
              "  </div>\n",
              "  "
            ]
          },
          "metadata": {},
          "execution_count": 30
        }
      ]
    },
    {
      "cell_type": "code",
      "source": [
        "# 2) Sorting 된 corrmat을 SalePrice column만 보겠음\n",
        "corrmat.sort_values(by=['SalePrice'])['SalePrice']"
      ],
      "metadata": {
        "colab": {
          "base_uri": "https://localhost:8080/"
        },
        "id": "Bn0r5hR8k3eq",
        "outputId": "2867c007-b11e-4989-a39e-42942df0d3a5"
      },
      "execution_count": 31,
      "outputs": [
        {
          "output_type": "execute_result",
          "data": {
            "text/plain": [
              "KitchenAbvGr    -0.135907\n",
              "EnclosedPorch   -0.128578\n",
              "MSSubClass      -0.084284\n",
              "OverallCond     -0.077856\n",
              "YrSold          -0.028923\n",
              "LowQualFinSF    -0.025606\n",
              "Id              -0.021917\n",
              "MiscVal         -0.021190\n",
              "BsmtHalfBath    -0.016844\n",
              "BsmtFinSF2      -0.011378\n",
              "3SsnPorch        0.044584\n",
              "MoSold           0.046432\n",
              "PoolArea         0.092404\n",
              "ScreenPorch      0.111447\n",
              "BedroomAbvGr     0.168213\n",
              "BsmtUnfSF        0.214479\n",
              "BsmtFullBath     0.227122\n",
              "LotArea          0.263843\n",
              "HalfBath         0.284108\n",
              "OpenPorchSF      0.315856\n",
              "2ndFlrSF         0.319334\n",
              "WoodDeckSF       0.324413\n",
              "LotFrontage      0.351799\n",
              "BsmtFinSF1       0.386420\n",
              "Fireplaces       0.466929\n",
              "MasVnrArea       0.477493\n",
              "GarageYrBlt      0.486362\n",
              "YearRemodAdd     0.507101\n",
              "YearBuilt        0.522897\n",
              "TotRmsAbvGrd     0.533723\n",
              "FullBath         0.560664\n",
              "1stFlrSF         0.605852\n",
              "TotalBsmtSF      0.613581\n",
              "GarageArea       0.623431\n",
              "GarageCars       0.640409\n",
              "GrLivArea        0.708624\n",
              "OverallQual      0.790982\n",
              "SalePrice        1.000000\n",
              "Name: SalePrice, dtype: float64"
            ]
          },
          "metadata": {},
          "execution_count": 31
        }
      ]
    },
    {
      "cell_type": "markdown",
      "source": [
        "Categorical은 아직 특별히 손대지 않았지만 충분히 점수화 시킬 수 있는 항목들이 존재함"
      ],
      "metadata": {
        "id": "LI_r7LtImbdX"
      }
    },
    {
      "cell_type": "markdown",
      "source": [
        "## Data Processing"
      ],
      "metadata": {
        "id": "T1kzgMK_pIjT"
      }
    },
    {
      "cell_type": "markdown",
      "source": [
        "### TODO:\n",
        "1. Categorical data\n",
        "2. Missing Data\n",
        "3. Chage distribution of the label"
      ],
      "metadata": {
        "id": "qeMnbWwWqM2j"
      }
    },
    {
      "cell_type": "markdown",
      "source": [
        "### Missing Data"
      ],
      "metadata": {
        "id": "SucOtLwgqlQ6"
      }
    },
    {
      "cell_type": "code",
      "source": [
        "# isnull : 값이 none인 경우 True 반환\n",
        "df_train.isnull()"
      ],
      "metadata": {
        "colab": {
          "base_uri": "https://localhost:8080/",
          "height": 488
        },
        "id": "my47JnoIqw8b",
        "outputId": "7ec76eca-9313-4ea7-931e-3640ea690041"
      },
      "execution_count": 32,
      "outputs": [
        {
          "output_type": "execute_result",
          "data": {
            "text/plain": [
              "         Id  MSSubClass  MSZoning  LotFrontage  LotArea  Street  Alley  \\\n",
              "0     False       False     False        False    False   False   True   \n",
              "1     False       False     False        False    False   False   True   \n",
              "2     False       False     False        False    False   False   True   \n",
              "3     False       False     False        False    False   False   True   \n",
              "4     False       False     False        False    False   False   True   \n",
              "...     ...         ...       ...          ...      ...     ...    ...   \n",
              "1455  False       False     False        False    False   False   True   \n",
              "1456  False       False     False        False    False   False   True   \n",
              "1457  False       False     False        False    False   False   True   \n",
              "1458  False       False     False        False    False   False   True   \n",
              "1459  False       False     False        False    False   False   True   \n",
              "\n",
              "      LotShape  LandContour  Utilities  ...  PoolArea  PoolQC  Fence  \\\n",
              "0        False        False      False  ...     False    True   True   \n",
              "1        False        False      False  ...     False    True   True   \n",
              "2        False        False      False  ...     False    True   True   \n",
              "3        False        False      False  ...     False    True   True   \n",
              "4        False        False      False  ...     False    True   True   \n",
              "...        ...          ...        ...  ...       ...     ...    ...   \n",
              "1455     False        False      False  ...     False    True   True   \n",
              "1456     False        False      False  ...     False    True  False   \n",
              "1457     False        False      False  ...     False    True  False   \n",
              "1458     False        False      False  ...     False    True   True   \n",
              "1459     False        False      False  ...     False    True   True   \n",
              "\n",
              "      MiscFeature  MiscVal  MoSold  YrSold  SaleType  SaleCondition  SalePrice  \n",
              "0            True    False   False   False     False          False      False  \n",
              "1            True    False   False   False     False          False      False  \n",
              "2            True    False   False   False     False          False      False  \n",
              "3            True    False   False   False     False          False      False  \n",
              "4            True    False   False   False     False          False      False  \n",
              "...           ...      ...     ...     ...       ...            ...        ...  \n",
              "1455         True    False   False   False     False          False      False  \n",
              "1456         True    False   False   False     False          False      False  \n",
              "1457        False    False   False   False     False          False      False  \n",
              "1458         True    False   False   False     False          False      False  \n",
              "1459         True    False   False   False     False          False      False  \n",
              "\n",
              "[1460 rows x 81 columns]"
            ],
            "text/html": [
              "\n",
              "  <div id=\"df-58567188-b37f-42c2-9cc2-fa80f29fbe2e\">\n",
              "    <div class=\"colab-df-container\">\n",
              "      <div>\n",
              "<style scoped>\n",
              "    .dataframe tbody tr th:only-of-type {\n",
              "        vertical-align: middle;\n",
              "    }\n",
              "\n",
              "    .dataframe tbody tr th {\n",
              "        vertical-align: top;\n",
              "    }\n",
              "\n",
              "    .dataframe thead th {\n",
              "        text-align: right;\n",
              "    }\n",
              "</style>\n",
              "<table border=\"1\" class=\"dataframe\">\n",
              "  <thead>\n",
              "    <tr style=\"text-align: right;\">\n",
              "      <th></th>\n",
              "      <th>Id</th>\n",
              "      <th>MSSubClass</th>\n",
              "      <th>MSZoning</th>\n",
              "      <th>LotFrontage</th>\n",
              "      <th>LotArea</th>\n",
              "      <th>Street</th>\n",
              "      <th>Alley</th>\n",
              "      <th>LotShape</th>\n",
              "      <th>LandContour</th>\n",
              "      <th>Utilities</th>\n",
              "      <th>...</th>\n",
              "      <th>PoolArea</th>\n",
              "      <th>PoolQC</th>\n",
              "      <th>Fence</th>\n",
              "      <th>MiscFeature</th>\n",
              "      <th>MiscVal</th>\n",
              "      <th>MoSold</th>\n",
              "      <th>YrSold</th>\n",
              "      <th>SaleType</th>\n",
              "      <th>SaleCondition</th>\n",
              "      <th>SalePrice</th>\n",
              "    </tr>\n",
              "  </thead>\n",
              "  <tbody>\n",
              "    <tr>\n",
              "      <th>0</th>\n",
              "      <td>False</td>\n",
              "      <td>False</td>\n",
              "      <td>False</td>\n",
              "      <td>False</td>\n",
              "      <td>False</td>\n",
              "      <td>False</td>\n",
              "      <td>True</td>\n",
              "      <td>False</td>\n",
              "      <td>False</td>\n",
              "      <td>False</td>\n",
              "      <td>...</td>\n",
              "      <td>False</td>\n",
              "      <td>True</td>\n",
              "      <td>True</td>\n",
              "      <td>True</td>\n",
              "      <td>False</td>\n",
              "      <td>False</td>\n",
              "      <td>False</td>\n",
              "      <td>False</td>\n",
              "      <td>False</td>\n",
              "      <td>False</td>\n",
              "    </tr>\n",
              "    <tr>\n",
              "      <th>1</th>\n",
              "      <td>False</td>\n",
              "      <td>False</td>\n",
              "      <td>False</td>\n",
              "      <td>False</td>\n",
              "      <td>False</td>\n",
              "      <td>False</td>\n",
              "      <td>True</td>\n",
              "      <td>False</td>\n",
              "      <td>False</td>\n",
              "      <td>False</td>\n",
              "      <td>...</td>\n",
              "      <td>False</td>\n",
              "      <td>True</td>\n",
              "      <td>True</td>\n",
              "      <td>True</td>\n",
              "      <td>False</td>\n",
              "      <td>False</td>\n",
              "      <td>False</td>\n",
              "      <td>False</td>\n",
              "      <td>False</td>\n",
              "      <td>False</td>\n",
              "    </tr>\n",
              "    <tr>\n",
              "      <th>2</th>\n",
              "      <td>False</td>\n",
              "      <td>False</td>\n",
              "      <td>False</td>\n",
              "      <td>False</td>\n",
              "      <td>False</td>\n",
              "      <td>False</td>\n",
              "      <td>True</td>\n",
              "      <td>False</td>\n",
              "      <td>False</td>\n",
              "      <td>False</td>\n",
              "      <td>...</td>\n",
              "      <td>False</td>\n",
              "      <td>True</td>\n",
              "      <td>True</td>\n",
              "      <td>True</td>\n",
              "      <td>False</td>\n",
              "      <td>False</td>\n",
              "      <td>False</td>\n",
              "      <td>False</td>\n",
              "      <td>False</td>\n",
              "      <td>False</td>\n",
              "    </tr>\n",
              "    <tr>\n",
              "      <th>3</th>\n",
              "      <td>False</td>\n",
              "      <td>False</td>\n",
              "      <td>False</td>\n",
              "      <td>False</td>\n",
              "      <td>False</td>\n",
              "      <td>False</td>\n",
              "      <td>True</td>\n",
              "      <td>False</td>\n",
              "      <td>False</td>\n",
              "      <td>False</td>\n",
              "      <td>...</td>\n",
              "      <td>False</td>\n",
              "      <td>True</td>\n",
              "      <td>True</td>\n",
              "      <td>True</td>\n",
              "      <td>False</td>\n",
              "      <td>False</td>\n",
              "      <td>False</td>\n",
              "      <td>False</td>\n",
              "      <td>False</td>\n",
              "      <td>False</td>\n",
              "    </tr>\n",
              "    <tr>\n",
              "      <th>4</th>\n",
              "      <td>False</td>\n",
              "      <td>False</td>\n",
              "      <td>False</td>\n",
              "      <td>False</td>\n",
              "      <td>False</td>\n",
              "      <td>False</td>\n",
              "      <td>True</td>\n",
              "      <td>False</td>\n",
              "      <td>False</td>\n",
              "      <td>False</td>\n",
              "      <td>...</td>\n",
              "      <td>False</td>\n",
              "      <td>True</td>\n",
              "      <td>True</td>\n",
              "      <td>True</td>\n",
              "      <td>False</td>\n",
              "      <td>False</td>\n",
              "      <td>False</td>\n",
              "      <td>False</td>\n",
              "      <td>False</td>\n",
              "      <td>False</td>\n",
              "    </tr>\n",
              "    <tr>\n",
              "      <th>...</th>\n",
              "      <td>...</td>\n",
              "      <td>...</td>\n",
              "      <td>...</td>\n",
              "      <td>...</td>\n",
              "      <td>...</td>\n",
              "      <td>...</td>\n",
              "      <td>...</td>\n",
              "      <td>...</td>\n",
              "      <td>...</td>\n",
              "      <td>...</td>\n",
              "      <td>...</td>\n",
              "      <td>...</td>\n",
              "      <td>...</td>\n",
              "      <td>...</td>\n",
              "      <td>...</td>\n",
              "      <td>...</td>\n",
              "      <td>...</td>\n",
              "      <td>...</td>\n",
              "      <td>...</td>\n",
              "      <td>...</td>\n",
              "      <td>...</td>\n",
              "    </tr>\n",
              "    <tr>\n",
              "      <th>1455</th>\n",
              "      <td>False</td>\n",
              "      <td>False</td>\n",
              "      <td>False</td>\n",
              "      <td>False</td>\n",
              "      <td>False</td>\n",
              "      <td>False</td>\n",
              "      <td>True</td>\n",
              "      <td>False</td>\n",
              "      <td>False</td>\n",
              "      <td>False</td>\n",
              "      <td>...</td>\n",
              "      <td>False</td>\n",
              "      <td>True</td>\n",
              "      <td>True</td>\n",
              "      <td>True</td>\n",
              "      <td>False</td>\n",
              "      <td>False</td>\n",
              "      <td>False</td>\n",
              "      <td>False</td>\n",
              "      <td>False</td>\n",
              "      <td>False</td>\n",
              "    </tr>\n",
              "    <tr>\n",
              "      <th>1456</th>\n",
              "      <td>False</td>\n",
              "      <td>False</td>\n",
              "      <td>False</td>\n",
              "      <td>False</td>\n",
              "      <td>False</td>\n",
              "      <td>False</td>\n",
              "      <td>True</td>\n",
              "      <td>False</td>\n",
              "      <td>False</td>\n",
              "      <td>False</td>\n",
              "      <td>...</td>\n",
              "      <td>False</td>\n",
              "      <td>True</td>\n",
              "      <td>False</td>\n",
              "      <td>True</td>\n",
              "      <td>False</td>\n",
              "      <td>False</td>\n",
              "      <td>False</td>\n",
              "      <td>False</td>\n",
              "      <td>False</td>\n",
              "      <td>False</td>\n",
              "    </tr>\n",
              "    <tr>\n",
              "      <th>1457</th>\n",
              "      <td>False</td>\n",
              "      <td>False</td>\n",
              "      <td>False</td>\n",
              "      <td>False</td>\n",
              "      <td>False</td>\n",
              "      <td>False</td>\n",
              "      <td>True</td>\n",
              "      <td>False</td>\n",
              "      <td>False</td>\n",
              "      <td>False</td>\n",
              "      <td>...</td>\n",
              "      <td>False</td>\n",
              "      <td>True</td>\n",
              "      <td>False</td>\n",
              "      <td>False</td>\n",
              "      <td>False</td>\n",
              "      <td>False</td>\n",
              "      <td>False</td>\n",
              "      <td>False</td>\n",
              "      <td>False</td>\n",
              "      <td>False</td>\n",
              "    </tr>\n",
              "    <tr>\n",
              "      <th>1458</th>\n",
              "      <td>False</td>\n",
              "      <td>False</td>\n",
              "      <td>False</td>\n",
              "      <td>False</td>\n",
              "      <td>False</td>\n",
              "      <td>False</td>\n",
              "      <td>True</td>\n",
              "      <td>False</td>\n",
              "      <td>False</td>\n",
              "      <td>False</td>\n",
              "      <td>...</td>\n",
              "      <td>False</td>\n",
              "      <td>True</td>\n",
              "      <td>True</td>\n",
              "      <td>True</td>\n",
              "      <td>False</td>\n",
              "      <td>False</td>\n",
              "      <td>False</td>\n",
              "      <td>False</td>\n",
              "      <td>False</td>\n",
              "      <td>False</td>\n",
              "    </tr>\n",
              "    <tr>\n",
              "      <th>1459</th>\n",
              "      <td>False</td>\n",
              "      <td>False</td>\n",
              "      <td>False</td>\n",
              "      <td>False</td>\n",
              "      <td>False</td>\n",
              "      <td>False</td>\n",
              "      <td>True</td>\n",
              "      <td>False</td>\n",
              "      <td>False</td>\n",
              "      <td>False</td>\n",
              "      <td>...</td>\n",
              "      <td>False</td>\n",
              "      <td>True</td>\n",
              "      <td>True</td>\n",
              "      <td>True</td>\n",
              "      <td>False</td>\n",
              "      <td>False</td>\n",
              "      <td>False</td>\n",
              "      <td>False</td>\n",
              "      <td>False</td>\n",
              "      <td>False</td>\n",
              "    </tr>\n",
              "  </tbody>\n",
              "</table>\n",
              "<p>1460 rows × 81 columns</p>\n",
              "</div>\n",
              "      <button class=\"colab-df-convert\" onclick=\"convertToInteractive('df-58567188-b37f-42c2-9cc2-fa80f29fbe2e')\"\n",
              "              title=\"Convert this dataframe to an interactive table.\"\n",
              "              style=\"display:none;\">\n",
              "        \n",
              "  <svg xmlns=\"http://www.w3.org/2000/svg\" height=\"24px\"viewBox=\"0 0 24 24\"\n",
              "       width=\"24px\">\n",
              "    <path d=\"M0 0h24v24H0V0z\" fill=\"none\"/>\n",
              "    <path d=\"M18.56 5.44l.94 2.06.94-2.06 2.06-.94-2.06-.94-.94-2.06-.94 2.06-2.06.94zm-11 1L8.5 8.5l.94-2.06 2.06-.94-2.06-.94L8.5 2.5l-.94 2.06-2.06.94zm10 10l.94 2.06.94-2.06 2.06-.94-2.06-.94-.94-2.06-.94 2.06-2.06.94z\"/><path d=\"M17.41 7.96l-1.37-1.37c-.4-.4-.92-.59-1.43-.59-.52 0-1.04.2-1.43.59L10.3 9.45l-7.72 7.72c-.78.78-.78 2.05 0 2.83L4 21.41c.39.39.9.59 1.41.59.51 0 1.02-.2 1.41-.59l7.78-7.78 2.81-2.81c.8-.78.8-2.07 0-2.86zM5.41 20L4 18.59l7.72-7.72 1.47 1.35L5.41 20z\"/>\n",
              "  </svg>\n",
              "      </button>\n",
              "      \n",
              "  <style>\n",
              "    .colab-df-container {\n",
              "      display:flex;\n",
              "      flex-wrap:wrap;\n",
              "      gap: 12px;\n",
              "    }\n",
              "\n",
              "    .colab-df-convert {\n",
              "      background-color: #E8F0FE;\n",
              "      border: none;\n",
              "      border-radius: 50%;\n",
              "      cursor: pointer;\n",
              "      display: none;\n",
              "      fill: #1967D2;\n",
              "      height: 32px;\n",
              "      padding: 0 0 0 0;\n",
              "      width: 32px;\n",
              "    }\n",
              "\n",
              "    .colab-df-convert:hover {\n",
              "      background-color: #E2EBFA;\n",
              "      box-shadow: 0px 1px 2px rgba(60, 64, 67, 0.3), 0px 1px 3px 1px rgba(60, 64, 67, 0.15);\n",
              "      fill: #174EA6;\n",
              "    }\n",
              "\n",
              "    [theme=dark] .colab-df-convert {\n",
              "      background-color: #3B4455;\n",
              "      fill: #D2E3FC;\n",
              "    }\n",
              "\n",
              "    [theme=dark] .colab-df-convert:hover {\n",
              "      background-color: #434B5C;\n",
              "      box-shadow: 0px 1px 3px 1px rgba(0, 0, 0, 0.15);\n",
              "      filter: drop-shadow(0px 1px 2px rgba(0, 0, 0, 0.3));\n",
              "      fill: #FFFFFF;\n",
              "    }\n",
              "  </style>\n",
              "\n",
              "      <script>\n",
              "        const buttonEl =\n",
              "          document.querySelector('#df-58567188-b37f-42c2-9cc2-fa80f29fbe2e button.colab-df-convert');\n",
              "        buttonEl.style.display =\n",
              "          google.colab.kernel.accessAllowed ? 'block' : 'none';\n",
              "\n",
              "        async function convertToInteractive(key) {\n",
              "          const element = document.querySelector('#df-58567188-b37f-42c2-9cc2-fa80f29fbe2e');\n",
              "          const dataTable =\n",
              "            await google.colab.kernel.invokeFunction('convertToInteractive',\n",
              "                                                     [key], {});\n",
              "          if (!dataTable) return;\n",
              "\n",
              "          const docLinkHtml = 'Like what you see? Visit the ' +\n",
              "            '<a target=\"_blank\" href=https://colab.research.google.com/notebooks/data_table.ipynb>data table notebook</a>'\n",
              "            + ' to learn more about interactive tables.';\n",
              "          element.innerHTML = '';\n",
              "          dataTable['output_type'] = 'display_data';\n",
              "          await google.colab.output.renderOutput(dataTable, element);\n",
              "          const docLink = document.createElement('div');\n",
              "          docLink.innerHTML = docLinkHtml;\n",
              "          element.appendChild(docLink);\n",
              "        }\n",
              "      </script>\n",
              "    </div>\n",
              "  </div>\n",
              "  "
            ]
          },
          "metadata": {},
          "execution_count": 32
        }
      ]
    },
    {
      "cell_type": "code",
      "source": [
        "df_missing = df_train.isnull().sum()\n",
        "df_missing"
      ],
      "metadata": {
        "id": "bfsT-JQzlUia",
        "colab": {
          "base_uri": "https://localhost:8080/"
        },
        "outputId": "0b8ce6d2-513d-4ed7-ac02-8ab4f9491ea5"
      },
      "execution_count": 33,
      "outputs": [
        {
          "output_type": "execute_result",
          "data": {
            "text/plain": [
              "Id                 0\n",
              "MSSubClass         0\n",
              "MSZoning           0\n",
              "LotFrontage      259\n",
              "LotArea            0\n",
              "                ... \n",
              "MoSold             0\n",
              "YrSold             0\n",
              "SaleType           0\n",
              "SaleCondition      0\n",
              "SalePrice          0\n",
              "Length: 81, dtype: int64"
            ]
          },
          "metadata": {},
          "execution_count": 33
        }
      ]
    },
    {
      "cell_type": "code",
      "source": [
        "df_missing = df_missing.sort_values(ascending=False) #sorting\n",
        "df_missing"
      ],
      "metadata": {
        "colab": {
          "base_uri": "https://localhost:8080/"
        },
        "id": "eH0v9v3ErLwY",
        "outputId": "9009fea8-e150-424d-ab84-e46c423d90ec"
      },
      "execution_count": 34,
      "outputs": [
        {
          "output_type": "execute_result",
          "data": {
            "text/plain": [
              "PoolQC         1453\n",
              "MiscFeature    1406\n",
              "Alley          1369\n",
              "Fence          1179\n",
              "FireplaceQu     690\n",
              "               ... \n",
              "ExterQual         0\n",
              "Exterior2nd       0\n",
              "Exterior1st       0\n",
              "RoofMatl          0\n",
              "SalePrice         0\n",
              "Length: 81, dtype: int64"
            ]
          },
          "metadata": {},
          "execution_count": 34
        }
      ]
    },
    {
      "cell_type": "code",
      "source": [
        "# missing data > 0인, 즉 하나라도 존재하는 데이터 를 그래프로 나타내자\n",
        "df_missing[df_missing > 0].plot.bar()"
      ],
      "metadata": {
        "colab": {
          "base_uri": "https://localhost:8080/",
          "height": 345
        },
        "id": "ETqZxTxjrc75",
        "outputId": "fd896d2e-36b5-48c5-d9a3-61efaffbf742"
      },
      "execution_count": 35,
      "outputs": [
        {
          "output_type": "execute_result",
          "data": {
            "text/plain": [
              "<matplotlib.axes._subplots.AxesSubplot at 0x7fc0166af820>"
            ]
          },
          "metadata": {},
          "execution_count": 35
        },
        {
          "output_type": "display_data",
          "data": {
            "text/plain": [
              "<Figure size 432x288 with 1 Axes>"
            ],
            "image/png": "[encoded data removed]"
          },
          "metadata": {
            "needs_background": "light"
          }
        }
      ]
    },
    {
      "cell_type": "code",
      "source": [
        "# 지금은 연습이므로 dataset에서 none이 하나라도 있으면 column 전체를 제거하여 처리를 하기로 함.\n",
        "# missing data 적으면 골라서 보정 해주는 것이 실제로는 더 좋음\n",
        "df_missing = df_missing[df_missing>0]"
      ],
      "metadata": {
        "id": "J0D-HhD_sKFJ"
      },
      "execution_count": 36,
      "outputs": []
    },
    {
      "cell_type": "code",
      "source": [
        "len(df_missing)"
      ],
      "metadata": {
        "colab": {
          "base_uri": "https://localhost:8080/"
        },
        "id": "kU6yvTY-s5iy",
        "outputId": "29aa6b99-14dc-4c8d-82b8-f93e48ee03e2"
      },
      "execution_count": 37,
      "outputs": [
        {
          "output_type": "execute_result",
          "data": {
            "text/plain": [
              "19"
            ]
          },
          "metadata": {},
          "execution_count": 37
        }
      ]
    },
    {
      "cell_type": "code",
      "source": [
        "df_missing.index"
      ],
      "metadata": {
        "colab": {
          "base_uri": "https://localhost:8080/"
        },
        "id": "X93oTRh7ud-o",
        "outputId": "2a6b089f-b392-4be5-ffb7-ff29bf86b1bd"
      },
      "execution_count": 38,
      "outputs": [
        {
          "output_type": "execute_result",
          "data": {
            "text/plain": [
              "Index(['PoolQC', 'MiscFeature', 'Alley', 'Fence', 'FireplaceQu', 'LotFrontage',\n",
              "       'GarageYrBlt', 'GarageCond', 'GarageType', 'GarageFinish', 'GarageQual',\n",
              "       'BsmtFinType2', 'BsmtExposure', 'BsmtQual', 'BsmtCond', 'BsmtFinType1',\n",
              "       'MasVnrArea', 'MasVnrType', 'Electrical'],\n",
              "      dtype='object')"
            ]
          },
          "metadata": {},
          "execution_count": 38
        }
      ]
    },
    {
      "cell_type": "code",
      "source": [
        "# tolist(): index가 list형으로 바뀌게 됨\n",
        "df_missing.index.tolist()"
      ],
      "metadata": {
        "colab": {
          "base_uri": "https://localhost:8080/"
        },
        "id": "LPfMQ4fWukML",
        "outputId": "212dc13e-fe95-488c-f958-e0406325c970"
      },
      "execution_count": 39,
      "outputs": [
        {
          "output_type": "execute_result",
          "data": {
            "text/plain": [
              "['PoolQC',\n",
              " 'MiscFeature',\n",
              " 'Alley',\n",
              " 'Fence',\n",
              " 'FireplaceQu',\n",
              " 'LotFrontage',\n",
              " 'GarageYrBlt',\n",
              " 'GarageCond',\n",
              " 'GarageType',\n",
              " 'GarageFinish',\n",
              " 'GarageQual',\n",
              " 'BsmtFinType2',\n",
              " 'BsmtExposure',\n",
              " 'BsmtQual',\n",
              " 'BsmtCond',\n",
              " 'BsmtFinType1',\n",
              " 'MasVnrArea',\n",
              " 'MasVnrType',\n",
              " 'Electrical']"
            ]
          },
          "metadata": {},
          "execution_count": 39
        }
      ]
    },
    {
      "cell_type": "code",
      "source": [
        "# missing data가 있는  feature 제거\n",
        "# drop(column index, num)\n",
        "# num=0 -> row 삭제\n",
        "# num=1 -> coulmn 삭제\n",
        "df_train = df_train.drop(df_missing.index.tolist(), axis=1)"
      ],
      "metadata": {
        "id": "g_aWfte4s73x"
      },
      "execution_count": 40,
      "outputs": []
    },
    {
      "cell_type": "code",
      "source": [
        "df_train"
      ],
      "metadata": {
        "colab": {
          "base_uri": "https://localhost:8080/",
          "height": 488
        },
        "id": "iN1wG_sKuzYI",
        "outputId": "3a11e299-c2a4-43c0-90f5-263c6cd13868"
      },
      "execution_count": 41,
      "outputs": [
        {
          "output_type": "execute_result",
          "data": {
            "text/plain": [
              "        Id  MSSubClass MSZoning  LotArea Street LotShape LandContour  \\\n",
              "0        1          60       RL     8450   Pave      Reg         Lvl   \n",
              "1        2          20       RL     9600   Pave      Reg         Lvl   \n",
              "2        3          60       RL    11250   Pave      IR1         Lvl   \n",
              "3        4          70       RL     9550   Pave      IR1         Lvl   \n",
              "4        5          60       RL    14260   Pave      IR1         Lvl   \n",
              "...    ...         ...      ...      ...    ...      ...         ...   \n",
              "1455  1456          60       RL     7917   Pave      Reg         Lvl   \n",
              "1456  1457          20       RL    13175   Pave      Reg         Lvl   \n",
              "1457  1458          70       RL     9042   Pave      Reg         Lvl   \n",
              "1458  1459          20       RL     9717   Pave      Reg         Lvl   \n",
              "1459  1460          20       RL     9937   Pave      Reg         Lvl   \n",
              "\n",
              "     Utilities LotConfig LandSlope  ... EnclosedPorch 3SsnPorch ScreenPorch  \\\n",
              "0       AllPub    Inside       Gtl  ...             0         0           0   \n",
              "1       AllPub       FR2       Gtl  ...             0         0           0   \n",
              "2       AllPub    Inside       Gtl  ...             0         0           0   \n",
              "3       AllPub    Corner       Gtl  ...           272         0           0   \n",
              "4       AllPub       FR2       Gtl  ...             0         0           0   \n",
              "...        ...       ...       ...  ...           ...       ...         ...   \n",
              "1455    AllPub    Inside       Gtl  ...             0         0           0   \n",
              "1456    AllPub    Inside       Gtl  ...             0         0           0   \n",
              "1457    AllPub    Inside       Gtl  ...             0         0           0   \n",
              "1458    AllPub    Inside       Gtl  ...           112         0           0   \n",
              "1459    AllPub    Inside       Gtl  ...             0         0           0   \n",
              "\n",
              "     PoolArea MiscVal  MoSold  YrSold  SaleType  SaleCondition SalePrice  \n",
              "0           0       0       2    2008        WD         Normal    208500  \n",
              "1           0       0       5    2007        WD         Normal    181500  \n",
              "2           0       0       9    2008        WD         Normal    223500  \n",
              "3           0       0       2    2006        WD        Abnorml    140000  \n",
              "4           0       0      12    2008        WD         Normal    250000  \n",
              "...       ...     ...     ...     ...       ...            ...       ...  \n",
              "1455        0       0       8    2007        WD         Normal    175000  \n",
              "1456        0       0       2    2010        WD         Normal    210000  \n",
              "1457        0    2500       5    2010        WD         Normal    266500  \n",
              "1458        0       0       4    2010        WD         Normal    142125  \n",
              "1459        0       0       6    2008        WD         Normal    147500  \n",
              "\n",
              "[1460 rows x 62 columns]"
            ],
            "text/html": [
              "\n",
              "  <div id=\"df-b2edbeaa-04e2-4290-9723-3f0b51b91b6b\">\n",
              "    <div class=\"colab-df-container\">\n",
              "      <div>\n",
              "<style scoped>\n",
              "    .dataframe tbody tr th:only-of-type {\n",
              "        vertical-align: middle;\n",
              "    }\n",
              "\n",
              "    .dataframe tbody tr th {\n",
              "        vertical-align: top;\n",
              "    }\n",
              "\n",
              "    .dataframe thead th {\n",
              "        text-align: right;\n",
              "    }\n",
              "</style>\n",
              "<table border=\"1\" class=\"dataframe\">\n",
              "  <thead>\n",
              "    <tr style=\"text-align: right;\">\n",
              "      <th></th>\n",
              "      <th>Id</th>\n",
              "      <th>MSSubClass</th>\n",
              "      <th>MSZoning</th>\n",
              "      <th>LotArea</th>\n",
              "      <th>Street</th>\n",
              "      <th>LotShape</th>\n",
              "      <th>LandContour</th>\n",
              "      <th>Utilities</th>\n",
              "      <th>LotConfig</th>\n",
              "      <th>LandSlope</th>\n",
              "      <th>...</th>\n",
              "      <th>EnclosedPorch</th>\n",
              "      <th>3SsnPorch</th>\n",
              "      <th>ScreenPorch</th>\n",
              "      <th>PoolArea</th>\n",
              "      <th>MiscVal</th>\n",
              "      <th>MoSold</th>\n",
              "      <th>YrSold</th>\n",
              "      <th>SaleType</th>\n",
              "      <th>SaleCondition</th>\n",
              "      <th>SalePrice</th>\n",
              "    </tr>\n",
              "  </thead>\n",
              "  <tbody>\n",
              "    <tr>\n",
              "      <th>0</th>\n",
              "      <td>1</td>\n",
              "      <td>60</td>\n",
              "      <td>RL</td>\n",
              "      <td>8450</td>\n",
              "      <td>Pave</td>\n",
              "      <td>Reg</td>\n",
              "      <td>Lvl</td>\n",
              "      <td>AllPub</td>\n",
              "      <td>Inside</td>\n",
              "      <td>Gtl</td>\n",
              "      <td>...</td>\n",
              "      <td>0</td>\n",
              "      <td>0</td>\n",
              "      <td>0</td>\n",
              "      <td>0</td>\n",
              "      <td>0</td>\n",
              "      <td>2</td>\n",
              "      <td>2008</td>\n",
              "      <td>WD</td>\n",
              "      <td>Normal</td>\n",
              "      <td>208500</td>\n",
              "    </tr>\n",
              "    <tr>\n",
              "      <th>1</th>\n",
              "      <td>2</td>\n",
              "      <td>20</td>\n",
              "      <td>RL</td>\n",
              "      <td>9600</td>\n",
              "      <td>Pave</td>\n",
              "      <td>Reg</td>\n",
              "      <td>Lvl</td>\n",
              "      <td>AllPub</td>\n",
              "      <td>FR2</td>\n",
              "      <td>Gtl</td>\n",
              "      <td>...</td>\n",
              "      <td>0</td>\n",
              "      <td>0</td>\n",
              "      <td>0</td>\n",
              "      <td>0</td>\n",
              "      <td>0</td>\n",
              "      <td>5</td>\n",
              "      <td>2007</td>\n",
              "      <td>WD</td>\n",
              "      <td>Normal</td>\n",
              "      <td>181500</td>\n",
              "    </tr>\n",
              "    <tr>\n",
              "      <th>2</th>\n",
              "      <td>3</td>\n",
              "      <td>60</td>\n",
              "      <td>RL</td>\n",
              "      <td>11250</td>\n",
              "      <td>Pave</td>\n",
              "      <td>IR1</td>\n",
              "      <td>Lvl</td>\n",
              "      <td>AllPub</td>\n",
              "      <td>Inside</td>\n",
              "      <td>Gtl</td>\n",
              "      <td>...</td>\n",
              "      <td>0</td>\n",
              "      <td>0</td>\n",
              "      <td>0</td>\n",
              "      <td>0</td>\n",
              "      <td>0</td>\n",
              "      <td>9</td>\n",
              "      <td>2008</td>\n",
              "      <td>WD</td>\n",
              "      <td>Normal</td>\n",
              "      <td>223500</td>\n",
              "    </tr>\n",
              "    <tr>\n",
              "      <th>3</th>\n",
              "      <td>4</td>\n",
              "      <td>70</td>\n",
              "      <td>RL</td>\n",
              "      <td>9550</td>\n",
              "      <td>Pave</td>\n",
              "      <td>IR1</td>\n",
              "      <td>Lvl</td>\n",
              "      <td>AllPub</td>\n",
              "      <td>Corner</td>\n",
              "      <td>Gtl</td>\n",
              "      <td>...</td>\n",
              "      <td>272</td>\n",
              "      <td>0</td>\n",
              "      <td>0</td>\n",
              "      <td>0</td>\n",
              "      <td>0</td>\n",
              "      <td>2</td>\n",
              "      <td>2006</td>\n",
              "      <td>WD</td>\n",
              "      <td>Abnorml</td>\n",
              "      <td>140000</td>\n",
              "    </tr>\n",
              "    <tr>\n",
              "      <th>4</th>\n",
              "      <td>5</td>\n",
              "      <td>60</td>\n",
              "      <td>RL</td>\n",
              "      <td>14260</td>\n",
              "      <td>Pave</td>\n",
              "      <td>IR1</td>\n",
              "      <td>Lvl</td>\n",
              "      <td>AllPub</td>\n",
              "      <td>FR2</td>\n",
              "      <td>Gtl</td>\n",
              "      <td>...</td>\n",
              "      <td>0</td>\n",
              "      <td>0</td>\n",
              "      <td>0</td>\n",
              "      <td>0</td>\n",
              "      <td>0</td>\n",
              "      <td>12</td>\n",
              "      <td>2008</td>\n",
              "      <td>WD</td>\n",
              "      <td>Normal</td>\n",
              "      <td>250000</td>\n",
              "    </tr>\n",
              "    <tr>\n",
              "      <th>...</th>\n",
              "      <td>...</td>\n",
              "      <td>...</td>\n",
              "      <td>...</td>\n",
              "      <td>...</td>\n",
              "      <td>...</td>\n",
              "      <td>...</td>\n",
              "      <td>...</td>\n",
              "      <td>...</td>\n",
              "      <td>...</td>\n",
              "      <td>...</td>\n",
              "      <td>...</td>\n",
              "      <td>...</td>\n",
              "      <td>...</td>\n",
              "      <td>...</td>\n",
              "      <td>...</td>\n",
              "      <td>...</td>\n",
              "      <td>...</td>\n",
              "      <td>...</td>\n",
              "      <td>...</td>\n",
              "      <td>...</td>\n",
              "      <td>...</td>\n",
              "    </tr>\n",
              "    <tr>\n",
              "      <th>1455</th>\n",
              "      <td>1456</td>\n",
              "      <td>60</td>\n",
              "      <td>RL</td>\n",
              "      <td>7917</td>\n",
              "      <td>Pave</td>\n",
              "      <td>Reg</td>\n",
              "      <td>Lvl</td>\n",
              "      <td>AllPub</td>\n",
              "      <td>Inside</td>\n",
              "      <td>Gtl</td>\n",
              "      <td>...</td>\n",
              "      <td>0</td>\n",
              "      <td>0</td>\n",
              "      <td>0</td>\n",
              "      <td>0</td>\n",
              "      <td>0</td>\n",
              "      <td>8</td>\n",
              "      <td>2007</td>\n",
              "      <td>WD</td>\n",
              "      <td>Normal</td>\n",
              "      <td>175000</td>\n",
              "    </tr>\n",
              "    <tr>\n",
              "      <th>1456</th>\n",
              "      <td>1457</td>\n",
              "      <td>20</td>\n",
              "      <td>RL</td>\n",
              "      <td>13175</td>\n",
              "      <td>Pave</td>\n",
              "      <td>Reg</td>\n",
              "      <td>Lvl</td>\n",
              "      <td>AllPub</td>\n",
              "      <td>Inside</td>\n",
              "      <td>Gtl</td>\n",
              "      <td>...</td>\n",
              "      <td>0</td>\n",
              "      <td>0</td>\n",
              "      <td>0</td>\n",
              "      <td>0</td>\n",
              "      <td>0</td>\n",
              "      <td>2</td>\n",
              "      <td>2010</td>\n",
              "      <td>WD</td>\n",
              "      <td>Normal</td>\n",
              "      <td>210000</td>\n",
              "    </tr>\n",
              "    <tr>\n",
              "      <th>1457</th>\n",
              "      <td>1458</td>\n",
              "      <td>70</td>\n",
              "      <td>RL</td>\n",
              "      <td>9042</td>\n",
              "      <td>Pave</td>\n",
              "      <td>Reg</td>\n",
              "      <td>Lvl</td>\n",
              "      <td>AllPub</td>\n",
              "      <td>Inside</td>\n",
              "      <td>Gtl</td>\n",
              "      <td>...</td>\n",
              "      <td>0</td>\n",
              "      <td>0</td>\n",
              "      <td>0</td>\n",
              "      <td>0</td>\n",
              "      <td>2500</td>\n",
              "      <td>5</td>\n",
              "      <td>2010</td>\n",
              "      <td>WD</td>\n",
              "      <td>Normal</td>\n",
              "      <td>266500</td>\n",
              "    </tr>\n",
              "    <tr>\n",
              "      <th>1458</th>\n",
              "      <td>1459</td>\n",
              "      <td>20</td>\n",
              "      <td>RL</td>\n",
              "      <td>9717</td>\n",
              "      <td>Pave</td>\n",
              "      <td>Reg</td>\n",
              "      <td>Lvl</td>\n",
              "      <td>AllPub</td>\n",
              "      <td>Inside</td>\n",
              "      <td>Gtl</td>\n",
              "      <td>...</td>\n",
              "      <td>112</td>\n",
              "      <td>0</td>\n",
              "      <td>0</td>\n",
              "      <td>0</td>\n",
              "      <td>0</td>\n",
              "      <td>4</td>\n",
              "      <td>2010</td>\n",
              "      <td>WD</td>\n",
              "      <td>Normal</td>\n",
              "      <td>142125</td>\n",
              "    </tr>\n",
              "    <tr>\n",
              "      <th>1459</th>\n",
              "      <td>1460</td>\n",
              "      <td>20</td>\n",
              "      <td>RL</td>\n",
              "      <td>9937</td>\n",
              "      <td>Pave</td>\n",
              "      <td>Reg</td>\n",
              "      <td>Lvl</td>\n",
              "      <td>AllPub</td>\n",
              "      <td>Inside</td>\n",
              "      <td>Gtl</td>\n",
              "      <td>...</td>\n",
              "      <td>0</td>\n",
              "      <td>0</td>\n",
              "      <td>0</td>\n",
              "      <td>0</td>\n",
              "      <td>0</td>\n",
              "      <td>6</td>\n",
              "      <td>2008</td>\n",
              "      <td>WD</td>\n",
              "      <td>Normal</td>\n",
              "      <td>147500</td>\n",
              "    </tr>\n",
              "  </tbody>\n",
              "</table>\n",
              "<p>1460 rows × 62 columns</p>\n",
              "</div>\n",
              "      <button class=\"colab-df-convert\" onclick=\"convertToInteractive('df-b2edbeaa-04e2-4290-9723-3f0b51b91b6b')\"\n",
              "              title=\"Convert this dataframe to an interactive table.\"\n",
              "              style=\"display:none;\">\n",
              "        \n",
              "  <svg xmlns=\"http://www.w3.org/2000/svg\" height=\"24px\"viewBox=\"0 0 24 24\"\n",
              "       width=\"24px\">\n",
              "    <path d=\"M0 0h24v24H0V0z\" fill=\"none\"/>\n",
              "    <path d=\"M18.56 5.44l.94 2.06.94-2.06 2.06-.94-2.06-.94-.94-2.06-.94 2.06-2.06.94zm-11 1L8.5 8.5l.94-2.06 2.06-.94-2.06-.94L8.5 2.5l-.94 2.06-2.06.94zm10 10l.94 2.06.94-2.06 2.06-.94-2.06-.94-.94-2.06-.94 2.06-2.06.94z\"/><path d=\"M17.41 7.96l-1.37-1.37c-.4-.4-.92-.59-1.43-.59-.52 0-1.04.2-1.43.59L10.3 9.45l-7.72 7.72c-.78.78-.78 2.05 0 2.83L4 21.41c.39.39.9.59 1.41.59.51 0 1.02-.2 1.41-.59l7.78-7.78 2.81-2.81c.8-.78.8-2.07 0-2.86zM5.41 20L4 18.59l7.72-7.72 1.47 1.35L5.41 20z\"/>\n",
              "  </svg>\n",
              "      </button>\n",
              "      \n",
              "  <style>\n",
              "    .colab-df-container {\n",
              "      display:flex;\n",
              "      flex-wrap:wrap;\n",
              "      gap: 12px;\n",
              "    }\n",
              "\n",
              "    .colab-df-convert {\n",
              "      background-color: #E8F0FE;\n",
              "      border: none;\n",
              "      border-radius: 50%;\n",
              "      cursor: pointer;\n",
              "      display: none;\n",
              "      fill: #1967D2;\n",
              "      height: 32px;\n",
              "      padding: 0 0 0 0;\n",
              "      width: 32px;\n",
              "    }\n",
              "\n",
              "    .colab-df-convert:hover {\n",
              "      background-color: #E2EBFA;\n",
              "      box-shadow: 0px 1px 2px rgba(60, 64, 67, 0.3), 0px 1px 3px 1px rgba(60, 64, 67, 0.15);\n",
              "      fill: #174EA6;\n",
              "    }\n",
              "\n",
              "    [theme=dark] .colab-df-convert {\n",
              "      background-color: #3B4455;\n",
              "      fill: #D2E3FC;\n",
              "    }\n",
              "\n",
              "    [theme=dark] .colab-df-convert:hover {\n",
              "      background-color: #434B5C;\n",
              "      box-shadow: 0px 1px 3px 1px rgba(0, 0, 0, 0.15);\n",
              "      filter: drop-shadow(0px 1px 2px rgba(0, 0, 0, 0.3));\n",
              "      fill: #FFFFFF;\n",
              "    }\n",
              "  </style>\n",
              "\n",
              "      <script>\n",
              "        const buttonEl =\n",
              "          document.querySelector('#df-b2edbeaa-04e2-4290-9723-3f0b51b91b6b button.colab-df-convert');\n",
              "        buttonEl.style.display =\n",
              "          google.colab.kernel.accessAllowed ? 'block' : 'none';\n",
              "\n",
              "        async function convertToInteractive(key) {\n",
              "          const element = document.querySelector('#df-b2edbeaa-04e2-4290-9723-3f0b51b91b6b');\n",
              "          const dataTable =\n",
              "            await google.colab.kernel.invokeFunction('convertToInteractive',\n",
              "                                                     [key], {});\n",
              "          if (!dataTable) return;\n",
              "\n",
              "          const docLinkHtml = 'Like what you see? Visit the ' +\n",
              "            '<a target=\"_blank\" href=https://colab.research.google.com/notebooks/data_table.ipynb>data table notebook</a>'\n",
              "            + ' to learn more about interactive tables.';\n",
              "          element.innerHTML = '';\n",
              "          dataTable['output_type'] = 'display_data';\n",
              "          await google.colab.output.renderOutput(dataTable, element);\n",
              "          const docLink = document.createElement('div');\n",
              "          docLink.innerHTML = docLinkHtml;\n",
              "          element.appendChild(docLink);\n",
              "        }\n",
              "      </script>\n",
              "    </div>\n",
              "  </div>\n",
              "  "
            ]
          },
          "metadata": {},
          "execution_count": 41
        }
      ]
    },
    {
      "cell_type": "code",
      "source": [
        "# missing data가 있는지 재확인\n",
        "df_train.isnull().sum()"
      ],
      "metadata": {
        "colab": {
          "base_uri": "https://localhost:8080/"
        },
        "id": "iXfnmvIfu27Y",
        "outputId": "9f54df13-d342-417c-8117-d724314405f1"
      },
      "execution_count": 42,
      "outputs": [
        {
          "output_type": "execute_result",
          "data": {
            "text/plain": [
              "Id               0\n",
              "MSSubClass       0\n",
              "MSZoning         0\n",
              "LotArea          0\n",
              "Street           0\n",
              "                ..\n",
              "MoSold           0\n",
              "YrSold           0\n",
              "SaleType         0\n",
              "SaleCondition    0\n",
              "SalePrice        0\n",
              "Length: 62, dtype: int64"
            ]
          },
          "metadata": {},
          "execution_count": 42
        }
      ]
    },
    {
      "cell_type": "code",
      "source": [
        "df_train.isnull().sum().max()"
      ],
      "metadata": {
        "colab": {
          "base_uri": "https://localhost:8080/"
        },
        "id": "BGbl2CHzvGdQ",
        "outputId": "b524db4d-e886-4cf0-f16b-ee97835c21cf"
      },
      "execution_count": 43,
      "outputs": [
        {
          "output_type": "execute_result",
          "data": {
            "text/plain": [
              "0"
            ]
          },
          "metadata": {},
          "execution_count": 43
        }
      ]
    },
    {
      "cell_type": "code",
      "source": [
        "numeric = [ # 숫자형\n",
        "    f for f in df_train.columns if df_train.dtypes[f] != 'object'\n",
        "]\n",
        "\n",
        "categorical = [ # 분류형\n",
        "    f for f in df_train.columns if df_train.dtypes[f] == 'object'\n",
        "]"
      ],
      "metadata": {
        "id": "RjyxXRROvL_h"
      },
      "execution_count": 44,
      "outputs": []
    },
    {
      "cell_type": "code",
      "source": [
        "categorical"
      ],
      "metadata": {
        "colab": {
          "base_uri": "https://localhost:8080/"
        },
        "id": "ATKiV6y0vtxK",
        "outputId": "1f99f82e-c759-4b54-b210-7b311343d881"
      },
      "execution_count": 45,
      "outputs": [
        {
          "output_type": "execute_result",
          "data": {
            "text/plain": [
              "['MSZoning',\n",
              " 'Street',\n",
              " 'LotShape',\n",
              " 'LandContour',\n",
              " 'Utilities',\n",
              " 'LotConfig',\n",
              " 'LandSlope',\n",
              " 'Neighborhood',\n",
              " 'Condition1',\n",
              " 'Condition2',\n",
              " 'BldgType',\n",
              " 'HouseStyle',\n",
              " 'RoofStyle',\n",
              " 'RoofMatl',\n",
              " 'Exterior1st',\n",
              " 'Exterior2nd',\n",
              " 'ExterQual',\n",
              " 'ExterCond',\n",
              " 'Foundation',\n",
              " 'Heating',\n",
              " 'HeatingQC',\n",
              " 'CentralAir',\n",
              " 'KitchenQual',\n",
              " 'Functional',\n",
              " 'PavedDrive',\n",
              " 'SaleType',\n",
              " 'SaleCondition']"
            ]
          },
          "metadata": {},
          "execution_count": 45
        }
      ]
    },
    {
      "cell_type": "code",
      "source": [
        "numeric"
      ],
      "metadata": {
        "colab": {
          "base_uri": "https://localhost:8080/"
        },
        "id": "WI6nmoYlvveo",
        "outputId": "c285faee-8c8a-4722-8152-a660d2f27d42"
      },
      "execution_count": 46,
      "outputs": [
        {
          "output_type": "execute_result",
          "data": {
            "text/plain": [
              "['Id',\n",
              " 'MSSubClass',\n",
              " 'LotArea',\n",
              " 'OverallQual',\n",
              " 'OverallCond',\n",
              " 'YearBuilt',\n",
              " 'YearRemodAdd',\n",
              " 'BsmtFinSF1',\n",
              " 'BsmtFinSF2',\n",
              " 'BsmtUnfSF',\n",
              " 'TotalBsmtSF',\n",
              " '1stFlrSF',\n",
              " '2ndFlrSF',\n",
              " 'LowQualFinSF',\n",
              " 'GrLivArea',\n",
              " 'BsmtFullBath',\n",
              " 'BsmtHalfBath',\n",
              " 'FullBath',\n",
              " 'HalfBath',\n",
              " 'BedroomAbvGr',\n",
              " 'KitchenAbvGr',\n",
              " 'TotRmsAbvGrd',\n",
              " 'Fireplaces',\n",
              " 'GarageCars',\n",
              " 'GarageArea',\n",
              " 'WoodDeckSF',\n",
              " 'OpenPorchSF',\n",
              " 'EnclosedPorch',\n",
              " '3SsnPorch',\n",
              " 'ScreenPorch',\n",
              " 'PoolArea',\n",
              " 'MiscVal',\n",
              " 'MoSold',\n",
              " 'YrSold',\n",
              " 'SalePrice']"
            ]
          },
          "metadata": {},
          "execution_count": 46
        }
      ]
    },
    {
      "cell_type": "code",
      "source": [
        "numeric.remove('Id')\n",
        "numeric.remove('SalePrice')\n",
        "numeric"
      ],
      "metadata": {
        "colab": {
          "base_uri": "https://localhost:8080/"
        },
        "id": "rpNY3evLvzMw",
        "outputId": "cdf4ad36-2530-4c4d-d5bd-117bea65242d"
      },
      "execution_count": 47,
      "outputs": [
        {
          "output_type": "execute_result",
          "data": {
            "text/plain": [
              "['MSSubClass',\n",
              " 'LotArea',\n",
              " 'OverallQual',\n",
              " 'OverallCond',\n",
              " 'YearBuilt',\n",
              " 'YearRemodAdd',\n",
              " 'BsmtFinSF1',\n",
              " 'BsmtFinSF2',\n",
              " 'BsmtUnfSF',\n",
              " 'TotalBsmtSF',\n",
              " '1stFlrSF',\n",
              " '2ndFlrSF',\n",
              " 'LowQualFinSF',\n",
              " 'GrLivArea',\n",
              " 'BsmtFullBath',\n",
              " 'BsmtHalfBath',\n",
              " 'FullBath',\n",
              " 'HalfBath',\n",
              " 'BedroomAbvGr',\n",
              " 'KitchenAbvGr',\n",
              " 'TotRmsAbvGrd',\n",
              " 'Fireplaces',\n",
              " 'GarageCars',\n",
              " 'GarageArea',\n",
              " 'WoodDeckSF',\n",
              " 'OpenPorchSF',\n",
              " 'EnclosedPorch',\n",
              " '3SsnPorch',\n",
              " 'ScreenPorch',\n",
              " 'PoolArea',\n",
              " 'MiscVal',\n",
              " 'MoSold',\n",
              " 'YrSold']"
            ]
          },
          "metadata": {},
          "execution_count": 47
        }
      ]
    },
    {
      "cell_type": "markdown",
      "source": [
        "### Categorical Data"
      ],
      "metadata": {
        "id": "fBPtJTdrwI6G"
      }
    },
    {
      "cell_type": "markdown",
      "source": [
        "- Categorical data를 가공하기 위해 일단 범주 별로 집값이랑 어떤 상관관계가 있는지 알아보자"
      ],
      "metadata": {
        "id": "49eXekeGx5v2"
      }
    },
    {
      "cell_type": "code",
      "source": [
        "# 빈 데이터프레임 하나 만들어 줌\n",
        "df_order = pd.DataFrame()"
      ],
      "metadata": {
        "id": "CklC1fOVv9wQ"
      },
      "execution_count": 48,
      "outputs": []
    },
    {
      "cell_type": "code",
      "source": [
        "# 예) ExterQual\n",
        "feature_name = 'ExterQual'"
      ],
      "metadata": {
        "id": "QpJfOaGpxx1S"
      },
      "execution_count": 49,
      "outputs": []
    },
    {
      "cell_type": "code",
      "source": [
        "df_train[feature_name]"
      ],
      "metadata": {
        "colab": {
          "base_uri": "https://localhost:8080/"
        },
        "id": "RRd0_yNZyiQI",
        "outputId": "db888a4b-8035-4b65-d1b0-a947f8073b5e"
      },
      "execution_count": 50,
      "outputs": [
        {
          "output_type": "execute_result",
          "data": {
            "text/plain": [
              "0       Gd\n",
              "1       TA\n",
              "2       Gd\n",
              "3       TA\n",
              "4       Gd\n",
              "        ..\n",
              "1455    TA\n",
              "1456    TA\n",
              "1457    Ex\n",
              "1458    TA\n",
              "1459    Gd\n",
              "Name: ExterQual, Length: 1460, dtype: object"
            ]
          },
          "metadata": {},
          "execution_count": 50
        }
      ]
    },
    {
      "cell_type": "code",
      "source": [
        "# unique : 범주 한개씩만 나오도록\n",
        "df_order['val'] = df_train[feature_name].unique()"
      ],
      "metadata": {
        "id": "VYAmvrp0yH2s"
      },
      "execution_count": 51,
      "outputs": []
    },
    {
      "cell_type": "code",
      "source": [
        "df_order"
      ],
      "metadata": {
        "colab": {
          "base_uri": "https://localhost:8080/",
          "height": 175
        },
        "id": "TJ0oDCG1ysBZ",
        "outputId": "39566974-5bba-4f78-bf40-eb3b834e0ee4"
      },
      "execution_count": 52,
      "outputs": [
        {
          "output_type": "execute_result",
          "data": {
            "text/plain": [
              "  val\n",
              "0  Gd\n",
              "1  TA\n",
              "2  Ex\n",
              "3  Fa"
            ],
            "text/html": [
              "\n",
              "  <div id=\"df-064cb4ae-b97f-496e-8f96-bd24e27de4fa\">\n",
              "    <div class=\"colab-df-container\">\n",
              "      <div>\n",
              "<style scoped>\n",
              "    .dataframe tbody tr th:only-of-type {\n",
              "        vertical-align: middle;\n",
              "    }\n",
              "\n",
              "    .dataframe tbody tr th {\n",
              "        vertical-align: top;\n",
              "    }\n",
              "\n",
              "    .dataframe thead th {\n",
              "        text-align: right;\n",
              "    }\n",
              "</style>\n",
              "<table border=\"1\" class=\"dataframe\">\n",
              "  <thead>\n",
              "    <tr style=\"text-align: right;\">\n",
              "      <th></th>\n",
              "      <th>val</th>\n",
              "    </tr>\n",
              "  </thead>\n",
              "  <tbody>\n",
              "    <tr>\n",
              "      <th>0</th>\n",
              "      <td>Gd</td>\n",
              "    </tr>\n",
              "    <tr>\n",
              "      <th>1</th>\n",
              "      <td>TA</td>\n",
              "    </tr>\n",
              "    <tr>\n",
              "      <th>2</th>\n",
              "      <td>Ex</td>\n",
              "    </tr>\n",
              "    <tr>\n",
              "      <th>3</th>\n",
              "      <td>Fa</td>\n",
              "    </tr>\n",
              "  </tbody>\n",
              "</table>\n",
              "</div>\n",
              "      <button class=\"colab-df-convert\" onclick=\"convertToInteractive('df-064cb4ae-b97f-496e-8f96-bd24e27de4fa')\"\n",
              "              title=\"Convert this dataframe to an interactive table.\"\n",
              "              style=\"display:none;\">\n",
              "        \n",
              "  <svg xmlns=\"http://www.w3.org/2000/svg\" height=\"24px\"viewBox=\"0 0 24 24\"\n",
              "       width=\"24px\">\n",
              "    <path d=\"M0 0h24v24H0V0z\" fill=\"none\"/>\n",
              "    <path d=\"M18.56 5.44l.94 2.06.94-2.06 2.06-.94-2.06-.94-.94-2.06-.94 2.06-2.06.94zm-11 1L8.5 8.5l.94-2.06 2.06-.94-2.06-.94L8.5 2.5l-.94 2.06-2.06.94zm10 10l.94 2.06.94-2.06 2.06-.94-2.06-.94-.94-2.06-.94 2.06-2.06.94z\"/><path d=\"M17.41 7.96l-1.37-1.37c-.4-.4-.92-.59-1.43-.59-.52 0-1.04.2-1.43.59L10.3 9.45l-7.72 7.72c-.78.78-.78 2.05 0 2.83L4 21.41c.39.39.9.59 1.41.59.51 0 1.02-.2 1.41-.59l7.78-7.78 2.81-2.81c.8-.78.8-2.07 0-2.86zM5.41 20L4 18.59l7.72-7.72 1.47 1.35L5.41 20z\"/>\n",
              "  </svg>\n",
              "      </button>\n",
              "      \n",
              "  <style>\n",
              "    .colab-df-container {\n",
              "      display:flex;\n",
              "      flex-wrap:wrap;\n",
              "      gap: 12px;\n",
              "    }\n",
              "\n",
              "    .colab-df-convert {\n",
              "      background-color: #E8F0FE;\n",
              "      border: none;\n",
              "      border-radius: 50%;\n",
              "      cursor: pointer;\n",
              "      display: none;\n",
              "      fill: #1967D2;\n",
              "      height: 32px;\n",
              "      padding: 0 0 0 0;\n",
              "      width: 32px;\n",
              "    }\n",
              "\n",
              "    .colab-df-convert:hover {\n",
              "      background-color: #E2EBFA;\n",
              "      box-shadow: 0px 1px 2px rgba(60, 64, 67, 0.3), 0px 1px 3px 1px rgba(60, 64, 67, 0.15);\n",
              "      fill: #174EA6;\n",
              "    }\n",
              "\n",
              "    [theme=dark] .colab-df-convert {\n",
              "      background-color: #3B4455;\n",
              "      fill: #D2E3FC;\n",
              "    }\n",
              "\n",
              "    [theme=dark] .colab-df-convert:hover {\n",
              "      background-color: #434B5C;\n",
              "      box-shadow: 0px 1px 3px 1px rgba(0, 0, 0, 0.15);\n",
              "      filter: drop-shadow(0px 1px 2px rgba(0, 0, 0, 0.3));\n",
              "      fill: #FFFFFF;\n",
              "    }\n",
              "  </style>\n",
              "\n",
              "      <script>\n",
              "        const buttonEl =\n",
              "          document.querySelector('#df-064cb4ae-b97f-496e-8f96-bd24e27de4fa button.colab-df-convert');\n",
              "        buttonEl.style.display =\n",
              "          google.colab.kernel.accessAllowed ? 'block' : 'none';\n",
              "\n",
              "        async function convertToInteractive(key) {\n",
              "          const element = document.querySelector('#df-064cb4ae-b97f-496e-8f96-bd24e27de4fa');\n",
              "          const dataTable =\n",
              "            await google.colab.kernel.invokeFunction('convertToInteractive',\n",
              "                                                     [key], {});\n",
              "          if (!dataTable) return;\n",
              "\n",
              "          const docLinkHtml = 'Like what you see? Visit the ' +\n",
              "            '<a target=\"_blank\" href=https://colab.research.google.com/notebooks/data_table.ipynb>data table notebook</a>'\n",
              "            + ' to learn more about interactive tables.';\n",
              "          element.innerHTML = '';\n",
              "          dataTable['output_type'] = 'display_data';\n",
              "          await google.colab.output.renderOutput(dataTable, element);\n",
              "          const docLink = document.createElement('div');\n",
              "          docLink.innerHTML = docLinkHtml;\n",
              "          element.appendChild(docLink);\n",
              "        }\n",
              "      </script>\n",
              "    </div>\n",
              "  </div>\n",
              "  "
            ]
          },
          "metadata": {},
          "execution_count": 52
        }
      ]
    },
    {
      "cell_type": "code",
      "source": [
        "# class name 을 index로 치환해준다.\n",
        "df_order.index = df_order.val"
      ],
      "metadata": {
        "id": "AlLzBonhyxBg"
      },
      "execution_count": 53,
      "outputs": []
    },
    {
      "cell_type": "code",
      "source": [
        "df_order"
      ],
      "metadata": {
        "colab": {
          "base_uri": "https://localhost:8080/",
          "height": 206
        },
        "id": "-2NEfdmszA_A",
        "outputId": "b31c0797-434d-4dbf-f8db-7bcaa2428a42"
      },
      "execution_count": 54,
      "outputs": [
        {
          "output_type": "execute_result",
          "data": {
            "text/plain": [
              "    val\n",
              "val    \n",
              "Gd   Gd\n",
              "TA   TA\n",
              "Ex   Ex\n",
              "Fa   Fa"
            ],
            "text/html": [
              "\n",
              "  <div id=\"df-5941e2da-8a9d-461e-9af6-d8a1b4c92ff8\">\n",
              "    <div class=\"colab-df-container\">\n",
              "      <div>\n",
              "<style scoped>\n",
              "    .dataframe tbody tr th:only-of-type {\n",
              "        vertical-align: middle;\n",
              "    }\n",
              "\n",
              "    .dataframe tbody tr th {\n",
              "        vertical-align: top;\n",
              "    }\n",
              "\n",
              "    .dataframe thead th {\n",
              "        text-align: right;\n",
              "    }\n",
              "</style>\n",
              "<table border=\"1\" class=\"dataframe\">\n",
              "  <thead>\n",
              "    <tr style=\"text-align: right;\">\n",
              "      <th></th>\n",
              "      <th>val</th>\n",
              "    </tr>\n",
              "    <tr>\n",
              "      <th>val</th>\n",
              "      <th></th>\n",
              "    </tr>\n",
              "  </thead>\n",
              "  <tbody>\n",
              "    <tr>\n",
              "      <th>Gd</th>\n",
              "      <td>Gd</td>\n",
              "    </tr>\n",
              "    <tr>\n",
              "      <th>TA</th>\n",
              "      <td>TA</td>\n",
              "    </tr>\n",
              "    <tr>\n",
              "      <th>Ex</th>\n",
              "      <td>Ex</td>\n",
              "    </tr>\n",
              "    <tr>\n",
              "      <th>Fa</th>\n",
              "      <td>Fa</td>\n",
              "    </tr>\n",
              "  </tbody>\n",
              "</table>\n",
              "</div>\n",
              "      <button class=\"colab-df-convert\" onclick=\"convertToInteractive('df-5941e2da-8a9d-461e-9af6-d8a1b4c92ff8')\"\n",
              "              title=\"Convert this dataframe to an interactive table.\"\n",
              "              style=\"display:none;\">\n",
              "        \n",
              "  <svg xmlns=\"http://www.w3.org/2000/svg\" height=\"24px\"viewBox=\"0 0 24 24\"\n",
              "       width=\"24px\">\n",
              "    <path d=\"M0 0h24v24H0V0z\" fill=\"none\"/>\n",
              "    <path d=\"M18.56 5.44l.94 2.06.94-2.06 2.06-.94-2.06-.94-.94-2.06-.94 2.06-2.06.94zm-11 1L8.5 8.5l.94-2.06 2.06-.94-2.06-.94L8.5 2.5l-.94 2.06-2.06.94zm10 10l.94 2.06.94-2.06 2.06-.94-2.06-.94-.94-2.06-.94 2.06-2.06.94z\"/><path d=\"M17.41 7.96l-1.37-1.37c-.4-.4-.92-.59-1.43-.59-.52 0-1.04.2-1.43.59L10.3 9.45l-7.72 7.72c-.78.78-.78 2.05 0 2.83L4 21.41c.39.39.9.59 1.41.59.51 0 1.02-.2 1.41-.59l7.78-7.78 2.81-2.81c.8-.78.8-2.07 0-2.86zM5.41 20L4 18.59l7.72-7.72 1.47 1.35L5.41 20z\"/>\n",
              "  </svg>\n",
              "      </button>\n",
              "      \n",
              "  <style>\n",
              "    .colab-df-container {\n",
              "      display:flex;\n",
              "      flex-wrap:wrap;\n",
              "      gap: 12px;\n",
              "    }\n",
              "\n",
              "    .colab-df-convert {\n",
              "      background-color: #E8F0FE;\n",
              "      border: none;\n",
              "      border-radius: 50%;\n",
              "      cursor: pointer;\n",
              "      display: none;\n",
              "      fill: #1967D2;\n",
              "      height: 32px;\n",
              "      padding: 0 0 0 0;\n",
              "      width: 32px;\n",
              "    }\n",
              "\n",
              "    .colab-df-convert:hover {\n",
              "      background-color: #E2EBFA;\n",
              "      box-shadow: 0px 1px 2px rgba(60, 64, 67, 0.3), 0px 1px 3px 1px rgba(60, 64, 67, 0.15);\n",
              "      fill: #174EA6;\n",
              "    }\n",
              "\n",
              "    [theme=dark] .colab-df-convert {\n",
              "      background-color: #3B4455;\n",
              "      fill: #D2E3FC;\n",
              "    }\n",
              "\n",
              "    [theme=dark] .colab-df-convert:hover {\n",
              "      background-color: #434B5C;\n",
              "      box-shadow: 0px 1px 3px 1px rgba(0, 0, 0, 0.15);\n",
              "      filter: drop-shadow(0px 1px 2px rgba(0, 0, 0, 0.3));\n",
              "      fill: #FFFFFF;\n",
              "    }\n",
              "  </style>\n",
              "\n",
              "      <script>\n",
              "        const buttonEl =\n",
              "          document.querySelector('#df-5941e2da-8a9d-461e-9af6-d8a1b4c92ff8 button.colab-df-convert');\n",
              "        buttonEl.style.display =\n",
              "          google.colab.kernel.accessAllowed ? 'block' : 'none';\n",
              "\n",
              "        async function convertToInteractive(key) {\n",
              "          const element = document.querySelector('#df-5941e2da-8a9d-461e-9af6-d8a1b4c92ff8');\n",
              "          const dataTable =\n",
              "            await google.colab.kernel.invokeFunction('convertToInteractive',\n",
              "                                                     [key], {});\n",
              "          if (!dataTable) return;\n",
              "\n",
              "          const docLinkHtml = 'Like what you see? Visit the ' +\n",
              "            '<a target=\"_blank\" href=https://colab.research.google.com/notebooks/data_table.ipynb>data table notebook</a>'\n",
              "            + ' to learn more about interactive tables.';\n",
              "          element.innerHTML = '';\n",
              "          dataTable['output_type'] = 'display_data';\n",
              "          await google.colab.output.renderOutput(dataTable, element);\n",
              "          const docLink = document.createElement('div');\n",
              "          docLink.innerHTML = docLinkHtml;\n",
              "          element.appendChild(docLink);\n",
              "        }\n",
              "      </script>\n",
              "    </div>\n",
              "  </div>\n",
              "  "
            ]
          },
          "metadata": {},
          "execution_count": 54
        }
      ]
    },
    {
      "cell_type": "code",
      "source": [
        "# 각 index 에 해당하는 sale price의 유의미한 값을 추축하고 싶다\n",
        "# 예를 들면 평균 같은 값\n",
        "df_train[[feature_name, 'SalePrice']]"
      ],
      "metadata": {
        "colab": {
          "base_uri": "https://localhost:8080/",
          "height": 424
        },
        "id": "ur4lsloszCAY",
        "outputId": "12b46990-b796-4ab0-f78f-7e341053ef4a"
      },
      "execution_count": 55,
      "outputs": [
        {
          "output_type": "execute_result",
          "data": {
            "text/plain": [
              "     ExterQual  SalePrice\n",
              "0           Gd     208500\n",
              "1           TA     181500\n",
              "2           Gd     223500\n",
              "3           TA     140000\n",
              "4           Gd     250000\n",
              "...        ...        ...\n",
              "1455        TA     175000\n",
              "1456        TA     210000\n",
              "1457        Ex     266500\n",
              "1458        TA     142125\n",
              "1459        Gd     147500\n",
              "\n",
              "[1460 rows x 2 columns]"
            ],
            "text/html": [
              "\n",
              "  <div id=\"df-7aadadeb-b123-4cb3-9f71-747cad696057\">\n",
              "    <div class=\"colab-df-container\">\n",
              "      <div>\n",
              "<style scoped>\n",
              "    .dataframe tbody tr th:only-of-type {\n",
              "        vertical-align: middle;\n",
              "    }\n",
              "\n",
              "    .dataframe tbody tr th {\n",
              "        vertical-align: top;\n",
              "    }\n",
              "\n",
              "    .dataframe thead th {\n",
              "        text-align: right;\n",
              "    }\n",
              "</style>\n",
              "<table border=\"1\" class=\"dataframe\">\n",
              "  <thead>\n",
              "    <tr style=\"text-align: right;\">\n",
              "      <th></th>\n",
              "      <th>ExterQual</th>\n",
              "      <th>SalePrice</th>\n",
              "    </tr>\n",
              "  </thead>\n",
              "  <tbody>\n",
              "    <tr>\n",
              "      <th>0</th>\n",
              "      <td>Gd</td>\n",
              "      <td>208500</td>\n",
              "    </tr>\n",
              "    <tr>\n",
              "      <th>1</th>\n",
              "      <td>TA</td>\n",
              "      <td>181500</td>\n",
              "    </tr>\n",
              "    <tr>\n",
              "      <th>2</th>\n",
              "      <td>Gd</td>\n",
              "      <td>223500</td>\n",
              "    </tr>\n",
              "    <tr>\n",
              "      <th>3</th>\n",
              "      <td>TA</td>\n",
              "      <td>140000</td>\n",
              "    </tr>\n",
              "    <tr>\n",
              "      <th>4</th>\n",
              "      <td>Gd</td>\n",
              "      <td>250000</td>\n",
              "    </tr>\n",
              "    <tr>\n",
              "      <th>...</th>\n",
              "      <td>...</td>\n",
              "      <td>...</td>\n",
              "    </tr>\n",
              "    <tr>\n",
              "      <th>1455</th>\n",
              "      <td>TA</td>\n",
              "      <td>175000</td>\n",
              "    </tr>\n",
              "    <tr>\n",
              "      <th>1456</th>\n",
              "      <td>TA</td>\n",
              "      <td>210000</td>\n",
              "    </tr>\n",
              "    <tr>\n",
              "      <th>1457</th>\n",
              "      <td>Ex</td>\n",
              "      <td>266500</td>\n",
              "    </tr>\n",
              "    <tr>\n",
              "      <th>1458</th>\n",
              "      <td>TA</td>\n",
              "      <td>142125</td>\n",
              "    </tr>\n",
              "    <tr>\n",
              "      <th>1459</th>\n",
              "      <td>Gd</td>\n",
              "      <td>147500</td>\n",
              "    </tr>\n",
              "  </tbody>\n",
              "</table>\n",
              "<p>1460 rows × 2 columns</p>\n",
              "</div>\n",
              "      <button class=\"colab-df-convert\" onclick=\"convertToInteractive('df-7aadadeb-b123-4cb3-9f71-747cad696057')\"\n",
              "              title=\"Convert this dataframe to an interactive table.\"\n",
              "              style=\"display:none;\">\n",
              "        \n",
              "  <svg xmlns=\"http://www.w3.org/2000/svg\" height=\"24px\"viewBox=\"0 0 24 24\"\n",
              "       width=\"24px\">\n",
              "    <path d=\"M0 0h24v24H0V0z\" fill=\"none\"/>\n",
              "    <path d=\"M18.56 5.44l.94 2.06.94-2.06 2.06-.94-2.06-.94-.94-2.06-.94 2.06-2.06.94zm-11 1L8.5 8.5l.94-2.06 2.06-.94-2.06-.94L8.5 2.5l-.94 2.06-2.06.94zm10 10l.94 2.06.94-2.06 2.06-.94-2.06-.94-.94-2.06-.94 2.06-2.06.94z\"/><path d=\"M17.41 7.96l-1.37-1.37c-.4-.4-.92-.59-1.43-.59-.52 0-1.04.2-1.43.59L10.3 9.45l-7.72 7.72c-.78.78-.78 2.05 0 2.83L4 21.41c.39.39.9.59 1.41.59.51 0 1.02-.2 1.41-.59l7.78-7.78 2.81-2.81c.8-.78.8-2.07 0-2.86zM5.41 20L4 18.59l7.72-7.72 1.47 1.35L5.41 20z\"/>\n",
              "  </svg>\n",
              "      </button>\n",
              "      \n",
              "  <style>\n",
              "    .colab-df-container {\n",
              "      display:flex;\n",
              "      flex-wrap:wrap;\n",
              "      gap: 12px;\n",
              "    }\n",
              "\n",
              "    .colab-df-convert {\n",
              "      background-color: #E8F0FE;\n",
              "      border: none;\n",
              "      border-radius: 50%;\n",
              "      cursor: pointer;\n",
              "      display: none;\n",
              "      fill: #1967D2;\n",
              "      height: 32px;\n",
              "      padding: 0 0 0 0;\n",
              "      width: 32px;\n",
              "    }\n",
              "\n",
              "    .colab-df-convert:hover {\n",
              "      background-color: #E2EBFA;\n",
              "      box-shadow: 0px 1px 2px rgba(60, 64, 67, 0.3), 0px 1px 3px 1px rgba(60, 64, 67, 0.15);\n",
              "      fill: #174EA6;\n",
              "    }\n",
              "\n",
              "    [theme=dark] .colab-df-convert {\n",
              "      background-color: #3B4455;\n",
              "      fill: #D2E3FC;\n",
              "    }\n",
              "\n",
              "    [theme=dark] .colab-df-convert:hover {\n",
              "      background-color: #434B5C;\n",
              "      box-shadow: 0px 1px 3px 1px rgba(0, 0, 0, 0.15);\n",
              "      filter: drop-shadow(0px 1px 2px rgba(0, 0, 0, 0.3));\n",
              "      fill: #FFFFFF;\n",
              "    }\n",
              "  </style>\n",
              "\n",
              "      <script>\n",
              "        const buttonEl =\n",
              "          document.querySelector('#df-7aadadeb-b123-4cb3-9f71-747cad696057 button.colab-df-convert');\n",
              "        buttonEl.style.display =\n",
              "          google.colab.kernel.accessAllowed ? 'block' : 'none';\n",
              "\n",
              "        async function convertToInteractive(key) {\n",
              "          const element = document.querySelector('#df-7aadadeb-b123-4cb3-9f71-747cad696057');\n",
              "          const dataTable =\n",
              "            await google.colab.kernel.invokeFunction('convertToInteractive',\n",
              "                                                     [key], {});\n",
              "          if (!dataTable) return;\n",
              "\n",
              "          const docLinkHtml = 'Like what you see? Visit the ' +\n",
              "            '<a target=\"_blank\" href=https://colab.research.google.com/notebooks/data_table.ipynb>data table notebook</a>'\n",
              "            + ' to learn more about interactive tables.';\n",
              "          element.innerHTML = '';\n",
              "          dataTable['output_type'] = 'display_data';\n",
              "          await google.colab.output.renderOutput(dataTable, element);\n",
              "          const docLink = document.createElement('div');\n",
              "          docLink.innerHTML = docLinkHtml;\n",
              "          element.appendChild(docLink);\n",
              "        }\n",
              "      </script>\n",
              "    </div>\n",
              "  </div>\n",
              "  "
            ]
          },
          "metadata": {},
          "execution_count": 55
        }
      ]
    },
    {
      "cell_type": "code",
      "source": [
        "# ExterQual로 group화를 해서 계산해줘야 함\n",
        "# mean : 평균\n",
        "df_order['mean_price'] = df_train[[feature_name, 'SalePrice']].groupby(feature_name).mean()['SalePrice']"
      ],
      "metadata": {
        "id": "WEv_bSadzdB4"
      },
      "execution_count": 56,
      "outputs": []
    },
    {
      "cell_type": "code",
      "source": [
        "# 각 grade별 평균치 나옴\n",
        "df_order"
      ],
      "metadata": {
        "colab": {
          "base_uri": "https://localhost:8080/",
          "height": 206
        },
        "id": "XlqsipSFz-5R",
        "outputId": "b69e522c-54f8-4d07-df5c-16309b20a108"
      },
      "execution_count": 57,
      "outputs": [
        {
          "output_type": "execute_result",
          "data": {
            "text/plain": [
              "    val     mean_price\n",
              "val                   \n",
              "Gd   Gd  231633.510246\n",
              "TA   TA  144341.313466\n",
              "Ex   Ex  367360.961538\n",
              "Fa   Fa   87985.214286"
            ],
            "text/html": [
              "\n",
              "  <div id=\"df-d3e0f112-2049-4208-8043-11d741d96365\">\n",
              "    <div class=\"colab-df-container\">\n",
              "      <div>\n",
              "<style scoped>\n",
              "    .dataframe tbody tr th:only-of-type {\n",
              "        vertical-align: middle;\n",
              "    }\n",
              "\n",
              "    .dataframe tbody tr th {\n",
              "        vertical-align: top;\n",
              "    }\n",
              "\n",
              "    .dataframe thead th {\n",
              "        text-align: right;\n",
              "    }\n",
              "</style>\n",
              "<table border=\"1\" class=\"dataframe\">\n",
              "  <thead>\n",
              "    <tr style=\"text-align: right;\">\n",
              "      <th></th>\n",
              "      <th>val</th>\n",
              "      <th>mean_price</th>\n",
              "    </tr>\n",
              "    <tr>\n",
              "      <th>val</th>\n",
              "      <th></th>\n",
              "      <th></th>\n",
              "    </tr>\n",
              "  </thead>\n",
              "  <tbody>\n",
              "    <tr>\n",
              "      <th>Gd</th>\n",
              "      <td>Gd</td>\n",
              "      <td>231633.510246</td>\n",
              "    </tr>\n",
              "    <tr>\n",
              "      <th>TA</th>\n",
              "      <td>TA</td>\n",
              "      <td>144341.313466</td>\n",
              "    </tr>\n",
              "    <tr>\n",
              "      <th>Ex</th>\n",
              "      <td>Ex</td>\n",
              "      <td>367360.961538</td>\n",
              "    </tr>\n",
              "    <tr>\n",
              "      <th>Fa</th>\n",
              "      <td>Fa</td>\n",
              "      <td>87985.214286</td>\n",
              "    </tr>\n",
              "  </tbody>\n",
              "</table>\n",
              "</div>\n",
              "      <button class=\"colab-df-convert\" onclick=\"convertToInteractive('df-d3e0f112-2049-4208-8043-11d741d96365')\"\n",
              "              title=\"Convert this dataframe to an interactive table.\"\n",
              "              style=\"display:none;\">\n",
              "        \n",
              "  <svg xmlns=\"http://www.w3.org/2000/svg\" height=\"24px\"viewBox=\"0 0 24 24\"\n",
              "       width=\"24px\">\n",
              "    <path d=\"M0 0h24v24H0V0z\" fill=\"none\"/>\n",
              "    <path d=\"M18.56 5.44l.94 2.06.94-2.06 2.06-.94-2.06-.94-.94-2.06-.94 2.06-2.06.94zm-11 1L8.5 8.5l.94-2.06 2.06-.94-2.06-.94L8.5 2.5l-.94 2.06-2.06.94zm10 10l.94 2.06.94-2.06 2.06-.94-2.06-.94-.94-2.06-.94 2.06-2.06.94z\"/><path d=\"M17.41 7.96l-1.37-1.37c-.4-.4-.92-.59-1.43-.59-.52 0-1.04.2-1.43.59L10.3 9.45l-7.72 7.72c-.78.78-.78 2.05 0 2.83L4 21.41c.39.39.9.59 1.41.59.51 0 1.02-.2 1.41-.59l7.78-7.78 2.81-2.81c.8-.78.8-2.07 0-2.86zM5.41 20L4 18.59l7.72-7.72 1.47 1.35L5.41 20z\"/>\n",
              "  </svg>\n",
              "      </button>\n",
              "      \n",
              "  <style>\n",
              "    .colab-df-container {\n",
              "      display:flex;\n",
              "      flex-wrap:wrap;\n",
              "      gap: 12px;\n",
              "    }\n",
              "\n",
              "    .colab-df-convert {\n",
              "      background-color: #E8F0FE;\n",
              "      border: none;\n",
              "      border-radius: 50%;\n",
              "      cursor: pointer;\n",
              "      display: none;\n",
              "      fill: #1967D2;\n",
              "      height: 32px;\n",
              "      padding: 0 0 0 0;\n",
              "      width: 32px;\n",
              "    }\n",
              "\n",
              "    .colab-df-convert:hover {\n",
              "      background-color: #E2EBFA;\n",
              "      box-shadow: 0px 1px 2px rgba(60, 64, 67, 0.3), 0px 1px 3px 1px rgba(60, 64, 67, 0.15);\n",
              "      fill: #174EA6;\n",
              "    }\n",
              "\n",
              "    [theme=dark] .colab-df-convert {\n",
              "      background-color: #3B4455;\n",
              "      fill: #D2E3FC;\n",
              "    }\n",
              "\n",
              "    [theme=dark] .colab-df-convert:hover {\n",
              "      background-color: #434B5C;\n",
              "      box-shadow: 0px 1px 3px 1px rgba(0, 0, 0, 0.15);\n",
              "      filter: drop-shadow(0px 1px 2px rgba(0, 0, 0, 0.3));\n",
              "      fill: #FFFFFF;\n",
              "    }\n",
              "  </style>\n",
              "\n",
              "      <script>\n",
              "        const buttonEl =\n",
              "          document.querySelector('#df-d3e0f112-2049-4208-8043-11d741d96365 button.colab-df-convert');\n",
              "        buttonEl.style.display =\n",
              "          google.colab.kernel.accessAllowed ? 'block' : 'none';\n",
              "\n",
              "        async function convertToInteractive(key) {\n",
              "          const element = document.querySelector('#df-d3e0f112-2049-4208-8043-11d741d96365');\n",
              "          const dataTable =\n",
              "            await google.colab.kernel.invokeFunction('convertToInteractive',\n",
              "                                                     [key], {});\n",
              "          if (!dataTable) return;\n",
              "\n",
              "          const docLinkHtml = 'Like what you see? Visit the ' +\n",
              "            '<a target=\"_blank\" href=https://colab.research.google.com/notebooks/data_table.ipynb>data table notebook</a>'\n",
              "            + ' to learn more about interactive tables.';\n",
              "          element.innerHTML = '';\n",
              "          dataTable['output_type'] = 'display_data';\n",
              "          await google.colab.output.renderOutput(dataTable, element);\n",
              "          const docLink = document.createElement('div');\n",
              "          docLink.innerHTML = docLinkHtml;\n",
              "          element.appendChild(docLink);\n",
              "        }\n",
              "      </script>\n",
              "    </div>\n",
              "  </div>\n",
              "  "
            ]
          },
          "metadata": {},
          "execution_count": 57
        }
      ]
    },
    {
      "cell_type": "code",
      "source": [
        "# sorting\n",
        "df_order = df_order.sort_values('mean_price')\n",
        "\n",
        "df_order"
      ],
      "metadata": {
        "colab": {
          "base_uri": "https://localhost:8080/",
          "height": 206
        },
        "id": "JZqHKEPe0A4R",
        "outputId": "89993581-8cbb-48c7-84b8-8aba8ce71867"
      },
      "execution_count": 58,
      "outputs": [
        {
          "output_type": "execute_result",
          "data": {
            "text/plain": [
              "    val     mean_price\n",
              "val                   \n",
              "Fa   Fa   87985.214286\n",
              "TA   TA  144341.313466\n",
              "Gd   Gd  231633.510246\n",
              "Ex   Ex  367360.961538"
            ],
            "text/html": [
              "\n",
              "  <div id=\"df-4d7458c7-a0db-4535-ace6-55b105da41c3\">\n",
              "    <div class=\"colab-df-container\">\n",
              "      <div>\n",
              "<style scoped>\n",
              "    .dataframe tbody tr th:only-of-type {\n",
              "        vertical-align: middle;\n",
              "    }\n",
              "\n",
              "    .dataframe tbody tr th {\n",
              "        vertical-align: top;\n",
              "    }\n",
              "\n",
              "    .dataframe thead th {\n",
              "        text-align: right;\n",
              "    }\n",
              "</style>\n",
              "<table border=\"1\" class=\"dataframe\">\n",
              "  <thead>\n",
              "    <tr style=\"text-align: right;\">\n",
              "      <th></th>\n",
              "      <th>val</th>\n",
              "      <th>mean_price</th>\n",
              "    </tr>\n",
              "    <tr>\n",
              "      <th>val</th>\n",
              "      <th></th>\n",
              "      <th></th>\n",
              "    </tr>\n",
              "  </thead>\n",
              "  <tbody>\n",
              "    <tr>\n",
              "      <th>Fa</th>\n",
              "      <td>Fa</td>\n",
              "      <td>87985.214286</td>\n",
              "    </tr>\n",
              "    <tr>\n",
              "      <th>TA</th>\n",
              "      <td>TA</td>\n",
              "      <td>144341.313466</td>\n",
              "    </tr>\n",
              "    <tr>\n",
              "      <th>Gd</th>\n",
              "      <td>Gd</td>\n",
              "      <td>231633.510246</td>\n",
              "    </tr>\n",
              "    <tr>\n",
              "      <th>Ex</th>\n",
              "      <td>Ex</td>\n",
              "      <td>367360.961538</td>\n",
              "    </tr>\n",
              "  </tbody>\n",
              "</table>\n",
              "</div>\n",
              "      <button class=\"colab-df-convert\" onclick=\"convertToInteractive('df-4d7458c7-a0db-4535-ace6-55b105da41c3')\"\n",
              "              title=\"Convert this dataframe to an interactive table.\"\n",
              "              style=\"display:none;\">\n",
              "        \n",
              "  <svg xmlns=\"http://www.w3.org/2000/svg\" height=\"24px\"viewBox=\"0 0 24 24\"\n",
              "       width=\"24px\">\n",
              "    <path d=\"M0 0h24v24H0V0z\" fill=\"none\"/>\n",
              "    <path d=\"M18.56 5.44l.94 2.06.94-2.06 2.06-.94-2.06-.94-.94-2.06-.94 2.06-2.06.94zm-11 1L8.5 8.5l.94-2.06 2.06-.94-2.06-.94L8.5 2.5l-.94 2.06-2.06.94zm10 10l.94 2.06.94-2.06 2.06-.94-2.06-.94-.94-2.06-.94 2.06-2.06.94z\"/><path d=\"M17.41 7.96l-1.37-1.37c-.4-.4-.92-.59-1.43-.59-.52 0-1.04.2-1.43.59L10.3 9.45l-7.72 7.72c-.78.78-.78 2.05 0 2.83L4 21.41c.39.39.9.59 1.41.59.51 0 1.02-.2 1.41-.59l7.78-7.78 2.81-2.81c.8-.78.8-2.07 0-2.86zM5.41 20L4 18.59l7.72-7.72 1.47 1.35L5.41 20z\"/>\n",
              "  </svg>\n",
              "      </button>\n",
              "      \n",
              "  <style>\n",
              "    .colab-df-container {\n",
              "      display:flex;\n",
              "      flex-wrap:wrap;\n",
              "      gap: 12px;\n",
              "    }\n",
              "\n",
              "    .colab-df-convert {\n",
              "      background-color: #E8F0FE;\n",
              "      border: none;\n",
              "      border-radius: 50%;\n",
              "      cursor: pointer;\n",
              "      display: none;\n",
              "      fill: #1967D2;\n",
              "      height: 32px;\n",
              "      padding: 0 0 0 0;\n",
              "      width: 32px;\n",
              "    }\n",
              "\n",
              "    .colab-df-convert:hover {\n",
              "      background-color: #E2EBFA;\n",
              "      box-shadow: 0px 1px 2px rgba(60, 64, 67, 0.3), 0px 1px 3px 1px rgba(60, 64, 67, 0.15);\n",
              "      fill: #174EA6;\n",
              "    }\n",
              "\n",
              "    [theme=dark] .colab-df-convert {\n",
              "      background-color: #3B4455;\n",
              "      fill: #D2E3FC;\n",
              "    }\n",
              "\n",
              "    [theme=dark] .colab-df-convert:hover {\n",
              "      background-color: #434B5C;\n",
              "      box-shadow: 0px 1px 3px 1px rgba(0, 0, 0, 0.15);\n",
              "      filter: drop-shadow(0px 1px 2px rgba(0, 0, 0, 0.3));\n",
              "      fill: #FFFFFF;\n",
              "    }\n",
              "  </style>\n",
              "\n",
              "      <script>\n",
              "        const buttonEl =\n",
              "          document.querySelector('#df-4d7458c7-a0db-4535-ace6-55b105da41c3 button.colab-df-convert');\n",
              "        buttonEl.style.display =\n",
              "          google.colab.kernel.accessAllowed ? 'block' : 'none';\n",
              "\n",
              "        async function convertToInteractive(key) {\n",
              "          const element = document.querySelector('#df-4d7458c7-a0db-4535-ace6-55b105da41c3');\n",
              "          const dataTable =\n",
              "            await google.colab.kernel.invokeFunction('convertToInteractive',\n",
              "                                                     [key], {});\n",
              "          if (!dataTable) return;\n",
              "\n",
              "          const docLinkHtml = 'Like what you see? Visit the ' +\n",
              "            '<a target=\"_blank\" href=https://colab.research.google.com/notebooks/data_table.ipynb>data table notebook</a>'\n",
              "            + ' to learn more about interactive tables.';\n",
              "          element.innerHTML = '';\n",
              "          dataTable['output_type'] = 'display_data';\n",
              "          await google.colab.output.renderOutput(dataTable, element);\n",
              "          const docLink = document.createElement('div');\n",
              "          docLink.innerHTML = docLinkHtml;\n",
              "          element.appendChild(docLink);\n",
              "        }\n",
              "      </script>\n",
              "    </div>\n",
              "  </div>\n",
              "  "
            ]
          },
          "metadata": {},
          "execution_count": 58
        }
      ]
    },
    {
      "cell_type": "code",
      "source": [
        "# sorting 된 순서대로 점수를 부여\n",
        "df_order['rank'] = range(1, len(df_order)+1)\n",
        "\n",
        "df_order"
      ],
      "metadata": {
        "colab": {
          "base_uri": "https://localhost:8080/",
          "height": 206
        },
        "id": "RScmgBGZ0Uf4",
        "outputId": "ef3f5331-3290-449b-89d1-26171abc4af1"
      },
      "execution_count": 59,
      "outputs": [
        {
          "output_type": "execute_result",
          "data": {
            "text/plain": [
              "    val     mean_price  rank\n",
              "val                         \n",
              "Fa   Fa   87985.214286     1\n",
              "TA   TA  144341.313466     2\n",
              "Gd   Gd  231633.510246     3\n",
              "Ex   Ex  367360.961538     4"
            ],
            "text/html": [
              "\n",
              "  <div id=\"df-624065a7-4321-41db-9a50-c51f48968a9b\">\n",
              "    <div class=\"colab-df-container\">\n",
              "      <div>\n",
              "<style scoped>\n",
              "    .dataframe tbody tr th:only-of-type {\n",
              "        vertical-align: middle;\n",
              "    }\n",
              "\n",
              "    .dataframe tbody tr th {\n",
              "        vertical-align: top;\n",
              "    }\n",
              "\n",
              "    .dataframe thead th {\n",
              "        text-align: right;\n",
              "    }\n",
              "</style>\n",
              "<table border=\"1\" class=\"dataframe\">\n",
              "  <thead>\n",
              "    <tr style=\"text-align: right;\">\n",
              "      <th></th>\n",
              "      <th>val</th>\n",
              "      <th>mean_price</th>\n",
              "      <th>rank</th>\n",
              "    </tr>\n",
              "    <tr>\n",
              "      <th>val</th>\n",
              "      <th></th>\n",
              "      <th></th>\n",
              "      <th></th>\n",
              "    </tr>\n",
              "  </thead>\n",
              "  <tbody>\n",
              "    <tr>\n",
              "      <th>Fa</th>\n",
              "      <td>Fa</td>\n",
              "      <td>87985.214286</td>\n",
              "      <td>1</td>\n",
              "    </tr>\n",
              "    <tr>\n",
              "      <th>TA</th>\n",
              "      <td>TA</td>\n",
              "      <td>144341.313466</td>\n",
              "      <td>2</td>\n",
              "    </tr>\n",
              "    <tr>\n",
              "      <th>Gd</th>\n",
              "      <td>Gd</td>\n",
              "      <td>231633.510246</td>\n",
              "      <td>3</td>\n",
              "    </tr>\n",
              "    <tr>\n",
              "      <th>Ex</th>\n",
              "      <td>Ex</td>\n",
              "      <td>367360.961538</td>\n",
              "      <td>4</td>\n",
              "    </tr>\n",
              "  </tbody>\n",
              "</table>\n",
              "</div>\n",
              "      <button class=\"colab-df-convert\" onclick=\"convertToInteractive('df-624065a7-4321-41db-9a50-c51f48968a9b')\"\n",
              "              title=\"Convert this dataframe to an interactive table.\"\n",
              "              style=\"display:none;\">\n",
              "        \n",
              "  <svg xmlns=\"http://www.w3.org/2000/svg\" height=\"24px\"viewBox=\"0 0 24 24\"\n",
              "       width=\"24px\">\n",
              "    <path d=\"M0 0h24v24H0V0z\" fill=\"none\"/>\n",
              "    <path d=\"M18.56 5.44l.94 2.06.94-2.06 2.06-.94-2.06-.94-.94-2.06-.94 2.06-2.06.94zm-11 1L8.5 8.5l.94-2.06 2.06-.94-2.06-.94L8.5 2.5l-.94 2.06-2.06.94zm10 10l.94 2.06.94-2.06 2.06-.94-2.06-.94-.94-2.06-.94 2.06-2.06.94z\"/><path d=\"M17.41 7.96l-1.37-1.37c-.4-.4-.92-.59-1.43-.59-.52 0-1.04.2-1.43.59L10.3 9.45l-7.72 7.72c-.78.78-.78 2.05 0 2.83L4 21.41c.39.39.9.59 1.41.59.51 0 1.02-.2 1.41-.59l7.78-7.78 2.81-2.81c.8-.78.8-2.07 0-2.86zM5.41 20L4 18.59l7.72-7.72 1.47 1.35L5.41 20z\"/>\n",
              "  </svg>\n",
              "      </button>\n",
              "      \n",
              "  <style>\n",
              "    .colab-df-container {\n",
              "      display:flex;\n",
              "      flex-wrap:wrap;\n",
              "      gap: 12px;\n",
              "    }\n",
              "\n",
              "    .colab-df-convert {\n",
              "      background-color: #E8F0FE;\n",
              "      border: none;\n",
              "      border-radius: 50%;\n",
              "      cursor: pointer;\n",
              "      display: none;\n",
              "      fill: #1967D2;\n",
              "      height: 32px;\n",
              "      padding: 0 0 0 0;\n",
              "      width: 32px;\n",
              "    }\n",
              "\n",
              "    .colab-df-convert:hover {\n",
              "      background-color: #E2EBFA;\n",
              "      box-shadow: 0px 1px 2px rgba(60, 64, 67, 0.3), 0px 1px 3px 1px rgba(60, 64, 67, 0.15);\n",
              "      fill: #174EA6;\n",
              "    }\n",
              "\n",
              "    [theme=dark] .colab-df-convert {\n",
              "      background-color: #3B4455;\n",
              "      fill: #D2E3FC;\n",
              "    }\n",
              "\n",
              "    [theme=dark] .colab-df-convert:hover {\n",
              "      background-color: #434B5C;\n",
              "      box-shadow: 0px 1px 3px 1px rgba(0, 0, 0, 0.15);\n",
              "      filter: drop-shadow(0px 1px 2px rgba(0, 0, 0, 0.3));\n",
              "      fill: #FFFFFF;\n",
              "    }\n",
              "  </style>\n",
              "\n",
              "      <script>\n",
              "        const buttonEl =\n",
              "          document.querySelector('#df-624065a7-4321-41db-9a50-c51f48968a9b button.colab-df-convert');\n",
              "        buttonEl.style.display =\n",
              "          google.colab.kernel.accessAllowed ? 'block' : 'none';\n",
              "\n",
              "        async function convertToInteractive(key) {\n",
              "          const element = document.querySelector('#df-624065a7-4321-41db-9a50-c51f48968a9b');\n",
              "          const dataTable =\n",
              "            await google.colab.kernel.invokeFunction('convertToInteractive',\n",
              "                                                     [key], {});\n",
              "          if (!dataTable) return;\n",
              "\n",
              "          const docLinkHtml = 'Like what you see? Visit the ' +\n",
              "            '<a target=\"_blank\" href=https://colab.research.google.com/notebooks/data_table.ipynb>data table notebook</a>'\n",
              "            + ' to learn more about interactive tables.';\n",
              "          element.innerHTML = '';\n",
              "          dataTable['output_type'] = 'display_data';\n",
              "          await google.colab.output.renderOutput(dataTable, element);\n",
              "          const docLink = document.createElement('div');\n",
              "          docLink.innerHTML = docLinkHtml;\n",
              "          element.appendChild(docLink);\n",
              "        }\n",
              "      </script>\n",
              "    </div>\n",
              "  </div>\n",
              "  "
            ]
          },
          "metadata": {},
          "execution_count": 59
        }
      ]
    },
    {
      "cell_type": "code",
      "source": [
        "# dictionary 만들어주자\n",
        "df_order = df_order['rank'].to_dict()"
      ],
      "metadata": {
        "id": "WUFJ5OjX0mIO"
      },
      "execution_count": 60,
      "outputs": []
    },
    {
      "cell_type": "code",
      "source": [
        "df_order"
      ],
      "metadata": {
        "colab": {
          "base_uri": "https://localhost:8080/"
        },
        "id": "d1r6EfWE05BQ",
        "outputId": "7adc9abc-a2a0-4a41-cd59-38f4d9eb69ca"
      },
      "execution_count": 61,
      "outputs": [
        {
          "output_type": "execute_result",
          "data": {
            "text/plain": [
              "{'Fa': 1, 'TA': 2, 'Gd': 3, 'Ex': 4}"
            ]
          },
          "metadata": {},
          "execution_count": 61
        }
      ]
    },
    {
      "cell_type": "code",
      "source": [
        "df_train[[feature_name]]"
      ],
      "metadata": {
        "colab": {
          "base_uri": "https://localhost:8080/",
          "height": 424
        },
        "id": "I0Yo03141qqe",
        "outputId": "486ca736-52f9-4b7b-9cf0-1c7f3bf79645"
      },
      "execution_count": 62,
      "outputs": [
        {
          "output_type": "execute_result",
          "data": {
            "text/plain": [
              "     ExterQual\n",
              "0           Gd\n",
              "1           TA\n",
              "2           Gd\n",
              "3           TA\n",
              "4           Gd\n",
              "...        ...\n",
              "1455        TA\n",
              "1456        TA\n",
              "1457        Ex\n",
              "1458        TA\n",
              "1459        Gd\n",
              "\n",
              "[1460 rows x 1 columns]"
            ],
            "text/html": [
              "\n",
              "  <div id=\"df-e361ceb3-8d71-43b7-a06b-8fc0a7d14ec2\">\n",
              "    <div class=\"colab-df-container\">\n",
              "      <div>\n",
              "<style scoped>\n",
              "    .dataframe tbody tr th:only-of-type {\n",
              "        vertical-align: middle;\n",
              "    }\n",
              "\n",
              "    .dataframe tbody tr th {\n",
              "        vertical-align: top;\n",
              "    }\n",
              "\n",
              "    .dataframe thead th {\n",
              "        text-align: right;\n",
              "    }\n",
              "</style>\n",
              "<table border=\"1\" class=\"dataframe\">\n",
              "  <thead>\n",
              "    <tr style=\"text-align: right;\">\n",
              "      <th></th>\n",
              "      <th>ExterQual</th>\n",
              "    </tr>\n",
              "  </thead>\n",
              "  <tbody>\n",
              "    <tr>\n",
              "      <th>0</th>\n",
              "      <td>Gd</td>\n",
              "    </tr>\n",
              "    <tr>\n",
              "      <th>1</th>\n",
              "      <td>TA</td>\n",
              "    </tr>\n",
              "    <tr>\n",
              "      <th>2</th>\n",
              "      <td>Gd</td>\n",
              "    </tr>\n",
              "    <tr>\n",
              "      <th>3</th>\n",
              "      <td>TA</td>\n",
              "    </tr>\n",
              "    <tr>\n",
              "      <th>4</th>\n",
              "      <td>Gd</td>\n",
              "    </tr>\n",
              "    <tr>\n",
              "      <th>...</th>\n",
              "      <td>...</td>\n",
              "    </tr>\n",
              "    <tr>\n",
              "      <th>1455</th>\n",
              "      <td>TA</td>\n",
              "    </tr>\n",
              "    <tr>\n",
              "      <th>1456</th>\n",
              "      <td>TA</td>\n",
              "    </tr>\n",
              "    <tr>\n",
              "      <th>1457</th>\n",
              "      <td>Ex</td>\n",
              "    </tr>\n",
              "    <tr>\n",
              "      <th>1458</th>\n",
              "      <td>TA</td>\n",
              "    </tr>\n",
              "    <tr>\n",
              "      <th>1459</th>\n",
              "      <td>Gd</td>\n",
              "    </tr>\n",
              "  </tbody>\n",
              "</table>\n",
              "<p>1460 rows × 1 columns</p>\n",
              "</div>\n",
              "      <button class=\"colab-df-convert\" onclick=\"convertToInteractive('df-e361ceb3-8d71-43b7-a06b-8fc0a7d14ec2')\"\n",
              "              title=\"Convert this dataframe to an interactive table.\"\n",
              "              style=\"display:none;\">\n",
              "        \n",
              "  <svg xmlns=\"http://www.w3.org/2000/svg\" height=\"24px\"viewBox=\"0 0 24 24\"\n",
              "       width=\"24px\">\n",
              "    <path d=\"M0 0h24v24H0V0z\" fill=\"none\"/>\n",
              "    <path d=\"M18.56 5.44l.94 2.06.94-2.06 2.06-.94-2.06-.94-.94-2.06-.94 2.06-2.06.94zm-11 1L8.5 8.5l.94-2.06 2.06-.94-2.06-.94L8.5 2.5l-.94 2.06-2.06.94zm10 10l.94 2.06.94-2.06 2.06-.94-2.06-.94-.94-2.06-.94 2.06-2.06.94z\"/><path d=\"M17.41 7.96l-1.37-1.37c-.4-.4-.92-.59-1.43-.59-.52 0-1.04.2-1.43.59L10.3 9.45l-7.72 7.72c-.78.78-.78 2.05 0 2.83L4 21.41c.39.39.9.59 1.41.59.51 0 1.02-.2 1.41-.59l7.78-7.78 2.81-2.81c.8-.78.8-2.07 0-2.86zM5.41 20L4 18.59l7.72-7.72 1.47 1.35L5.41 20z\"/>\n",
              "  </svg>\n",
              "      </button>\n",
              "      \n",
              "  <style>\n",
              "    .colab-df-container {\n",
              "      display:flex;\n",
              "      flex-wrap:wrap;\n",
              "      gap: 12px;\n",
              "    }\n",
              "\n",
              "    .colab-df-convert {\n",
              "      background-color: #E8F0FE;\n",
              "      border: none;\n",
              "      border-radius: 50%;\n",
              "      cursor: pointer;\n",
              "      display: none;\n",
              "      fill: #1967D2;\n",
              "      height: 32px;\n",
              "      padding: 0 0 0 0;\n",
              "      width: 32px;\n",
              "    }\n",
              "\n",
              "    .colab-df-convert:hover {\n",
              "      background-color: #E2EBFA;\n",
              "      box-shadow: 0px 1px 2px rgba(60, 64, 67, 0.3), 0px 1px 3px 1px rgba(60, 64, 67, 0.15);\n",
              "      fill: #174EA6;\n",
              "    }\n",
              "\n",
              "    [theme=dark] .colab-df-convert {\n",
              "      background-color: #3B4455;\n",
              "      fill: #D2E3FC;\n",
              "    }\n",
              "\n",
              "    [theme=dark] .colab-df-convert:hover {\n",
              "      background-color: #434B5C;\n",
              "      box-shadow: 0px 1px 3px 1px rgba(0, 0, 0, 0.15);\n",
              "      filter: drop-shadow(0px 1px 2px rgba(0, 0, 0, 0.3));\n",
              "      fill: #FFFFFF;\n",
              "    }\n",
              "  </style>\n",
              "\n",
              "      <script>\n",
              "        const buttonEl =\n",
              "          document.querySelector('#df-e361ceb3-8d71-43b7-a06b-8fc0a7d14ec2 button.colab-df-convert');\n",
              "        buttonEl.style.display =\n",
              "          google.colab.kernel.accessAllowed ? 'block' : 'none';\n",
              "\n",
              "        async function convertToInteractive(key) {\n",
              "          const element = document.querySelector('#df-e361ceb3-8d71-43b7-a06b-8fc0a7d14ec2');\n",
              "          const dataTable =\n",
              "            await google.colab.kernel.invokeFunction('convertToInteractive',\n",
              "                                                     [key], {});\n",
              "          if (!dataTable) return;\n",
              "\n",
              "          const docLinkHtml = 'Like what you see? Visit the ' +\n",
              "            '<a target=\"_blank\" href=https://colab.research.google.com/notebooks/data_table.ipynb>data table notebook</a>'\n",
              "            + ' to learn more about interactive tables.';\n",
              "          element.innerHTML = '';\n",
              "          dataTable['output_type'] = 'display_data';\n",
              "          await google.colab.output.renderOutput(dataTable, element);\n",
              "          const docLink = document.createElement('div');\n",
              "          docLink.innerHTML = docLinkHtml;\n",
              "          element.appendChild(docLink);\n",
              "        }\n",
              "      </script>\n",
              "    </div>\n",
              "  </div>\n",
              "  "
            ]
          },
          "metadata": {},
          "execution_count": 62
        }
      ]
    },
    {
      "cell_type": "code",
      "source": [
        "# df_train에 text형 대신 숫자로 바꿔줘야 함\n",
        "# 원본 데이터는 웬만하면 훼손하지 말고 추가하는 방식으로 데이터를 삽입하자\n",
        "# apply : 함수를 호출해 특정 column에 추가해줄 수 있음\n",
        "df_train[feature_name + '_rank'] = df_train.apply(lambda x: df_order[x[feature_name]], axis=1)"
      ],
      "metadata": {
        "id": "42-NagtT06mH"
      },
      "execution_count": 63,
      "outputs": []
    },
    {
      "cell_type": "code",
      "source": [
        "df_train[[feature_name, feature_name + '_rank']]"
      ],
      "metadata": {
        "colab": {
          "base_uri": "https://localhost:8080/",
          "height": 424
        },
        "id": "W08JxeWv2nMB",
        "outputId": "51cb2932-77a6-43c7-9cd7-084ccf328d25"
      },
      "execution_count": 64,
      "outputs": [
        {
          "output_type": "execute_result",
          "data": {
            "text/plain": [
              "     ExterQual  ExterQual_rank\n",
              "0           Gd               3\n",
              "1           TA               2\n",
              "2           Gd               3\n",
              "3           TA               2\n",
              "4           Gd               3\n",
              "...        ...             ...\n",
              "1455        TA               2\n",
              "1456        TA               2\n",
              "1457        Ex               4\n",
              "1458        TA               2\n",
              "1459        Gd               3\n",
              "\n",
              "[1460 rows x 2 columns]"
            ],
            "text/html": [
              "\n",
              "  <div id=\"df-f0f7cd0e-9980-443a-9362-1bc0afc96ab5\">\n",
              "    <div class=\"colab-df-container\">\n",
              "      <div>\n",
              "<style scoped>\n",
              "    .dataframe tbody tr th:only-of-type {\n",
              "        vertical-align: middle;\n",
              "    }\n",
              "\n",
              "    .dataframe tbody tr th {\n",
              "        vertical-align: top;\n",
              "    }\n",
              "\n",
              "    .dataframe thead th {\n",
              "        text-align: right;\n",
              "    }\n",
              "</style>\n",
              "<table border=\"1\" class=\"dataframe\">\n",
              "  <thead>\n",
              "    <tr style=\"text-align: right;\">\n",
              "      <th></th>\n",
              "      <th>ExterQual</th>\n",
              "      <th>ExterQual_rank</th>\n",
              "    </tr>\n",
              "  </thead>\n",
              "  <tbody>\n",
              "    <tr>\n",
              "      <th>0</th>\n",
              "      <td>Gd</td>\n",
              "      <td>3</td>\n",
              "    </tr>\n",
              "    <tr>\n",
              "      <th>1</th>\n",
              "      <td>TA</td>\n",
              "      <td>2</td>\n",
              "    </tr>\n",
              "    <tr>\n",
              "      <th>2</th>\n",
              "      <td>Gd</td>\n",
              "      <td>3</td>\n",
              "    </tr>\n",
              "    <tr>\n",
              "      <th>3</th>\n",
              "      <td>TA</td>\n",
              "      <td>2</td>\n",
              "    </tr>\n",
              "    <tr>\n",
              "      <th>4</th>\n",
              "      <td>Gd</td>\n",
              "      <td>3</td>\n",
              "    </tr>\n",
              "    <tr>\n",
              "      <th>...</th>\n",
              "      <td>...</td>\n",
              "      <td>...</td>\n",
              "    </tr>\n",
              "    <tr>\n",
              "      <th>1455</th>\n",
              "      <td>TA</td>\n",
              "      <td>2</td>\n",
              "    </tr>\n",
              "    <tr>\n",
              "      <th>1456</th>\n",
              "      <td>TA</td>\n",
              "      <td>2</td>\n",
              "    </tr>\n",
              "    <tr>\n",
              "      <th>1457</th>\n",
              "      <td>Ex</td>\n",
              "      <td>4</td>\n",
              "    </tr>\n",
              "    <tr>\n",
              "      <th>1458</th>\n",
              "      <td>TA</td>\n",
              "      <td>2</td>\n",
              "    </tr>\n",
              "    <tr>\n",
              "      <th>1459</th>\n",
              "      <td>Gd</td>\n",
              "      <td>3</td>\n",
              "    </tr>\n",
              "  </tbody>\n",
              "</table>\n",
              "<p>1460 rows × 2 columns</p>\n",
              "</div>\n",
              "      <button class=\"colab-df-convert\" onclick=\"convertToInteractive('df-f0f7cd0e-9980-443a-9362-1bc0afc96ab5')\"\n",
              "              title=\"Convert this dataframe to an interactive table.\"\n",
              "              style=\"display:none;\">\n",
              "        \n",
              "  <svg xmlns=\"http://www.w3.org/2000/svg\" height=\"24px\"viewBox=\"0 0 24 24\"\n",
              "       width=\"24px\">\n",
              "    <path d=\"M0 0h24v24H0V0z\" fill=\"none\"/>\n",
              "    <path d=\"M18.56 5.44l.94 2.06.94-2.06 2.06-.94-2.06-.94-.94-2.06-.94 2.06-2.06.94zm-11 1L8.5 8.5l.94-2.06 2.06-.94-2.06-.94L8.5 2.5l-.94 2.06-2.06.94zm10 10l.94 2.06.94-2.06 2.06-.94-2.06-.94-.94-2.06-.94 2.06-2.06.94z\"/><path d=\"M17.41 7.96l-1.37-1.37c-.4-.4-.92-.59-1.43-.59-.52 0-1.04.2-1.43.59L10.3 9.45l-7.72 7.72c-.78.78-.78 2.05 0 2.83L4 21.41c.39.39.9.59 1.41.59.51 0 1.02-.2 1.41-.59l7.78-7.78 2.81-2.81c.8-.78.8-2.07 0-2.86zM5.41 20L4 18.59l7.72-7.72 1.47 1.35L5.41 20z\"/>\n",
              "  </svg>\n",
              "      </button>\n",
              "      \n",
              "  <style>\n",
              "    .colab-df-container {\n",
              "      display:flex;\n",
              "      flex-wrap:wrap;\n",
              "      gap: 12px;\n",
              "    }\n",
              "\n",
              "    .colab-df-convert {\n",
              "      background-color: #E8F0FE;\n",
              "      border: none;\n",
              "      border-radius: 50%;\n",
              "      cursor: pointer;\n",
              "      display: none;\n",
              "      fill: #1967D2;\n",
              "      height: 32px;\n",
              "      padding: 0 0 0 0;\n",
              "      width: 32px;\n",
              "    }\n",
              "\n",
              "    .colab-df-convert:hover {\n",
              "      background-color: #E2EBFA;\n",
              "      box-shadow: 0px 1px 2px rgba(60, 64, 67, 0.3), 0px 1px 3px 1px rgba(60, 64, 67, 0.15);\n",
              "      fill: #174EA6;\n",
              "    }\n",
              "\n",
              "    [theme=dark] .colab-df-convert {\n",
              "      background-color: #3B4455;\n",
              "      fill: #D2E3FC;\n",
              "    }\n",
              "\n",
              "    [theme=dark] .colab-df-convert:hover {\n",
              "      background-color: #434B5C;\n",
              "      box-shadow: 0px 1px 3px 1px rgba(0, 0, 0, 0.15);\n",
              "      filter: drop-shadow(0px 1px 2px rgba(0, 0, 0, 0.3));\n",
              "      fill: #FFFFFF;\n",
              "    }\n",
              "  </style>\n",
              "\n",
              "      <script>\n",
              "        const buttonEl =\n",
              "          document.querySelector('#df-f0f7cd0e-9980-443a-9362-1bc0afc96ab5 button.colab-df-convert');\n",
              "        buttonEl.style.display =\n",
              "          google.colab.kernel.accessAllowed ? 'block' : 'none';\n",
              "\n",
              "        async function convertToInteractive(key) {\n",
              "          const element = document.querySelector('#df-f0f7cd0e-9980-443a-9362-1bc0afc96ab5');\n",
              "          const dataTable =\n",
              "            await google.colab.kernel.invokeFunction('convertToInteractive',\n",
              "                                                     [key], {});\n",
              "          if (!dataTable) return;\n",
              "\n",
              "          const docLinkHtml = 'Like what you see? Visit the ' +\n",
              "            '<a target=\"_blank\" href=https://colab.research.google.com/notebooks/data_table.ipynb>data table notebook</a>'\n",
              "            + ' to learn more about interactive tables.';\n",
              "          element.innerHTML = '';\n",
              "          dataTable['output_type'] = 'display_data';\n",
              "          await google.colab.output.renderOutput(dataTable, element);\n",
              "          const docLink = document.createElement('div');\n",
              "          docLink.innerHTML = docLinkHtml;\n",
              "          element.appendChild(docLink);\n",
              "        }\n",
              "      </script>\n",
              "    </div>\n",
              "  </div>\n",
              "  "
            ]
          },
          "metadata": {},
          "execution_count": 64
        }
      ]
    },
    {
      "cell_type": "markdown",
      "source": [
        "- 다른 값들도 모두 해줘야 하는데 그러면 너무 양이 많아지니까 함수로 만들어서 처리할 수 있다."
      ],
      "metadata": {
        "id": "C9rx920E4aKz"
      }
    },
    {
      "cell_type": "code",
      "source": [
        "# 함수로 만들기(강의)\n",
        "\n",
        "def add_rank_feature (feature_name, rank_feature_name):\n",
        "  df_order = pd.DataFrame()\n",
        "  df_order['val'] = df_train[feature_name].unique()\n",
        "  df_order.index = df_order.val\n",
        "\n",
        "  df_order['mean_price'] = df_train[[feature_name, 'SalePrice']].groupby(feature_name).mean()['SalePrice']\n",
        "  df_order['rank'] = range(1, len(df_order)+1)\n",
        "  df_order = df_order['rank'].to_dict()\n",
        "\n",
        "  df_train[rank_feature_name] = df_train.apply(lambda x: df_order[x[feature_name]], axis=1)"
      ],
      "metadata": {
        "id": "mdxMGs1S4KUY"
      },
      "execution_count": 65,
      "outputs": []
    },
    {
      "cell_type": "code",
      "source": [
        "# 모든 Categorical에 적용해주기\n",
        "rank_features = []\n",
        "for feature_name in categorical:\n",
        "  #print(feature_name)\n",
        "\n",
        "  rank_feature_name = feature_name + '_rank'\n",
        "  #print(feature_name, '--->' rank_feature_name)\n",
        "\n",
        "  add_rank_feature(feature_name, rank_feature_name)\n",
        "\n",
        "  rank_features.append(rank_feature_name)"
      ],
      "metadata": {
        "id": "iHyi06ks5diZ"
      },
      "execution_count": 66,
      "outputs": []
    },
    {
      "cell_type": "code",
      "source": [
        "df_train"
      ],
      "metadata": {
        "colab": {
          "base_uri": "https://localhost:8080/",
          "height": 488
        },
        "id": "UC7Q5a9W6kyQ",
        "outputId": "9da02b5f-d4f0-495b-d91c-7343d608aadb"
      },
      "execution_count": 67,
      "outputs": [
        {
          "output_type": "execute_result",
          "data": {
            "text/plain": [
              "        Id  MSSubClass MSZoning  LotArea Street LotShape LandContour  \\\n",
              "0        1          60       RL     8450   Pave      Reg         Lvl   \n",
              "1        2          20       RL     9600   Pave      Reg         Lvl   \n",
              "2        3          60       RL    11250   Pave      IR1         Lvl   \n",
              "3        4          70       RL     9550   Pave      IR1         Lvl   \n",
              "4        5          60       RL    14260   Pave      IR1         Lvl   \n",
              "...    ...         ...      ...      ...    ...      ...         ...   \n",
              "1455  1456          60       RL     7917   Pave      Reg         Lvl   \n",
              "1456  1457          20       RL    13175   Pave      Reg         Lvl   \n",
              "1457  1458          70       RL     9042   Pave      Reg         Lvl   \n",
              "1458  1459          20       RL     9717   Pave      Reg         Lvl   \n",
              "1459  1460          20       RL     9937   Pave      Reg         Lvl   \n",
              "\n",
              "     Utilities LotConfig LandSlope  ... ExterCond_rank Foundation_rank  \\\n",
              "0       AllPub    Inside       Gtl  ...              1               1   \n",
              "1       AllPub       FR2       Gtl  ...              1               2   \n",
              "2       AllPub    Inside       Gtl  ...              1               1   \n",
              "3       AllPub    Corner       Gtl  ...              1               3   \n",
              "4       AllPub       FR2       Gtl  ...              1               1   \n",
              "...        ...       ...       ...  ...            ...             ...   \n",
              "1455    AllPub    Inside       Gtl  ...              1               1   \n",
              "1456    AllPub    Inside       Gtl  ...              1               2   \n",
              "1457    AllPub    Inside       Gtl  ...              2               6   \n",
              "1458    AllPub    Inside       Gtl  ...              1               2   \n",
              "1459    AllPub    Inside       Gtl  ...              1               2   \n",
              "\n",
              "     Heating_rank HeatingQC_rank CentralAir_rank  KitchenQual_rank  \\\n",
              "0               1              1               1                 1   \n",
              "1               1              1               1                 2   \n",
              "2               1              1               1                 1   \n",
              "3               1              2               1                 1   \n",
              "4               1              1               1                 1   \n",
              "...           ...            ...             ...               ...   \n",
              "1455            1              1               1                 2   \n",
              "1456            1              3               1                 2   \n",
              "1457            1              1               1                 1   \n",
              "1458            1              2               1                 1   \n",
              "1459            1              2               1                 2   \n",
              "\n",
              "      Functional_rank  PavedDrive_rank  SaleType_rank SaleCondition_rank  \n",
              "0                   1                1              1                  1  \n",
              "1                   1                1              1                  1  \n",
              "2                   1                1              1                  1  \n",
              "3                   1                1              1                  2  \n",
              "4                   1                1              1                  1  \n",
              "...               ...              ...            ...                ...  \n",
              "1455                1                1              1                  1  \n",
              "1456                2                1              1                  1  \n",
              "1457                1                1              1                  1  \n",
              "1458                1                1              1                  1  \n",
              "1459                1                1              1                  1  \n",
              "\n",
              "[1460 rows x 89 columns]"
            ],
            "text/html": [
              "\n",
              "  <div id=\"df-41ac096c-a4f9-4ab5-9917-2020a0050a0f\">\n",
              "    <div class=\"colab-df-container\">\n",
              "      <div>\n",
              "<style scoped>\n",
              "    .dataframe tbody tr th:only-of-type {\n",
              "        vertical-align: middle;\n",
              "    }\n",
              "\n",
              "    .dataframe tbody tr th {\n",
              "        vertical-align: top;\n",
              "    }\n",
              "\n",
              "    .dataframe thead th {\n",
              "        text-align: right;\n",
              "    }\n",
              "</style>\n",
              "<table border=\"1\" class=\"dataframe\">\n",
              "  <thead>\n",
              "    <tr style=\"text-align: right;\">\n",
              "      <th></th>\n",
              "      <th>Id</th>\n",
              "      <th>MSSubClass</th>\n",
              "      <th>MSZoning</th>\n",
              "      <th>LotArea</th>\n",
              "      <th>Street</th>\n",
              "      <th>LotShape</th>\n",
              "      <th>LandContour</th>\n",
              "      <th>Utilities</th>\n",
              "      <th>LotConfig</th>\n",
              "      <th>LandSlope</th>\n",
              "      <th>...</th>\n",
              "      <th>ExterCond_rank</th>\n",
              "      <th>Foundation_rank</th>\n",
              "      <th>Heating_rank</th>\n",
              "      <th>HeatingQC_rank</th>\n",
              "      <th>CentralAir_rank</th>\n",
              "      <th>KitchenQual_rank</th>\n",
              "      <th>Functional_rank</th>\n",
              "      <th>PavedDrive_rank</th>\n",
              "      <th>SaleType_rank</th>\n",
              "      <th>SaleCondition_rank</th>\n",
              "    </tr>\n",
              "  </thead>\n",
              "  <tbody>\n",
              "    <tr>\n",
              "      <th>0</th>\n",
              "      <td>1</td>\n",
              "      <td>60</td>\n",
              "      <td>RL</td>\n",
              "      <td>8450</td>\n",
              "      <td>Pave</td>\n",
              "      <td>Reg</td>\n",
              "      <td>Lvl</td>\n",
              "      <td>AllPub</td>\n",
              "      <td>Inside</td>\n",
              "      <td>Gtl</td>\n",
              "      <td>...</td>\n",
              "      <td>1</td>\n",
              "      <td>1</td>\n",
              "      <td>1</td>\n",
              "      <td>1</td>\n",
              "      <td>1</td>\n",
              "      <td>1</td>\n",
              "      <td>1</td>\n",
              "      <td>1</td>\n",
              "      <td>1</td>\n",
              "      <td>1</td>\n",
              "    </tr>\n",
              "    <tr>\n",
              "      <th>1</th>\n",
              "      <td>2</td>\n",
              "      <td>20</td>\n",
              "      <td>RL</td>\n",
              "      <td>9600</td>\n",
              "      <td>Pave</td>\n",
              "      <td>Reg</td>\n",
              "      <td>Lvl</td>\n",
              "      <td>AllPub</td>\n",
              "      <td>FR2</td>\n",
              "      <td>Gtl</td>\n",
              "      <td>...</td>\n",
              "      <td>1</td>\n",
              "      <td>2</td>\n",
              "      <td>1</td>\n",
              "      <td>1</td>\n",
              "      <td>1</td>\n",
              "      <td>2</td>\n",
              "      <td>1</td>\n",
              "      <td>1</td>\n",
              "      <td>1</td>\n",
              "      <td>1</td>\n",
              "    </tr>\n",
              "    <tr>\n",
              "      <th>2</th>\n",
              "      <td>3</td>\n",
              "      <td>60</td>\n",
              "      <td>RL</td>\n",
              "      <td>11250</td>\n",
              "      <td>Pave</td>\n",
              "      <td>IR1</td>\n",
              "      <td>Lvl</td>\n",
              "      <td>AllPub</td>\n",
              "      <td>Inside</td>\n",
              "      <td>Gtl</td>\n",
              "      <td>...</td>\n",
              "      <td>1</td>\n",
              "      <td>1</td>\n",
              "      <td>1</td>\n",
              "      <td>1</td>\n",
              "      <td>1</td>\n",
              "      <td>1</td>\n",
              "      <td>1</td>\n",
              "      <td>1</td>\n",
              "      <td>1</td>\n",
              "      <td>1</td>\n",
              "    </tr>\n",
              "    <tr>\n",
              "      <th>3</th>\n",
              "      <td>4</td>\n",
              "      <td>70</td>\n",
              "      <td>RL</td>\n",
              "      <td>9550</td>\n",
              "      <td>Pave</td>\n",
              "      <td>IR1</td>\n",
              "      <td>Lvl</td>\n",
              "      <td>AllPub</td>\n",
              "      <td>Corner</td>\n",
              "      <td>Gtl</td>\n",
              "      <td>...</td>\n",
              "      <td>1</td>\n",
              "      <td>3</td>\n",
              "      <td>1</td>\n",
              "      <td>2</td>\n",
              "      <td>1</td>\n",
              "      <td>1</td>\n",
              "      <td>1</td>\n",
              "      <td>1</td>\n",
              "      <td>1</td>\n",
              "      <td>2</td>\n",
              "    </tr>\n",
              "    <tr>\n",
              "      <th>4</th>\n",
              "      <td>5</td>\n",
              "      <td>60</td>\n",
              "      <td>RL</td>\n",
              "      <td>14260</td>\n",
              "      <td>Pave</td>\n",
              "      <td>IR1</td>\n",
              "      <td>Lvl</td>\n",
              "      <td>AllPub</td>\n",
              "      <td>FR2</td>\n",
              "      <td>Gtl</td>\n",
              "      <td>...</td>\n",
              "      <td>1</td>\n",
              "      <td>1</td>\n",
              "      <td>1</td>\n",
              "      <td>1</td>\n",
              "      <td>1</td>\n",
              "      <td>1</td>\n",
              "      <td>1</td>\n",
              "      <td>1</td>\n",
              "      <td>1</td>\n",
              "      <td>1</td>\n",
              "    </tr>\n",
              "    <tr>\n",
              "      <th>...</th>\n",
              "      <td>...</td>\n",
              "      <td>...</td>\n",
              "      <td>...</td>\n",
              "      <td>...</td>\n",
              "      <td>...</td>\n",
              "      <td>...</td>\n",
              "      <td>...</td>\n",
              "      <td>...</td>\n",
              "      <td>...</td>\n",
              "      <td>...</td>\n",
              "      <td>...</td>\n",
              "      <td>...</td>\n",
              "      <td>...</td>\n",
              "      <td>...</td>\n",
              "      <td>...</td>\n",
              "      <td>...</td>\n",
              "      <td>...</td>\n",
              "      <td>...</td>\n",
              "      <td>...</td>\n",
              "      <td>...</td>\n",
              "      <td>...</td>\n",
              "    </tr>\n",
              "    <tr>\n",
              "      <th>1455</th>\n",
              "      <td>1456</td>\n",
              "      <td>60</td>\n",
              "      <td>RL</td>\n",
              "      <td>7917</td>\n",
              "      <td>Pave</td>\n",
              "      <td>Reg</td>\n",
              "      <td>Lvl</td>\n",
              "      <td>AllPub</td>\n",
              "      <td>Inside</td>\n",
              "      <td>Gtl</td>\n",
              "      <td>...</td>\n",
              "      <td>1</td>\n",
              "      <td>1</td>\n",
              "      <td>1</td>\n",
              "      <td>1</td>\n",
              "      <td>1</td>\n",
              "      <td>2</td>\n",
              "      <td>1</td>\n",
              "      <td>1</td>\n",
              "      <td>1</td>\n",
              "      <td>1</td>\n",
              "    </tr>\n",
              "    <tr>\n",
              "      <th>1456</th>\n",
              "      <td>1457</td>\n",
              "      <td>20</td>\n",
              "      <td>RL</td>\n",
              "      <td>13175</td>\n",
              "      <td>Pave</td>\n",
              "      <td>Reg</td>\n",
              "      <td>Lvl</td>\n",
              "      <td>AllPub</td>\n",
              "      <td>Inside</td>\n",
              "      <td>Gtl</td>\n",
              "      <td>...</td>\n",
              "      <td>1</td>\n",
              "      <td>2</td>\n",
              "      <td>1</td>\n",
              "      <td>3</td>\n",
              "      <td>1</td>\n",
              "      <td>2</td>\n",
              "      <td>2</td>\n",
              "      <td>1</td>\n",
              "      <td>1</td>\n",
              "      <td>1</td>\n",
              "    </tr>\n",
              "    <tr>\n",
              "      <th>1457</th>\n",
              "      <td>1458</td>\n",
              "      <td>70</td>\n",
              "      <td>RL</td>\n",
              "      <td>9042</td>\n",
              "      <td>Pave</td>\n",
              "      <td>Reg</td>\n",
              "      <td>Lvl</td>\n",
              "      <td>AllPub</td>\n",
              "      <td>Inside</td>\n",
              "      <td>Gtl</td>\n",
              "      <td>...</td>\n",
              "      <td>2</td>\n",
              "      <td>6</td>\n",
              "      <td>1</td>\n",
              "      <td>1</td>\n",
              "      <td>1</td>\n",
              "      <td>1</td>\n",
              "      <td>1</td>\n",
              "      <td>1</td>\n",
              "      <td>1</td>\n",
              "      <td>1</td>\n",
              "    </tr>\n",
              "    <tr>\n",
              "      <th>1458</th>\n",
              "      <td>1459</td>\n",
              "      <td>20</td>\n",
              "      <td>RL</td>\n",
              "      <td>9717</td>\n",
              "      <td>Pave</td>\n",
              "      <td>Reg</td>\n",
              "      <td>Lvl</td>\n",
              "      <td>AllPub</td>\n",
              "      <td>Inside</td>\n",
              "      <td>Gtl</td>\n",
              "      <td>...</td>\n",
              "      <td>1</td>\n",
              "      <td>2</td>\n",
              "      <td>1</td>\n",
              "      <td>2</td>\n",
              "      <td>1</td>\n",
              "      <td>1</td>\n",
              "      <td>1</td>\n",
              "      <td>1</td>\n",
              "      <td>1</td>\n",
              "      <td>1</td>\n",
              "    </tr>\n",
              "    <tr>\n",
              "      <th>1459</th>\n",
              "      <td>1460</td>\n",
              "      <td>20</td>\n",
              "      <td>RL</td>\n",
              "      <td>9937</td>\n",
              "      <td>Pave</td>\n",
              "      <td>Reg</td>\n",
              "      <td>Lvl</td>\n",
              "      <td>AllPub</td>\n",
              "      <td>Inside</td>\n",
              "      <td>Gtl</td>\n",
              "      <td>...</td>\n",
              "      <td>1</td>\n",
              "      <td>2</td>\n",
              "      <td>1</td>\n",
              "      <td>2</td>\n",
              "      <td>1</td>\n",
              "      <td>2</td>\n",
              "      <td>1</td>\n",
              "      <td>1</td>\n",
              "      <td>1</td>\n",
              "      <td>1</td>\n",
              "    </tr>\n",
              "  </tbody>\n",
              "</table>\n",
              "<p>1460 rows × 89 columns</p>\n",
              "</div>\n",
              "      <button class=\"colab-df-convert\" onclick=\"convertToInteractive('df-41ac096c-a4f9-4ab5-9917-2020a0050a0f')\"\n",
              "              title=\"Convert this dataframe to an interactive table.\"\n",
              "              style=\"display:none;\">\n",
              "        \n",
              "  <svg xmlns=\"http://www.w3.org/2000/svg\" height=\"24px\"viewBox=\"0 0 24 24\"\n",
              "       width=\"24px\">\n",
              "    <path d=\"M0 0h24v24H0V0z\" fill=\"none\"/>\n",
              "    <path d=\"M18.56 5.44l.94 2.06.94-2.06 2.06-.94-2.06-.94-.94-2.06-.94 2.06-2.06.94zm-11 1L8.5 8.5l.94-2.06 2.06-.94-2.06-.94L8.5 2.5l-.94 2.06-2.06.94zm10 10l.94 2.06.94-2.06 2.06-.94-2.06-.94-.94-2.06-.94 2.06-2.06.94z\"/><path d=\"M17.41 7.96l-1.37-1.37c-.4-.4-.92-.59-1.43-.59-.52 0-1.04.2-1.43.59L10.3 9.45l-7.72 7.72c-.78.78-.78 2.05 0 2.83L4 21.41c.39.39.9.59 1.41.59.51 0 1.02-.2 1.41-.59l7.78-7.78 2.81-2.81c.8-.78.8-2.07 0-2.86zM5.41 20L4 18.59l7.72-7.72 1.47 1.35L5.41 20z\"/>\n",
              "  </svg>\n",
              "      </button>\n",
              "      \n",
              "  <style>\n",
              "    .colab-df-container {\n",
              "      display:flex;\n",
              "      flex-wrap:wrap;\n",
              "      gap: 12px;\n",
              "    }\n",
              "\n",
              "    .colab-df-convert {\n",
              "      background-color: #E8F0FE;\n",
              "      border: none;\n",
              "      border-radius: 50%;\n",
              "      cursor: pointer;\n",
              "      display: none;\n",
              "      fill: #1967D2;\n",
              "      height: 32px;\n",
              "      padding: 0 0 0 0;\n",
              "      width: 32px;\n",
              "    }\n",
              "\n",
              "    .colab-df-convert:hover {\n",
              "      background-color: #E2EBFA;\n",
              "      box-shadow: 0px 1px 2px rgba(60, 64, 67, 0.3), 0px 1px 3px 1px rgba(60, 64, 67, 0.15);\n",
              "      fill: #174EA6;\n",
              "    }\n",
              "\n",
              "    [theme=dark] .colab-df-convert {\n",
              "      background-color: #3B4455;\n",
              "      fill: #D2E3FC;\n",
              "    }\n",
              "\n",
              "    [theme=dark] .colab-df-convert:hover {\n",
              "      background-color: #434B5C;\n",
              "      box-shadow: 0px 1px 3px 1px rgba(0, 0, 0, 0.15);\n",
              "      filter: drop-shadow(0px 1px 2px rgba(0, 0, 0, 0.3));\n",
              "      fill: #FFFFFF;\n",
              "    }\n",
              "  </style>\n",
              "\n",
              "      <script>\n",
              "        const buttonEl =\n",
              "          document.querySelector('#df-41ac096c-a4f9-4ab5-9917-2020a0050a0f button.colab-df-convert');\n",
              "        buttonEl.style.display =\n",
              "          google.colab.kernel.accessAllowed ? 'block' : 'none';\n",
              "\n",
              "        async function convertToInteractive(key) {\n",
              "          const element = document.querySelector('#df-41ac096c-a4f9-4ab5-9917-2020a0050a0f');\n",
              "          const dataTable =\n",
              "            await google.colab.kernel.invokeFunction('convertToInteractive',\n",
              "                                                     [key], {});\n",
              "          if (!dataTable) return;\n",
              "\n",
              "          const docLinkHtml = 'Like what you see? Visit the ' +\n",
              "            '<a target=\"_blank\" href=https://colab.research.google.com/notebooks/data_table.ipynb>data table notebook</a>'\n",
              "            + ' to learn more about interactive tables.';\n",
              "          element.innerHTML = '';\n",
              "          dataTable['output_type'] = 'display_data';\n",
              "          await google.colab.output.renderOutput(dataTable, element);\n",
              "          const docLink = document.createElement('div');\n",
              "          docLink.innerHTML = docLinkHtml;\n",
              "          element.appendChild(docLink);\n",
              "        }\n",
              "      </script>\n",
              "    </div>\n",
              "  </div>\n",
              "  "
            ]
          },
          "metadata": {},
          "execution_count": 67
        }
      ]
    },
    {
      "cell_type": "markdown",
      "source": [
        "Data processing이 된 columns 따로 Df로 만들어주기"
      ],
      "metadata": {
        "id": "Y96gTh1f66F_"
      }
    },
    {
      "cell_type": "code",
      "source": [
        "df_processed = df_train[rank_features + numeric]"
      ],
      "metadata": {
        "id": "PyJ9HKps6nHw"
      },
      "execution_count": 68,
      "outputs": []
    },
    {
      "cell_type": "code",
      "source": [
        "df_processed"
      ],
      "metadata": {
        "colab": {
          "base_uri": "https://localhost:8080/",
          "height": 488
        },
        "id": "Tk3W80D37Obo",
        "outputId": "44450647-7828-45c7-bde1-6c1acdd9173d"
      },
      "execution_count": 69,
      "outputs": [
        {
          "output_type": "execute_result",
          "data": {
            "text/plain": [
              "      MSZoning_rank  Street_rank  LotShape_rank  LandContour_rank  \\\n",
              "0                 1            1              1                 1   \n",
              "1                 1            1              1                 1   \n",
              "2                 1            1              2                 1   \n",
              "3                 1            1              2                 1   \n",
              "4                 1            1              2                 1   \n",
              "...             ...          ...            ...               ...   \n",
              "1455              1            1              1                 1   \n",
              "1456              1            1              1                 1   \n",
              "1457              1            1              1                 1   \n",
              "1458              1            1              1                 1   \n",
              "1459              1            1              1                 1   \n",
              "\n",
              "      Utilities_rank  LotConfig_rank  LandSlope_rank  Neighborhood_rank  \\\n",
              "0                  1               1               1                  1   \n",
              "1                  1               2               1                  2   \n",
              "2                  1               1               1                  1   \n",
              "3                  1               3               1                  3   \n",
              "4                  1               2               1                  4   \n",
              "...              ...             ...             ...                ...   \n",
              "1455               1               1               1                 18   \n",
              "1456               1               1               1                  7   \n",
              "1457               1               1               1                  3   \n",
              "1458               1               1               1                 12   \n",
              "1459               1               1               1                 16   \n",
              "\n",
              "      Condition1_rank  Condition2_rank  ...  GarageArea  WoodDeckSF  \\\n",
              "0                   1                1  ...         548           0   \n",
              "1                   2                1  ...         460         298   \n",
              "2                   1                1  ...         608           0   \n",
              "3                   1                1  ...         642           0   \n",
              "4                   1                1  ...         836         192   \n",
              "...               ...              ...  ...         ...         ...   \n",
              "1455                1                1  ...         460           0   \n",
              "1456                1                1  ...         500         349   \n",
              "1457                1                1  ...         252           0   \n",
              "1458                1                1  ...         240         366   \n",
              "1459                1                1  ...         276         736   \n",
              "\n",
              "      OpenPorchSF  EnclosedPorch  3SsnPorch  ScreenPorch  PoolArea  MiscVal  \\\n",
              "0              61              0          0            0         0        0   \n",
              "1               0              0          0            0         0        0   \n",
              "2              42              0          0            0         0        0   \n",
              "3              35            272          0            0         0        0   \n",
              "4              84              0          0            0         0        0   \n",
              "...           ...            ...        ...          ...       ...      ...   \n",
              "1455           40              0          0            0         0        0   \n",
              "1456            0              0          0            0         0        0   \n",
              "1457           60              0          0            0         0     2500   \n",
              "1458            0            112          0            0         0        0   \n",
              "1459           68              0          0            0         0        0   \n",
              "\n",
              "      MoSold  YrSold  \n",
              "0          2    2008  \n",
              "1          5    2007  \n",
              "2          9    2008  \n",
              "3          2    2006  \n",
              "4         12    2008  \n",
              "...      ...     ...  \n",
              "1455       8    2007  \n",
              "1456       2    2010  \n",
              "1457       5    2010  \n",
              "1458       4    2010  \n",
              "1459       6    2008  \n",
              "\n",
              "[1460 rows x 60 columns]"
            ],
            "text/html": [
              "\n",
              "  <div id=\"df-54141d63-6f54-43d7-86b0-d55a54c05e90\">\n",
              "    <div class=\"colab-df-container\">\n",
              "      <div>\n",
              "<style scoped>\n",
              "    .dataframe tbody tr th:only-of-type {\n",
              "        vertical-align: middle;\n",
              "    }\n",
              "\n",
              "    .dataframe tbody tr th {\n",
              "        vertical-align: top;\n",
              "    }\n",
              "\n",
              "    .dataframe thead th {\n",
              "        text-align: right;\n",
              "    }\n",
              "</style>\n",
              "<table border=\"1\" class=\"dataframe\">\n",
              "  <thead>\n",
              "    <tr style=\"text-align: right;\">\n",
              "      <th></th>\n",
              "      <th>MSZoning_rank</th>\n",
              "      <th>Street_rank</th>\n",
              "      <th>LotShape_rank</th>\n",
              "      <th>LandContour_rank</th>\n",
              "      <th>Utilities_rank</th>\n",
              "      <th>LotConfig_rank</th>\n",
              "      <th>LandSlope_rank</th>\n",
              "      <th>Neighborhood_rank</th>\n",
              "      <th>Condition1_rank</th>\n",
              "      <th>Condition2_rank</th>\n",
              "      <th>...</th>\n",
              "      <th>GarageArea</th>\n",
              "      <th>WoodDeckSF</th>\n",
              "      <th>OpenPorchSF</th>\n",
              "      <th>EnclosedPorch</th>\n",
              "      <th>3SsnPorch</th>\n",
              "      <th>ScreenPorch</th>\n",
              "      <th>PoolArea</th>\n",
              "      <th>MiscVal</th>\n",
              "      <th>MoSold</th>\n",
              "      <th>YrSold</th>\n",
              "    </tr>\n",
              "  </thead>\n",
              "  <tbody>\n",
              "    <tr>\n",
              "      <th>0</th>\n",
              "      <td>1</td>\n",
              "      <td>1</td>\n",
              "      <td>1</td>\n",
              "      <td>1</td>\n",
              "      <td>1</td>\n",
              "      <td>1</td>\n",
              "      <td>1</td>\n",
              "      <td>1</td>\n",
              "      <td>1</td>\n",
              "      <td>1</td>\n",
              "      <td>...</td>\n",
              "      <td>548</td>\n",
              "      <td>0</td>\n",
              "      <td>61</td>\n",
              "      <td>0</td>\n",
              "      <td>0</td>\n",
              "      <td>0</td>\n",
              "      <td>0</td>\n",
              "      <td>0</td>\n",
              "      <td>2</td>\n",
              "      <td>2008</td>\n",
              "    </tr>\n",
              "    <tr>\n",
              "      <th>1</th>\n",
              "      <td>1</td>\n",
              "      <td>1</td>\n",
              "      <td>1</td>\n",
              "      <td>1</td>\n",
              "      <td>1</td>\n",
              "      <td>2</td>\n",
              "      <td>1</td>\n",
              "      <td>2</td>\n",
              "      <td>2</td>\n",
              "      <td>1</td>\n",
              "      <td>...</td>\n",
              "      <td>460</td>\n",
              "      <td>298</td>\n",
              "      <td>0</td>\n",
              "      <td>0</td>\n",
              "      <td>0</td>\n",
              "      <td>0</td>\n",
              "      <td>0</td>\n",
              "      <td>0</td>\n",
              "      <td>5</td>\n",
              "      <td>2007</td>\n",
              "    </tr>\n",
              "    <tr>\n",
              "      <th>2</th>\n",
              "      <td>1</td>\n",
              "      <td>1</td>\n",
              "      <td>2</td>\n",
              "      <td>1</td>\n",
              "      <td>1</td>\n",
              "      <td>1</td>\n",
              "      <td>1</td>\n",
              "      <td>1</td>\n",
              "      <td>1</td>\n",
              "      <td>1</td>\n",
              "      <td>...</td>\n",
              "      <td>608</td>\n",
              "      <td>0</td>\n",
              "      <td>42</td>\n",
              "      <td>0</td>\n",
              "      <td>0</td>\n",
              "      <td>0</td>\n",
              "      <td>0</td>\n",
              "      <td>0</td>\n",
              "      <td>9</td>\n",
              "      <td>2008</td>\n",
              "    </tr>\n",
              "    <tr>\n",
              "      <th>3</th>\n",
              "      <td>1</td>\n",
              "      <td>1</td>\n",
              "      <td>2</td>\n",
              "      <td>1</td>\n",
              "      <td>1</td>\n",
              "      <td>3</td>\n",
              "      <td>1</td>\n",
              "      <td>3</td>\n",
              "      <td>1</td>\n",
              "      <td>1</td>\n",
              "      <td>...</td>\n",
              "      <td>642</td>\n",
              "      <td>0</td>\n",
              "      <td>35</td>\n",
              "      <td>272</td>\n",
              "      <td>0</td>\n",
              "      <td>0</td>\n",
              "      <td>0</td>\n",
              "      <td>0</td>\n",
              "      <td>2</td>\n",
              "      <td>2006</td>\n",
              "    </tr>\n",
              "    <tr>\n",
              "      <th>4</th>\n",
              "      <td>1</td>\n",
              "      <td>1</td>\n",
              "      <td>2</td>\n",
              "      <td>1</td>\n",
              "      <td>1</td>\n",
              "      <td>2</td>\n",
              "      <td>1</td>\n",
              "      <td>4</td>\n",
              "      <td>1</td>\n",
              "      <td>1</td>\n",
              "      <td>...</td>\n",
              "      <td>836</td>\n",
              "      <td>192</td>\n",
              "      <td>84</td>\n",
              "      <td>0</td>\n",
              "      <td>0</td>\n",
              "      <td>0</td>\n",
              "      <td>0</td>\n",
              "      <td>0</td>\n",
              "      <td>12</td>\n",
              "      <td>2008</td>\n",
              "    </tr>\n",
              "    <tr>\n",
              "      <th>...</th>\n",
              "      <td>...</td>\n",
              "      <td>...</td>\n",
              "      <td>...</td>\n",
              "      <td>...</td>\n",
              "      <td>...</td>\n",
              "      <td>...</td>\n",
              "      <td>...</td>\n",
              "      <td>...</td>\n",
              "      <td>...</td>\n",
              "      <td>...</td>\n",
              "      <td>...</td>\n",
              "      <td>...</td>\n",
              "      <td>...</td>\n",
              "      <td>...</td>\n",
              "      <td>...</td>\n",
              "      <td>...</td>\n",
              "      <td>...</td>\n",
              "      <td>...</td>\n",
              "      <td>...</td>\n",
              "      <td>...</td>\n",
              "      <td>...</td>\n",
              "    </tr>\n",
              "    <tr>\n",
              "      <th>1455</th>\n",
              "      <td>1</td>\n",
              "      <td>1</td>\n",
              "      <td>1</td>\n",
              "      <td>1</td>\n",
              "      <td>1</td>\n",
              "      <td>1</td>\n",
              "      <td>1</td>\n",
              "      <td>18</td>\n",
              "      <td>1</td>\n",
              "      <td>1</td>\n",
              "      <td>...</td>\n",
              "      <td>460</td>\n",
              "      <td>0</td>\n",
              "      <td>40</td>\n",
              "      <td>0</td>\n",
              "      <td>0</td>\n",
              "      <td>0</td>\n",
              "      <td>0</td>\n",
              "      <td>0</td>\n",
              "      <td>8</td>\n",
              "      <td>2007</td>\n",
              "    </tr>\n",
              "    <tr>\n",
              "      <th>1456</th>\n",
              "      <td>1</td>\n",
              "      <td>1</td>\n",
              "      <td>1</td>\n",
              "      <td>1</td>\n",
              "      <td>1</td>\n",
              "      <td>1</td>\n",
              "      <td>1</td>\n",
              "      <td>7</td>\n",
              "      <td>1</td>\n",
              "      <td>1</td>\n",
              "      <td>...</td>\n",
              "      <td>500</td>\n",
              "      <td>349</td>\n",
              "      <td>0</td>\n",
              "      <td>0</td>\n",
              "      <td>0</td>\n",
              "      <td>0</td>\n",
              "      <td>0</td>\n",
              "      <td>0</td>\n",
              "      <td>2</td>\n",
              "      <td>2010</td>\n",
              "    </tr>\n",
              "    <tr>\n",
              "      <th>1457</th>\n",
              "      <td>1</td>\n",
              "      <td>1</td>\n",
              "      <td>1</td>\n",
              "      <td>1</td>\n",
              "      <td>1</td>\n",
              "      <td>1</td>\n",
              "      <td>1</td>\n",
              "      <td>3</td>\n",
              "      <td>1</td>\n",
              "      <td>1</td>\n",
              "      <td>...</td>\n",
              "      <td>252</td>\n",
              "      <td>0</td>\n",
              "      <td>60</td>\n",
              "      <td>0</td>\n",
              "      <td>0</td>\n",
              "      <td>0</td>\n",
              "      <td>0</td>\n",
              "      <td>2500</td>\n",
              "      <td>5</td>\n",
              "      <td>2010</td>\n",
              "    </tr>\n",
              "    <tr>\n",
              "      <th>1458</th>\n",
              "      <td>1</td>\n",
              "      <td>1</td>\n",
              "      <td>1</td>\n",
              "      <td>1</td>\n",
              "      <td>1</td>\n",
              "      <td>1</td>\n",
              "      <td>1</td>\n",
              "      <td>12</td>\n",
              "      <td>1</td>\n",
              "      <td>1</td>\n",
              "      <td>...</td>\n",
              "      <td>240</td>\n",
              "      <td>366</td>\n",
              "      <td>0</td>\n",
              "      <td>112</td>\n",
              "      <td>0</td>\n",
              "      <td>0</td>\n",
              "      <td>0</td>\n",
              "      <td>0</td>\n",
              "      <td>4</td>\n",
              "      <td>2010</td>\n",
              "    </tr>\n",
              "    <tr>\n",
              "      <th>1459</th>\n",
              "      <td>1</td>\n",
              "      <td>1</td>\n",
              "      <td>1</td>\n",
              "      <td>1</td>\n",
              "      <td>1</td>\n",
              "      <td>1</td>\n",
              "      <td>1</td>\n",
              "      <td>16</td>\n",
              "      <td>1</td>\n",
              "      <td>1</td>\n",
              "      <td>...</td>\n",
              "      <td>276</td>\n",
              "      <td>736</td>\n",
              "      <td>68</td>\n",
              "      <td>0</td>\n",
              "      <td>0</td>\n",
              "      <td>0</td>\n",
              "      <td>0</td>\n",
              "      <td>0</td>\n",
              "      <td>6</td>\n",
              "      <td>2008</td>\n",
              "    </tr>\n",
              "  </tbody>\n",
              "</table>\n",
              "<p>1460 rows × 60 columns</p>\n",
              "</div>\n",
              "      <button class=\"colab-df-convert\" onclick=\"convertToInteractive('df-54141d63-6f54-43d7-86b0-d55a54c05e90')\"\n",
              "              title=\"Convert this dataframe to an interactive table.\"\n",
              "              style=\"display:none;\">\n",
              "        \n",
              "  <svg xmlns=\"http://www.w3.org/2000/svg\" height=\"24px\"viewBox=\"0 0 24 24\"\n",
              "       width=\"24px\">\n",
              "    <path d=\"M0 0h24v24H0V0z\" fill=\"none\"/>\n",
              "    <path d=\"M18.56 5.44l.94 2.06.94-2.06 2.06-.94-2.06-.94-.94-2.06-.94 2.06-2.06.94zm-11 1L8.5 8.5l.94-2.06 2.06-.94-2.06-.94L8.5 2.5l-.94 2.06-2.06.94zm10 10l.94 2.06.94-2.06 2.06-.94-2.06-.94-.94-2.06-.94 2.06-2.06.94z\"/><path d=\"M17.41 7.96l-1.37-1.37c-.4-.4-.92-.59-1.43-.59-.52 0-1.04.2-1.43.59L10.3 9.45l-7.72 7.72c-.78.78-.78 2.05 0 2.83L4 21.41c.39.39.9.59 1.41.59.51 0 1.02-.2 1.41-.59l7.78-7.78 2.81-2.81c.8-.78.8-2.07 0-2.86zM5.41 20L4 18.59l7.72-7.72 1.47 1.35L5.41 20z\"/>\n",
              "  </svg>\n",
              "      </button>\n",
              "      \n",
              "  <style>\n",
              "    .colab-df-container {\n",
              "      display:flex;\n",
              "      flex-wrap:wrap;\n",
              "      gap: 12px;\n",
              "    }\n",
              "\n",
              "    .colab-df-convert {\n",
              "      background-color: #E8F0FE;\n",
              "      border: none;\n",
              "      border-radius: 50%;\n",
              "      cursor: pointer;\n",
              "      display: none;\n",
              "      fill: #1967D2;\n",
              "      height: 32px;\n",
              "      padding: 0 0 0 0;\n",
              "      width: 32px;\n",
              "    }\n",
              "\n",
              "    .colab-df-convert:hover {\n",
              "      background-color: #E2EBFA;\n",
              "      box-shadow: 0px 1px 2px rgba(60, 64, 67, 0.3), 0px 1px 3px 1px rgba(60, 64, 67, 0.15);\n",
              "      fill: #174EA6;\n",
              "    }\n",
              "\n",
              "    [theme=dark] .colab-df-convert {\n",
              "      background-color: #3B4455;\n",
              "      fill: #D2E3FC;\n",
              "    }\n",
              "\n",
              "    [theme=dark] .colab-df-convert:hover {\n",
              "      background-color: #434B5C;\n",
              "      box-shadow: 0px 1px 3px 1px rgba(0, 0, 0, 0.15);\n",
              "      filter: drop-shadow(0px 1px 2px rgba(0, 0, 0, 0.3));\n",
              "      fill: #FFFFFF;\n",
              "    }\n",
              "  </style>\n",
              "\n",
              "      <script>\n",
              "        const buttonEl =\n",
              "          document.querySelector('#df-54141d63-6f54-43d7-86b0-d55a54c05e90 button.colab-df-convert');\n",
              "        buttonEl.style.display =\n",
              "          google.colab.kernel.accessAllowed ? 'block' : 'none';\n",
              "\n",
              "        async function convertToInteractive(key) {\n",
              "          const element = document.querySelector('#df-54141d63-6f54-43d7-86b0-d55a54c05e90');\n",
              "          const dataTable =\n",
              "            await google.colab.kernel.invokeFunction('convertToInteractive',\n",
              "                                                     [key], {});\n",
              "          if (!dataTable) return;\n",
              "\n",
              "          const docLinkHtml = 'Like what you see? Visit the ' +\n",
              "            '<a target=\"_blank\" href=https://colab.research.google.com/notebooks/data_table.ipynb>data table notebook</a>'\n",
              "            + ' to learn more about interactive tables.';\n",
              "          element.innerHTML = '';\n",
              "          dataTable['output_type'] = 'display_data';\n",
              "          await google.colab.output.renderOutput(dataTable, element);\n",
              "          const docLink = document.createElement('div');\n",
              "          docLink.innerHTML = docLinkHtml;\n",
              "          element.appendChild(docLink);\n",
              "        }\n",
              "      </script>\n",
              "    </div>\n",
              "  </div>\n",
              "  "
            ]
          },
          "metadata": {},
          "execution_count": 69
        }
      ]
    },
    {
      "cell_type": "code",
      "source": [
        "df_processed['SalePrice'] = df_train['SalePrice']"
      ],
      "metadata": {
        "colab": {
          "base_uri": "https://localhost:8080/"
        },
        "id": "REbnVr077WS4",
        "outputId": "322cf2cb-17eb-48e8-aabc-f8a050dd9b85"
      },
      "execution_count": 70,
      "outputs": [
        {
          "output_type": "stream",
          "name": "stderr",
          "text": [
            "<ipython-input-70-f4d90a710caf>:1: SettingWithCopyWarning: \n",
            "A value is trying to be set on a copy of a slice from a DataFrame.\n",
            "Try using .loc[row_indexer,col_indexer] = value instead\n",
            "\n",
            "See the caveats in the documentation: https://pandas.pydata.org/pandas-docs/stable/user_guide/indexing.html#returning-a-view-versus-a-copy\n",
            "  df_processed['SalePrice'] = df_train['SalePrice']\n"
          ]
        }
      ]
    },
    {
      "cell_type": "code",
      "source": [
        "df_processed"
      ],
      "metadata": {
        "colab": {
          "base_uri": "https://localhost:8080/",
          "height": 488
        },
        "id": "F8KWaleU7iYY",
        "outputId": "e834139c-4f5f-43ec-fdb2-86ab531c9fae"
      },
      "execution_count": 71,
      "outputs": [
        {
          "output_type": "execute_result",
          "data": {
            "text/plain": [
              "      MSZoning_rank  Street_rank  LotShape_rank  LandContour_rank  \\\n",
              "0                 1            1              1                 1   \n",
              "1                 1            1              1                 1   \n",
              "2                 1            1              2                 1   \n",
              "3                 1            1              2                 1   \n",
              "4                 1            1              2                 1   \n",
              "...             ...          ...            ...               ...   \n",
              "1455              1            1              1                 1   \n",
              "1456              1            1              1                 1   \n",
              "1457              1            1              1                 1   \n",
              "1458              1            1              1                 1   \n",
              "1459              1            1              1                 1   \n",
              "\n",
              "      Utilities_rank  LotConfig_rank  LandSlope_rank  Neighborhood_rank  \\\n",
              "0                  1               1               1                  1   \n",
              "1                  1               2               1                  2   \n",
              "2                  1               1               1                  1   \n",
              "3                  1               3               1                  3   \n",
              "4                  1               2               1                  4   \n",
              "...              ...             ...             ...                ...   \n",
              "1455               1               1               1                 18   \n",
              "1456               1               1               1                  7   \n",
              "1457               1               1               1                  3   \n",
              "1458               1               1               1                 12   \n",
              "1459               1               1               1                 16   \n",
              "\n",
              "      Condition1_rank  Condition2_rank  ...  WoodDeckSF  OpenPorchSF  \\\n",
              "0                   1                1  ...           0           61   \n",
              "1                   2                1  ...         298            0   \n",
              "2                   1                1  ...           0           42   \n",
              "3                   1                1  ...           0           35   \n",
              "4                   1                1  ...         192           84   \n",
              "...               ...              ...  ...         ...          ...   \n",
              "1455                1                1  ...           0           40   \n",
              "1456                1                1  ...         349            0   \n",
              "1457                1                1  ...           0           60   \n",
              "1458                1                1  ...         366            0   \n",
              "1459                1                1  ...         736           68   \n",
              "\n",
              "      EnclosedPorch  3SsnPorch  ScreenPorch  PoolArea  MiscVal  MoSold  \\\n",
              "0                 0          0            0         0        0       2   \n",
              "1                 0          0            0         0        0       5   \n",
              "2                 0          0            0         0        0       9   \n",
              "3               272          0            0         0        0       2   \n",
              "4                 0          0            0         0        0      12   \n",
              "...             ...        ...          ...       ...      ...     ...   \n",
              "1455              0          0            0         0        0       8   \n",
              "1456              0          0            0         0        0       2   \n",
              "1457              0          0            0         0     2500       5   \n",
              "1458            112          0            0         0        0       4   \n",
              "1459              0          0            0         0        0       6   \n",
              "\n",
              "      YrSold  SalePrice  \n",
              "0       2008     208500  \n",
              "1       2007     181500  \n",
              "2       2008     223500  \n",
              "3       2006     140000  \n",
              "4       2008     250000  \n",
              "...      ...        ...  \n",
              "1455    2007     175000  \n",
              "1456    2010     210000  \n",
              "1457    2010     266500  \n",
              "1458    2010     142125  \n",
              "1459    2008     147500  \n",
              "\n",
              "[1460 rows x 61 columns]"
            ],
            "text/html": [
              "\n",
              "  <div id=\"df-2de39e7f-ff3e-4d9c-a9ef-37ca37dc4215\">\n",
              "    <div class=\"colab-df-container\">\n",
              "      <div>\n",
              "<style scoped>\n",
              "    .dataframe tbody tr th:only-of-type {\n",
              "        vertical-align: middle;\n",
              "    }\n",
              "\n",
              "    .dataframe tbody tr th {\n",
              "        vertical-align: top;\n",
              "    }\n",
              "\n",
              "    .dataframe thead th {\n",
              "        text-align: right;\n",
              "    }\n",
              "</style>\n",
              "<table border=\"1\" class=\"dataframe\">\n",
              "  <thead>\n",
              "    <tr style=\"text-align: right;\">\n",
              "      <th></th>\n",
              "      <th>MSZoning_rank</th>\n",
              "      <th>Street_rank</th>\n",
              "      <th>LotShape_rank</th>\n",
              "      <th>LandContour_rank</th>\n",
              "      <th>Utilities_rank</th>\n",
              "      <th>LotConfig_rank</th>\n",
              "      <th>LandSlope_rank</th>\n",
              "      <th>Neighborhood_rank</th>\n",
              "      <th>Condition1_rank</th>\n",
              "      <th>Condition2_rank</th>\n",
              "      <th>...</th>\n",
              "      <th>WoodDeckSF</th>\n",
              "      <th>OpenPorchSF</th>\n",
              "      <th>EnclosedPorch</th>\n",
              "      <th>3SsnPorch</th>\n",
              "      <th>ScreenPorch</th>\n",
              "      <th>PoolArea</th>\n",
              "      <th>MiscVal</th>\n",
              "      <th>MoSold</th>\n",
              "      <th>YrSold</th>\n",
              "      <th>SalePrice</th>\n",
              "    </tr>\n",
              "  </thead>\n",
              "  <tbody>\n",
              "    <tr>\n",
              "      <th>0</th>\n",
              "      <td>1</td>\n",
              "      <td>1</td>\n",
              "      <td>1</td>\n",
              "      <td>1</td>\n",
              "      <td>1</td>\n",
              "      <td>1</td>\n",
              "      <td>1</td>\n",
              "      <td>1</td>\n",
              "      <td>1</td>\n",
              "      <td>1</td>\n",
              "      <td>...</td>\n",
              "      <td>0</td>\n",
              "      <td>61</td>\n",
              "      <td>0</td>\n",
              "      <td>0</td>\n",
              "      <td>0</td>\n",
              "      <td>0</td>\n",
              "      <td>0</td>\n",
              "      <td>2</td>\n",
              "      <td>2008</td>\n",
              "      <td>208500</td>\n",
              "    </tr>\n",
              "    <tr>\n",
              "      <th>1</th>\n",
              "      <td>1</td>\n",
              "      <td>1</td>\n",
              "      <td>1</td>\n",
              "      <td>1</td>\n",
              "      <td>1</td>\n",
              "      <td>2</td>\n",
              "      <td>1</td>\n",
              "      <td>2</td>\n",
              "      <td>2</td>\n",
              "      <td>1</td>\n",
              "      <td>...</td>\n",
              "      <td>298</td>\n",
              "      <td>0</td>\n",
              "      <td>0</td>\n",
              "      <td>0</td>\n",
              "      <td>0</td>\n",
              "      <td>0</td>\n",
              "      <td>0</td>\n",
              "      <td>5</td>\n",
              "      <td>2007</td>\n",
              "      <td>181500</td>\n",
              "    </tr>\n",
              "    <tr>\n",
              "      <th>2</th>\n",
              "      <td>1</td>\n",
              "      <td>1</td>\n",
              "      <td>2</td>\n",
              "      <td>1</td>\n",
              "      <td>1</td>\n",
              "      <td>1</td>\n",
              "      <td>1</td>\n",
              "      <td>1</td>\n",
              "      <td>1</td>\n",
              "      <td>1</td>\n",
              "      <td>...</td>\n",
              "      <td>0</td>\n",
              "      <td>42</td>\n",
              "      <td>0</td>\n",
              "      <td>0</td>\n",
              "      <td>0</td>\n",
              "      <td>0</td>\n",
              "      <td>0</td>\n",
              "      <td>9</td>\n",
              "      <td>2008</td>\n",
              "      <td>223500</td>\n",
              "    </tr>\n",
              "    <tr>\n",
              "      <th>3</th>\n",
              "      <td>1</td>\n",
              "      <td>1</td>\n",
              "      <td>2</td>\n",
              "      <td>1</td>\n",
              "      <td>1</td>\n",
              "      <td>3</td>\n",
              "      <td>1</td>\n",
              "      <td>3</td>\n",
              "      <td>1</td>\n",
              "      <td>1</td>\n",
              "      <td>...</td>\n",
              "      <td>0</td>\n",
              "      <td>35</td>\n",
              "      <td>272</td>\n",
              "      <td>0</td>\n",
              "      <td>0</td>\n",
              "      <td>0</td>\n",
              "      <td>0</td>\n",
              "      <td>2</td>\n",
              "      <td>2006</td>\n",
              "      <td>140000</td>\n",
              "    </tr>\n",
              "    <tr>\n",
              "      <th>4</th>\n",
              "      <td>1</td>\n",
              "      <td>1</td>\n",
              "      <td>2</td>\n",
              "      <td>1</td>\n",
              "      <td>1</td>\n",
              "      <td>2</td>\n",
              "      <td>1</td>\n",
              "      <td>4</td>\n",
              "      <td>1</td>\n",
              "      <td>1</td>\n",
              "      <td>...</td>\n",
              "      <td>192</td>\n",
              "      <td>84</td>\n",
              "      <td>0</td>\n",
              "      <td>0</td>\n",
              "      <td>0</td>\n",
              "      <td>0</td>\n",
              "      <td>0</td>\n",
              "      <td>12</td>\n",
              "      <td>2008</td>\n",
              "      <td>250000</td>\n",
              "    </tr>\n",
              "    <tr>\n",
              "      <th>...</th>\n",
              "      <td>...</td>\n",
              "      <td>...</td>\n",
              "      <td>...</td>\n",
              "      <td>...</td>\n",
              "      <td>...</td>\n",
              "      <td>...</td>\n",
              "      <td>...</td>\n",
              "      <td>...</td>\n",
              "      <td>...</td>\n",
              "      <td>...</td>\n",
              "      <td>...</td>\n",
              "      <td>...</td>\n",
              "      <td>...</td>\n",
              "      <td>...</td>\n",
              "      <td>...</td>\n",
              "      <td>...</td>\n",
              "      <td>...</td>\n",
              "      <td>...</td>\n",
              "      <td>...</td>\n",
              "      <td>...</td>\n",
              "      <td>...</td>\n",
              "    </tr>\n",
              "    <tr>\n",
              "      <th>1455</th>\n",
              "      <td>1</td>\n",
              "      <td>1</td>\n",
              "      <td>1</td>\n",
              "      <td>1</td>\n",
              "      <td>1</td>\n",
              "      <td>1</td>\n",
              "      <td>1</td>\n",
              "      <td>18</td>\n",
              "      <td>1</td>\n",
              "      <td>1</td>\n",
              "      <td>...</td>\n",
              "      <td>0</td>\n",
              "      <td>40</td>\n",
              "      <td>0</td>\n",
              "      <td>0</td>\n",
              "      <td>0</td>\n",
              "      <td>0</td>\n",
              "      <td>0</td>\n",
              "      <td>8</td>\n",
              "      <td>2007</td>\n",
              "      <td>175000</td>\n",
              "    </tr>\n",
              "    <tr>\n",
              "      <th>1456</th>\n",
              "      <td>1</td>\n",
              "      <td>1</td>\n",
              "      <td>1</td>\n",
              "      <td>1</td>\n",
              "      <td>1</td>\n",
              "      <td>1</td>\n",
              "      <td>1</td>\n",
              "      <td>7</td>\n",
              "      <td>1</td>\n",
              "      <td>1</td>\n",
              "      <td>...</td>\n",
              "      <td>349</td>\n",
              "      <td>0</td>\n",
              "      <td>0</td>\n",
              "      <td>0</td>\n",
              "      <td>0</td>\n",
              "      <td>0</td>\n",
              "      <td>0</td>\n",
              "      <td>2</td>\n",
              "      <td>2010</td>\n",
              "      <td>210000</td>\n",
              "    </tr>\n",
              "    <tr>\n",
              "      <th>1457</th>\n",
              "      <td>1</td>\n",
              "      <td>1</td>\n",
              "      <td>1</td>\n",
              "      <td>1</td>\n",
              "      <td>1</td>\n",
              "      <td>1</td>\n",
              "      <td>1</td>\n",
              "      <td>3</td>\n",
              "      <td>1</td>\n",
              "      <td>1</td>\n",
              "      <td>...</td>\n",
              "      <td>0</td>\n",
              "      <td>60</td>\n",
              "      <td>0</td>\n",
              "      <td>0</td>\n",
              "      <td>0</td>\n",
              "      <td>0</td>\n",
              "      <td>2500</td>\n",
              "      <td>5</td>\n",
              "      <td>2010</td>\n",
              "      <td>266500</td>\n",
              "    </tr>\n",
              "    <tr>\n",
              "      <th>1458</th>\n",
              "      <td>1</td>\n",
              "      <td>1</td>\n",
              "      <td>1</td>\n",
              "      <td>1</td>\n",
              "      <td>1</td>\n",
              "      <td>1</td>\n",
              "      <td>1</td>\n",
              "      <td>12</td>\n",
              "      <td>1</td>\n",
              "      <td>1</td>\n",
              "      <td>...</td>\n",
              "      <td>366</td>\n",
              "      <td>0</td>\n",
              "      <td>112</td>\n",
              "      <td>0</td>\n",
              "      <td>0</td>\n",
              "      <td>0</td>\n",
              "      <td>0</td>\n",
              "      <td>4</td>\n",
              "      <td>2010</td>\n",
              "      <td>142125</td>\n",
              "    </tr>\n",
              "    <tr>\n",
              "      <th>1459</th>\n",
              "      <td>1</td>\n",
              "      <td>1</td>\n",
              "      <td>1</td>\n",
              "      <td>1</td>\n",
              "      <td>1</td>\n",
              "      <td>1</td>\n",
              "      <td>1</td>\n",
              "      <td>16</td>\n",
              "      <td>1</td>\n",
              "      <td>1</td>\n",
              "      <td>...</td>\n",
              "      <td>736</td>\n",
              "      <td>68</td>\n",
              "      <td>0</td>\n",
              "      <td>0</td>\n",
              "      <td>0</td>\n",
              "      <td>0</td>\n",
              "      <td>0</td>\n",
              "      <td>6</td>\n",
              "      <td>2008</td>\n",
              "      <td>147500</td>\n",
              "    </tr>\n",
              "  </tbody>\n",
              "</table>\n",
              "<p>1460 rows × 61 columns</p>\n",
              "</div>\n",
              "      <button class=\"colab-df-convert\" onclick=\"convertToInteractive('df-2de39e7f-ff3e-4d9c-a9ef-37ca37dc4215')\"\n",
              "              title=\"Convert this dataframe to an interactive table.\"\n",
              "              style=\"display:none;\">\n",
              "        \n",
              "  <svg xmlns=\"http://www.w3.org/2000/svg\" height=\"24px\"viewBox=\"0 0 24 24\"\n",
              "       width=\"24px\">\n",
              "    <path d=\"M0 0h24v24H0V0z\" fill=\"none\"/>\n",
              "    <path d=\"M18.56 5.44l.94 2.06.94-2.06 2.06-.94-2.06-.94-.94-2.06-.94 2.06-2.06.94zm-11 1L8.5 8.5l.94-2.06 2.06-.94-2.06-.94L8.5 2.5l-.94 2.06-2.06.94zm10 10l.94 2.06.94-2.06 2.06-.94-2.06-.94-.94-2.06-.94 2.06-2.06.94z\"/><path d=\"M17.41 7.96l-1.37-1.37c-.4-.4-.92-.59-1.43-.59-.52 0-1.04.2-1.43.59L10.3 9.45l-7.72 7.72c-.78.78-.78 2.05 0 2.83L4 21.41c.39.39.9.59 1.41.59.51 0 1.02-.2 1.41-.59l7.78-7.78 2.81-2.81c.8-.78.8-2.07 0-2.86zM5.41 20L4 18.59l7.72-7.72 1.47 1.35L5.41 20z\"/>\n",
              "  </svg>\n",
              "      </button>\n",
              "      \n",
              "  <style>\n",
              "    .colab-df-container {\n",
              "      display:flex;\n",
              "      flex-wrap:wrap;\n",
              "      gap: 12px;\n",
              "    }\n",
              "\n",
              "    .colab-df-convert {\n",
              "      background-color: #E8F0FE;\n",
              "      border: none;\n",
              "      border-radius: 50%;\n",
              "      cursor: pointer;\n",
              "      display: none;\n",
              "      fill: #1967D2;\n",
              "      height: 32px;\n",
              "      padding: 0 0 0 0;\n",
              "      width: 32px;\n",
              "    }\n",
              "\n",
              "    .colab-df-convert:hover {\n",
              "      background-color: #E2EBFA;\n",
              "      box-shadow: 0px 1px 2px rgba(60, 64, 67, 0.3), 0px 1px 3px 1px rgba(60, 64, 67, 0.15);\n",
              "      fill: #174EA6;\n",
              "    }\n",
              "\n",
              "    [theme=dark] .colab-df-convert {\n",
              "      background-color: #3B4455;\n",
              "      fill: #D2E3FC;\n",
              "    }\n",
              "\n",
              "    [theme=dark] .colab-df-convert:hover {\n",
              "      background-color: #434B5C;\n",
              "      box-shadow: 0px 1px 3px 1px rgba(0, 0, 0, 0.15);\n",
              "      filter: drop-shadow(0px 1px 2px rgba(0, 0, 0, 0.3));\n",
              "      fill: #FFFFFF;\n",
              "    }\n",
              "  </style>\n",
              "\n",
              "      <script>\n",
              "        const buttonEl =\n",
              "          document.querySelector('#df-2de39e7f-ff3e-4d9c-a9ef-37ca37dc4215 button.colab-df-convert');\n",
              "        buttonEl.style.display =\n",
              "          google.colab.kernel.accessAllowed ? 'block' : 'none';\n",
              "\n",
              "        async function convertToInteractive(key) {\n",
              "          const element = document.querySelector('#df-2de39e7f-ff3e-4d9c-a9ef-37ca37dc4215');\n",
              "          const dataTable =\n",
              "            await google.colab.kernel.invokeFunction('convertToInteractive',\n",
              "                                                     [key], {});\n",
              "          if (!dataTable) return;\n",
              "\n",
              "          const docLinkHtml = 'Like what you see? Visit the ' +\n",
              "            '<a target=\"_blank\" href=https://colab.research.google.com/notebooks/data_table.ipynb>data table notebook</a>'\n",
              "            + ' to learn more about interactive tables.';\n",
              "          element.innerHTML = '';\n",
              "          dataTable['output_type'] = 'display_data';\n",
              "          await google.colab.output.renderOutput(dataTable, element);\n",
              "          const docLink = document.createElement('div');\n",
              "          docLink.innerHTML = docLinkHtml;\n",
              "          element.appendChild(docLink);\n",
              "        }\n",
              "      </script>\n",
              "    </div>\n",
              "  </div>\n",
              "  "
            ]
          },
          "metadata": {},
          "execution_count": 71
        }
      ]
    },
    {
      "cell_type": "code",
      "source": [
        "corrmat = df_processed.corr()"
      ],
      "metadata": {
        "id": "oLt8tpKZAM2F"
      },
      "execution_count": 72,
      "outputs": []
    },
    {
      "cell_type": "code",
      "source": [
        "f, ax = plt.subplots(figsize=(24, 18))\n",
        "sns.heatmap(corrmat, vmax=0.8, square=True)"
      ],
      "metadata": {
        "colab": {
          "base_uri": "https://localhost:8080/",
          "height": 591
        },
        "id": "dUtLiiSjARHv",
        "outputId": "2f5d1eef-f7c2-4dd9-e8a9-85a05ce006d8"
      },
      "execution_count": 73,
      "outputs": [
        {
          "output_type": "execute_result",
          "data": {
            "text/plain": [
              "<matplotlib.axes._subplots.AxesSubplot at 0x7fc011cdddc0>"
            ]
          },
          "metadata": {},
          "execution_count": 73
        },
        {
          "output_type": "display_data",
          "data": {
            "text/plain": [
              "<Figure size 1728x1296 with 2 Axes>"
            ],
            "image/png": "[encoded data removed]"
          },
          "metadata": {
            "needs_background": "light"
          }
        }
      ]
    },
    {
      "cell_type": "code",
      "source": [
        "df_features = corrmat.sort_values(by=['SalePrice'])['SalePrice']\n",
        "df_features[-40:]"
      ],
      "metadata": {
        "colab": {
          "base_uri": "https://localhost:8080/"
        },
        "id": "JXOteLTsAb83",
        "outputId": "fecea65a-22be-4552-a208-007984289033"
      },
      "execution_count": 74,
      "outputs": [
        {
          "output_type": "execute_result",
          "data": {
            "text/plain": [
              "YrSold               -0.028923\n",
              "LowQualFinSF         -0.025606\n",
              "MiscVal              -0.021190\n",
              "BsmtHalfBath         -0.016844\n",
              "Utilities_rank       -0.014314\n",
              "BsmtFinSF2           -0.011378\n",
              "Condition2_rank      -0.004833\n",
              "RoofMatl_rank         0.035820\n",
              "3SsnPorch             0.044584\n",
              "MoSold                0.046432\n",
              "LandSlope_rank        0.051152\n",
              "SaleType_rank         0.072896\n",
              "LandContour_rank      0.092009\n",
              "PoolArea              0.092404\n",
              "LotConfig_rank        0.109106\n",
              "ScreenPorch           0.111447\n",
              "SaleCondition_rank    0.142503\n",
              "RoofStyle_rank        0.159332\n",
              "BedroomAbvGr          0.168213\n",
              "BsmtUnfSF             0.214479\n",
              "BsmtFullBath          0.227122\n",
              "LotArea               0.263843\n",
              "LotShape_rank         0.267759\n",
              "HalfBath              0.284108\n",
              "OpenPorchSF           0.315856\n",
              "2ndFlrSF              0.319334\n",
              "WoodDeckSF            0.324413\n",
              "BsmtFinSF1            0.386420\n",
              "Fireplaces            0.466929\n",
              "YearRemodAdd          0.507101\n",
              "YearBuilt             0.522897\n",
              "TotRmsAbvGrd          0.533723\n",
              "FullBath              0.560664\n",
              "1stFlrSF              0.605852\n",
              "TotalBsmtSF           0.613581\n",
              "GarageArea            0.623431\n",
              "GarageCars            0.640409\n",
              "GrLivArea             0.708624\n",
              "OverallQual           0.790982\n",
              "SalePrice             1.000000\n",
              "Name: SalePrice, dtype: float64"
            ]
          },
          "metadata": {},
          "execution_count": 74
        }
      ]
    },
    {
      "cell_type": "markdown",
      "source": [
        "## Linear Regression"
      ],
      "metadata": {
        "id": "10BGUnRT-bxb"
      }
    },
    {
      "cell_type": "markdown",
      "source": [
        "TODO:\n",
        "- 전 처리된 dataset으로 regression\n",
        "- Change distribution of the label"
      ],
      "metadata": {
        "id": "t58Yf2fR-qAO"
      }
    },
    {
      "cell_type": "markdown",
      "source": [
        "### Train test Split"
      ],
      "metadata": {
        "id": "kB6tlPTL-zs9"
      }
    },
    {
      "cell_type": "code",
      "source": [
        "from sklearn.model_selection import train_test_split"
      ],
      "metadata": {
        "id": "tafDe2dI-gof"
      },
      "execution_count": null,
      "outputs": []
    },
    {
      "cell_type": "code",
      "source": [
        "# correlation이 높은 상위 15개 정도만 학습시켜보자\n",
        "df_features[-16:-1].index.tolist()"
      ],
      "metadata": {
        "colab": {
          "base_uri": "https://localhost:8080/"
        },
        "id": "LzK5aQzT_g7H",
        "outputId": "fe084ed1-9a20-4f4e-c7ee-03aeac774adb"
      },
      "execution_count": null,
      "outputs": [
        {
          "output_type": "execute_result",
          "data": {
            "text/plain": [
              "['OpenPorchSF',\n",
              " '2ndFlrSF',\n",
              " 'WoodDeckSF',\n",
              " 'BsmtFinSF1',\n",
              " 'Fireplaces',\n",
              " 'YearRemodAdd',\n",
              " 'YearBuilt',\n",
              " 'TotRmsAbvGrd',\n",
              " 'FullBath',\n",
              " '1stFlrSF',\n",
              " 'TotalBsmtSF',\n",
              " 'GarageArea',\n",
              " 'GarageCars',\n",
              " 'GrLivArea',\n",
              " 'OverallQual']"
            ]
          },
          "metadata": {},
          "execution_count": 342
        }
      ]
    },
    {
      "cell_type": "code",
      "source": [
        "x = df_processed[df_features[-16:-1].index.tolist()]\n",
        "y = df_processed['SalePrice']"
      ],
      "metadata": {
        "id": "-BAJJ9PgEVQx"
      },
      "execution_count": null,
      "outputs": []
    },
    {
      "cell_type": "code",
      "source": [
        "x.shape, y.shape"
      ],
      "metadata": {
        "colab": {
          "base_uri": "https://localhost:8080/"
        },
        "id": "P3Gxf33xEreP",
        "outputId": "2797ba09-23b3-4cdb-f9b6-58e8e23a0a9c"
      },
      "execution_count": null,
      "outputs": [
        {
          "output_type": "execute_result",
          "data": {
            "text/plain": [
              "((1460, 15), (1460,))"
            ]
          },
          "metadata": {},
          "execution_count": 344
        }
      ]
    },
    {
      "cell_type": "code",
      "source": [
        "# df_processed 통채로 학습시키지 않고 분할 학습시켜보자\n",
        "# 90% 학습시키고 10% 검증데이터로 활용\n",
        "x_train, x_test, y_train, y_test = train_test_split(x, y, test_size=0.1, random_state=42)"
      ],
      "metadata": {
        "id": "Mt4x1VT3EuzX"
      },
      "execution_count": null,
      "outputs": []
    },
    {
      "cell_type": "code",
      "source": [
        "x_train.shape, x_test.shape"
      ],
      "metadata": {
        "colab": {
          "base_uri": "https://localhost:8080/"
        },
        "id": "78d-Njj8FVGA",
        "outputId": "40bad998-6478-4a30-e907-e935303f8824"
      },
      "execution_count": null,
      "outputs": [
        {
          "output_type": "execute_result",
          "data": {
            "text/plain": [
              "((1314, 15), (146, 15))"
            ]
          },
          "metadata": {},
          "execution_count": 346
        }
      ]
    },
    {
      "cell_type": "code",
      "source": [
        "y_train.shape, y_test.shape"
      ],
      "metadata": {
        "colab": {
          "base_uri": "https://localhost:8080/"
        },
        "id": "9YBKnZDAFYZf",
        "outputId": "3646a605-2317-4b70-a7dd-6e492c314c84"
      },
      "execution_count": null,
      "outputs": [
        {
          "output_type": "execute_result",
          "data": {
            "text/plain": [
              "((1314,), (146,))"
            ]
          },
          "metadata": {},
          "execution_count": 347
        }
      ]
    },
    {
      "cell_type": "code",
      "source": [
        "from sklearn.linear_model import Lasso"
      ],
      "metadata": {
        "id": "NEYm30UfFeYP"
      },
      "execution_count": null,
      "outputs": []
    },
    {
      "cell_type": "code",
      "source": [
        "# hyperparameter 쓰지 않고 default 로만 학습 시켜보자\n",
        "model = Lasso()"
      ],
      "metadata": {
        "id": "76BeKvm8Huug"
      },
      "execution_count": null,
      "outputs": []
    },
    {
      "cell_type": "code",
      "source": [
        "model = model.fit(x_train, y_train)"
      ],
      "metadata": {
        "colab": {
          "base_uri": "https://localhost:8080/"
        },
        "id": "oLPofCwoIdkX",
        "outputId": "eef1615f-063d-4f57-f2bd-ab52360fc97f"
      },
      "execution_count": null,
      "outputs": [
        {
          "output_type": "stream",
          "name": "stderr",
          "text": [
            "/usr/local/lib/python3.8/dist-packages/sklearn/linear_model/_coordinate_descent.py:647: ConvergenceWarning: Objective did not converge. You might want to increase the number of iterations, check the scale of the features or consider increasing regularisation. Duality gap: 8.095e+11, tolerance: 7.873e+08\n",
            "  model = cd_fast.enet_coordinate_descent(\n"
          ]
        }
      ]
    },
    {
      "cell_type": "code",
      "source": [
        "# 훈련된 모델이 x_test값을 예측치로 집어넣어 본다\n",
        "pred = model.predict(x_test)"
      ],
      "metadata": {
        "id": "flvDswlLIh_H"
      },
      "execution_count": null,
      "outputs": []
    },
    {
      "cell_type": "code",
      "source": [
        "# y_test : 실제 정답과 예측치를 비교해본다\n",
        "plt.scatter(y_test, pred)"
      ],
      "metadata": {
        "colab": {
          "base_uri": "https://localhost:8080/"
        },
        "id": "665NrtKFImlP",
        "outputId": "d1b571b3-cd33-42ec-8362-2bcdc4c46f39"
      },
      "execution_count": null,
      "outputs": [
        {
          "output_type": "execute_result",
          "data": {
            "text/plain": [
              "<matplotlib.collections.PathCollection at 0x7f56230e0190>"
            ]
          },
          "metadata": {},
          "execution_count": 352
        },
        {
          "output_type": "display_data",
          "data": {
            "text/plain": [
              "<Figure size 432x288 with 1 Axes>"
            ],
            "image/png": "[encoded data removed]"
          },
          "metadata": {
            "needs_background": "light"
          }
        }
      ]
    },
    {
      "cell_type": "markdown",
      "source": [
        "### Evaluation"
      ],
      "metadata": {
        "id": "qL_wgTKWF5n9"
      }
    },
    {
      "cell_type": "code",
      "source": [
        "#sklearn 에 다양한 metric 함수들이 있음\n",
        "from sklearn import metrics"
      ],
      "metadata": {
        "id": "IGe9fR7II-0X"
      },
      "execution_count": null,
      "outputs": []
    },
    {
      "cell_type": "code",
      "source": [
        "# 정량화를 하기 위한 간단한 evaluate function\n",
        "def print_evaluate(true, predicted):\n",
        "  mae = metrics.mean_absolute_error(true, predicted)\n",
        "  mse = metrics.mean_squared_error(true, predicted)\n",
        "  rmse = np.sqrt(metrics.mean_squared_error(true, predicted))\n",
        "  r2_square = metrics.r2_score(true, predicted)\n",
        "  print('MAE: ', mae)\n",
        "  print('MSE: ', mse)\n",
        "  print('RMSE: ', rmse)\n",
        "  print('R2 SQAURE: ', r2_square)"
      ],
      "metadata": {
        "id": "oOQKPKZtQs1P"
      },
      "execution_count": null,
      "outputs": []
    },
    {
      "cell_type": "code",
      "source": [
        "# print_evaluate(정답, 예측값)\n",
        "print_evaluate(y_test, pred)"
      ],
      "metadata": {
        "colab": {
          "base_uri": "https://localhost:8080/"
        },
        "id": "GjEs5bpfR1HA",
        "outputId": "af0ab84a-e6d4-4dba-cfef-ed426b55d2c1"
      },
      "execution_count": null,
      "outputs": [
        {
          "output_type": "stream",
          "name": "stdout",
          "text": [
            "MAE:  23794.142695973376\n",
            "MSE:  1754358902.586029\n",
            "RMSE:  41885.06777583186\n",
            "R2 SQAURE:  0.80798642166732\n"
          ]
        }
      ]
    },
    {
      "cell_type": "code",
      "source": [
        "# 값을 좀 더 가시적으로 보기 위해 시각화 하기\n",
        "#[결과값, 예측값]\n",
        "df_result = pd.concat([y_test.reset_index(), pd.DataFrame(pred)], axis=1)\n",
        "\n",
        "df_result"
      ],
      "metadata": {
        "colab": {
          "base_uri": "https://localhost:8080/"
        },
        "id": "Uu_nyfiPSA7_",
        "outputId": "9caeddf6-c1c6-46df-938b-a41412dc4b73"
      },
      "execution_count": null,
      "outputs": [
        {
          "output_type": "execute_result",
          "data": {
            "text/plain": [
              "     index  SalePrice              0\n",
              "0      892     154500  155918.012756\n",
              "1     1105     325000  308343.211554\n",
              "2      413     115000  109925.280172\n",
              "3      522     159000  176015.061794\n",
              "4     1036     315500  299781.721455\n",
              "..     ...        ...            ...\n",
              "141    526     132000  119118.906907\n",
              "142    101     178000  185965.751837\n",
              "143   1092     136500  183903.421321\n",
              "144    411     145000  140071.706967\n",
              "145   1392     123000  127179.567816\n",
              "\n",
              "[146 rows x 3 columns]"
            ],
            "text/html": [
              "\n",
              "  <div id=\"df-9a157d10-39a2-4984-b43c-e8ce2595ac0f\">\n",
              "    <div class=\"colab-df-container\">\n",
              "      <div>\n",
              "<style scoped>\n",
              "    .dataframe tbody tr th:only-of-type {\n",
              "        vertical-align: middle;\n",
              "    }\n",
              "\n",
              "    .dataframe tbody tr th {\n",
              "        vertical-align: top;\n",
              "    }\n",
              "\n",
              "    .dataframe thead th {\n",
              "        text-align: right;\n",
              "    }\n",
              "</style>\n",
              "<table border=\"1\" class=\"dataframe\">\n",
              "  <thead>\n",
              "    <tr style=\"text-align: right;\">\n",
              "      <th></th>\n",
              "      <th>index</th>\n",
              "      <th>SalePrice</th>\n",
              "      <th>0</th>\n",
              "    </tr>\n",
              "  </thead>\n",
              "  <tbody>\n",
              "    <tr>\n",
              "      <th>0</th>\n",
              "      <td>892</td>\n",
              "      <td>154500</td>\n",
              "      <td>155918.012756</td>\n",
              "    </tr>\n",
              "    <tr>\n",
              "      <th>1</th>\n",
              "      <td>1105</td>\n",
              "      <td>325000</td>\n",
              "      <td>308343.211554</td>\n",
              "    </tr>\n",
              "    <tr>\n",
              "      <th>2</th>\n",
              "      <td>413</td>\n",
              "      <td>115000</td>\n",
              "      <td>109925.280172</td>\n",
              "    </tr>\n",
              "    <tr>\n",
              "      <th>3</th>\n",
              "      <td>522</td>\n",
              "      <td>159000</td>\n",
              "      <td>176015.061794</td>\n",
              "    </tr>\n",
              "    <tr>\n",
              "      <th>4</th>\n",
              "      <td>1036</td>\n",
              "      <td>315500</td>\n",
              "      <td>299781.721455</td>\n",
              "    </tr>\n",
              "    <tr>\n",
              "      <th>...</th>\n",
              "      <td>...</td>\n",
              "      <td>...</td>\n",
              "      <td>...</td>\n",
              "    </tr>\n",
              "    <tr>\n",
              "      <th>141</th>\n",
              "      <td>526</td>\n",
              "      <td>132000</td>\n",
              "      <td>119118.906907</td>\n",
              "    </tr>\n",
              "    <tr>\n",
              "      <th>142</th>\n",
              "      <td>101</td>\n",
              "      <td>178000</td>\n",
              "      <td>185965.751837</td>\n",
              "    </tr>\n",
              "    <tr>\n",
              "      <th>143</th>\n",
              "      <td>1092</td>\n",
              "      <td>136500</td>\n",
              "      <td>183903.421321</td>\n",
              "    </tr>\n",
              "    <tr>\n",
              "      <th>144</th>\n",
              "      <td>411</td>\n",
              "      <td>145000</td>\n",
              "      <td>140071.706967</td>\n",
              "    </tr>\n",
              "    <tr>\n",
              "      <th>145</th>\n",
              "      <td>1392</td>\n",
              "      <td>123000</td>\n",
              "      <td>127179.567816</td>\n",
              "    </tr>\n",
              "  </tbody>\n",
              "</table>\n",
              "<p>146 rows × 3 columns</p>\n",
              "</div>\n",
              "      <button class=\"colab-df-convert\" onclick=\"convertToInteractive('df-9a157d10-39a2-4984-b43c-e8ce2595ac0f')\"\n",
              "              title=\"Convert this dataframe to an interactive table.\"\n",
              "              style=\"display:none;\">\n",
              "        \n",
              "  <svg xmlns=\"http://www.w3.org/2000/svg\" height=\"24px\"viewBox=\"0 0 24 24\"\n",
              "       width=\"24px\">\n",
              "    <path d=\"M0 0h24v24H0V0z\" fill=\"none\"/>\n",
              "    <path d=\"M18.56 5.44l.94 2.06.94-2.06 2.06-.94-2.06-.94-.94-2.06-.94 2.06-2.06.94zm-11 1L8.5 8.5l.94-2.06 2.06-.94-2.06-.94L8.5 2.5l-.94 2.06-2.06.94zm10 10l.94 2.06.94-2.06 2.06-.94-2.06-.94-.94-2.06-.94 2.06-2.06.94z\"/><path d=\"M17.41 7.96l-1.37-1.37c-.4-.4-.92-.59-1.43-.59-.52 0-1.04.2-1.43.59L10.3 9.45l-7.72 7.72c-.78.78-.78 2.05 0 2.83L4 21.41c.39.39.9.59 1.41.59.51 0 1.02-.2 1.41-.59l7.78-7.78 2.81-2.81c.8-.78.8-2.07 0-2.86zM5.41 20L4 18.59l7.72-7.72 1.47 1.35L5.41 20z\"/>\n",
              "  </svg>\n",
              "      </button>\n",
              "      \n",
              "  <style>\n",
              "    .colab-df-container {\n",
              "      display:flex;\n",
              "      flex-wrap:wrap;\n",
              "      gap: 12px;\n",
              "    }\n",
              "\n",
              "    .colab-df-convert {\n",
              "      background-color: #E8F0FE;\n",
              "      border: none;\n",
              "      border-radius: 50%;\n",
              "      cursor: pointer;\n",
              "      display: none;\n",
              "      fill: #1967D2;\n",
              "      height: 32px;\n",
              "      padding: 0 0 0 0;\n",
              "      width: 32px;\n",
              "    }\n",
              "\n",
              "    .colab-df-convert:hover {\n",
              "      background-color: #E2EBFA;\n",
              "      box-shadow: 0px 1px 2px rgba(60, 64, 67, 0.3), 0px 1px 3px 1px rgba(60, 64, 67, 0.15);\n",
              "      fill: #174EA6;\n",
              "    }\n",
              "\n",
              "    [theme=dark] .colab-df-convert {\n",
              "      background-color: #3B4455;\n",
              "      fill: #D2E3FC;\n",
              "    }\n",
              "\n",
              "    [theme=dark] .colab-df-convert:hover {\n",
              "      background-color: #434B5C;\n",
              "      box-shadow: 0px 1px 3px 1px rgba(0, 0, 0, 0.15);\n",
              "      filter: drop-shadow(0px 1px 2px rgba(0, 0, 0, 0.3));\n",
              "      fill: #FFFFFF;\n",
              "    }\n",
              "  </style>\n",
              "\n",
              "      <script>\n",
              "        const buttonEl =\n",
              "          document.querySelector('#df-9a157d10-39a2-4984-b43c-e8ce2595ac0f button.colab-df-convert');\n",
              "        buttonEl.style.display =\n",
              "          google.colab.kernel.accessAllowed ? 'block' : 'none';\n",
              "\n",
              "        async function convertToInteractive(key) {\n",
              "          const element = document.querySelector('#df-9a157d10-39a2-4984-b43c-e8ce2595ac0f');\n",
              "          const dataTable =\n",
              "            await google.colab.kernel.invokeFunction('convertToInteractive',\n",
              "                                                     [key], {});\n",
              "          if (!dataTable) return;\n",
              "\n",
              "          const docLinkHtml = 'Like what you see? Visit the ' +\n",
              "            '<a target=\"_blank\" href=https://colab.research.google.com/notebooks/data_table.ipynb>data table notebook</a>'\n",
              "            + ' to learn more about interactive tables.';\n",
              "          element.innerHTML = '';\n",
              "          dataTable['output_type'] = 'display_data';\n",
              "          await google.colab.output.renderOutput(dataTable, element);\n",
              "          const docLink = document.createElement('div');\n",
              "          docLink.innerHTML = docLinkHtml;\n",
              "          element.appendChild(docLink);\n",
              "        }\n",
              "      </script>\n",
              "    </div>\n",
              "  </div>\n",
              "  "
            ]
          },
          "metadata": {},
          "execution_count": 356
        }
      ]
    },
    {
      "cell_type": "markdown",
      "source": [
        "### Label transformation"
      ],
      "metadata": {
        "id": "koPSFuUbSpQE"
      }
    },
    {
      "cell_type": "markdown",
      "source": [
        "- Labeling 조절 해 줄 필요가 있음\n",
        "- 분포가 정규분포를 따르면 좋음 -> fitting이 잘 됨\n",
        "- ouput의 범위가 크면 model이 예측하기 어려워짐"
      ],
      "metadata": {
        "id": "mgB3MsxoS8io"
      }
    },
    {
      "cell_type": "code",
      "source": [
        "import scipy.stats as st "
      ],
      "metadata": {
        "id": "ElnDIH7oSWcf"
      },
      "execution_count": null,
      "outputs": []
    },
    {
      "cell_type": "code",
      "source": [
        "#label이 정규분포를 따르는지 먼저 확인\n",
        "plt.figure(2)\n",
        "plt.title('Normal')\n",
        "sns.distplot(df_processed['SalePrice'], kde=False, fit=st.norm)"
      ],
      "metadata": {
        "colab": {
          "base_uri": "https://localhost:8080/"
        },
        "id": "GOzR0cADTQr3",
        "outputId": "ce90bb26-482c-41a4-c2aa-e79600bef835"
      },
      "execution_count": null,
      "outputs": [
        {
          "output_type": "stream",
          "name": "stderr",
          "text": [
            "/usr/local/lib/python3.8/dist-packages/seaborn/distributions.py:2619: FutureWarning: `distplot` is a deprecated function and will be removed in a future version. Please adapt your code to use either `displot` (a figure-level function with similar flexibility) or `histplot` (an axes-level function for histograms).\n",
            "  warnings.warn(msg, FutureWarning)\n"
          ]
        },
        {
          "output_type": "execute_result",
          "data": {
            "text/plain": [
              "<matplotlib.axes._subplots.AxesSubplot at 0x7f56230c3d60>"
            ]
          },
          "metadata": {},
          "execution_count": 358
        },
        {
          "output_type": "display_data",
          "data": {
            "text/plain": [
              "<Figure size 432x288 with 1 Axes>"
            ],
            "image/png": "[encoded data removed]"
          },
          "metadata": {
            "needs_background": "light"
          }
        }
      ]
    },
    {
      "cell_type": "markdown",
      "source": [
        "- 분포가 완전 정규분포와 일치하는 것은 아님\n",
        "-> 여러 transformation을 사용하여 정규분포로 만들어보자"
      ],
      "metadata": {
        "id": "CHqcmC1jTyV5"
      }
    },
    {
      "cell_type": "code",
      "source": [
        "# log norm을 취해보자\n",
        "plt.figure(3)\n",
        "plt.title('Log Normal')\n",
        "sns.distplot(df_processed['SalePrice'], kde=False, fit=st.lognorm)"
      ],
      "metadata": {
        "colab": {
          "base_uri": "https://localhost:8080/"
        },
        "id": "FZcLrckOTrKv",
        "outputId": "f3071dcd-0e41-4e4c-db60-0a635b4955d7"
      },
      "execution_count": null,
      "outputs": [
        {
          "output_type": "stream",
          "name": "stderr",
          "text": [
            "/usr/local/lib/python3.8/dist-packages/seaborn/distributions.py:2619: FutureWarning: `distplot` is a deprecated function and will be removed in a future version. Please adapt your code to use either `displot` (a figure-level function with similar flexibility) or `histplot` (an axes-level function for histograms).\n",
            "  warnings.warn(msg, FutureWarning)\n"
          ]
        },
        {
          "output_type": "execute_result",
          "data": {
            "text/plain": [
              "<matplotlib.axes._subplots.AxesSubplot at 0x7f5622fa6e50>"
            ]
          },
          "metadata": {},
          "execution_count": 359
        },
        {
          "output_type": "display_data",
          "data": {
            "text/plain": [
              "<Figure size 432x288 with 1 Axes>"
            ],
            "image/png": "[encoded data removed]"
          },
          "metadata": {
            "needs_background": "light"
          }
        }
      ]
    },
    {
      "cell_type": "markdown",
      "source": [
        "log norm을 취했을 때 그래프가 잘 맞는 것에서 아이디어를 얻어 결과값, 즉 y 값에 log를 취한 값을 넣어 정규분포를 따르는지 확인해보자"
      ],
      "metadata": {
        "id": "QkUatTJ9UYT4"
      }
    },
    {
      "cell_type": "code",
      "source": [
        "plt.figure(3)\n",
        "plt.title('Normal')\n",
        "sns.distplot(np.log(df_processed['SalePrice']), kde=False, fit=st.lognorm)"
      ],
      "metadata": {
        "colab": {
          "base_uri": "https://localhost:8080/"
        },
        "id": "n1FBQCf8UToG",
        "outputId": "0ef75b7d-5890-4839-bae9-b10a6f73f133"
      },
      "execution_count": null,
      "outputs": [
        {
          "output_type": "stream",
          "name": "stderr",
          "text": [
            "/usr/local/lib/python3.8/dist-packages/seaborn/distributions.py:2619: FutureWarning: `distplot` is a deprecated function and will be removed in a future version. Please adapt your code to use either `displot` (a figure-level function with similar flexibility) or `histplot` (an axes-level function for histograms).\n",
            "  warnings.warn(msg, FutureWarning)\n"
          ]
        },
        {
          "output_type": "execute_result",
          "data": {
            "text/plain": [
              "<matplotlib.axes._subplots.AxesSubplot at 0x7f5622ef2850>"
            ]
          },
          "metadata": {},
          "execution_count": 360
        },
        {
          "output_type": "display_data",
          "data": {
            "text/plain": [
              "<Figure size 432x288 with 1 Axes>"
            ],
            "image/png": "[encoded data removed]"
          },
          "metadata": {
            "needs_background": "light"
          }
        }
      ]
    },
    {
      "cell_type": "markdown",
      "source": [
        "- 값이 훨씬 이상적인 모습으로 잘 나왔음을 확인할 수 있다"
      ],
      "metadata": {
        "id": "FanPyDbjUvEY"
      }
    },
    {
      "cell_type": "markdown",
      "source": [
        "-> Log 로 transform을 해서 fitting을 해보도록 하자."
      ],
      "metadata": {
        "id": "vfUitNV2U2WC"
      }
    },
    {
      "cell_type": "code",
      "source": [
        "# x값은 그대로 두고 y 값은 log를 취해서 학습시켜보자\n",
        "model = Lasso()\n",
        "model = model.fit(x_train, np.log(y_train))"
      ],
      "metadata": {
        "id": "vKa000oWUtaP"
      },
      "execution_count": null,
      "outputs": []
    },
    {
      "cell_type": "code",
      "source": [
        "#log를 취한 y값을 원래대로 복구 시키기 위해서 exp를 취해주자\n",
        "pred = np.exp(model.predict(x_test))"
      ],
      "metadata": {
        "id": "iW2ojK4eVIJo"
      },
      "execution_count": null,
      "outputs": []
    },
    {
      "cell_type": "code",
      "source": [
        "# 학습시킨 모델의 결과값을 확인해보자\n",
        "print_evaluate(y_test, pred)"
      ],
      "metadata": {
        "colab": {
          "base_uri": "https://localhost:8080/"
        },
        "id": "RXpk1j8ZVXXn",
        "outputId": "070dd045-cb05-4bef-9dcb-69c2362491f9"
      },
      "execution_count": null,
      "outputs": [
        {
          "output_type": "stream",
          "name": "stdout",
          "text": [
            "MAE:  21617.328358371098\n",
            "MSE:  1345501205.1928196\n",
            "RMSE:  36681.07420990857\n",
            "R2 SQAURE:  0.8527356627659387\n"
          ]
        }
      ]
    },
    {
      "cell_type": "markdown",
      "source": [
        "## MLP\n",
        "- Multiple Layer Percetron"
      ],
      "metadata": {
        "id": "gpXpfv_EiAH9"
      }
    },
    {
      "cell_type": "markdown",
      "source": [
        "### Data Processing\n",
        "- Data Preprocessing"
      ],
      "metadata": {
        "id": "XAQ0-iTCjCxB"
      }
    },
    {
      "cell_type": "code",
      "source": [
        "df_processed"
      ],
      "metadata": {
        "colab": {
          "base_uri": "https://localhost:8080/",
          "height": 488
        },
        "id": "-lbZL-lfjXdc",
        "outputId": "30345860-a420-4dbb-a099-cf64ebbbeccc"
      },
      "execution_count": null,
      "outputs": [
        {
          "output_type": "execute_result",
          "data": {
            "text/plain": [
              "      MSZoning_rank  Street_rank  LotShape_rank  LandContour_rank  \\\n",
              "0                 1            1              1                 1   \n",
              "1                 1            1              1                 1   \n",
              "2                 1            1              2                 1   \n",
              "3                 1            1              2                 1   \n",
              "4                 1            1              2                 1   \n",
              "...             ...          ...            ...               ...   \n",
              "1455              1            1              1                 1   \n",
              "1456              1            1              1                 1   \n",
              "1457              1            1              1                 1   \n",
              "1458              1            1              1                 1   \n",
              "1459              1            1              1                 1   \n",
              "\n",
              "      Utilities_rank  LotConfig_rank  LandSlope_rank  Neighborhood_rank  \\\n",
              "0                  1               1               1                  1   \n",
              "1                  1               2               1                  2   \n",
              "2                  1               1               1                  1   \n",
              "3                  1               3               1                  3   \n",
              "4                  1               2               1                  4   \n",
              "...              ...             ...             ...                ...   \n",
              "1455               1               1               1                 18   \n",
              "1456               1               1               1                  7   \n",
              "1457               1               1               1                  3   \n",
              "1458               1               1               1                 12   \n",
              "1459               1               1               1                 16   \n",
              "\n",
              "      Condition1_rank  Condition2_rank  ...  WoodDeckSF  OpenPorchSF  \\\n",
              "0                   1                1  ...           0           61   \n",
              "1                   2                1  ...         298            0   \n",
              "2                   1                1  ...           0           42   \n",
              "3                   1                1  ...           0           35   \n",
              "4                   1                1  ...         192           84   \n",
              "...               ...              ...  ...         ...          ...   \n",
              "1455                1                1  ...           0           40   \n",
              "1456                1                1  ...         349            0   \n",
              "1457                1                1  ...           0           60   \n",
              "1458                1                1  ...         366            0   \n",
              "1459                1                1  ...         736           68   \n",
              "\n",
              "      EnclosedPorch  3SsnPorch  ScreenPorch  PoolArea  MiscVal  MoSold  \\\n",
              "0                 0          0            0         0        0       2   \n",
              "1                 0          0            0         0        0       5   \n",
              "2                 0          0            0         0        0       9   \n",
              "3               272          0            0         0        0       2   \n",
              "4                 0          0            0         0        0      12   \n",
              "...             ...        ...          ...       ...      ...     ...   \n",
              "1455              0          0            0         0        0       8   \n",
              "1456              0          0            0         0        0       2   \n",
              "1457              0          0            0         0     2500       5   \n",
              "1458            112          0            0         0        0       4   \n",
              "1459              0          0            0         0        0       6   \n",
              "\n",
              "      YrSold  SalePrice  \n",
              "0       2008     208500  \n",
              "1       2007     181500  \n",
              "2       2008     223500  \n",
              "3       2006     140000  \n",
              "4       2008     250000  \n",
              "...      ...        ...  \n",
              "1455    2007     175000  \n",
              "1456    2010     210000  \n",
              "1457    2010     266500  \n",
              "1458    2010     142125  \n",
              "1459    2008     147500  \n",
              "\n",
              "[1460 rows x 61 columns]"
            ],
            "text/html": [
              "\n",
              "  <div id=\"df-c1582743-744b-4a98-97f6-55d01112ab8a\">\n",
              "    <div class=\"colab-df-container\">\n",
              "      <div>\n",
              "<style scoped>\n",
              "    .dataframe tbody tr th:only-of-type {\n",
              "        vertical-align: middle;\n",
              "    }\n",
              "\n",
              "    .dataframe tbody tr th {\n",
              "        vertical-align: top;\n",
              "    }\n",
              "\n",
              "    .dataframe thead th {\n",
              "        text-align: right;\n",
              "    }\n",
              "</style>\n",
              "<table border=\"1\" class=\"dataframe\">\n",
              "  <thead>\n",
              "    <tr style=\"text-align: right;\">\n",
              "      <th></th>\n",
              "      <th>MSZoning_rank</th>\n",
              "      <th>Street_rank</th>\n",
              "      <th>LotShape_rank</th>\n",
              "      <th>LandContour_rank</th>\n",
              "      <th>Utilities_rank</th>\n",
              "      <th>LotConfig_rank</th>\n",
              "      <th>LandSlope_rank</th>\n",
              "      <th>Neighborhood_rank</th>\n",
              "      <th>Condition1_rank</th>\n",
              "      <th>Condition2_rank</th>\n",
              "      <th>...</th>\n",
              "      <th>WoodDeckSF</th>\n",
              "      <th>OpenPorchSF</th>\n",
              "      <th>EnclosedPorch</th>\n",
              "      <th>3SsnPorch</th>\n",
              "      <th>ScreenPorch</th>\n",
              "      <th>PoolArea</th>\n",
              "      <th>MiscVal</th>\n",
              "      <th>MoSold</th>\n",
              "      <th>YrSold</th>\n",
              "      <th>SalePrice</th>\n",
              "    </tr>\n",
              "  </thead>\n",
              "  <tbody>\n",
              "    <tr>\n",
              "      <th>0</th>\n",
              "      <td>1</td>\n",
              "      <td>1</td>\n",
              "      <td>1</td>\n",
              "      <td>1</td>\n",
              "      <td>1</td>\n",
              "      <td>1</td>\n",
              "      <td>1</td>\n",
              "      <td>1</td>\n",
              "      <td>1</td>\n",
              "      <td>1</td>\n",
              "      <td>...</td>\n",
              "      <td>0</td>\n",
              "      <td>61</td>\n",
              "      <td>0</td>\n",
              "      <td>0</td>\n",
              "      <td>0</td>\n",
              "      <td>0</td>\n",
              "      <td>0</td>\n",
              "      <td>2</td>\n",
              "      <td>2008</td>\n",
              "      <td>208500</td>\n",
              "    </tr>\n",
              "    <tr>\n",
              "      <th>1</th>\n",
              "      <td>1</td>\n",
              "      <td>1</td>\n",
              "      <td>1</td>\n",
              "      <td>1</td>\n",
              "      <td>1</td>\n",
              "      <td>2</td>\n",
              "      <td>1</td>\n",
              "      <td>2</td>\n",
              "      <td>2</td>\n",
              "      <td>1</td>\n",
              "      <td>...</td>\n",
              "      <td>298</td>\n",
              "      <td>0</td>\n",
              "      <td>0</td>\n",
              "      <td>0</td>\n",
              "      <td>0</td>\n",
              "      <td>0</td>\n",
              "      <td>0</td>\n",
              "      <td>5</td>\n",
              "      <td>2007</td>\n",
              "      <td>181500</td>\n",
              "    </tr>\n",
              "    <tr>\n",
              "      <th>2</th>\n",
              "      <td>1</td>\n",
              "      <td>1</td>\n",
              "      <td>2</td>\n",
              "      <td>1</td>\n",
              "      <td>1</td>\n",
              "      <td>1</td>\n",
              "      <td>1</td>\n",
              "      <td>1</td>\n",
              "      <td>1</td>\n",
              "      <td>1</td>\n",
              "      <td>...</td>\n",
              "      <td>0</td>\n",
              "      <td>42</td>\n",
              "      <td>0</td>\n",
              "      <td>0</td>\n",
              "      <td>0</td>\n",
              "      <td>0</td>\n",
              "      <td>0</td>\n",
              "      <td>9</td>\n",
              "      <td>2008</td>\n",
              "      <td>223500</td>\n",
              "    </tr>\n",
              "    <tr>\n",
              "      <th>3</th>\n",
              "      <td>1</td>\n",
              "      <td>1</td>\n",
              "      <td>2</td>\n",
              "      <td>1</td>\n",
              "      <td>1</td>\n",
              "      <td>3</td>\n",
              "      <td>1</td>\n",
              "      <td>3</td>\n",
              "      <td>1</td>\n",
              "      <td>1</td>\n",
              "      <td>...</td>\n",
              "      <td>0</td>\n",
              "      <td>35</td>\n",
              "      <td>272</td>\n",
              "      <td>0</td>\n",
              "      <td>0</td>\n",
              "      <td>0</td>\n",
              "      <td>0</td>\n",
              "      <td>2</td>\n",
              "      <td>2006</td>\n",
              "      <td>140000</td>\n",
              "    </tr>\n",
              "    <tr>\n",
              "      <th>4</th>\n",
              "      <td>1</td>\n",
              "      <td>1</td>\n",
              "      <td>2</td>\n",
              "      <td>1</td>\n",
              "      <td>1</td>\n",
              "      <td>2</td>\n",
              "      <td>1</td>\n",
              "      <td>4</td>\n",
              "      <td>1</td>\n",
              "      <td>1</td>\n",
              "      <td>...</td>\n",
              "      <td>192</td>\n",
              "      <td>84</td>\n",
              "      <td>0</td>\n",
              "      <td>0</td>\n",
              "      <td>0</td>\n",
              "      <td>0</td>\n",
              "      <td>0</td>\n",
              "      <td>12</td>\n",
              "      <td>2008</td>\n",
              "      <td>250000</td>\n",
              "    </tr>\n",
              "    <tr>\n",
              "      <th>...</th>\n",
              "      <td>...</td>\n",
              "      <td>...</td>\n",
              "      <td>...</td>\n",
              "      <td>...</td>\n",
              "      <td>...</td>\n",
              "      <td>...</td>\n",
              "      <td>...</td>\n",
              "      <td>...</td>\n",
              "      <td>...</td>\n",
              "      <td>...</td>\n",
              "      <td>...</td>\n",
              "      <td>...</td>\n",
              "      <td>...</td>\n",
              "      <td>...</td>\n",
              "      <td>...</td>\n",
              "      <td>...</td>\n",
              "      <td>...</td>\n",
              "      <td>...</td>\n",
              "      <td>...</td>\n",
              "      <td>...</td>\n",
              "      <td>...</td>\n",
              "    </tr>\n",
              "    <tr>\n",
              "      <th>1455</th>\n",
              "      <td>1</td>\n",
              "      <td>1</td>\n",
              "      <td>1</td>\n",
              "      <td>1</td>\n",
              "      <td>1</td>\n",
              "      <td>1</td>\n",
              "      <td>1</td>\n",
              "      <td>18</td>\n",
              "      <td>1</td>\n",
              "      <td>1</td>\n",
              "      <td>...</td>\n",
              "      <td>0</td>\n",
              "      <td>40</td>\n",
              "      <td>0</td>\n",
              "      <td>0</td>\n",
              "      <td>0</td>\n",
              "      <td>0</td>\n",
              "      <td>0</td>\n",
              "      <td>8</td>\n",
              "      <td>2007</td>\n",
              "      <td>175000</td>\n",
              "    </tr>\n",
              "    <tr>\n",
              "      <th>1456</th>\n",
              "      <td>1</td>\n",
              "      <td>1</td>\n",
              "      <td>1</td>\n",
              "      <td>1</td>\n",
              "      <td>1</td>\n",
              "      <td>1</td>\n",
              "      <td>1</td>\n",
              "      <td>7</td>\n",
              "      <td>1</td>\n",
              "      <td>1</td>\n",
              "      <td>...</td>\n",
              "      <td>349</td>\n",
              "      <td>0</td>\n",
              "      <td>0</td>\n",
              "      <td>0</td>\n",
              "      <td>0</td>\n",
              "      <td>0</td>\n",
              "      <td>0</td>\n",
              "      <td>2</td>\n",
              "      <td>2010</td>\n",
              "      <td>210000</td>\n",
              "    </tr>\n",
              "    <tr>\n",
              "      <th>1457</th>\n",
              "      <td>1</td>\n",
              "      <td>1</td>\n",
              "      <td>1</td>\n",
              "      <td>1</td>\n",
              "      <td>1</td>\n",
              "      <td>1</td>\n",
              "      <td>1</td>\n",
              "      <td>3</td>\n",
              "      <td>1</td>\n",
              "      <td>1</td>\n",
              "      <td>...</td>\n",
              "      <td>0</td>\n",
              "      <td>60</td>\n",
              "      <td>0</td>\n",
              "      <td>0</td>\n",
              "      <td>0</td>\n",
              "      <td>0</td>\n",
              "      <td>2500</td>\n",
              "      <td>5</td>\n",
              "      <td>2010</td>\n",
              "      <td>266500</td>\n",
              "    </tr>\n",
              "    <tr>\n",
              "      <th>1458</th>\n",
              "      <td>1</td>\n",
              "      <td>1</td>\n",
              "      <td>1</td>\n",
              "      <td>1</td>\n",
              "      <td>1</td>\n",
              "      <td>1</td>\n",
              "      <td>1</td>\n",
              "      <td>12</td>\n",
              "      <td>1</td>\n",
              "      <td>1</td>\n",
              "      <td>...</td>\n",
              "      <td>366</td>\n",
              "      <td>0</td>\n",
              "      <td>112</td>\n",
              "      <td>0</td>\n",
              "      <td>0</td>\n",
              "      <td>0</td>\n",
              "      <td>0</td>\n",
              "      <td>4</td>\n",
              "      <td>2010</td>\n",
              "      <td>142125</td>\n",
              "    </tr>\n",
              "    <tr>\n",
              "      <th>1459</th>\n",
              "      <td>1</td>\n",
              "      <td>1</td>\n",
              "      <td>1</td>\n",
              "      <td>1</td>\n",
              "      <td>1</td>\n",
              "      <td>1</td>\n",
              "      <td>1</td>\n",
              "      <td>16</td>\n",
              "      <td>1</td>\n",
              "      <td>1</td>\n",
              "      <td>...</td>\n",
              "      <td>736</td>\n",
              "      <td>68</td>\n",
              "      <td>0</td>\n",
              "      <td>0</td>\n",
              "      <td>0</td>\n",
              "      <td>0</td>\n",
              "      <td>0</td>\n",
              "      <td>6</td>\n",
              "      <td>2008</td>\n",
              "      <td>147500</td>\n",
              "    </tr>\n",
              "  </tbody>\n",
              "</table>\n",
              "<p>1460 rows × 61 columns</p>\n",
              "</div>\n",
              "      <button class=\"colab-df-convert\" onclick=\"convertToInteractive('df-c1582743-744b-4a98-97f6-55d01112ab8a')\"\n",
              "              title=\"Convert this dataframe to an interactive table.\"\n",
              "              style=\"display:none;\">\n",
              "        \n",
              "  <svg xmlns=\"http://www.w3.org/2000/svg\" height=\"24px\"viewBox=\"0 0 24 24\"\n",
              "       width=\"24px\">\n",
              "    <path d=\"M0 0h24v24H0V0z\" fill=\"none\"/>\n",
              "    <path d=\"M18.56 5.44l.94 2.06.94-2.06 2.06-.94-2.06-.94-.94-2.06-.94 2.06-2.06.94zm-11 1L8.5 8.5l.94-2.06 2.06-.94-2.06-.94L8.5 2.5l-.94 2.06-2.06.94zm10 10l.94 2.06.94-2.06 2.06-.94-2.06-.94-.94-2.06-.94 2.06-2.06.94z\"/><path d=\"M17.41 7.96l-1.37-1.37c-.4-.4-.92-.59-1.43-.59-.52 0-1.04.2-1.43.59L10.3 9.45l-7.72 7.72c-.78.78-.78 2.05 0 2.83L4 21.41c.39.39.9.59 1.41.59.51 0 1.02-.2 1.41-.59l7.78-7.78 2.81-2.81c.8-.78.8-2.07 0-2.86zM5.41 20L4 18.59l7.72-7.72 1.47 1.35L5.41 20z\"/>\n",
              "  </svg>\n",
              "      </button>\n",
              "      \n",
              "  <style>\n",
              "    .colab-df-container {\n",
              "      display:flex;\n",
              "      flex-wrap:wrap;\n",
              "      gap: 12px;\n",
              "    }\n",
              "\n",
              "    .colab-df-convert {\n",
              "      background-color: #E8F0FE;\n",
              "      border: none;\n",
              "      border-radius: 50%;\n",
              "      cursor: pointer;\n",
              "      display: none;\n",
              "      fill: #1967D2;\n",
              "      height: 32px;\n",
              "      padding: 0 0 0 0;\n",
              "      width: 32px;\n",
              "    }\n",
              "\n",
              "    .colab-df-convert:hover {\n",
              "      background-color: #E2EBFA;\n",
              "      box-shadow: 0px 1px 2px rgba(60, 64, 67, 0.3), 0px 1px 3px 1px rgba(60, 64, 67, 0.15);\n",
              "      fill: #174EA6;\n",
              "    }\n",
              "\n",
              "    [theme=dark] .colab-df-convert {\n",
              "      background-color: #3B4455;\n",
              "      fill: #D2E3FC;\n",
              "    }\n",
              "\n",
              "    [theme=dark] .colab-df-convert:hover {\n",
              "      background-color: #434B5C;\n",
              "      box-shadow: 0px 1px 3px 1px rgba(0, 0, 0, 0.15);\n",
              "      filter: drop-shadow(0px 1px 2px rgba(0, 0, 0, 0.3));\n",
              "      fill: #FFFFFF;\n",
              "    }\n",
              "  </style>\n",
              "\n",
              "      <script>\n",
              "        const buttonEl =\n",
              "          document.querySelector('#df-c1582743-744b-4a98-97f6-55d01112ab8a button.colab-df-convert');\n",
              "        buttonEl.style.display =\n",
              "          google.colab.kernel.accessAllowed ? 'block' : 'none';\n",
              "\n",
              "        async function convertToInteractive(key) {\n",
              "          const element = document.querySelector('#df-c1582743-744b-4a98-97f6-55d01112ab8a');\n",
              "          const dataTable =\n",
              "            await google.colab.kernel.invokeFunction('convertToInteractive',\n",
              "                                                     [key], {});\n",
              "          if (!dataTable) return;\n",
              "\n",
              "          const docLinkHtml = 'Like what you see? Visit the ' +\n",
              "            '<a target=\"_blank\" href=https://colab.research.google.com/notebooks/data_table.ipynb>data table notebook</a>'\n",
              "            + ' to learn more about interactive tables.';\n",
              "          element.innerHTML = '';\n",
              "          dataTable['output_type'] = 'display_data';\n",
              "          await google.colab.output.renderOutput(dataTable, element);\n",
              "          const docLink = document.createElement('div');\n",
              "          docLink.innerHTML = docLinkHtml;\n",
              "          element.appendChild(docLink);\n",
              "        }\n",
              "      </script>\n",
              "    </div>\n",
              "  </div>\n",
              "  "
            ]
          },
          "metadata": {},
          "execution_count": 364
        }
      ]
    },
    {
      "cell_type": "markdown",
      "source": [
        "numeric 형태의 변수들은 숫자가 클수록 학습하는데 시간이 걸리고 오차를 많이 발생시킬 여지가 있다. => normalize 시킬 필요가 있음"
      ],
      "metadata": {
        "id": "HQWv3KByjj-U"
      }
    },
    {
      "cell_type": "markdown",
      "source": [
        "feature 별로 scale을 맞추는 작업을 해보자"
      ],
      "metadata": {
        "id": "GErpvJ2Uj1Af"
      }
    },
    {
      "cell_type": "code",
      "source": [
        "# feature를 30개 정도 가져오자\n",
        "x = df_processed[df_features[-31:-1].index.tolist()]\n",
        "y = df_processed['SalePrice']"
      ],
      "metadata": {
        "id": "u4ZPYIiUfEiW"
      },
      "execution_count": null,
      "outputs": []
    },
    {
      "cell_type": "code",
      "source": [
        "x_train, x_test, y_train, y_test = train_test_split(x, y, test_size=0.1, random_state=42)"
      ],
      "metadata": {
        "id": "Z62CAdjXkKRm"
      },
      "execution_count": null,
      "outputs": []
    },
    {
      "cell_type": "code",
      "source": [
        "#feature 별로 normarlize 하기 위해 최대값과 최솟값을 이용하기로 하자\n",
        "from sklearn.preprocessing import MinMaxScaler"
      ],
      "metadata": {
        "id": "Bfa5qakCkcmF"
      },
      "execution_count": 98,
      "outputs": []
    },
    {
      "cell_type": "markdown",
      "source": [
        "normalize방법 중 하나\n",
        "> x = (x - min(col)) / (max(col) - min(col))\n",
        "- min = 0, max = 1 이므로  0-1 사이의 값으로 바뀜"
      ],
      "metadata": {
        "id": "ZpbqmHsVkvW0"
      }
    },
    {
      "cell_type": "code",
      "source": [
        "min_max_scaler = MinMaxScaler()"
      ],
      "metadata": {
        "id": "wbP8j9yQkoxN"
      },
      "execution_count": null,
      "outputs": []
    },
    {
      "cell_type": "code",
      "source": [
        "x_train.shape"
      ],
      "metadata": {
        "colab": {
          "base_uri": "https://localhost:8080/"
        },
        "id": "ArHNjruApzX7",
        "outputId": "ded2cb06-2a00-41cf-f7b4-1b5b92280f28"
      },
      "execution_count": null,
      "outputs": [
        {
          "output_type": "execute_result",
          "data": {
            "text/plain": [
              "(1314, 30)"
            ]
          },
          "metadata": {},
          "execution_count": 376
        }
      ]
    },
    {
      "cell_type": "code",
      "source": [
        "# min_max_scaler.fit -> col 별로 최대최소를 저장하게 됨\n",
        "min_max_scaler.fit(x_train)"
      ],
      "metadata": {
        "colab": {
          "base_uri": "https://localhost:8080/"
        },
        "id": "8sf8lhYSoYj0",
        "outputId": "a1aa2070-de63-4d60-ce4d-a3eddc57fe0a"
      },
      "execution_count": null,
      "outputs": [
        {
          "output_type": "execute_result",
          "data": {
            "text/plain": [
              "MinMaxScaler()"
            ]
          },
          "metadata": {},
          "execution_count": 371
        }
      ]
    },
    {
      "cell_type": "markdown",
      "source": [
        "### x값 scaling"
      ],
      "metadata": {
        "id": "tqqWd8YepOQs"
      }
    },
    {
      "cell_type": "code",
      "source": [
        "#scale을 fitting한 최대최소로 바꿔준다\n",
        "scaled_x_train = min_max_scaler.transform(x_train)\n",
        "scaled_x_test = min_max_scaler.transform(x_test)"
      ],
      "metadata": {
        "id": "qNmiDpKCnAGt"
      },
      "execution_count": null,
      "outputs": []
    },
    {
      "cell_type": "markdown",
      "source": [
        "### y값 scaling"
      ],
      "metadata": {
        "id": "GVKXcQcbpRg7"
      }
    },
    {
      "cell_type": "code",
      "source": [
        "y_min_max_scaler = MinMaxScaler()"
      ],
      "metadata": {
        "id": "jZojQF_3pHfU"
      },
      "execution_count": null,
      "outputs": []
    },
    {
      "cell_type": "code",
      "source": [
        "y_train.shape"
      ],
      "metadata": {
        "colab": {
          "base_uri": "https://localhost:8080/"
        },
        "id": "eHmK3aXwpYif",
        "outputId": "5bb093cf-deb4-4468-ad6d-d3c5666665cf"
      },
      "execution_count": null,
      "outputs": [
        {
          "output_type": "execute_result",
          "data": {
            "text/plain": [
              "(1314,)"
            ]
          },
          "metadata": {},
          "execution_count": 377
        }
      ]
    },
    {
      "cell_type": "markdown",
      "source": [
        "x_train에 MinMaxScaler를 바로 적용할 수 있는 이유는 x_train.shape=(1314, 30) 이기 때문.\n",
        "반면 y_train.shape은 그냥 (1314, )임.\n",
        "-> 형태가 맞지 않아서 보정해줘야 함"
      ],
      "metadata": {
        "id": "d31iXNZ5pmJo"
      }
    },
    {
      "cell_type": "code",
      "source": [
        "y_min_max_scaler.fit(np.array(y_train).reshape(-1,1))"
      ],
      "metadata": {
        "colab": {
          "base_uri": "https://localhost:8080/"
        },
        "id": "CkLgAEq6p9i_",
        "outputId": "0ff2fe79-506f-47fd-8bcc-520c8f41cda2"
      },
      "execution_count": null,
      "outputs": [
        {
          "output_type": "execute_result",
          "data": {
            "text/plain": [
              "MinMaxScaler()"
            ]
          },
          "metadata": {},
          "execution_count": 380
        }
      ]
    },
    {
      "cell_type": "code",
      "source": [
        "scaled_y_train = y_min_max_scaler.transform(np.array(y_train).reshape(-1,1))"
      ],
      "metadata": {
        "id": "EvVzCE20q9GK"
      },
      "execution_count": null,
      "outputs": []
    },
    {
      "cell_type": "code",
      "source": [
        "scaled_y_test = y_min_max_scaler.transform(np.array(y_test).reshape(-1,1))"
      ],
      "metadata": {
        "id": "DTxW-77Bqkic"
      },
      "execution_count": null,
      "outputs": []
    },
    {
      "cell_type": "markdown",
      "source": [
        "### x, y 값 확인"
      ],
      "metadata": {
        "id": "fSPDl9X3roQc"
      }
    },
    {
      "cell_type": "code",
      "source": [
        "scaled_x_train.shape, scaled_y_train.shape"
      ],
      "metadata": {
        "colab": {
          "base_uri": "https://localhost:8080/"
        },
        "id": "FcKh2oGSJQAB",
        "outputId": "0760ec26-b235-4ebd-cf51-b9e164b956c6"
      },
      "execution_count": null,
      "outputs": [
        {
          "output_type": "execute_result",
          "data": {
            "text/plain": [
              "((1314, 30), (1314, 1))"
            ]
          },
          "metadata": {},
          "execution_count": 387
        }
      ]
    },
    {
      "cell_type": "code",
      "source": [
        "scaled_x_test.shape, scaled_y_test.shape"
      ],
      "metadata": {
        "colab": {
          "base_uri": "https://localhost:8080/"
        },
        "id": "bVKFvv18rQkq",
        "outputId": "72d8c288-9805-4c55-c2d5-98c85716cb55"
      },
      "execution_count": null,
      "outputs": [
        {
          "output_type": "execute_result",
          "data": {
            "text/plain": [
              "((146, 30), (146, 1))"
            ]
          },
          "metadata": {},
          "execution_count": 388
        }
      ]
    },
    {
      "cell_type": "markdown",
      "source": [
        "### MLP model architecture"
      ],
      "metadata": {
        "id": "dolZC-nXrwRl"
      }
    },
    {
      "cell_type": "code",
      "source": [
        "import tensorflow as tf\n",
        "from tensorflow import keras\n",
        "from tensorflow.keras import layers"
      ],
      "metadata": {
        "id": "i0ICZxdtritS"
      },
      "execution_count": null,
      "outputs": []
    },
    {
      "cell_type": "markdown",
      "source": [
        "- 간단한 모델을 만들어보자"
      ],
      "metadata": {
        "id": "b87VPovcr_0s"
      }
    },
    {
      "cell_type": "code",
      "source": [
        "model = keras.Sequential(\n",
        "    [\n",
        "        #input값으로 scaled_x_train.shape[-1]=30 넣어준다\n",
        "        keras.Input(shape=scaled_x_train.shape[-1]), \n",
        "        #outputsize = 1 이므로 Dense(1)\n",
        "        #regularizer: kernel_regularizer=tf.keras.regularizers.l1(1.0) ---> overfitting방지\n",
        "        #(L1)ㅣ1, (L2)l2 이렇게 쓸 수 있음. 여기서 ㅣ1(1.0) -> lamda=1.0\n",
        "        layers.Dense(1, kernel_regularizer=tf.keras.regularizers.l1(0.01))\n",
        "    ]\n",
        ") #Lasso와 거의 동일한 형태의 모델\n",
        "#Fully connected layer model"
      ],
      "metadata": {
        "id": "3u9JUcS4r8JN"
      },
      "execution_count": null,
      "outputs": []
    },
    {
      "cell_type": "code",
      "source": [
        "model.summary()"
      ],
      "metadata": {
        "colab": {
          "base_uri": "https://localhost:8080/"
        },
        "id": "Bv7rWD9mtam8",
        "outputId": "ae8be368-b772-4aa0-fb5d-572272d49527"
      },
      "execution_count": null,
      "outputs": [
        {
          "output_type": "stream",
          "name": "stdout",
          "text": [
            "Model: \"sequential_1\"\n",
            "_________________________________________________________________\n",
            " Layer (type)                Output Shape              Param #   \n",
            "=================================================================\n",
            " dense_1 (Dense)             (None, 1)                 31        \n",
            "                                                                 \n",
            "=================================================================\n",
            "Total params: 31\n",
            "Trainable params: 31\n",
            "Non-trainable params: 0\n",
            "_________________________________________________________________\n"
          ]
        }
      ]
    },
    {
      "cell_type": "markdown",
      "source": [
        "parameter = 31 : weight의 수가 30 이므로 bias의 수는 1"
      ],
      "metadata": {
        "id": "lJ5SjbXwtjI-"
      }
    },
    {
      "cell_type": "code",
      "source": [
        "#loss는 정의하기 나름인데 강의에서는 mse를 사용함\n",
        "model.compile(loss=\"mse\", optimizer=\"adam\")"
      ],
      "metadata": {
        "id": "eYXgJY2cteVl"
      },
      "execution_count": null,
      "outputs": []
    },
    {
      "cell_type": "code",
      "source": [
        "model.fit(scaled_x_train, scaled_y_train, batch_size=1, epochs=100)"
      ],
      "metadata": {
        "colab": {
          "base_uri": "https://localhost:8080/",
          "height": 1000
        },
        "id": "KjDlaNrHu_1V",
        "outputId": "0edae3d0-0d49-4a05-8209-4f5cbdfe392f"
      },
      "execution_count": null,
      "outputs": [
        {
          "output_type": "stream",
          "name": "stdout",
          "text": [
            "Epoch 1/100\n",
            "1314/1314 [==============================] - 2s 1ms/step - loss: 0.0091\n",
            "Epoch 2/100\n",
            "1314/1314 [==============================] - 2s 1ms/step - loss: 0.0092\n",
            "Epoch 3/100\n",
            "1314/1314 [==============================] - 2s 1ms/step - loss: 0.0092\n",
            "Epoch 4/100\n",
            "1314/1314 [==============================] - 2s 1ms/step - loss: 0.0092\n",
            "Epoch 5/100\n",
            "1314/1314 [==============================] - 2s 1ms/step - loss: 0.0091\n",
            "Epoch 6/100\n",
            "1314/1314 [==============================] - 2s 1ms/step - loss: 0.0092\n",
            "Epoch 7/100\n",
            "1314/1314 [==============================] - 2s 1ms/step - loss: 0.0092\n",
            "Epoch 8/100\n",
            "1314/1314 [==============================] - 2s 1ms/step - loss: 0.0092\n",
            "Epoch 9/100\n",
            "1314/1314 [==============================] - 2s 1ms/step - loss: 0.0093\n",
            "Epoch 10/100\n",
            "1314/1314 [==============================] - 2s 1ms/step - loss: 0.0092\n",
            "Epoch 11/100\n",
            "1314/1314 [==============================] - 2s 1ms/step - loss: 0.0092\n",
            "Epoch 12/100\n",
            "1314/1314 [==============================] - 2s 1ms/step - loss: 0.0092\n",
            "Epoch 13/100\n",
            "1314/1314 [==============================] - 2s 1ms/step - loss: 0.0092\n",
            "Epoch 14/100\n",
            "1314/1314 [==============================] - 2s 1ms/step - loss: 0.0091\n",
            "Epoch 15/100\n",
            "1314/1314 [==============================] - 2s 1ms/step - loss: 0.0092\n",
            "Epoch 16/100\n",
            "1314/1314 [==============================] - 2s 1ms/step - loss: 0.0092\n",
            "Epoch 17/100\n",
            "1314/1314 [==============================] - 2s 1ms/step - loss: 0.0092\n",
            "Epoch 18/100\n",
            "1314/1314 [==============================] - 3s 2ms/step - loss: 0.0093\n",
            "Epoch 19/100\n",
            "1314/1314 [==============================] - 3s 3ms/step - loss: 0.0092\n",
            "Epoch 20/100\n",
            "1314/1314 [==============================] - 4s 3ms/step - loss: 0.0091\n",
            "Epoch 21/100\n",
            "1314/1314 [==============================] - 3s 2ms/step - loss: 0.0091\n",
            "Epoch 22/100\n",
            "1314/1314 [==============================] - 3s 2ms/step - loss: 0.0093\n",
            "Epoch 23/100\n",
            "1314/1314 [==============================] - 2s 1ms/step - loss: 0.0091\n",
            "Epoch 24/100\n",
            "1314/1314 [==============================] - 5s 3ms/step - loss: 0.0092\n",
            "Epoch 25/100\n",
            "1314/1314 [==============================] - 3s 2ms/step - loss: 0.0092\n",
            "Epoch 26/100\n",
            "1314/1314 [==============================] - 3s 3ms/step - loss: 0.0091\n",
            "Epoch 27/100\n",
            "1314/1314 [==============================] - 3s 2ms/step - loss: 0.0092\n",
            "Epoch 28/100\n",
            "1314/1314 [==============================] - 3s 2ms/step - loss: 0.0093\n",
            "Epoch 29/100\n",
            "1314/1314 [==============================] - 2s 2ms/step - loss: 0.0093\n",
            "Epoch 30/100\n",
            "1314/1314 [==============================] - 2s 1ms/step - loss: 0.0092\n",
            "Epoch 31/100\n",
            "1314/1314 [==============================] - 4s 3ms/step - loss: 0.0091\n",
            "Epoch 32/100\n",
            "1314/1314 [==============================] - 4s 3ms/step - loss: 0.0092\n",
            "Epoch 33/100\n",
            "1314/1314 [==============================] - 4s 3ms/step - loss: 0.0092\n",
            "Epoch 34/100\n",
            "1314/1314 [==============================] - 5s 3ms/step - loss: 0.0091\n",
            "Epoch 35/100\n",
            "1314/1314 [==============================] - 4s 3ms/step - loss: 0.0092\n",
            "Epoch 36/100\n",
            "1314/1314 [==============================] - 3s 3ms/step - loss: 0.0092\n",
            "Epoch 37/100\n",
            "1314/1314 [==============================] - 2s 1ms/step - loss: 0.0092\n",
            "Epoch 38/100\n",
            "1314/1314 [==============================] - 2s 1ms/step - loss: 0.0092\n",
            "Epoch 39/100\n",
            "1314/1314 [==============================] - 2s 1ms/step - loss: 0.0093\n",
            "Epoch 40/100\n",
            "1314/1314 [==============================] - 2s 1ms/step - loss: 0.0093\n",
            "Epoch 41/100\n",
            "1314/1314 [==============================] - 2s 1ms/step - loss: 0.0091\n",
            "Epoch 42/100\n",
            "1314/1314 [==============================] - 2s 1ms/step - loss: 0.0092\n",
            "Epoch 43/100\n",
            "1314/1314 [==============================] - 3s 2ms/step - loss: 0.0093\n",
            "Epoch 44/100\n",
            "1314/1314 [==============================] - 3s 2ms/step - loss: 0.0092\n",
            "Epoch 45/100\n",
            "1314/1314 [==============================] - 3s 2ms/step - loss: 0.0092\n",
            "Epoch 46/100\n",
            "1314/1314 [==============================] - 2s 1ms/step - loss: 0.0092\n",
            "Epoch 47/100\n",
            "1314/1314 [==============================] - 2s 1ms/step - loss: 0.0092\n",
            "Epoch 48/100\n",
            "1314/1314 [==============================] - 2s 1ms/step - loss: 0.0092\n",
            "Epoch 49/100\n",
            "1314/1314 [==============================] - 2s 2ms/step - loss: 0.0092\n",
            "Epoch 50/100\n",
            "1314/1314 [==============================] - 3s 2ms/step - loss: 0.0091\n",
            "Epoch 51/100\n",
            "1314/1314 [==============================] - 2s 2ms/step - loss: 0.0092\n",
            "Epoch 52/100\n",
            "1314/1314 [==============================] - 3s 2ms/step - loss: 0.0092\n",
            "Epoch 53/100\n",
            "1314/1314 [==============================] - 2s 1ms/step - loss: 0.0093\n",
            "Epoch 54/100\n",
            "1314/1314 [==============================] - 2s 1ms/step - loss: 0.0092\n",
            "Epoch 55/100\n",
            "1314/1314 [==============================] - 3s 2ms/step - loss: 0.0093\n",
            "Epoch 56/100\n",
            "1314/1314 [==============================] - 2s 2ms/step - loss: 0.0092\n",
            "Epoch 57/100\n",
            "1314/1314 [==============================] - 2s 1ms/step - loss: 0.0092\n",
            "Epoch 58/100\n",
            "1314/1314 [==============================] - 2s 2ms/step - loss: 0.0092\n",
            "Epoch 59/100\n",
            "1314/1314 [==============================] - 3s 2ms/step - loss: 0.0092\n",
            "Epoch 60/100\n",
            "1314/1314 [==============================] - 4s 3ms/step - loss: 0.0092\n",
            "Epoch 61/100\n",
            "1314/1314 [==============================] - 3s 2ms/step - loss: 0.0092\n",
            "Epoch 62/100\n",
            "1314/1314 [==============================] - 2s 2ms/step - loss: 0.0092\n",
            "Epoch 63/100\n",
            "1314/1314 [==============================] - 2s 2ms/step - loss: 0.0091\n",
            "Epoch 64/100\n",
            "1314/1314 [==============================] - 2s 1ms/step - loss: 0.0092\n",
            "Epoch 65/100\n",
            "1314/1314 [==============================] - 2s 1ms/step - loss: 0.0092\n",
            "Epoch 66/100\n",
            "1314/1314 [==============================] - 2s 1ms/step - loss: 0.0092\n",
            "Epoch 67/100\n",
            " 596/1314 [============>.................] - ETA: 1s - loss: 0.0099"
          ]
        },
        {
          "output_type": "error",
          "ename": "KeyboardInterrupt",
          "evalue": "ignored",
          "traceback": [
            "\u001b[0;31m---------------------------------------------------------------------------\u001b[0m",
            "\u001b[0;31mKeyboardInterrupt\u001b[0m                         Traceback (most recent call last)",
            "\u001b[0;32m<ipython-input-396-3331140b38ab>\u001b[0m in \u001b[0;36m<module>\u001b[0;34m\u001b[0m\n\u001b[0;32m----> 1\u001b[0;31m \u001b[0mmodel\u001b[0m\u001b[0;34m.\u001b[0m\u001b[0mfit\u001b[0m\u001b[0;34m(\u001b[0m\u001b[0mscaled_x_train\u001b[0m\u001b[0;34m,\u001b[0m \u001b[0mscaled_y_train\u001b[0m\u001b[0;34m,\u001b[0m \u001b[0mbatch_size\u001b[0m\u001b[0;34m=\u001b[0m\u001b[0;36m1\u001b[0m\u001b[0;34m,\u001b[0m \u001b[0mepochs\u001b[0m\u001b[0;34m=\u001b[0m\u001b[0;36m100\u001b[0m\u001b[0;34m)\u001b[0m\u001b[0;34m\u001b[0m\u001b[0;34m\u001b[0m\u001b[0m\n\u001b[0m",
            "\u001b[0;32m/usr/local/lib/python3.8/dist-packages/keras/utils/traceback_utils.py\u001b[0m in \u001b[0;36merror_handler\u001b[0;34m(*args, **kwargs)\u001b[0m\n\u001b[1;32m     62\u001b[0m     \u001b[0mfiltered_tb\u001b[0m \u001b[0;34m=\u001b[0m \u001b[0;32mNone\u001b[0m\u001b[0;34m\u001b[0m\u001b[0;34m\u001b[0m\u001b[0m\n\u001b[1;32m     63\u001b[0m     \u001b[0;32mtry\u001b[0m\u001b[0;34m:\u001b[0m\u001b[0;34m\u001b[0m\u001b[0;34m\u001b[0m\u001b[0m\n\u001b[0;32m---> 64\u001b[0;31m       \u001b[0;32mreturn\u001b[0m \u001b[0mfn\u001b[0m\u001b[0;34m(\u001b[0m\u001b[0;34m*\u001b[0m\u001b[0margs\u001b[0m\u001b[0;34m,\u001b[0m \u001b[0;34m**\u001b[0m\u001b[0mkwargs\u001b[0m\u001b[0;34m)\u001b[0m\u001b[0;34m\u001b[0m\u001b[0;34m\u001b[0m\u001b[0m\n\u001b[0m\u001b[1;32m     65\u001b[0m     \u001b[0;32mexcept\u001b[0m \u001b[0mException\u001b[0m \u001b[0;32mas\u001b[0m \u001b[0me\u001b[0m\u001b[0;34m:\u001b[0m  \u001b[0;31m# pylint: disable=broad-except\u001b[0m\u001b[0;34m\u001b[0m\u001b[0;34m\u001b[0m\u001b[0m\n\u001b[1;32m     66\u001b[0m       \u001b[0mfiltered_tb\u001b[0m \u001b[0;34m=\u001b[0m \u001b[0m_process_traceback_frames\u001b[0m\u001b[0;34m(\u001b[0m\u001b[0me\u001b[0m\u001b[0;34m.\u001b[0m\u001b[0m__traceback__\u001b[0m\u001b[0;34m)\u001b[0m\u001b[0;34m\u001b[0m\u001b[0;34m\u001b[0m\u001b[0m\n",
            "\u001b[0;32m/usr/local/lib/python3.8/dist-packages/keras/engine/training.py\u001b[0m in \u001b[0;36mfit\u001b[0;34m(self, x, y, batch_size, epochs, verbose, callbacks, validation_split, validation_data, shuffle, class_weight, sample_weight, initial_epoch, steps_per_epoch, validation_steps, validation_batch_size, validation_freq, max_queue_size, workers, use_multiprocessing)\u001b[0m\n\u001b[1;32m   1412\u001b[0m               \u001b[0mlogs\u001b[0m \u001b[0;34m=\u001b[0m \u001b[0mtmp_logs\u001b[0m  \u001b[0;31m# No error, now safe to assign to logs.\u001b[0m\u001b[0;34m\u001b[0m\u001b[0;34m\u001b[0m\u001b[0m\n\u001b[1;32m   1413\u001b[0m               \u001b[0mend_step\u001b[0m \u001b[0;34m=\u001b[0m \u001b[0mstep\u001b[0m \u001b[0;34m+\u001b[0m \u001b[0mdata_handler\u001b[0m\u001b[0;34m.\u001b[0m\u001b[0mstep_increment\u001b[0m\u001b[0;34m\u001b[0m\u001b[0;34m\u001b[0m\u001b[0m\n\u001b[0;32m-> 1414\u001b[0;31m               \u001b[0mcallbacks\u001b[0m\u001b[0;34m.\u001b[0m\u001b[0mon_train_batch_end\u001b[0m\u001b[0;34m(\u001b[0m\u001b[0mend_step\u001b[0m\u001b[0;34m,\u001b[0m \u001b[0mlogs\u001b[0m\u001b[0;34m)\u001b[0m\u001b[0;34m\u001b[0m\u001b[0;34m\u001b[0m\u001b[0m\n\u001b[0m\u001b[1;32m   1415\u001b[0m               \u001b[0;32mif\u001b[0m \u001b[0mself\u001b[0m\u001b[0;34m.\u001b[0m\u001b[0mstop_training\u001b[0m\u001b[0;34m:\u001b[0m\u001b[0;34m\u001b[0m\u001b[0;34m\u001b[0m\u001b[0m\n\u001b[1;32m   1416\u001b[0m                 \u001b[0;32mbreak\u001b[0m\u001b[0;34m\u001b[0m\u001b[0;34m\u001b[0m\u001b[0m\n",
            "\u001b[0;32m/usr/local/lib/python3.8/dist-packages/keras/callbacks.py\u001b[0m in \u001b[0;36mon_train_batch_end\u001b[0;34m(self, batch, logs)\u001b[0m\n\u001b[1;32m    436\u001b[0m     \"\"\"\n\u001b[1;32m    437\u001b[0m     \u001b[0;32mif\u001b[0m \u001b[0mself\u001b[0m\u001b[0;34m.\u001b[0m\u001b[0m_should_call_train_batch_hooks\u001b[0m\u001b[0;34m:\u001b[0m\u001b[0;34m\u001b[0m\u001b[0;34m\u001b[0m\u001b[0m\n\u001b[0;32m--> 438\u001b[0;31m       \u001b[0mself\u001b[0m\u001b[0;34m.\u001b[0m\u001b[0m_call_batch_hook\u001b[0m\u001b[0;34m(\u001b[0m\u001b[0mModeKeys\u001b[0m\u001b[0;34m.\u001b[0m\u001b[0mTRAIN\u001b[0m\u001b[0;34m,\u001b[0m \u001b[0;34m'end'\u001b[0m\u001b[0;34m,\u001b[0m \u001b[0mbatch\u001b[0m\u001b[0;34m,\u001b[0m \u001b[0mlogs\u001b[0m\u001b[0;34m=\u001b[0m\u001b[0mlogs\u001b[0m\u001b[0;34m)\u001b[0m\u001b[0;34m\u001b[0m\u001b[0;34m\u001b[0m\u001b[0m\n\u001b[0m\u001b[1;32m    439\u001b[0m \u001b[0;34m\u001b[0m\u001b[0m\n\u001b[1;32m    440\u001b[0m   \u001b[0;32mdef\u001b[0m \u001b[0mon_test_batch_begin\u001b[0m\u001b[0;34m(\u001b[0m\u001b[0mself\u001b[0m\u001b[0;34m,\u001b[0m \u001b[0mbatch\u001b[0m\u001b[0;34m,\u001b[0m \u001b[0mlogs\u001b[0m\u001b[0;34m=\u001b[0m\u001b[0;32mNone\u001b[0m\u001b[0;34m)\u001b[0m\u001b[0;34m:\u001b[0m\u001b[0;34m\u001b[0m\u001b[0;34m\u001b[0m\u001b[0m\n",
            "\u001b[0;32m/usr/local/lib/python3.8/dist-packages/keras/callbacks.py\u001b[0m in \u001b[0;36m_call_batch_hook\u001b[0;34m(self, mode, hook, batch, logs)\u001b[0m\n\u001b[1;32m    295\u001b[0m       \u001b[0mself\u001b[0m\u001b[0;34m.\u001b[0m\u001b[0m_call_batch_begin_hook\u001b[0m\u001b[0;34m(\u001b[0m\u001b[0mmode\u001b[0m\u001b[0;34m,\u001b[0m \u001b[0mbatch\u001b[0m\u001b[0;34m,\u001b[0m \u001b[0mlogs\u001b[0m\u001b[0;34m)\u001b[0m\u001b[0;34m\u001b[0m\u001b[0;34m\u001b[0m\u001b[0m\n\u001b[1;32m    296\u001b[0m     \u001b[0;32melif\u001b[0m \u001b[0mhook\u001b[0m \u001b[0;34m==\u001b[0m \u001b[0;34m'end'\u001b[0m\u001b[0;34m:\u001b[0m\u001b[0;34m\u001b[0m\u001b[0;34m\u001b[0m\u001b[0m\n\u001b[0;32m--> 297\u001b[0;31m       \u001b[0mself\u001b[0m\u001b[0;34m.\u001b[0m\u001b[0m_call_batch_end_hook\u001b[0m\u001b[0;34m(\u001b[0m\u001b[0mmode\u001b[0m\u001b[0;34m,\u001b[0m \u001b[0mbatch\u001b[0m\u001b[0;34m,\u001b[0m \u001b[0mlogs\u001b[0m\u001b[0;34m)\u001b[0m\u001b[0;34m\u001b[0m\u001b[0;34m\u001b[0m\u001b[0m\n\u001b[0m\u001b[1;32m    298\u001b[0m     \u001b[0;32melse\u001b[0m\u001b[0;34m:\u001b[0m\u001b[0;34m\u001b[0m\u001b[0;34m\u001b[0m\u001b[0m\n\u001b[1;32m    299\u001b[0m       raise ValueError(\n",
            "\u001b[0;32m/usr/local/lib/python3.8/dist-packages/keras/callbacks.py\u001b[0m in \u001b[0;36m_call_batch_end_hook\u001b[0;34m(self, mode, batch, logs)\u001b[0m\n\u001b[1;32m    316\u001b[0m       \u001b[0mself\u001b[0m\u001b[0;34m.\u001b[0m\u001b[0m_batch_times\u001b[0m\u001b[0;34m.\u001b[0m\u001b[0mappend\u001b[0m\u001b[0;34m(\u001b[0m\u001b[0mbatch_time\u001b[0m\u001b[0;34m)\u001b[0m\u001b[0;34m\u001b[0m\u001b[0;34m\u001b[0m\u001b[0m\n\u001b[1;32m    317\u001b[0m \u001b[0;34m\u001b[0m\u001b[0m\n\u001b[0;32m--> 318\u001b[0;31m     \u001b[0mself\u001b[0m\u001b[0;34m.\u001b[0m\u001b[0m_call_batch_hook_helper\u001b[0m\u001b[0;34m(\u001b[0m\u001b[0mhook_name\u001b[0m\u001b[0;34m,\u001b[0m \u001b[0mbatch\u001b[0m\u001b[0;34m,\u001b[0m \u001b[0mlogs\u001b[0m\u001b[0;34m)\u001b[0m\u001b[0;34m\u001b[0m\u001b[0;34m\u001b[0m\u001b[0m\n\u001b[0m\u001b[1;32m    319\u001b[0m \u001b[0;34m\u001b[0m\u001b[0m\n\u001b[1;32m    320\u001b[0m     \u001b[0;32mif\u001b[0m \u001b[0mlen\u001b[0m\u001b[0;34m(\u001b[0m\u001b[0mself\u001b[0m\u001b[0;34m.\u001b[0m\u001b[0m_batch_times\u001b[0m\u001b[0;34m)\u001b[0m \u001b[0;34m>=\u001b[0m \u001b[0mself\u001b[0m\u001b[0;34m.\u001b[0m\u001b[0m_num_batches_for_timing_check\u001b[0m\u001b[0;34m:\u001b[0m\u001b[0;34m\u001b[0m\u001b[0;34m\u001b[0m\u001b[0m\n",
            "\u001b[0;32m/usr/local/lib/python3.8/dist-packages/keras/callbacks.py\u001b[0m in \u001b[0;36m_call_batch_hook_helper\u001b[0;34m(self, hook_name, batch, logs)\u001b[0m\n\u001b[1;32m    354\u001b[0m     \u001b[0;32mfor\u001b[0m \u001b[0mcallback\u001b[0m \u001b[0;32min\u001b[0m \u001b[0mself\u001b[0m\u001b[0;34m.\u001b[0m\u001b[0mcallbacks\u001b[0m\u001b[0;34m:\u001b[0m\u001b[0;34m\u001b[0m\u001b[0;34m\u001b[0m\u001b[0m\n\u001b[1;32m    355\u001b[0m       \u001b[0mhook\u001b[0m \u001b[0;34m=\u001b[0m \u001b[0mgetattr\u001b[0m\u001b[0;34m(\u001b[0m\u001b[0mcallback\u001b[0m\u001b[0;34m,\u001b[0m \u001b[0mhook_name\u001b[0m\u001b[0;34m)\u001b[0m\u001b[0;34m\u001b[0m\u001b[0;34m\u001b[0m\u001b[0m\n\u001b[0;32m--> 356\u001b[0;31m       \u001b[0mhook\u001b[0m\u001b[0;34m(\u001b[0m\u001b[0mbatch\u001b[0m\u001b[0;34m,\u001b[0m \u001b[0mlogs\u001b[0m\u001b[0;34m)\u001b[0m\u001b[0;34m\u001b[0m\u001b[0;34m\u001b[0m\u001b[0m\n\u001b[0m\u001b[1;32m    357\u001b[0m \u001b[0;34m\u001b[0m\u001b[0m\n\u001b[1;32m    358\u001b[0m     \u001b[0;32mif\u001b[0m \u001b[0mself\u001b[0m\u001b[0;34m.\u001b[0m\u001b[0m_check_timing\u001b[0m\u001b[0;34m:\u001b[0m\u001b[0;34m\u001b[0m\u001b[0;34m\u001b[0m\u001b[0m\n",
            "\u001b[0;32m/usr/local/lib/python3.8/dist-packages/keras/callbacks.py\u001b[0m in \u001b[0;36mon_train_batch_end\u001b[0;34m(self, batch, logs)\u001b[0m\n\u001b[1;32m   1032\u001b[0m \u001b[0;34m\u001b[0m\u001b[0m\n\u001b[1;32m   1033\u001b[0m   \u001b[0;32mdef\u001b[0m \u001b[0mon_train_batch_end\u001b[0m\u001b[0;34m(\u001b[0m\u001b[0mself\u001b[0m\u001b[0;34m,\u001b[0m \u001b[0mbatch\u001b[0m\u001b[0;34m,\u001b[0m \u001b[0mlogs\u001b[0m\u001b[0;34m=\u001b[0m\u001b[0;32mNone\u001b[0m\u001b[0;34m)\u001b[0m\u001b[0;34m:\u001b[0m\u001b[0;34m\u001b[0m\u001b[0;34m\u001b[0m\u001b[0m\n\u001b[0;32m-> 1034\u001b[0;31m     \u001b[0mself\u001b[0m\u001b[0;34m.\u001b[0m\u001b[0m_batch_update_progbar\u001b[0m\u001b[0;34m(\u001b[0m\u001b[0mbatch\u001b[0m\u001b[0;34m,\u001b[0m \u001b[0mlogs\u001b[0m\u001b[0;34m)\u001b[0m\u001b[0;34m\u001b[0m\u001b[0;34m\u001b[0m\u001b[0m\n\u001b[0m\u001b[1;32m   1035\u001b[0m \u001b[0;34m\u001b[0m\u001b[0m\n\u001b[1;32m   1036\u001b[0m   \u001b[0;32mdef\u001b[0m \u001b[0mon_test_batch_end\u001b[0m\u001b[0;34m(\u001b[0m\u001b[0mself\u001b[0m\u001b[0;34m,\u001b[0m \u001b[0mbatch\u001b[0m\u001b[0;34m,\u001b[0m \u001b[0mlogs\u001b[0m\u001b[0;34m=\u001b[0m\u001b[0;32mNone\u001b[0m\u001b[0;34m)\u001b[0m\u001b[0;34m:\u001b[0m\u001b[0;34m\u001b[0m\u001b[0;34m\u001b[0m\u001b[0m\n",
            "\u001b[0;32m/usr/local/lib/python3.8/dist-packages/keras/callbacks.py\u001b[0m in \u001b[0;36m_batch_update_progbar\u001b[0;34m(self, batch, logs)\u001b[0m\n\u001b[1;32m   1105\u001b[0m       \u001b[0;31m# Only block async when verbose = 1.\u001b[0m\u001b[0;34m\u001b[0m\u001b[0;34m\u001b[0m\u001b[0;34m\u001b[0m\u001b[0m\n\u001b[1;32m   1106\u001b[0m       \u001b[0mlogs\u001b[0m \u001b[0;34m=\u001b[0m \u001b[0mtf_utils\u001b[0m\u001b[0;34m.\u001b[0m\u001b[0msync_to_numpy_or_python_type\u001b[0m\u001b[0;34m(\u001b[0m\u001b[0mlogs\u001b[0m\u001b[0;34m)\u001b[0m\u001b[0;34m\u001b[0m\u001b[0;34m\u001b[0m\u001b[0m\n\u001b[0;32m-> 1107\u001b[0;31m       \u001b[0mself\u001b[0m\u001b[0;34m.\u001b[0m\u001b[0mprogbar\u001b[0m\u001b[0;34m.\u001b[0m\u001b[0mupdate\u001b[0m\u001b[0;34m(\u001b[0m\u001b[0mself\u001b[0m\u001b[0;34m.\u001b[0m\u001b[0mseen\u001b[0m\u001b[0;34m,\u001b[0m \u001b[0mlist\u001b[0m\u001b[0;34m(\u001b[0m\u001b[0mlogs\u001b[0m\u001b[0;34m.\u001b[0m\u001b[0mitems\u001b[0m\u001b[0;34m(\u001b[0m\u001b[0;34m)\u001b[0m\u001b[0;34m)\u001b[0m\u001b[0;34m,\u001b[0m \u001b[0mfinalize\u001b[0m\u001b[0;34m=\u001b[0m\u001b[0;32mFalse\u001b[0m\u001b[0;34m)\u001b[0m\u001b[0;34m\u001b[0m\u001b[0;34m\u001b[0m\u001b[0m\n\u001b[0m\u001b[1;32m   1108\u001b[0m \u001b[0;34m\u001b[0m\u001b[0m\n\u001b[1;32m   1109\u001b[0m   \u001b[0;32mdef\u001b[0m \u001b[0m_finalize_progbar\u001b[0m\u001b[0;34m(\u001b[0m\u001b[0mself\u001b[0m\u001b[0;34m,\u001b[0m \u001b[0mlogs\u001b[0m\u001b[0;34m,\u001b[0m \u001b[0mcounter\u001b[0m\u001b[0;34m)\u001b[0m\u001b[0;34m:\u001b[0m\u001b[0;34m\u001b[0m\u001b[0;34m\u001b[0m\u001b[0m\n",
            "\u001b[0;32m/usr/local/lib/python3.8/dist-packages/keras/utils/generic_utils.py\u001b[0m in \u001b[0;36mupdate\u001b[0;34m(self, current, values, finalize)\u001b[0m\n\u001b[1;32m    974\u001b[0m \u001b[0;34m\u001b[0m\u001b[0m\n\u001b[1;32m    975\u001b[0m       \u001b[0mmessage\u001b[0m \u001b[0;34m+=\u001b[0m \u001b[0minfo\u001b[0m\u001b[0;34m\u001b[0m\u001b[0;34m\u001b[0m\u001b[0m\n\u001b[0;32m--> 976\u001b[0;31m       \u001b[0mio_utils\u001b[0m\u001b[0;34m.\u001b[0m\u001b[0mprint_msg\u001b[0m\u001b[0;34m(\u001b[0m\u001b[0mmessage\u001b[0m\u001b[0;34m,\u001b[0m \u001b[0mline_break\u001b[0m\u001b[0;34m=\u001b[0m\u001b[0;32mFalse\u001b[0m\u001b[0;34m)\u001b[0m\u001b[0;34m\u001b[0m\u001b[0;34m\u001b[0m\u001b[0m\n\u001b[0m\u001b[1;32m    977\u001b[0m       \u001b[0mmessage\u001b[0m \u001b[0;34m=\u001b[0m \u001b[0;34m''\u001b[0m\u001b[0;34m\u001b[0m\u001b[0;34m\u001b[0m\u001b[0m\n\u001b[1;32m    978\u001b[0m \u001b[0;34m\u001b[0m\u001b[0m\n",
            "\u001b[0;32m/usr/local/lib/python3.8/dist-packages/keras/utils/io_utils.py\u001b[0m in \u001b[0;36mprint_msg\u001b[0;34m(message, line_break)\u001b[0m\n\u001b[1;32m     75\u001b[0m       \u001b[0msys\u001b[0m\u001b[0;34m.\u001b[0m\u001b[0mstdout\u001b[0m\u001b[0;34m.\u001b[0m\u001b[0mwrite\u001b[0m\u001b[0;34m(\u001b[0m\u001b[0mmessage\u001b[0m \u001b[0;34m+\u001b[0m \u001b[0;34m'\\n'\u001b[0m\u001b[0;34m)\u001b[0m\u001b[0;34m\u001b[0m\u001b[0;34m\u001b[0m\u001b[0m\n\u001b[1;32m     76\u001b[0m     \u001b[0;32melse\u001b[0m\u001b[0;34m:\u001b[0m\u001b[0;34m\u001b[0m\u001b[0;34m\u001b[0m\u001b[0m\n\u001b[0;32m---> 77\u001b[0;31m       \u001b[0msys\u001b[0m\u001b[0;34m.\u001b[0m\u001b[0mstdout\u001b[0m\u001b[0;34m.\u001b[0m\u001b[0mwrite\u001b[0m\u001b[0;34m(\u001b[0m\u001b[0mmessage\u001b[0m\u001b[0;34m)\u001b[0m\u001b[0;34m\u001b[0m\u001b[0;34m\u001b[0m\u001b[0m\n\u001b[0m\u001b[1;32m     78\u001b[0m     \u001b[0msys\u001b[0m\u001b[0;34m.\u001b[0m\u001b[0mstdout\u001b[0m\u001b[0;34m.\u001b[0m\u001b[0mflush\u001b[0m\u001b[0;34m(\u001b[0m\u001b[0;34m)\u001b[0m\u001b[0;34m\u001b[0m\u001b[0;34m\u001b[0m\u001b[0m\n\u001b[1;32m     79\u001b[0m   \u001b[0;32melse\u001b[0m\u001b[0;34m:\u001b[0m\u001b[0;34m\u001b[0m\u001b[0;34m\u001b[0m\u001b[0m\n",
            "\u001b[0;32m/usr/local/lib/python3.8/dist-packages/ipykernel/iostream.py\u001b[0m in \u001b[0;36mwrite\u001b[0;34m(self, string)\u001b[0m\n\u001b[1;32m    402\u001b[0m             \u001b[0mis_child\u001b[0m \u001b[0;34m=\u001b[0m \u001b[0;34m(\u001b[0m\u001b[0;32mnot\u001b[0m \u001b[0mself\u001b[0m\u001b[0;34m.\u001b[0m\u001b[0m_is_master_process\u001b[0m\u001b[0;34m(\u001b[0m\u001b[0;34m)\u001b[0m\u001b[0;34m)\u001b[0m\u001b[0;34m\u001b[0m\u001b[0;34m\u001b[0m\u001b[0m\n\u001b[1;32m    403\u001b[0m             \u001b[0;31m# only touch the buffer in the IO thread to avoid races\u001b[0m\u001b[0;34m\u001b[0m\u001b[0;34m\u001b[0m\u001b[0;34m\u001b[0m\u001b[0m\n\u001b[0;32m--> 404\u001b[0;31m             \u001b[0mself\u001b[0m\u001b[0;34m.\u001b[0m\u001b[0mpub_thread\u001b[0m\u001b[0;34m.\u001b[0m\u001b[0mschedule\u001b[0m\u001b[0;34m(\u001b[0m\u001b[0;32mlambda\u001b[0m \u001b[0;34m:\u001b[0m \u001b[0mself\u001b[0m\u001b[0;34m.\u001b[0m\u001b[0m_buffer\u001b[0m\u001b[0;34m.\u001b[0m\u001b[0mwrite\u001b[0m\u001b[0;34m(\u001b[0m\u001b[0mstring\u001b[0m\u001b[0;34m)\u001b[0m\u001b[0;34m)\u001b[0m\u001b[0;34m\u001b[0m\u001b[0;34m\u001b[0m\u001b[0m\n\u001b[0m\u001b[1;32m    405\u001b[0m             \u001b[0;32mif\u001b[0m \u001b[0mis_child\u001b[0m\u001b[0;34m:\u001b[0m\u001b[0;34m\u001b[0m\u001b[0;34m\u001b[0m\u001b[0m\n\u001b[1;32m    406\u001b[0m                 \u001b[0;31m# mp.Pool cannot be trusted to flush promptly (or ever),\u001b[0m\u001b[0;34m\u001b[0m\u001b[0;34m\u001b[0m\u001b[0;34m\u001b[0m\u001b[0m\n",
            "\u001b[0;32m/usr/local/lib/python3.8/dist-packages/ipykernel/iostream.py\u001b[0m in \u001b[0;36mschedule\u001b[0;34m(self, f)\u001b[0m\n\u001b[1;32m    203\u001b[0m             \u001b[0mself\u001b[0m\u001b[0;34m.\u001b[0m\u001b[0m_events\u001b[0m\u001b[0;34m.\u001b[0m\u001b[0mappend\u001b[0m\u001b[0;34m(\u001b[0m\u001b[0mf\u001b[0m\u001b[0;34m)\u001b[0m\u001b[0;34m\u001b[0m\u001b[0;34m\u001b[0m\u001b[0m\n\u001b[1;32m    204\u001b[0m             \u001b[0;31m# wake event thread (message content is ignored)\u001b[0m\u001b[0;34m\u001b[0m\u001b[0;34m\u001b[0m\u001b[0;34m\u001b[0m\u001b[0m\n\u001b[0;32m--> 205\u001b[0;31m             \u001b[0mself\u001b[0m\u001b[0;34m.\u001b[0m\u001b[0m_event_pipe\u001b[0m\u001b[0;34m.\u001b[0m\u001b[0msend\u001b[0m\u001b[0;34m(\u001b[0m\u001b[0;34mb''\u001b[0m\u001b[0;34m)\u001b[0m\u001b[0;34m\u001b[0m\u001b[0;34m\u001b[0m\u001b[0m\n\u001b[0m\u001b[1;32m    206\u001b[0m         \u001b[0;32melse\u001b[0m\u001b[0;34m:\u001b[0m\u001b[0;34m\u001b[0m\u001b[0;34m\u001b[0m\u001b[0m\n\u001b[1;32m    207\u001b[0m             \u001b[0mf\u001b[0m\u001b[0;34m(\u001b[0m\u001b[0;34m)\u001b[0m\u001b[0;34m\u001b[0m\u001b[0;34m\u001b[0m\u001b[0m\n",
            "\u001b[0;32m/usr/local/lib/python3.8/dist-packages/zmq/sugar/socket.py\u001b[0m in \u001b[0;36msend\u001b[0;34m(self, data, flags, copy, track, routing_id, group)\u001b[0m\n\u001b[1;32m    616\u001b[0m                 )\n\u001b[1;32m    617\u001b[0m             \u001b[0mdata\u001b[0m\u001b[0;34m.\u001b[0m\u001b[0mgroup\u001b[0m \u001b[0;34m=\u001b[0m \u001b[0mgroup\u001b[0m\u001b[0;34m\u001b[0m\u001b[0;34m\u001b[0m\u001b[0m\n\u001b[0;32m--> 618\u001b[0;31m         \u001b[0;32mreturn\u001b[0m \u001b[0msuper\u001b[0m\u001b[0;34m(\u001b[0m\u001b[0;34m)\u001b[0m\u001b[0;34m.\u001b[0m\u001b[0msend\u001b[0m\u001b[0;34m(\u001b[0m\u001b[0mdata\u001b[0m\u001b[0;34m,\u001b[0m \u001b[0mflags\u001b[0m\u001b[0;34m=\u001b[0m\u001b[0mflags\u001b[0m\u001b[0;34m,\u001b[0m \u001b[0mcopy\u001b[0m\u001b[0;34m=\u001b[0m\u001b[0mcopy\u001b[0m\u001b[0;34m,\u001b[0m \u001b[0mtrack\u001b[0m\u001b[0;34m=\u001b[0m\u001b[0mtrack\u001b[0m\u001b[0;34m)\u001b[0m\u001b[0;34m\u001b[0m\u001b[0;34m\u001b[0m\u001b[0m\n\u001b[0m\u001b[1;32m    619\u001b[0m \u001b[0;34m\u001b[0m\u001b[0m\n\u001b[1;32m    620\u001b[0m     def send_multipart(\n",
            "\u001b[0;32mzmq/backend/cython/socket.pyx\u001b[0m in \u001b[0;36mzmq.backend.cython.socket.Socket.send\u001b[0;34m()\u001b[0m\n",
            "\u001b[0;32mzmq/backend/cython/socket.pyx\u001b[0m in \u001b[0;36mzmq.backend.cython.socket.Socket.send\u001b[0;34m()\u001b[0m\n",
            "\u001b[0;32mzmq/backend/cython/socket.pyx\u001b[0m in \u001b[0;36mzmq.backend.cython.socket._send_copy\u001b[0;34m()\u001b[0m\n",
            "\u001b[0;32m/usr/local/lib/python3.8/dist-packages/zmq/backend/cython/checkrc.pxd\u001b[0m in \u001b[0;36mzmq.backend.cython.checkrc._check_rc\u001b[0;34m()\u001b[0m\n",
            "\u001b[0;31mKeyboardInterrupt\u001b[0m: "
          ]
        }
      ]
    },
    {
      "cell_type": "code",
      "source": [
        "#평가는 scaled 된 값으로 하기 때문에 이후엔 다시 원래의 값으로 돌려줘야 됨\n",
        "scaled_pred = model.predict(scaled_x_test)"
      ],
      "metadata": {
        "colab": {
          "base_uri": "https://localhost:8080/"
        },
        "id": "Lr3_BixCvHnt",
        "outputId": "340e8a5a-21a3-4124-ac6b-acddc74f2917"
      },
      "execution_count": null,
      "outputs": [
        {
          "output_type": "stream",
          "name": "stdout",
          "text": [
            "5/5 [==============================] - 0s 2ms/step\n"
          ]
        }
      ]
    },
    {
      "cell_type": "code",
      "source": [
        "#다시 원래의 값으로 돌려주기 : inverse_transform\n",
        "pred_y = y_min_max_scaler.inverse_transform(scaled_pred)"
      ],
      "metadata": {
        "id": "X8D1Sidfvu6t"
      },
      "execution_count": null,
      "outputs": []
    },
    {
      "cell_type": "code",
      "source": [
        "print_evaluate(y_test, pred_y)"
      ],
      "metadata": {
        "colab": {
          "base_uri": "https://localhost:8080/"
        },
        "id": "wmC3dQRiwHo2",
        "outputId": "5dd06ae5-a09f-42c2-e88f-f24cfebfe3a1"
      },
      "execution_count": null,
      "outputs": [
        {
          "output_type": "stream",
          "name": "stdout",
          "text": [
            "MAE:  37208.75700984589\n",
            "MSE:  4023885354.318993\n",
            "RMSE:  63434.10245537484\n",
            "R2 SQAURE:  0.5595880497745728\n"
          ]
        }
      ]
    },
    {
      "cell_type": "markdown",
      "source": [
        "### Add layers"
      ],
      "metadata": {
        "id": "Z7StbZxBv_os"
      }
    },
    {
      "cell_type": "markdown",
      "source": [
        "- 할수 있는 것\n",
        "> layer depth, feature size"
      ],
      "metadata": {
        "id": "9uGQD99jwjpo"
      }
    },
    {
      "cell_type": "code",
      "source": [
        "model = keras.Sequential(\n",
        "    [\n",
        "        keras.Input(shape=scaled_x_train.shape[-1]),\n",
        "        layers.Dense(96, activation='relu'), # overfitting?\n",
        "        layers.Dense(48, activation='relu'),\n",
        "        layers.Dense(1)\n",
        "    ]\n",
        ")"
      ],
      "metadata": {
        "id": "1GeFfhr7wiIs"
      },
      "execution_count": null,
      "outputs": []
    },
    {
      "cell_type": "code",
      "source": [
        "model.summary()"
      ],
      "metadata": {
        "colab": {
          "base_uri": "https://localhost:8080/"
        },
        "id": "xZ9pYf8byBt8",
        "outputId": "5049de88-4300-44a8-f245-6f5f7b6f5916"
      },
      "execution_count": null,
      "outputs": [
        {
          "output_type": "stream",
          "name": "stdout",
          "text": [
            "Model: \"sequential_3\"\n",
            "_________________________________________________________________\n",
            " Layer (type)                Output Shape              Param #   \n",
            "=================================================================\n",
            " dense_5 (Dense)             (None, 96)                2976      \n",
            "                                                                 \n",
            " dense_6 (Dense)             (None, 48)                4656      \n",
            "                                                                 \n",
            " dense_7 (Dense)             (None, 1)                 49        \n",
            "                                                                 \n",
            "=================================================================\n",
            "Total params: 7,681\n",
            "Trainable params: 7,681\n",
            "Non-trainable params: 0\n",
            "_________________________________________________________________\n"
          ]
        }
      ]
    },
    {
      "cell_type": "markdown",
      "source": [
        "input size = 30인데 반해 학습데이터가 과하다 -> overfitting 문제 발생할 수 있음"
      ],
      "metadata": {
        "id": "P4G9zSI_yf8y"
      }
    },
    {
      "cell_type": "code",
      "source": [
        "model.compile(loss=\"mse\", optimizer=\"adam\")"
      ],
      "metadata": {
        "id": "Zs0WURiUya5F"
      },
      "execution_count": null,
      "outputs": []
    },
    {
      "cell_type": "code",
      "source": [
        "# validation_split으로 학습이 잘 되고 있는지를 확인할 수 있다 -> overfitting 여부 확인\n",
        "# validation_split- default=0, 예제에서는 5%만 떼서 vali로 설정해주었다\n",
        "model.fit(scaled_x_train, scaled_y_train, batch_size=2, epochs=100, validation_split=0.05)"
      ],
      "metadata": {
        "colab": {
          "base_uri": "https://localhost:8080/",
          "height": 1000
        },
        "id": "LKgaU9mVy8i1",
        "outputId": "599e1976-6b33-4cf9-99ce-3f11082d6194"
      },
      "execution_count": null,
      "outputs": [
        {
          "output_type": "stream",
          "name": "stdout",
          "text": [
            "Epoch 1/100\n",
            "624/624 [==============================] - 2s 2ms/step - loss: 0.0046 - val_loss: 0.0064\n",
            "Epoch 2/100\n",
            "624/624 [==============================] - 1s 2ms/step - loss: 0.0031 - val_loss: 0.0028\n",
            "Epoch 3/100\n",
            "624/624 [==============================] - 1s 2ms/step - loss: 0.0026 - val_loss: 0.0021\n",
            "Epoch 4/100\n",
            "624/624 [==============================] - 1s 2ms/step - loss: 0.0025 - val_loss: 0.0018\n",
            "Epoch 5/100\n",
            "624/624 [==============================] - 1s 2ms/step - loss: 0.0023 - val_loss: 0.0025\n",
            "Epoch 6/100\n",
            "624/624 [==============================] - 1s 2ms/step - loss: 0.0021 - val_loss: 0.0020\n",
            "Epoch 7/100\n",
            "624/624 [==============================] - 1s 2ms/step - loss: 0.0019 - val_loss: 0.0020\n",
            "Epoch 8/100\n",
            "624/624 [==============================] - 1s 2ms/step - loss: 0.0017 - val_loss: 0.0015\n",
            "Epoch 9/100\n",
            "624/624 [==============================] - 1s 2ms/step - loss: 0.0017 - val_loss: 0.0016\n",
            "Epoch 10/100\n",
            "624/624 [==============================] - 1s 2ms/step - loss: 0.0018 - val_loss: 0.0055\n",
            "Epoch 11/100\n",
            "624/624 [==============================] - 1s 2ms/step - loss: 0.0018 - val_loss: 0.0016\n",
            "Epoch 12/100\n",
            "624/624 [==============================] - 1s 2ms/step - loss: 0.0015 - val_loss: 0.0017\n",
            "Epoch 13/100\n",
            "624/624 [==============================] - 1s 2ms/step - loss: 0.0013 - val_loss: 0.0013\n",
            "Epoch 14/100\n",
            "624/624 [==============================] - 1s 2ms/step - loss: 0.0014 - val_loss: 0.0024\n",
            "Epoch 15/100\n",
            "624/624 [==============================] - 1s 2ms/step - loss: 0.0013 - val_loss: 0.0025\n",
            "Epoch 16/100\n",
            "624/624 [==============================] - 1s 2ms/step - loss: 0.0013 - val_loss: 0.0015\n",
            "Epoch 17/100\n",
            "624/624 [==============================] - 1s 2ms/step - loss: 0.0010 - val_loss: 0.0012\n",
            "Epoch 18/100\n",
            "624/624 [==============================] - 1s 2ms/step - loss: 0.0012 - val_loss: 0.0010\n",
            "Epoch 19/100\n",
            "624/624 [==============================] - 1s 2ms/step - loss: 0.0010 - val_loss: 0.0024\n",
            "Epoch 20/100\n",
            "624/624 [==============================] - 1s 2ms/step - loss: 0.0010 - val_loss: 0.0012\n",
            "Epoch 21/100\n",
            "624/624 [==============================] - 1s 2ms/step - loss: 9.6245e-04 - val_loss: 0.0028\n",
            "Epoch 22/100\n",
            "624/624 [==============================] - 1s 2ms/step - loss: 8.4449e-04 - val_loss: 0.0022\n",
            "Epoch 23/100\n",
            "624/624 [==============================] - 1s 2ms/step - loss: 0.0011 - val_loss: 0.0020\n",
            "Epoch 24/100\n",
            "624/624 [==============================] - 1s 2ms/step - loss: 9.7237e-04 - val_loss: 0.0016\n",
            "Epoch 25/100\n",
            "624/624 [==============================] - 1s 2ms/step - loss: 8.8153e-04 - val_loss: 0.0019\n",
            "Epoch 26/100\n",
            "624/624 [==============================] - 1s 2ms/step - loss: 8.9167e-04 - val_loss: 0.0028\n",
            "Epoch 27/100\n",
            "624/624 [==============================] - 1s 2ms/step - loss: 8.4435e-04 - val_loss: 0.0016\n",
            "Epoch 28/100\n",
            "624/624 [==============================] - 1s 2ms/step - loss: 9.0138e-04 - val_loss: 0.0018\n",
            "Epoch 29/100\n",
            "624/624 [==============================] - 1s 2ms/step - loss: 8.5042e-04 - val_loss: 0.0016\n",
            "Epoch 30/100\n",
            "624/624 [==============================] - 1s 2ms/step - loss: 9.2964e-04 - val_loss: 0.0018\n",
            "Epoch 31/100\n",
            "624/624 [==============================] - 1s 2ms/step - loss: 7.3422e-04 - val_loss: 0.0018\n",
            "Epoch 32/100\n",
            "624/624 [==============================] - 1s 2ms/step - loss: 7.9655e-04 - val_loss: 0.0014\n",
            "Epoch 33/100\n",
            "624/624 [==============================] - 1s 2ms/step - loss: 7.1457e-04 - val_loss: 0.0024\n",
            "Epoch 34/100\n",
            "624/624 [==============================] - 1s 2ms/step - loss: 8.4536e-04 - val_loss: 0.0015\n",
            "Epoch 35/100\n",
            "624/624 [==============================] - 1s 2ms/step - loss: 8.2949e-04 - val_loss: 0.0018\n",
            "Epoch 36/100\n",
            "624/624 [==============================] - 1s 2ms/step - loss: 7.3700e-04 - val_loss: 0.0014\n",
            "Epoch 37/100\n",
            "624/624 [==============================] - 1s 2ms/step - loss: 7.1872e-04 - val_loss: 0.0017\n",
            "Epoch 38/100\n",
            "624/624 [==============================] - 1s 2ms/step - loss: 6.3416e-04 - val_loss: 0.0022\n",
            "Epoch 39/100\n",
            "624/624 [==============================] - 1s 2ms/step - loss: 6.3934e-04 - val_loss: 0.0015\n",
            "Epoch 40/100\n",
            "624/624 [==============================] - 1s 2ms/step - loss: 6.9881e-04 - val_loss: 0.0022\n",
            "Epoch 41/100\n",
            "624/624 [==============================] - 1s 2ms/step - loss: 6.7057e-04 - val_loss: 0.0015\n",
            "Epoch 42/100\n",
            "624/624 [==============================] - 2s 3ms/step - loss: 7.9715e-04 - val_loss: 0.0016\n",
            "Epoch 43/100\n",
            "624/624 [==============================] - 2s 3ms/step - loss: 6.8362e-04 - val_loss: 0.0014\n",
            "Epoch 44/100\n",
            "624/624 [==============================] - 1s 2ms/step - loss: 5.4282e-04 - val_loss: 0.0017\n",
            "Epoch 45/100\n",
            "624/624 [==============================] - 1s 2ms/step - loss: 6.7517e-04 - val_loss: 0.0023\n",
            "Epoch 46/100\n",
            "624/624 [==============================] - 1s 2ms/step - loss: 5.5563e-04 - val_loss: 0.0022\n",
            "Epoch 47/100\n",
            "624/624 [==============================] - 1s 2ms/step - loss: 7.9454e-04 - val_loss: 0.0018\n",
            "Epoch 48/100\n",
            "624/624 [==============================] - 1s 2ms/step - loss: 6.1857e-04 - val_loss: 0.0017\n",
            "Epoch 49/100\n",
            "624/624 [==============================] - 1s 2ms/step - loss: 6.3676e-04 - val_loss: 0.0025\n",
            "Epoch 50/100\n",
            "624/624 [==============================] - 1s 2ms/step - loss: 5.4999e-04 - val_loss: 0.0018\n",
            "Epoch 51/100\n",
            "624/624 [==============================] - 1s 2ms/step - loss: 5.9474e-04 - val_loss: 0.0016\n",
            "Epoch 52/100\n",
            "624/624 [==============================] - 1s 2ms/step - loss: 5.4965e-04 - val_loss: 0.0018\n",
            "Epoch 53/100\n",
            "624/624 [==============================] - 1s 2ms/step - loss: 5.7183e-04 - val_loss: 0.0018\n",
            "Epoch 54/100\n",
            "624/624 [==============================] - 1s 2ms/step - loss: 5.9401e-04 - val_loss: 0.0022\n",
            "Epoch 55/100\n",
            "624/624 [==============================] - 1s 2ms/step - loss: 5.4162e-04 - val_loss: 0.0020\n",
            "Epoch 56/100\n",
            "624/624 [==============================] - 1s 2ms/step - loss: 5.1206e-04 - val_loss: 0.0019\n",
            "Epoch 57/100\n",
            "624/624 [==============================] - 1s 2ms/step - loss: 5.0095e-04 - val_loss: 0.0014\n",
            "Epoch 58/100\n",
            "624/624 [==============================] - 1s 2ms/step - loss: 6.2591e-04 - val_loss: 0.0014\n",
            "Epoch 59/100\n",
            "624/624 [==============================] - 1s 2ms/step - loss: 5.3936e-04 - val_loss: 0.0028\n",
            "Epoch 60/100\n",
            "624/624 [==============================] - 1s 2ms/step - loss: 4.5134e-04 - val_loss: 0.0017\n",
            "Epoch 61/100\n",
            "624/624 [==============================] - 1s 2ms/step - loss: 5.0095e-04 - val_loss: 0.0016\n",
            "Epoch 62/100\n",
            "624/624 [==============================] - 1s 2ms/step - loss: 4.6001e-04 - val_loss: 0.0028\n",
            "Epoch 63/100\n",
            "624/624 [==============================] - 1s 2ms/step - loss: 5.5934e-04 - val_loss: 0.0016\n",
            "Epoch 64/100\n",
            "624/624 [==============================] - 1s 2ms/step - loss: 5.1546e-04 - val_loss: 0.0014\n",
            "Epoch 65/100\n",
            "624/624 [==============================] - 1s 2ms/step - loss: 4.6781e-04 - val_loss: 0.0019\n",
            "Epoch 66/100\n",
            "624/624 [==============================] - 1s 2ms/step - loss: 4.6810e-04 - val_loss: 0.0019\n",
            "Epoch 67/100\n",
            "624/624 [==============================] - 1s 2ms/step - loss: 5.6652e-04 - val_loss: 0.0015\n",
            "Epoch 68/100\n",
            "624/624 [==============================] - 1s 2ms/step - loss: 4.1872e-04 - val_loss: 0.0016\n",
            "Epoch 69/100\n",
            "624/624 [==============================] - 1s 2ms/step - loss: 4.3514e-04 - val_loss: 0.0016\n",
            "Epoch 70/100\n",
            "624/624 [==============================] - 1s 2ms/step - loss: 4.2501e-04 - val_loss: 0.0021\n",
            "Epoch 71/100\n",
            "624/624 [==============================] - 1s 2ms/step - loss: 4.5684e-04 - val_loss: 0.0019\n",
            "Epoch 72/100\n",
            "624/624 [==============================] - 1s 2ms/step - loss: 4.6121e-04 - val_loss: 0.0017\n",
            "Epoch 73/100\n",
            "624/624 [==============================] - 1s 2ms/step - loss: 4.8679e-04 - val_loss: 0.0015\n",
            "Epoch 74/100\n",
            "624/624 [==============================] - 1s 2ms/step - loss: 4.3061e-04 - val_loss: 0.0015\n",
            "Epoch 75/100\n",
            "624/624 [==============================] - 1s 2ms/step - loss: 5.4715e-04 - val_loss: 0.0017\n",
            "Epoch 76/100\n",
            "624/624 [==============================] - 1s 2ms/step - loss: 5.6155e-04 - val_loss: 0.0015\n",
            "Epoch 77/100\n",
            "624/624 [==============================] - 1s 2ms/step - loss: 4.4137e-04 - val_loss: 0.0014\n",
            "Epoch 78/100\n",
            "624/624 [==============================] - 1s 2ms/step - loss: 3.8551e-04 - val_loss: 0.0014\n",
            "Epoch 79/100\n",
            "624/624 [==============================] - 1s 2ms/step - loss: 4.1006e-04 - val_loss: 0.0018\n",
            "Epoch 80/100\n",
            "624/624 [==============================] - 1s 2ms/step - loss: 5.2655e-04 - val_loss: 0.0020\n",
            "Epoch 81/100\n",
            "624/624 [==============================] - 1s 2ms/step - loss: 3.9522e-04 - val_loss: 0.0014\n",
            "Epoch 82/100\n",
            "624/624 [==============================] - 1s 2ms/step - loss: 3.6780e-04 - val_loss: 0.0016\n",
            "Epoch 83/100\n",
            "624/624 [==============================] - 1s 2ms/step - loss: 3.4660e-04 - val_loss: 0.0014\n",
            "Epoch 84/100\n",
            "624/624 [==============================] - 1s 2ms/step - loss: 3.6895e-04 - val_loss: 0.0016\n",
            "Epoch 85/100\n",
            "624/624 [==============================] - 1s 2ms/step - loss: 5.4259e-04 - val_loss: 0.0012\n",
            "Epoch 86/100\n",
            "624/624 [==============================] - 1s 2ms/step - loss: 3.5178e-04 - val_loss: 0.0015\n",
            "Epoch 87/100\n",
            "624/624 [==============================] - 1s 2ms/step - loss: 3.7307e-04 - val_loss: 0.0017\n",
            "Epoch 88/100\n",
            "624/624 [==============================] - 1s 2ms/step - loss: 5.2072e-04 - val_loss: 0.0016\n",
            "Epoch 89/100\n",
            "624/624 [==============================] - 1s 2ms/step - loss: 4.6373e-04 - val_loss: 0.0015\n",
            "Epoch 90/100\n",
            "570/624 [==========================>...] - ETA: 0s - loss: 3.2103e-04"
          ]
        },
        {
          "output_type": "error",
          "ename": "KeyboardInterrupt",
          "evalue": "ignored",
          "traceback": [
            "\u001b[0;31m---------------------------------------------------------------------------\u001b[0m",
            "\u001b[0;31mKeyboardInterrupt\u001b[0m                         Traceback (most recent call last)",
            "\u001b[0;32m<ipython-input-409-5cc00596ccb4>\u001b[0m in \u001b[0;36m<module>\u001b[0;34m\u001b[0m\n\u001b[1;32m      1\u001b[0m \u001b[0;31m# validation_split으로 학습이 잘 되고 있는지를 확인할 수 있다 -> overfitting 여부 확인\u001b[0m\u001b[0;34m\u001b[0m\u001b[0;34m\u001b[0m\u001b[0;34m\u001b[0m\u001b[0m\n\u001b[1;32m      2\u001b[0m \u001b[0;31m# validation_split- default=0, 예제에서는 5%만 떼서 vali로 설정해주었다\u001b[0m\u001b[0;34m\u001b[0m\u001b[0;34m\u001b[0m\u001b[0;34m\u001b[0m\u001b[0m\n\u001b[0;32m----> 3\u001b[0;31m \u001b[0mmodel\u001b[0m\u001b[0;34m.\u001b[0m\u001b[0mfit\u001b[0m\u001b[0;34m(\u001b[0m\u001b[0mscaled_x_train\u001b[0m\u001b[0;34m,\u001b[0m \u001b[0mscaled_y_train\u001b[0m\u001b[0;34m,\u001b[0m \u001b[0mbatch_size\u001b[0m\u001b[0;34m=\u001b[0m\u001b[0;36m2\u001b[0m\u001b[0;34m,\u001b[0m \u001b[0mepochs\u001b[0m\u001b[0;34m=\u001b[0m\u001b[0;36m100\u001b[0m\u001b[0;34m,\u001b[0m \u001b[0mvalidation_split\u001b[0m\u001b[0;34m=\u001b[0m\u001b[0;36m0.05\u001b[0m\u001b[0;34m)\u001b[0m\u001b[0;34m\u001b[0m\u001b[0;34m\u001b[0m\u001b[0m\n\u001b[0m",
            "\u001b[0;32m/usr/local/lib/python3.8/dist-packages/keras/utils/traceback_utils.py\u001b[0m in \u001b[0;36merror_handler\u001b[0;34m(*args, **kwargs)\u001b[0m\n\u001b[1;32m     62\u001b[0m     \u001b[0mfiltered_tb\u001b[0m \u001b[0;34m=\u001b[0m \u001b[0;32mNone\u001b[0m\u001b[0;34m\u001b[0m\u001b[0;34m\u001b[0m\u001b[0m\n\u001b[1;32m     63\u001b[0m     \u001b[0;32mtry\u001b[0m\u001b[0;34m:\u001b[0m\u001b[0;34m\u001b[0m\u001b[0;34m\u001b[0m\u001b[0m\n\u001b[0;32m---> 64\u001b[0;31m       \u001b[0;32mreturn\u001b[0m \u001b[0mfn\u001b[0m\u001b[0;34m(\u001b[0m\u001b[0;34m*\u001b[0m\u001b[0margs\u001b[0m\u001b[0;34m,\u001b[0m \u001b[0;34m**\u001b[0m\u001b[0mkwargs\u001b[0m\u001b[0;34m)\u001b[0m\u001b[0;34m\u001b[0m\u001b[0;34m\u001b[0m\u001b[0m\n\u001b[0m\u001b[1;32m     65\u001b[0m     \u001b[0;32mexcept\u001b[0m \u001b[0mException\u001b[0m \u001b[0;32mas\u001b[0m \u001b[0me\u001b[0m\u001b[0;34m:\u001b[0m  \u001b[0;31m# pylint: disable=broad-except\u001b[0m\u001b[0;34m\u001b[0m\u001b[0;34m\u001b[0m\u001b[0m\n\u001b[1;32m     66\u001b[0m       \u001b[0mfiltered_tb\u001b[0m \u001b[0;34m=\u001b[0m \u001b[0m_process_traceback_frames\u001b[0m\u001b[0;34m(\u001b[0m\u001b[0me\u001b[0m\u001b[0;34m.\u001b[0m\u001b[0m__traceback__\u001b[0m\u001b[0;34m)\u001b[0m\u001b[0;34m\u001b[0m\u001b[0;34m\u001b[0m\u001b[0m\n",
            "\u001b[0;32m/usr/local/lib/python3.8/dist-packages/keras/engine/training.py\u001b[0m in \u001b[0;36mfit\u001b[0;34m(self, x, y, batch_size, epochs, verbose, callbacks, validation_split, validation_data, shuffle, class_weight, sample_weight, initial_epoch, steps_per_epoch, validation_steps, validation_batch_size, validation_freq, max_queue_size, workers, use_multiprocessing)\u001b[0m\n\u001b[1;32m   1412\u001b[0m               \u001b[0mlogs\u001b[0m \u001b[0;34m=\u001b[0m \u001b[0mtmp_logs\u001b[0m  \u001b[0;31m# No error, now safe to assign to logs.\u001b[0m\u001b[0;34m\u001b[0m\u001b[0;34m\u001b[0m\u001b[0m\n\u001b[1;32m   1413\u001b[0m               \u001b[0mend_step\u001b[0m \u001b[0;34m=\u001b[0m \u001b[0mstep\u001b[0m \u001b[0;34m+\u001b[0m \u001b[0mdata_handler\u001b[0m\u001b[0;34m.\u001b[0m\u001b[0mstep_increment\u001b[0m\u001b[0;34m\u001b[0m\u001b[0;34m\u001b[0m\u001b[0m\n\u001b[0;32m-> 1414\u001b[0;31m               \u001b[0mcallbacks\u001b[0m\u001b[0;34m.\u001b[0m\u001b[0mon_train_batch_end\u001b[0m\u001b[0;34m(\u001b[0m\u001b[0mend_step\u001b[0m\u001b[0;34m,\u001b[0m \u001b[0mlogs\u001b[0m\u001b[0;34m)\u001b[0m\u001b[0;34m\u001b[0m\u001b[0;34m\u001b[0m\u001b[0m\n\u001b[0m\u001b[1;32m   1415\u001b[0m               \u001b[0;32mif\u001b[0m \u001b[0mself\u001b[0m\u001b[0;34m.\u001b[0m\u001b[0mstop_training\u001b[0m\u001b[0;34m:\u001b[0m\u001b[0;34m\u001b[0m\u001b[0;34m\u001b[0m\u001b[0m\n\u001b[1;32m   1416\u001b[0m                 \u001b[0;32mbreak\u001b[0m\u001b[0;34m\u001b[0m\u001b[0;34m\u001b[0m\u001b[0m\n",
            "\u001b[0;32m/usr/local/lib/python3.8/dist-packages/keras/callbacks.py\u001b[0m in \u001b[0;36mon_train_batch_end\u001b[0;34m(self, batch, logs)\u001b[0m\n\u001b[1;32m    436\u001b[0m     \"\"\"\n\u001b[1;32m    437\u001b[0m     \u001b[0;32mif\u001b[0m \u001b[0mself\u001b[0m\u001b[0;34m.\u001b[0m\u001b[0m_should_call_train_batch_hooks\u001b[0m\u001b[0;34m:\u001b[0m\u001b[0;34m\u001b[0m\u001b[0;34m\u001b[0m\u001b[0m\n\u001b[0;32m--> 438\u001b[0;31m       \u001b[0mself\u001b[0m\u001b[0;34m.\u001b[0m\u001b[0m_call_batch_hook\u001b[0m\u001b[0;34m(\u001b[0m\u001b[0mModeKeys\u001b[0m\u001b[0;34m.\u001b[0m\u001b[0mTRAIN\u001b[0m\u001b[0;34m,\u001b[0m \u001b[0;34m'end'\u001b[0m\u001b[0;34m,\u001b[0m \u001b[0mbatch\u001b[0m\u001b[0;34m,\u001b[0m \u001b[0mlogs\u001b[0m\u001b[0;34m=\u001b[0m\u001b[0mlogs\u001b[0m\u001b[0;34m)\u001b[0m\u001b[0;34m\u001b[0m\u001b[0;34m\u001b[0m\u001b[0m\n\u001b[0m\u001b[1;32m    439\u001b[0m \u001b[0;34m\u001b[0m\u001b[0m\n\u001b[1;32m    440\u001b[0m   \u001b[0;32mdef\u001b[0m \u001b[0mon_test_batch_begin\u001b[0m\u001b[0;34m(\u001b[0m\u001b[0mself\u001b[0m\u001b[0;34m,\u001b[0m \u001b[0mbatch\u001b[0m\u001b[0;34m,\u001b[0m \u001b[0mlogs\u001b[0m\u001b[0;34m=\u001b[0m\u001b[0;32mNone\u001b[0m\u001b[0;34m)\u001b[0m\u001b[0;34m:\u001b[0m\u001b[0;34m\u001b[0m\u001b[0;34m\u001b[0m\u001b[0m\n",
            "\u001b[0;32m/usr/local/lib/python3.8/dist-packages/keras/callbacks.py\u001b[0m in \u001b[0;36m_call_batch_hook\u001b[0;34m(self, mode, hook, batch, logs)\u001b[0m\n\u001b[1;32m    295\u001b[0m       \u001b[0mself\u001b[0m\u001b[0;34m.\u001b[0m\u001b[0m_call_batch_begin_hook\u001b[0m\u001b[0;34m(\u001b[0m\u001b[0mmode\u001b[0m\u001b[0;34m,\u001b[0m \u001b[0mbatch\u001b[0m\u001b[0;34m,\u001b[0m \u001b[0mlogs\u001b[0m\u001b[0;34m)\u001b[0m\u001b[0;34m\u001b[0m\u001b[0;34m\u001b[0m\u001b[0m\n\u001b[1;32m    296\u001b[0m     \u001b[0;32melif\u001b[0m \u001b[0mhook\u001b[0m \u001b[0;34m==\u001b[0m \u001b[0;34m'end'\u001b[0m\u001b[0;34m:\u001b[0m\u001b[0;34m\u001b[0m\u001b[0;34m\u001b[0m\u001b[0m\n\u001b[0;32m--> 297\u001b[0;31m       \u001b[0mself\u001b[0m\u001b[0;34m.\u001b[0m\u001b[0m_call_batch_end_hook\u001b[0m\u001b[0;34m(\u001b[0m\u001b[0mmode\u001b[0m\u001b[0;34m,\u001b[0m \u001b[0mbatch\u001b[0m\u001b[0;34m,\u001b[0m \u001b[0mlogs\u001b[0m\u001b[0;34m)\u001b[0m\u001b[0;34m\u001b[0m\u001b[0;34m\u001b[0m\u001b[0m\n\u001b[0m\u001b[1;32m    298\u001b[0m     \u001b[0;32melse\u001b[0m\u001b[0;34m:\u001b[0m\u001b[0;34m\u001b[0m\u001b[0;34m\u001b[0m\u001b[0m\n\u001b[1;32m    299\u001b[0m       raise ValueError(\n",
            "\u001b[0;32m/usr/local/lib/python3.8/dist-packages/keras/callbacks.py\u001b[0m in \u001b[0;36m_call_batch_end_hook\u001b[0;34m(self, mode, batch, logs)\u001b[0m\n\u001b[1;32m    316\u001b[0m       \u001b[0mself\u001b[0m\u001b[0;34m.\u001b[0m\u001b[0m_batch_times\u001b[0m\u001b[0;34m.\u001b[0m\u001b[0mappend\u001b[0m\u001b[0;34m(\u001b[0m\u001b[0mbatch_time\u001b[0m\u001b[0;34m)\u001b[0m\u001b[0;34m\u001b[0m\u001b[0;34m\u001b[0m\u001b[0m\n\u001b[1;32m    317\u001b[0m \u001b[0;34m\u001b[0m\u001b[0m\n\u001b[0;32m--> 318\u001b[0;31m     \u001b[0mself\u001b[0m\u001b[0;34m.\u001b[0m\u001b[0m_call_batch_hook_helper\u001b[0m\u001b[0;34m(\u001b[0m\u001b[0mhook_name\u001b[0m\u001b[0;34m,\u001b[0m \u001b[0mbatch\u001b[0m\u001b[0;34m,\u001b[0m \u001b[0mlogs\u001b[0m\u001b[0;34m)\u001b[0m\u001b[0;34m\u001b[0m\u001b[0;34m\u001b[0m\u001b[0m\n\u001b[0m\u001b[1;32m    319\u001b[0m \u001b[0;34m\u001b[0m\u001b[0m\n\u001b[1;32m    320\u001b[0m     \u001b[0;32mif\u001b[0m \u001b[0mlen\u001b[0m\u001b[0;34m(\u001b[0m\u001b[0mself\u001b[0m\u001b[0;34m.\u001b[0m\u001b[0m_batch_times\u001b[0m\u001b[0;34m)\u001b[0m \u001b[0;34m>=\u001b[0m \u001b[0mself\u001b[0m\u001b[0;34m.\u001b[0m\u001b[0m_num_batches_for_timing_check\u001b[0m\u001b[0;34m:\u001b[0m\u001b[0;34m\u001b[0m\u001b[0;34m\u001b[0m\u001b[0m\n",
            "\u001b[0;32m/usr/local/lib/python3.8/dist-packages/keras/callbacks.py\u001b[0m in \u001b[0;36m_call_batch_hook_helper\u001b[0;34m(self, hook_name, batch, logs)\u001b[0m\n\u001b[1;32m    354\u001b[0m     \u001b[0;32mfor\u001b[0m \u001b[0mcallback\u001b[0m \u001b[0;32min\u001b[0m \u001b[0mself\u001b[0m\u001b[0;34m.\u001b[0m\u001b[0mcallbacks\u001b[0m\u001b[0;34m:\u001b[0m\u001b[0;34m\u001b[0m\u001b[0;34m\u001b[0m\u001b[0m\n\u001b[1;32m    355\u001b[0m       \u001b[0mhook\u001b[0m \u001b[0;34m=\u001b[0m \u001b[0mgetattr\u001b[0m\u001b[0;34m(\u001b[0m\u001b[0mcallback\u001b[0m\u001b[0;34m,\u001b[0m \u001b[0mhook_name\u001b[0m\u001b[0;34m)\u001b[0m\u001b[0;34m\u001b[0m\u001b[0;34m\u001b[0m\u001b[0m\n\u001b[0;32m--> 356\u001b[0;31m       \u001b[0mhook\u001b[0m\u001b[0;34m(\u001b[0m\u001b[0mbatch\u001b[0m\u001b[0;34m,\u001b[0m \u001b[0mlogs\u001b[0m\u001b[0;34m)\u001b[0m\u001b[0;34m\u001b[0m\u001b[0;34m\u001b[0m\u001b[0m\n\u001b[0m\u001b[1;32m    357\u001b[0m \u001b[0;34m\u001b[0m\u001b[0m\n\u001b[1;32m    358\u001b[0m     \u001b[0;32mif\u001b[0m \u001b[0mself\u001b[0m\u001b[0;34m.\u001b[0m\u001b[0m_check_timing\u001b[0m\u001b[0;34m:\u001b[0m\u001b[0;34m\u001b[0m\u001b[0;34m\u001b[0m\u001b[0m\n",
            "\u001b[0;32m/usr/local/lib/python3.8/dist-packages/keras/callbacks.py\u001b[0m in \u001b[0;36mon_train_batch_end\u001b[0;34m(self, batch, logs)\u001b[0m\n\u001b[1;32m   1032\u001b[0m \u001b[0;34m\u001b[0m\u001b[0m\n\u001b[1;32m   1033\u001b[0m   \u001b[0;32mdef\u001b[0m \u001b[0mon_train_batch_end\u001b[0m\u001b[0;34m(\u001b[0m\u001b[0mself\u001b[0m\u001b[0;34m,\u001b[0m \u001b[0mbatch\u001b[0m\u001b[0;34m,\u001b[0m \u001b[0mlogs\u001b[0m\u001b[0;34m=\u001b[0m\u001b[0;32mNone\u001b[0m\u001b[0;34m)\u001b[0m\u001b[0;34m:\u001b[0m\u001b[0;34m\u001b[0m\u001b[0;34m\u001b[0m\u001b[0m\n\u001b[0;32m-> 1034\u001b[0;31m     \u001b[0mself\u001b[0m\u001b[0;34m.\u001b[0m\u001b[0m_batch_update_progbar\u001b[0m\u001b[0;34m(\u001b[0m\u001b[0mbatch\u001b[0m\u001b[0;34m,\u001b[0m \u001b[0mlogs\u001b[0m\u001b[0;34m)\u001b[0m\u001b[0;34m\u001b[0m\u001b[0;34m\u001b[0m\u001b[0m\n\u001b[0m\u001b[1;32m   1035\u001b[0m \u001b[0;34m\u001b[0m\u001b[0m\n\u001b[1;32m   1036\u001b[0m   \u001b[0;32mdef\u001b[0m \u001b[0mon_test_batch_end\u001b[0m\u001b[0;34m(\u001b[0m\u001b[0mself\u001b[0m\u001b[0;34m,\u001b[0m \u001b[0mbatch\u001b[0m\u001b[0;34m,\u001b[0m \u001b[0mlogs\u001b[0m\u001b[0;34m=\u001b[0m\u001b[0;32mNone\u001b[0m\u001b[0;34m)\u001b[0m\u001b[0;34m:\u001b[0m\u001b[0;34m\u001b[0m\u001b[0;34m\u001b[0m\u001b[0m\n",
            "\u001b[0;32m/usr/local/lib/python3.8/dist-packages/keras/callbacks.py\u001b[0m in \u001b[0;36m_batch_update_progbar\u001b[0;34m(self, batch, logs)\u001b[0m\n\u001b[1;32m   1105\u001b[0m       \u001b[0;31m# Only block async when verbose = 1.\u001b[0m\u001b[0;34m\u001b[0m\u001b[0;34m\u001b[0m\u001b[0;34m\u001b[0m\u001b[0m\n\u001b[1;32m   1106\u001b[0m       \u001b[0mlogs\u001b[0m \u001b[0;34m=\u001b[0m \u001b[0mtf_utils\u001b[0m\u001b[0;34m.\u001b[0m\u001b[0msync_to_numpy_or_python_type\u001b[0m\u001b[0;34m(\u001b[0m\u001b[0mlogs\u001b[0m\u001b[0;34m)\u001b[0m\u001b[0;34m\u001b[0m\u001b[0;34m\u001b[0m\u001b[0m\n\u001b[0;32m-> 1107\u001b[0;31m       \u001b[0mself\u001b[0m\u001b[0;34m.\u001b[0m\u001b[0mprogbar\u001b[0m\u001b[0;34m.\u001b[0m\u001b[0mupdate\u001b[0m\u001b[0;34m(\u001b[0m\u001b[0mself\u001b[0m\u001b[0;34m.\u001b[0m\u001b[0mseen\u001b[0m\u001b[0;34m,\u001b[0m \u001b[0mlist\u001b[0m\u001b[0;34m(\u001b[0m\u001b[0mlogs\u001b[0m\u001b[0;34m.\u001b[0m\u001b[0mitems\u001b[0m\u001b[0;34m(\u001b[0m\u001b[0;34m)\u001b[0m\u001b[0;34m)\u001b[0m\u001b[0;34m,\u001b[0m \u001b[0mfinalize\u001b[0m\u001b[0;34m=\u001b[0m\u001b[0;32mFalse\u001b[0m\u001b[0;34m)\u001b[0m\u001b[0;34m\u001b[0m\u001b[0;34m\u001b[0m\u001b[0m\n\u001b[0m\u001b[1;32m   1108\u001b[0m \u001b[0;34m\u001b[0m\u001b[0m\n\u001b[1;32m   1109\u001b[0m   \u001b[0;32mdef\u001b[0m \u001b[0m_finalize_progbar\u001b[0m\u001b[0;34m(\u001b[0m\u001b[0mself\u001b[0m\u001b[0;34m,\u001b[0m \u001b[0mlogs\u001b[0m\u001b[0;34m,\u001b[0m \u001b[0mcounter\u001b[0m\u001b[0;34m)\u001b[0m\u001b[0;34m:\u001b[0m\u001b[0;34m\u001b[0m\u001b[0;34m\u001b[0m\u001b[0m\n",
            "\u001b[0;32m/usr/local/lib/python3.8/dist-packages/keras/utils/generic_utils.py\u001b[0m in \u001b[0;36mupdate\u001b[0;34m(self, current, values, finalize)\u001b[0m\n\u001b[1;32m    974\u001b[0m \u001b[0;34m\u001b[0m\u001b[0m\n\u001b[1;32m    975\u001b[0m       \u001b[0mmessage\u001b[0m \u001b[0;34m+=\u001b[0m \u001b[0minfo\u001b[0m\u001b[0;34m\u001b[0m\u001b[0;34m\u001b[0m\u001b[0m\n\u001b[0;32m--> 976\u001b[0;31m       \u001b[0mio_utils\u001b[0m\u001b[0;34m.\u001b[0m\u001b[0mprint_msg\u001b[0m\u001b[0;34m(\u001b[0m\u001b[0mmessage\u001b[0m\u001b[0;34m,\u001b[0m \u001b[0mline_break\u001b[0m\u001b[0;34m=\u001b[0m\u001b[0;32mFalse\u001b[0m\u001b[0;34m)\u001b[0m\u001b[0;34m\u001b[0m\u001b[0;34m\u001b[0m\u001b[0m\n\u001b[0m\u001b[1;32m    977\u001b[0m       \u001b[0mmessage\u001b[0m \u001b[0;34m=\u001b[0m \u001b[0;34m''\u001b[0m\u001b[0;34m\u001b[0m\u001b[0;34m\u001b[0m\u001b[0m\n\u001b[1;32m    978\u001b[0m \u001b[0;34m\u001b[0m\u001b[0m\n",
            "\u001b[0;32m/usr/local/lib/python3.8/dist-packages/keras/utils/io_utils.py\u001b[0m in \u001b[0;36mprint_msg\u001b[0;34m(message, line_break)\u001b[0m\n\u001b[1;32m     76\u001b[0m     \u001b[0;32melse\u001b[0m\u001b[0;34m:\u001b[0m\u001b[0;34m\u001b[0m\u001b[0;34m\u001b[0m\u001b[0m\n\u001b[1;32m     77\u001b[0m       \u001b[0msys\u001b[0m\u001b[0;34m.\u001b[0m\u001b[0mstdout\u001b[0m\u001b[0;34m.\u001b[0m\u001b[0mwrite\u001b[0m\u001b[0;34m(\u001b[0m\u001b[0mmessage\u001b[0m\u001b[0;34m)\u001b[0m\u001b[0;34m\u001b[0m\u001b[0;34m\u001b[0m\u001b[0m\n\u001b[0;32m---> 78\u001b[0;31m     \u001b[0msys\u001b[0m\u001b[0;34m.\u001b[0m\u001b[0mstdout\u001b[0m\u001b[0;34m.\u001b[0m\u001b[0mflush\u001b[0m\u001b[0;34m(\u001b[0m\u001b[0;34m)\u001b[0m\u001b[0;34m\u001b[0m\u001b[0;34m\u001b[0m\u001b[0m\n\u001b[0m\u001b[1;32m     79\u001b[0m   \u001b[0;32melse\u001b[0m\u001b[0;34m:\u001b[0m\u001b[0;34m\u001b[0m\u001b[0;34m\u001b[0m\u001b[0m\n\u001b[1;32m     80\u001b[0m     \u001b[0mlogging\u001b[0m\u001b[0;34m.\u001b[0m\u001b[0minfo\u001b[0m\u001b[0;34m(\u001b[0m\u001b[0mmessage\u001b[0m\u001b[0;34m)\u001b[0m\u001b[0;34m\u001b[0m\u001b[0;34m\u001b[0m\u001b[0m\n",
            "\u001b[0;32m/usr/local/lib/python3.8/dist-packages/ipykernel/iostream.py\u001b[0m in \u001b[0;36mflush\u001b[0;34m(self)\u001b[0m\n\u001b[1;32m    350\u001b[0m                 \u001b[0mself\u001b[0m\u001b[0;34m.\u001b[0m\u001b[0mpub_thread\u001b[0m\u001b[0;34m.\u001b[0m\u001b[0mschedule\u001b[0m\u001b[0;34m(\u001b[0m\u001b[0mevt\u001b[0m\u001b[0;34m.\u001b[0m\u001b[0mset\u001b[0m\u001b[0;34m)\u001b[0m\u001b[0;34m\u001b[0m\u001b[0;34m\u001b[0m\u001b[0m\n\u001b[1;32m    351\u001b[0m                 \u001b[0;31m# and give a timeout to avoid\u001b[0m\u001b[0;34m\u001b[0m\u001b[0;34m\u001b[0m\u001b[0;34m\u001b[0m\u001b[0m\n\u001b[0;32m--> 352\u001b[0;31m                 \u001b[0;32mif\u001b[0m \u001b[0;32mnot\u001b[0m \u001b[0mevt\u001b[0m\u001b[0;34m.\u001b[0m\u001b[0mwait\u001b[0m\u001b[0;34m(\u001b[0m\u001b[0mself\u001b[0m\u001b[0;34m.\u001b[0m\u001b[0mflush_timeout\u001b[0m\u001b[0;34m)\u001b[0m\u001b[0;34m:\u001b[0m\u001b[0;34m\u001b[0m\u001b[0;34m\u001b[0m\u001b[0m\n\u001b[0m\u001b[1;32m    353\u001b[0m                     \u001b[0;31m# write directly to __stderr__ instead of warning because\u001b[0m\u001b[0;34m\u001b[0m\u001b[0;34m\u001b[0m\u001b[0;34m\u001b[0m\u001b[0m\n\u001b[1;32m    354\u001b[0m                     \u001b[0;31m# if this is happening sys.stderr may be the problem.\u001b[0m\u001b[0;34m\u001b[0m\u001b[0;34m\u001b[0m\u001b[0;34m\u001b[0m\u001b[0m\n",
            "\u001b[0;32m/usr/lib/python3.8/threading.py\u001b[0m in \u001b[0;36mwait\u001b[0;34m(self, timeout)\u001b[0m\n\u001b[1;32m    556\u001b[0m             \u001b[0msignaled\u001b[0m \u001b[0;34m=\u001b[0m \u001b[0mself\u001b[0m\u001b[0;34m.\u001b[0m\u001b[0m_flag\u001b[0m\u001b[0;34m\u001b[0m\u001b[0;34m\u001b[0m\u001b[0m\n\u001b[1;32m    557\u001b[0m             \u001b[0;32mif\u001b[0m \u001b[0;32mnot\u001b[0m \u001b[0msignaled\u001b[0m\u001b[0;34m:\u001b[0m\u001b[0;34m\u001b[0m\u001b[0;34m\u001b[0m\u001b[0m\n\u001b[0;32m--> 558\u001b[0;31m                 \u001b[0msignaled\u001b[0m \u001b[0;34m=\u001b[0m \u001b[0mself\u001b[0m\u001b[0;34m.\u001b[0m\u001b[0m_cond\u001b[0m\u001b[0;34m.\u001b[0m\u001b[0mwait\u001b[0m\u001b[0;34m(\u001b[0m\u001b[0mtimeout\u001b[0m\u001b[0;34m)\u001b[0m\u001b[0;34m\u001b[0m\u001b[0;34m\u001b[0m\u001b[0m\n\u001b[0m\u001b[1;32m    559\u001b[0m             \u001b[0;32mreturn\u001b[0m \u001b[0msignaled\u001b[0m\u001b[0;34m\u001b[0m\u001b[0;34m\u001b[0m\u001b[0m\n\u001b[1;32m    560\u001b[0m \u001b[0;34m\u001b[0m\u001b[0m\n",
            "\u001b[0;32m/usr/lib/python3.8/threading.py\u001b[0m in \u001b[0;36mwait\u001b[0;34m(self, timeout)\u001b[0m\n\u001b[1;32m    304\u001b[0m             \u001b[0;32melse\u001b[0m\u001b[0;34m:\u001b[0m\u001b[0;34m\u001b[0m\u001b[0;34m\u001b[0m\u001b[0m\n\u001b[1;32m    305\u001b[0m                 \u001b[0;32mif\u001b[0m \u001b[0mtimeout\u001b[0m \u001b[0;34m>\u001b[0m \u001b[0;36m0\u001b[0m\u001b[0;34m:\u001b[0m\u001b[0;34m\u001b[0m\u001b[0;34m\u001b[0m\u001b[0m\n\u001b[0;32m--> 306\u001b[0;31m                     \u001b[0mgotit\u001b[0m \u001b[0;34m=\u001b[0m \u001b[0mwaiter\u001b[0m\u001b[0;34m.\u001b[0m\u001b[0macquire\u001b[0m\u001b[0;34m(\u001b[0m\u001b[0;32mTrue\u001b[0m\u001b[0;34m,\u001b[0m \u001b[0mtimeout\u001b[0m\u001b[0;34m)\u001b[0m\u001b[0;34m\u001b[0m\u001b[0;34m\u001b[0m\u001b[0m\n\u001b[0m\u001b[1;32m    307\u001b[0m                 \u001b[0;32melse\u001b[0m\u001b[0;34m:\u001b[0m\u001b[0;34m\u001b[0m\u001b[0;34m\u001b[0m\u001b[0m\n\u001b[1;32m    308\u001b[0m                     \u001b[0mgotit\u001b[0m \u001b[0;34m=\u001b[0m \u001b[0mwaiter\u001b[0m\u001b[0;34m.\u001b[0m\u001b[0macquire\u001b[0m\u001b[0;34m(\u001b[0m\u001b[0;32mFalse\u001b[0m\u001b[0;34m)\u001b[0m\u001b[0;34m\u001b[0m\u001b[0;34m\u001b[0m\u001b[0m\n",
            "\u001b[0;31mKeyboardInterrupt\u001b[0m: "
          ]
        }
      ]
    },
    {
      "cell_type": "markdown",
      "source": [
        "- loss가 lasso 유사 모델보다 적다\n",
        "- loss가 적다고 좋은게 아님 -> overfitting 문제가 있을 수 있으므로 validation loss를 같이 확인해줘야 함"
      ],
      "metadata": {
        "id": "EVRihdKyzm6t"
      }
    },
    {
      "cell_type": "markdown",
      "source": [
        "- loss는 계속 줄어드는데 validation_loss가 증가하거나 일정한 값일 경우 overfitting이 일어나고 있다고 추측할 수 있으므로 학습을 중단시켜야 한다."
      ],
      "metadata": {
        "id": "IMgHu9KZ2Iwe"
      }
    },
    {
      "cell_type": "code",
      "source": [
        "scaled_pred = model.predict(scaled_x_test)\n",
        "pred_y = y_min_max_scaler.inverse_transform(scaled_pred)"
      ],
      "metadata": {
        "colab": {
          "base_uri": "https://localhost:8080/"
        },
        "id": "dHQ4j9Okzcis",
        "outputId": "c11cff00-a31a-44de-f8f8-fa9d550798cf"
      },
      "execution_count": null,
      "outputs": [
        {
          "output_type": "stream",
          "name": "stdout",
          "text": [
            "5/5 [==============================] - 0s 3ms/step\n"
          ]
        }
      ]
    },
    {
      "cell_type": "code",
      "source": [
        "print_evaluate(y_test, pred_y)"
      ],
      "metadata": {
        "colab": {
          "base_uri": "https://localhost:8080/"
        },
        "id": "zIGmsnAS0B3U",
        "outputId": "c889d0b4-8c7c-477c-ec6c-57caad2732cf"
      },
      "execution_count": null,
      "outputs": [
        {
          "output_type": "stream",
          "name": "stdout",
          "text": [
            "MAE:  19732.531383775684\n",
            "MSE:  1103770805.371773\n",
            "RMSE:  33223.046298793444\n",
            "R2 SQAURE:  0.8791929167480113\n"
          ]
        }
      ]
    },
    {
      "cell_type": "markdown",
      "source": [
        "현재까지 학습한 모델들 중에서 가장 좋은 결과를 보인다"
      ],
      "metadata": {
        "id": "IwOBQ7c_0dv4"
      }
    },
    {
      "cell_type": "markdown",
      "source": [
        "### Early-Stopping"
      ],
      "metadata": {
        "id": "H2GA6l_D0mII"
      }
    },
    {
      "cell_type": "markdown",
      "source": [
        "tf.keras.callbacks.EarlyStoppping\n",
        "> https://www.tensorflow.org/api_docs/python/tf/keras/callbacks/EarlyStopping"
      ],
      "metadata": {
        "id": "CmwYFtGR2jzv"
      }
    },
    {
      "cell_type": "code",
      "source": [
        "# model = keras.Sequential([\n",
        "#     keras.Input(scaled_x_train.shape[-1]),\n",
        "#     layers.Dense(8, kernel_regularizer=tf.keras.regularizers.l1(0.3), activation='relu'),\n",
        "#     layers.Dense(1, kernel_regularizer=tf.keras.regularizers.l1(0.3))\n",
        "# ])\n",
        "# 먼저 썼던 모델 다시 씀\n",
        "model = keras.Sequential(\n",
        "    [\n",
        "        keras.Input(shape=scaled_x_train.shape[-1]),\n",
        "        layers.Dense(96, activation='relu'), # overfitting?\n",
        "        layers.Dense(48, activation='relu'),\n",
        "        layers.Dense(1)\n",
        "    ]\n",
        ")"
      ],
      "metadata": {
        "id": "99GuwtL20Nw8"
      },
      "execution_count": null,
      "outputs": []
    },
    {
      "cell_type": "code",
      "source": [
        "model.compile(loss='mse', optimizer='adam')"
      ],
      "metadata": {
        "id": "ok-Nk42w3oIl"
      },
      "execution_count": null,
      "outputs": []
    },
    {
      "cell_type": "code",
      "source": [
        "early_stopping_callback = tf.keras.callbacks.EarlyStopping(monitor='val_loss', patience=7)\n",
        "#patiece = 7 : 7회 뒤에도 값이 갱신되지 않으면 멈추겠다는 뜻"
      ],
      "metadata": {
        "id": "q1D-BCGE4KpE"
      },
      "execution_count": null,
      "outputs": []
    },
    {
      "cell_type": "code",
      "source": [
        "model.fit(scaled_x_train, scaled_y_train, batch_size=2, epochs=100, validation_split=0.05, callbacks=[early_stopping_callback])"
      ],
      "metadata": {
        "colab": {
          "base_uri": "https://localhost:8080/"
        },
        "id": "BQfDGyi24Yfk",
        "outputId": "6cc5cdce-9523-45e7-d9ca-56dc84f195eb"
      },
      "execution_count": null,
      "outputs": [
        {
          "output_type": "stream",
          "name": "stdout",
          "text": [
            "Epoch 1/100\n",
            "624/624 [==============================] - 2s 3ms/step - loss: 0.0015 - val_loss: 8.0145e-04\n",
            "Epoch 2/100\n",
            "624/624 [==============================] - 1s 2ms/step - loss: 0.0014 - val_loss: 0.0011\n",
            "Epoch 3/100\n",
            "624/624 [==============================] - 1s 2ms/step - loss: 0.0013 - val_loss: 8.1439e-04\n",
            "Epoch 4/100\n",
            "624/624 [==============================] - 1s 2ms/step - loss: 0.0011 - val_loss: 0.0011\n",
            "Epoch 5/100\n",
            "624/624 [==============================] - 1s 2ms/step - loss: 0.0014 - val_loss: 9.6934e-04\n",
            "Epoch 6/100\n",
            "624/624 [==============================] - 1s 2ms/step - loss: 0.0014 - val_loss: 0.0011\n",
            "Epoch 7/100\n",
            "624/624 [==============================] - 1s 2ms/step - loss: 0.0012 - val_loss: 7.9223e-04\n",
            "Epoch 8/100\n",
            "624/624 [==============================] - 1s 2ms/step - loss: 0.0010 - val_loss: 0.0023\n",
            "Epoch 9/100\n",
            "624/624 [==============================] - 1s 2ms/step - loss: 0.0011 - val_loss: 0.0012\n",
            "Epoch 10/100\n",
            "624/624 [==============================] - 1s 2ms/step - loss: 9.3647e-04 - val_loss: 8.5916e-04\n",
            "Epoch 11/100\n",
            "624/624 [==============================] - 1s 2ms/step - loss: 9.5440e-04 - val_loss: 8.5609e-04\n",
            "Epoch 12/100\n",
            "624/624 [==============================] - 1s 2ms/step - loss: 0.0016 - val_loss: 0.0013\n",
            "Epoch 13/100\n",
            "624/624 [==============================] - 1s 2ms/step - loss: 0.0011 - val_loss: 7.1409e-04\n",
            "Epoch 14/100\n",
            "624/624 [==============================] - 1s 2ms/step - loss: 7.4538e-04 - val_loss: 7.7591e-04\n",
            "Epoch 15/100\n",
            "624/624 [==============================] - 1s 2ms/step - loss: 8.1841e-04 - val_loss: 0.0010\n",
            "Epoch 16/100\n",
            "624/624 [==============================] - 1s 2ms/step - loss: 8.3666e-04 - val_loss: 0.0020\n",
            "Epoch 17/100\n",
            "624/624 [==============================] - 1s 2ms/step - loss: 9.4955e-04 - val_loss: 0.0011\n",
            "Epoch 18/100\n",
            "624/624 [==============================] - 1s 2ms/step - loss: 0.0015 - val_loss: 0.0012\n",
            "Epoch 19/100\n",
            "624/624 [==============================] - 1s 2ms/step - loss: 8.5322e-04 - val_loss: 0.0011\n",
            "Epoch 20/100\n",
            "624/624 [==============================] - 1s 2ms/step - loss: 7.0146e-04 - val_loss: 8.8953e-04\n"
          ]
        },
        {
          "output_type": "execute_result",
          "data": {
            "text/plain": [
              "<keras.callbacks.History at 0x7f55baa69df0>"
            ]
          },
          "metadata": {},
          "execution_count": 422
        }
      ]
    },
    {
      "cell_type": "markdown",
      "source": [
        "Early stopping 하니까 더이상 학습 이득이 없다고 판단한 지점에서 학습이 멈추게 된다."
      ],
      "metadata": {
        "id": "OZjitifq6IEJ"
      }
    },
    {
      "cell_type": "code",
      "source": [
        "scaled_pred = model.predict(scaled_x_test)\n",
        "pred_y = y_min_max_scaler.inverse_transform(scaled_pred)"
      ],
      "metadata": {
        "colab": {
          "base_uri": "https://localhost:8080/"
        },
        "id": "tVH6Q2s66jlQ",
        "outputId": "bac048cb-50e4-40c4-ed3c-4b30df859731"
      },
      "execution_count": null,
      "outputs": [
        {
          "output_type": "stream",
          "name": "stdout",
          "text": [
            "5/5 [==============================] - 0s 2ms/step\n"
          ]
        }
      ]
    },
    {
      "cell_type": "code",
      "source": [
        "print_evaluate(y_test, pred_y)"
      ],
      "metadata": {
        "colab": {
          "base_uri": "https://localhost:8080/"
        },
        "id": "8UxEYgfc6krl",
        "outputId": "cc724c4b-2f61-422c-c6c0-809e4b4204e5"
      },
      "execution_count": null,
      "outputs": [
        {
          "output_type": "stream",
          "name": "stdout",
          "text": [
            "MAE:  18506.642765410958\n",
            "MSE:  824583881.2303977\n",
            "RMSE:  28715.568621052895\n",
            "R2 SQAURE:  0.9097497658904866\n"
          ]
        }
      ]
    },
    {
      "cell_type": "markdown",
      "source": [
        "## K-fold Cross Validation"
      ],
      "metadata": {
        "id": "qVhSa7qmDAom"
      }
    },
    {
      "cell_type": "markdown",
      "source": [
        "### Train test Split"
      ],
      "metadata": {
        "id": "Dcr0g14CEK5E"
      }
    },
    {
      "cell_type": "code",
      "source": [
        "# corr이 높은 상위 30개 정도만 학습 시키자\n",
        "NUM_FEATURES = 30"
      ],
      "metadata": {
        "id": "Guavg-opEDKh"
      },
      "execution_count": 75,
      "outputs": []
    },
    {
      "cell_type": "code",
      "source": [
        "from sklearn.model_selection import train_test_split"
      ],
      "metadata": {
        "id": "TydLSwD6EPGz"
      },
      "execution_count": 76,
      "outputs": []
    },
    {
      "cell_type": "code",
      "source": [
        "x = df_processed[df_features[-NUM_FEATURES-1:-1].index.tolist()]\n",
        "y = df_processed['SalePrice']"
      ],
      "metadata": {
        "id": "ukigLeHWETsi"
      },
      "execution_count": 78,
      "outputs": []
    },
    {
      "cell_type": "code",
      "source": [
        "x.shape, y.shape"
      ],
      "metadata": {
        "colab": {
          "base_uri": "https://localhost:8080/"
        },
        "id": "OQZ-9Jh4EhMA",
        "outputId": "39cf5704-c3e3-4975-c87d-b8758c13be37"
      },
      "execution_count": 79,
      "outputs": [
        {
          "output_type": "execute_result",
          "data": {
            "text/plain": [
              "((1460, 30), (1460,))"
            ]
          },
          "metadata": {},
          "execution_count": 79
        }
      ]
    },
    {
      "cell_type": "code",
      "source": [
        "x_train, x_test, y_train, y_test = train_test_split(x, y, test_size=0.1, random_state=42)"
      ],
      "metadata": {
        "id": "n_4JS1g3EsG_"
      },
      "execution_count": 80,
      "outputs": []
    },
    {
      "cell_type": "code",
      "source": [
        "x_train.shape, y_train.shape"
      ],
      "metadata": {
        "colab": {
          "base_uri": "https://localhost:8080/"
        },
        "id": "mDWQrMblE3Bn",
        "outputId": "426816b1-a34f-40fd-ea1a-b1a38c6fc568"
      },
      "execution_count": 81,
      "outputs": [
        {
          "output_type": "execute_result",
          "data": {
            "text/plain": [
              "((1314, 30), (1314,))"
            ]
          },
          "metadata": {},
          "execution_count": 81
        }
      ]
    },
    {
      "cell_type": "code",
      "source": [
        "x_test.shape,y_test.shape "
      ],
      "metadata": {
        "colab": {
          "base_uri": "https://localhost:8080/"
        },
        "id": "CuQFefCmE6NT",
        "outputId": "7e85c119-eee3-4ce2-8c41-07bcee664a2a"
      },
      "execution_count": 82,
      "outputs": [
        {
          "output_type": "execute_result",
          "data": {
            "text/plain": [
              "((146, 30), (146,))"
            ]
          },
          "metadata": {},
          "execution_count": 82
        }
      ]
    },
    {
      "cell_type": "markdown",
      "source": [
        "### Linear Regression"
      ],
      "metadata": {
        "id": "iWmP8AvTFLC2"
      }
    },
    {
      "cell_type": "code",
      "source": [
        "from sklearn.linear_model import Lasso"
      ],
      "metadata": {
        "id": "3c7cmEBRFHMB"
      },
      "execution_count": 83,
      "outputs": []
    },
    {
      "cell_type": "code",
      "source": [
        "model = Lasso()\n",
        "model = model.fit(x_train, y_train)"
      ],
      "metadata": {
        "colab": {
          "base_uri": "https://localhost:8080/"
        },
        "id": "4vAvO4iOFREW",
        "outputId": "8a95e250-ca68-4dc7-b9be-8387b387ec49"
      },
      "execution_count": 84,
      "outputs": [
        {
          "output_type": "stream",
          "name": "stderr",
          "text": [
            "/usr/local/lib/python3.8/dist-packages/sklearn/linear_model/_coordinate_descent.py:647: ConvergenceWarning: Objective did not converge. You might want to increase the number of iterations, check the scale of the features or consider increasing regularisation. Duality gap: 7.630e+11, tolerance: 7.873e+08\n",
            "  model = cd_fast.enet_coordinate_descent(\n"
          ]
        }
      ]
    },
    {
      "cell_type": "code",
      "source": [
        "pred = model.predict(x_test)"
      ],
      "metadata": {
        "id": "AzUt7IUOFZ3b"
      },
      "execution_count": 85,
      "outputs": []
    },
    {
      "cell_type": "code",
      "source": [
        "plt.scatter(y_test, pred)"
      ],
      "metadata": {
        "colab": {
          "base_uri": "https://localhost:8080/",
          "height": 283
        },
        "id": "4Rp7zpYAFcWX",
        "outputId": "f5eb101d-1277-48cb-deff-5cf87be4f54c"
      },
      "execution_count": 86,
      "outputs": [
        {
          "output_type": "execute_result",
          "data": {
            "text/plain": [
              "<matplotlib.collections.PathCollection at 0x7fc00d6067f0>"
            ]
          },
          "metadata": {},
          "execution_count": 86
        },
        {
          "output_type": "display_data",
          "data": {
            "text/plain": [
              "<Figure size 432x288 with 1 Axes>"
            ],
            "image/png": "[encoded data removed]"
          },
          "metadata": {
            "needs_background": "light"
          }
        }
      ]
    },
    {
      "cell_type": "markdown",
      "source": [
        "### Evaluation"
      ],
      "metadata": {
        "id": "ZMo3dWJuFfsn"
      }
    },
    {
      "cell_type": "code",
      "source": [
        "from sklearn import metrics"
      ],
      "metadata": {
        "id": "LeOSZE66FeVH"
      },
      "execution_count": 87,
      "outputs": []
    },
    {
      "cell_type": "code",
      "source": [
        "def print_evaluate(true, predicted):\n",
        "  mae = metrics.mean_absolute_error(true, predicted)\n",
        "  mse = metrics.mean_squared_error(true, predicted)\n",
        "  rmse = np.sqrt(metrics.mean_squared_error(true, predicted))\n",
        "  r2_square = metrics.r2_score(true, predicted)\n",
        "  print('MAE: ', mae)\n",
        "  print('MSE: ', mse)\n",
        "  print('RMSE: ', rmse)\n",
        "  print('R2 SQAURE: ', r2_square)"
      ],
      "metadata": {
        "id": "TwVnLn9YFkmK"
      },
      "execution_count": 88,
      "outputs": []
    },
    {
      "cell_type": "code",
      "source": [
        "print_evaluate(y_test, pred)"
      ],
      "metadata": {
        "colab": {
          "base_uri": "https://localhost:8080/"
        },
        "id": "-uuGV0XSGDKn",
        "outputId": "f2a95dd7-0107-487c-d5cd-0f71af0414ef"
      },
      "execution_count": 89,
      "outputs": [
        {
          "output_type": "stream",
          "name": "stdout",
          "text": [
            "MAE:  23899.157521884084\n",
            "MSE:  1828691882.170764\n",
            "RMSE:  42763.207108105955\n",
            "R2 SQAURE:  0.799850719572865\n"
          ]
        }
      ]
    },
    {
      "cell_type": "code",
      "source": [
        "df_results = pd.concat([\n",
        "    y_test.reset_index(), pd.DataFrame(pred)], axis=1\n",
        ")"
      ],
      "metadata": {
        "id": "kwYYrOTnGGJt"
      },
      "execution_count": 91,
      "outputs": []
    },
    {
      "cell_type": "code",
      "source": [
        "df_results"
      ],
      "metadata": {
        "colab": {
          "base_uri": "https://localhost:8080/",
          "height": 424
        },
        "id": "lsTdIGj6GP8I",
        "outputId": "56b409f9-f65e-444e-e3fd-083751147c96"
      },
      "execution_count": 92,
      "outputs": [
        {
          "output_type": "execute_result",
          "data": {
            "text/plain": [
              "     index  SalePrice              0\n",
              "0      892     154500  148455.097258\n",
              "1     1105     325000  306906.137040\n",
              "2      413     115000  105274.806751\n",
              "3      522     159000  168022.610310\n",
              "4     1036     315500  308094.345944\n",
              "..     ...        ...            ...\n",
              "141    526     132000  117466.083458\n",
              "142    101     178000  181631.707511\n",
              "143   1092     136500  171538.826179\n",
              "144    411     145000  146504.106446\n",
              "145   1392     123000  122165.652308\n",
              "\n",
              "[146 rows x 3 columns]"
            ],
            "text/html": [
              "\n",
              "  <div id=\"df-e016cc19-4a68-406b-9154-6ea3941af1ef\">\n",
              "    <div class=\"colab-df-container\">\n",
              "      <div>\n",
              "<style scoped>\n",
              "    .dataframe tbody tr th:only-of-type {\n",
              "        vertical-align: middle;\n",
              "    }\n",
              "\n",
              "    .dataframe tbody tr th {\n",
              "        vertical-align: top;\n",
              "    }\n",
              "\n",
              "    .dataframe thead th {\n",
              "        text-align: right;\n",
              "    }\n",
              "</style>\n",
              "<table border=\"1\" class=\"dataframe\">\n",
              "  <thead>\n",
              "    <tr style=\"text-align: right;\">\n",
              "      <th></th>\n",
              "      <th>index</th>\n",
              "      <th>SalePrice</th>\n",
              "      <th>0</th>\n",
              "    </tr>\n",
              "  </thead>\n",
              "  <tbody>\n",
              "    <tr>\n",
              "      <th>0</th>\n",
              "      <td>892</td>\n",
              "      <td>154500</td>\n",
              "      <td>148455.097258</td>\n",
              "    </tr>\n",
              "    <tr>\n",
              "      <th>1</th>\n",
              "      <td>1105</td>\n",
              "      <td>325000</td>\n",
              "      <td>306906.137040</td>\n",
              "    </tr>\n",
              "    <tr>\n",
              "      <th>2</th>\n",
              "      <td>413</td>\n",
              "      <td>115000</td>\n",
              "      <td>105274.806751</td>\n",
              "    </tr>\n",
              "    <tr>\n",
              "      <th>3</th>\n",
              "      <td>522</td>\n",
              "      <td>159000</td>\n",
              "      <td>168022.610310</td>\n",
              "    </tr>\n",
              "    <tr>\n",
              "      <th>4</th>\n",
              "      <td>1036</td>\n",
              "      <td>315500</td>\n",
              "      <td>308094.345944</td>\n",
              "    </tr>\n",
              "    <tr>\n",
              "      <th>...</th>\n",
              "      <td>...</td>\n",
              "      <td>...</td>\n",
              "      <td>...</td>\n",
              "    </tr>\n",
              "    <tr>\n",
              "      <th>141</th>\n",
              "      <td>526</td>\n",
              "      <td>132000</td>\n",
              "      <td>117466.083458</td>\n",
              "    </tr>\n",
              "    <tr>\n",
              "      <th>142</th>\n",
              "      <td>101</td>\n",
              "      <td>178000</td>\n",
              "      <td>181631.707511</td>\n",
              "    </tr>\n",
              "    <tr>\n",
              "      <th>143</th>\n",
              "      <td>1092</td>\n",
              "      <td>136500</td>\n",
              "      <td>171538.826179</td>\n",
              "    </tr>\n",
              "    <tr>\n",
              "      <th>144</th>\n",
              "      <td>411</td>\n",
              "      <td>145000</td>\n",
              "      <td>146504.106446</td>\n",
              "    </tr>\n",
              "    <tr>\n",
              "      <th>145</th>\n",
              "      <td>1392</td>\n",
              "      <td>123000</td>\n",
              "      <td>122165.652308</td>\n",
              "    </tr>\n",
              "  </tbody>\n",
              "</table>\n",
              "<p>146 rows × 3 columns</p>\n",
              "</div>\n",
              "      <button class=\"colab-df-convert\" onclick=\"convertToInteractive('df-e016cc19-4a68-406b-9154-6ea3941af1ef')\"\n",
              "              title=\"Convert this dataframe to an interactive table.\"\n",
              "              style=\"display:none;\">\n",
              "        \n",
              "  <svg xmlns=\"http://www.w3.org/2000/svg\" height=\"24px\"viewBox=\"0 0 24 24\"\n",
              "       width=\"24px\">\n",
              "    <path d=\"M0 0h24v24H0V0z\" fill=\"none\"/>\n",
              "    <path d=\"M18.56 5.44l.94 2.06.94-2.06 2.06-.94-2.06-.94-.94-2.06-.94 2.06-2.06.94zm-11 1L8.5 8.5l.94-2.06 2.06-.94-2.06-.94L8.5 2.5l-.94 2.06-2.06.94zm10 10l.94 2.06.94-2.06 2.06-.94-2.06-.94-.94-2.06-.94 2.06-2.06.94z\"/><path d=\"M17.41 7.96l-1.37-1.37c-.4-.4-.92-.59-1.43-.59-.52 0-1.04.2-1.43.59L10.3 9.45l-7.72 7.72c-.78.78-.78 2.05 0 2.83L4 21.41c.39.39.9.59 1.41.59.51 0 1.02-.2 1.41-.59l7.78-7.78 2.81-2.81c.8-.78.8-2.07 0-2.86zM5.41 20L4 18.59l7.72-7.72 1.47 1.35L5.41 20z\"/>\n",
              "  </svg>\n",
              "      </button>\n",
              "      \n",
              "  <style>\n",
              "    .colab-df-container {\n",
              "      display:flex;\n",
              "      flex-wrap:wrap;\n",
              "      gap: 12px;\n",
              "    }\n",
              "\n",
              "    .colab-df-convert {\n",
              "      background-color: #E8F0FE;\n",
              "      border: none;\n",
              "      border-radius: 50%;\n",
              "      cursor: pointer;\n",
              "      display: none;\n",
              "      fill: #1967D2;\n",
              "      height: 32px;\n",
              "      padding: 0 0 0 0;\n",
              "      width: 32px;\n",
              "    }\n",
              "\n",
              "    .colab-df-convert:hover {\n",
              "      background-color: #E2EBFA;\n",
              "      box-shadow: 0px 1px 2px rgba(60, 64, 67, 0.3), 0px 1px 3px 1px rgba(60, 64, 67, 0.15);\n",
              "      fill: #174EA6;\n",
              "    }\n",
              "\n",
              "    [theme=dark] .colab-df-convert {\n",
              "      background-color: #3B4455;\n",
              "      fill: #D2E3FC;\n",
              "    }\n",
              "\n",
              "    [theme=dark] .colab-df-convert:hover {\n",
              "      background-color: #434B5C;\n",
              "      box-shadow: 0px 1px 3px 1px rgba(0, 0, 0, 0.15);\n",
              "      filter: drop-shadow(0px 1px 2px rgba(0, 0, 0, 0.3));\n",
              "      fill: #FFFFFF;\n",
              "    }\n",
              "  </style>\n",
              "\n",
              "      <script>\n",
              "        const buttonEl =\n",
              "          document.querySelector('#df-e016cc19-4a68-406b-9154-6ea3941af1ef button.colab-df-convert');\n",
              "        buttonEl.style.display =\n",
              "          google.colab.kernel.accessAllowed ? 'block' : 'none';\n",
              "\n",
              "        async function convertToInteractive(key) {\n",
              "          const element = document.querySelector('#df-e016cc19-4a68-406b-9154-6ea3941af1ef');\n",
              "          const dataTable =\n",
              "            await google.colab.kernel.invokeFunction('convertToInteractive',\n",
              "                                                     [key], {});\n",
              "          if (!dataTable) return;\n",
              "\n",
              "          const docLinkHtml = 'Like what you see? Visit the ' +\n",
              "            '<a target=\"_blank\" href=https://colab.research.google.com/notebooks/data_table.ipynb>data table notebook</a>'\n",
              "            + ' to learn more about interactive tables.';\n",
              "          element.innerHTML = '';\n",
              "          dataTable['output_type'] = 'display_data';\n",
              "          await google.colab.output.renderOutput(dataTable, element);\n",
              "          const docLink = document.createElement('div');\n",
              "          docLink.innerHTML = docLinkHtml;\n",
              "          element.appendChild(docLink);\n",
              "        }\n",
              "      </script>\n",
              "    </div>\n",
              "  </div>\n",
              "  "
            ]
          },
          "metadata": {},
          "execution_count": 92
        }
      ]
    },
    {
      "cell_type": "markdown",
      "source": [
        "### K-fold Cross Validiation\n",
        "- dataset이 작기 때문에 test_size를 어떻게 다루는게 좋을지 알아보자"
      ],
      "metadata": {
        "id": "M2g14CjjGkAI"
      }
    },
    {
      "cell_type": "code",
      "source": [
        "# x_train, x_test, y_train, y_test = train_test_split(x, y, test_size=0.1, random_state=42)\n",
        "# 10%를 추출하되 K=10 즉, 10번에 걸쳐서 추출할 수 있도록 하자.\n",
        "K=10\n",
        "data_size = int(len(x)/K)"
      ],
      "metadata": {
        "id": "KMuFZyVLGYoi"
      },
      "execution_count": 93,
      "outputs": []
    },
    {
      "cell_type": "code",
      "source": [
        "data_size"
      ],
      "metadata": {
        "colab": {
          "base_uri": "https://localhost:8080/"
        },
        "id": "lu77Df7PHJFv",
        "outputId": "ca861047-746a-42fa-dd4f-65dd6bd005e3"
      },
      "execution_count": 94,
      "outputs": [
        {
          "output_type": "execute_result",
          "data": {
            "text/plain": [
              "146"
            ]
          },
          "metadata": {},
          "execution_count": 94
        }
      ]
    },
    {
      "cell_type": "markdown",
      "source": [
        "sklearn에서 KFold를 제공함"
      ],
      "metadata": {
        "id": "9ImlUsN2JFuR"
      }
    },
    {
      "cell_type": "code",
      "source": [
        "from sklearn.model_selection import KFold"
      ],
      "metadata": {
        "id": "OuYiKPNxHKUI"
      },
      "execution_count": 95,
      "outputs": []
    },
    {
      "cell_type": "code",
      "source": [
        "kf = KFold(n_splits=K)"
      ],
      "metadata": {
        "id": "BlylZd_eJPcP"
      },
      "execution_count": 96,
      "outputs": []
    },
    {
      "cell_type": "code",
      "source": [
        "from sklearn.preprocessing import MinMaxScaler"
      ],
      "metadata": {
        "id": "aVSQkt1bKNmq"
      },
      "execution_count": 99,
      "outputs": []
    },
    {
      "cell_type": "code",
      "source": [
        "# data preprocessing\n",
        "x_min_max_scaler = MinMaxScaler()\n",
        "x_min_max_scaler.fit(x)\n",
        "scaled_x = x_min_max_scaler.transform(x)\n",
        "\n",
        "y_min_max_scaler = MinMaxScaler()\n",
        "y_min_max_scaler.fit(np.array(y).reshape(-1, 1))\n",
        "scaled_y = y_min_max_scaler.transform(np.array(y).reshape(-1, 1))"
      ],
      "metadata": {
        "id": "AXi7_fWsJTNt"
      },
      "execution_count": 100,
      "outputs": []
    },
    {
      "cell_type": "code",
      "source": [
        "scaled_x.shape, scaled_y.shape"
      ],
      "metadata": {
        "colab": {
          "base_uri": "https://localhost:8080/"
        },
        "id": "FVVJE5JXKGXI",
        "outputId": "ca1f2b25-99af-4469-d806-3d9c36119954"
      },
      "execution_count": 101,
      "outputs": [
        {
          "output_type": "execute_result",
          "data": {
            "text/plain": [
              "((1460, 30), (1460, 1))"
            ]
          },
          "metadata": {},
          "execution_count": 101
        }
      ]
    },
    {
      "cell_type": "code",
      "source": [
        "# 최종적으로는 rmse를 모아서 평균을 내줘야 함\n",
        "rmses = []\n",
        "\n",
        "\n",
        "# KFold : kf.split(scaled_x) -> 자동으로 index 추출해줌\n",
        "for train_index, test_index in kf.split(scaled_x):\n",
        "  # print(\"TRAIN : \", train_index, \"TEST : \", test_index)\n",
        "\n",
        "  x_train, x_test = scaled_x[train_index], scaled_x[test_index]\n",
        "  y_train, y_test = scaled_y[train_index], scaled_y[test_index]\n",
        "\n",
        "  # print(x_train.shape, x_test.shape)\n",
        "  # print(y_train.shape, y_test.shape)\n",
        "\n",
        "  # training\n",
        "  model = Lasso()\n",
        "  model = model.fit(x_train, y_train)\n",
        "\n",
        "  # evaluation\n",
        "  pred = model.predict(x_test).reshape((-1,1))\n",
        "  pred = y_min_max_scaler.inverse_transform(pred)\n",
        "  rmse = np.sqrt(metrics.mean_squared_error(y_test, pred)) #rmse : Root Mean Squared Error\n",
        "\n",
        "  print(rmse)\n",
        "  print(\"--------->\")\n",
        "\n",
        "  # break\n",
        "\n",
        "  rmses.append(rmse)\n"
      ],
      "metadata": {
        "colab": {
          "base_uri": "https://localhost:8080/"
        },
        "id": "IYazz3OiKVL9",
        "outputId": "82a4aa22-2992-4540-814c-66a549ba34b8"
      },
      "execution_count": 103,
      "outputs": [
        {
          "output_type": "stream",
          "name": "stdout",
          "text": [
            "181632.6112898907\n",
            "--------->\n",
            "180027.94663797648\n",
            "--------->\n",
            "180696.21069777504\n",
            "--------->\n",
            "180689.21822073552\n",
            "--------->\n",
            "180332.03110818347\n",
            "--------->\n",
            "180697.65972653756\n",
            "--------->\n",
            "181755.2208892524\n",
            "--------->\n",
            "181831.19976882864\n",
            "--------->\n",
            "180042.74895388487\n",
            "--------->\n",
            "181505.08382085158\n",
            "--------->\n"
          ]
        }
      ]
    },
    {
      "cell_type": "markdown",
      "source": [
        "- 10개의 평가 지표를 얻을 수 있다."
      ],
      "metadata": {
        "id": "IQN1RWwePKvh"
      }
    },
    {
      "cell_type": "code",
      "source": [
        "rmses"
      ],
      "metadata": {
        "colab": {
          "base_uri": "https://localhost:8080/"
        },
        "id": "PZHKZKHKPqmK",
        "outputId": "a5487a53-6ede-4d99-9926-4ba78f30610a"
      },
      "execution_count": 104,
      "outputs": [
        {
          "output_type": "execute_result",
          "data": {
            "text/plain": [
              "[181632.6112898907,\n",
              " 180027.94663797648,\n",
              " 180696.21069777504,\n",
              " 180689.21822073552,\n",
              " 180332.03110818347,\n",
              " 180697.65972653756,\n",
              " 181755.2208892524,\n",
              " 181831.19976882864,\n",
              " 180042.74895388487,\n",
              " 181505.08382085158]"
            ]
          },
          "metadata": {},
          "execution_count": 104
        }
      ]
    },
    {
      "cell_type": "code",
      "source": [
        "# rmses들의 평균을 낸다 -> 최종적으로 믿을수 있는 평가 지표로 생각할 수 있다.\n",
        "np.mean(rmses)"
      ],
      "metadata": {
        "colab": {
          "base_uri": "https://localhost:8080/"
        },
        "id": "Ne7RengvPsT8",
        "outputId": "a590ed51-7a96-4566-ae2f-a3ec9c4933d3"
      },
      "execution_count": 105,
      "outputs": [
        {
          "output_type": "execute_result",
          "data": {
            "text/plain": [
              "180920.99311139164"
            ]
          },
          "metadata": {},
          "execution_count": 105
        }
      ]
    },
    {
      "cell_type": "markdown",
      "source": [
        "## Regression Model with Decision Tree"
      ],
      "metadata": {
        "id": "Ig26mw68RPk7"
      }
    },
    {
      "cell_type": "markdown",
      "source": [
        "#### Decision Tree\n",
        " - Decision Tree Regression"
      ],
      "metadata": {
        "id": "gOOjGaubfiAq"
      }
    },
    {
      "cell_type": "code",
      "source": [
        "from sklearn.tree import DecisionTreeRegressor"
      ],
      "metadata": {
        "id": "8x9rkDtWflR_"
      },
      "execution_count": 106,
      "outputs": []
    },
    {
      "cell_type": "code",
      "source": [
        "# K값은 이전에 사용했던 K=10을 이용한다\n",
        "\n",
        "rmses = []\n",
        "\n",
        "for train_index, test_index in kf.split(scaled_x):\n",
        "  # print(\"TRAIN : \", train_index, \"TEST : \", test_index)\n",
        "\n",
        "  x_train, x_test = scaled_x[train_index], scaled_x[test_index]\n",
        "  y_train, y_test = scaled_y[train_index], scaled_y[test_index]\n",
        "\n",
        "  # print(x_train.shape, x_test.shape)\n",
        "  # print(y_train.shape, y_test.shape)\n",
        "\n",
        "  # training\n",
        "  model = DecisionTreeRegressor(random_state=0,)\n",
        "  model = model.fit(x_train, y_train)\n",
        "\n",
        "  # evaluation\n",
        "  pred = model.predict(x_test).reshape((-1,1))\n",
        "  pred = y_min_max_scaler.inverse_transform(pred)\n",
        "  rmse = np.sqrt(metrics.mean_squared_error(y_test, pred)) #rmse : Root Mean Squared Error\n",
        "\n",
        "  print(rmse)\n",
        "  print(\"---------\")\n",
        "\n",
        "  rmses.append(rmse)"
      ],
      "metadata": {
        "colab": {
          "base_uri": "https://localhost:8080/"
        },
        "id": "fid5EOIzfvEn",
        "outputId": "9fb4d318-85ba-4af0-afd7-0074fb561890"
      },
      "execution_count": 111,
      "outputs": [
        {
          "output_type": "stream",
          "name": "stdout",
          "text": [
            "190257.2595443588\n",
            "---------\n",
            "206590.47574643127\n",
            "---------\n",
            "205634.5705770017\n",
            "---------\n",
            "202455.43094697924\n",
            "---------\n",
            "206476.17298975162\n",
            "---------\n",
            "192288.30973504967\n",
            "---------\n",
            "189057.02508195955\n",
            "---------\n",
            "189032.5035088884\n",
            "---------\n",
            "208924.38346659337\n",
            "---------\n",
            "190102.98215084083\n",
            "---------\n"
          ]
        }
      ]
    },
    {
      "cell_type": "code",
      "source": [
        "print(\"Avaerage rmse: \", np.mean(rmses))"
      ],
      "metadata": {
        "colab": {
          "base_uri": "https://localhost:8080/"
        },
        "id": "qk02H54aj64u",
        "outputId": "88bb2251-9481-4f8b-a2a5-45b66cb10f73"
      },
      "execution_count": 108,
      "outputs": [
        {
          "output_type": "stream",
          "name": "stdout",
          "text": [
            "Avaerage rmse:  198081.91137478544\n"
          ]
        }
      ]
    },
    {
      "cell_type": "markdown",
      "source": [
        "Lasso 모델에 비해 약간 아쉬운 결과를 얻었다."
      ],
      "metadata": {
        "id": "jTdRqWg2kJMD"
      }
    },
    {
      "cell_type": "markdown",
      "source": [
        "## Ensemble"
      ],
      "metadata": {
        "id": "w36Fk8Z-od1h"
      }
    },
    {
      "cell_type": "markdown",
      "source": [
        "### Random Forest\n",
        "- Decision Tree 개선\n",
        "- Ensemble"
      ],
      "metadata": {
        "id": "JD64H9HskQlT"
      }
    },
    {
      "cell_type": "code",
      "source": [
        "from sklearn.ensemble import RandomForestRegressor"
      ],
      "metadata": {
        "id": "81glqDc7kGVZ"
      },
      "execution_count": 109,
      "outputs": []
    },
    {
      "cell_type": "code",
      "source": [
        "# K값은 이전에 사용했던 K=10을 이용한다\n",
        "\n",
        "rmses = []\n",
        "\n",
        "for train_index, test_index in kf.split(scaled_x):\n",
        "  # print(\"TRAIN : \", train_index, \"TEST : \", test_index)\n",
        "\n",
        "  x_train, x_test = scaled_x[train_index], scaled_x[test_index]\n",
        "  y_train, y_test = scaled_y[train_index], scaled_y[test_index]\n",
        "\n",
        "  # print(x_train.shape, x_test.shape)\n",
        "  # print(y_train.shape, y_test.shape)\n",
        "\n",
        "  # training\n",
        "  model = RandomForestRegressor(random_state=0,)\n",
        "  model = model.fit(x_train, y_train)\n",
        "  # RandomForest에서 가장 중요한 건 n_estimators=[number]<- Tree의 개수를 얼마로 할 것인가\n",
        "  # n_estimators=100 : Default\n",
        "\n",
        "  # evaluation\n",
        "  pred = model.predict(x_test).reshape((-1,1))\n",
        "  pred = y_min_max_scaler.inverse_transform(pred)\n",
        "  rmse = np.sqrt(metrics.mean_squared_error(y_test, pred)) #rmse : Root Mean Squared Error\n",
        "\n",
        "  print(rmse)\n",
        "  print(\"---------\")\n",
        "\n",
        "  rmses.append(rmse)\n",
        "\n",
        "print(\"Average rmse : \", np.mean(rmses))"
      ],
      "metadata": {
        "colab": {
          "base_uri": "https://localhost:8080/"
        },
        "id": "cylXSwd5kwWn",
        "outputId": "55a7494d-6068-4cf1-a7df-1b98240b37ae"
      },
      "execution_count": 112,
      "outputs": [
        {
          "output_type": "stream",
          "name": "stderr",
          "text": [
            "<ipython-input-112-057e8ced2e86>:16: DataConversionWarning: A column-vector y was passed when a 1d array was expected. Please change the shape of y to (n_samples,), for example using ravel().\n",
            "  model = model.fit(x_train, y_train)\n"
          ]
        },
        {
          "output_type": "stream",
          "name": "stdout",
          "text": [
            "188296.2582533917\n",
            "---------\n"
          ]
        },
        {
          "output_type": "stream",
          "name": "stderr",
          "text": [
            "<ipython-input-112-057e8ced2e86>:16: DataConversionWarning: A column-vector y was passed when a 1d array was expected. Please change the shape of y to (n_samples,), for example using ravel().\n",
            "  model = model.fit(x_train, y_train)\n"
          ]
        },
        {
          "output_type": "stream",
          "name": "stdout",
          "text": [
            "198993.25028423624\n",
            "---------\n"
          ]
        },
        {
          "output_type": "stream",
          "name": "stderr",
          "text": [
            "<ipython-input-112-057e8ced2e86>:16: DataConversionWarning: A column-vector y was passed when a 1d array was expected. Please change the shape of y to (n_samples,), for example using ravel().\n",
            "  model = model.fit(x_train, y_train)\n"
          ]
        },
        {
          "output_type": "stream",
          "name": "stdout",
          "text": [
            "196654.89723774584\n",
            "---------\n"
          ]
        },
        {
          "output_type": "stream",
          "name": "stderr",
          "text": [
            "<ipython-input-112-057e8ced2e86>:16: DataConversionWarning: A column-vector y was passed when a 1d array was expected. Please change the shape of y to (n_samples,), for example using ravel().\n",
            "  model = model.fit(x_train, y_train)\n"
          ]
        },
        {
          "output_type": "stream",
          "name": "stdout",
          "text": [
            "204357.4733537855\n",
            "---------\n"
          ]
        },
        {
          "output_type": "stream",
          "name": "stderr",
          "text": [
            "<ipython-input-112-057e8ced2e86>:16: DataConversionWarning: A column-vector y was passed when a 1d array was expected. Please change the shape of y to (n_samples,), for example using ravel().\n",
            "  model = model.fit(x_train, y_train)\n"
          ]
        },
        {
          "output_type": "stream",
          "name": "stdout",
          "text": [
            "200562.88012403564\n",
            "---------\n"
          ]
        },
        {
          "output_type": "stream",
          "name": "stderr",
          "text": [
            "<ipython-input-112-057e8ced2e86>:16: DataConversionWarning: A column-vector y was passed when a 1d array was expected. Please change the shape of y to (n_samples,), for example using ravel().\n",
            "  model = model.fit(x_train, y_train)\n"
          ]
        },
        {
          "output_type": "stream",
          "name": "stdout",
          "text": [
            "189146.5363774147\n",
            "---------\n"
          ]
        },
        {
          "output_type": "stream",
          "name": "stderr",
          "text": [
            "<ipython-input-112-057e8ced2e86>:16: DataConversionWarning: A column-vector y was passed when a 1d array was expected. Please change the shape of y to (n_samples,), for example using ravel().\n",
            "  model = model.fit(x_train, y_train)\n"
          ]
        },
        {
          "output_type": "stream",
          "name": "stdout",
          "text": [
            "187060.08678220562\n",
            "---------\n"
          ]
        },
        {
          "output_type": "stream",
          "name": "stderr",
          "text": [
            "<ipython-input-112-057e8ced2e86>:16: DataConversionWarning: A column-vector y was passed when a 1d array was expected. Please change the shape of y to (n_samples,), for example using ravel().\n",
            "  model = model.fit(x_train, y_train)\n"
          ]
        },
        {
          "output_type": "stream",
          "name": "stdout",
          "text": [
            "184301.28566005206\n",
            "---------\n"
          ]
        },
        {
          "output_type": "stream",
          "name": "stderr",
          "text": [
            "<ipython-input-112-057e8ced2e86>:16: DataConversionWarning: A column-vector y was passed when a 1d array was expected. Please change the shape of y to (n_samples,), for example using ravel().\n",
            "  model = model.fit(x_train, y_train)\n"
          ]
        },
        {
          "output_type": "stream",
          "name": "stdout",
          "text": [
            "202759.67266679808\n",
            "---------\n"
          ]
        },
        {
          "output_type": "stream",
          "name": "stderr",
          "text": [
            "<ipython-input-112-057e8ced2e86>:16: DataConversionWarning: A column-vector y was passed when a 1d array was expected. Please change the shape of y to (n_samples,), for example using ravel().\n",
            "  model = model.fit(x_train, y_train)\n"
          ]
        },
        {
          "output_type": "stream",
          "name": "stdout",
          "text": [
            "190919.34759815072\n",
            "---------\n",
            "Average rmse :  194305.1688337816\n"
          ]
        }
      ]
    },
    {
      "cell_type": "markdown",
      "source": [
        "역시 Lasso에 비해서는 약간 아쉬운 결과를 보여준다 </br></br>\n",
        "NOTE)\n",
        "- Tree형 모델은 Regression에 약하다.\n",
        "- Decision Tree나 Random Forest의 경우 Classification에 더 적합하다."
      ],
      "metadata": {
        "id": "MPH8XnTql46m"
      }
    },
    {
      "cell_type": "markdown",
      "source": [
        "### Boosting"
      ],
      "metadata": {
        "id": "SBLXe9_noaAD"
      }
    },
    {
      "cell_type": "markdown",
      "source": [
        "#### AdaBoost"
      ],
      "metadata": {
        "id": "Kzq9BavurRSf"
      }
    },
    {
      "cell_type": "code",
      "source": [
        "from sklearn.ensemble import AdaBoostRegressor"
      ],
      "metadata": {
        "id": "C85fMJaBlWJo"
      },
      "execution_count": 113,
      "outputs": []
    },
    {
      "cell_type": "code",
      "source": [
        "# K-Fold Cross Validation Frame\n",
        "\n",
        "rmses = []\n",
        "\n",
        "for train_index, test_index in kf.split(scaled_x):\n",
        "  # print(\"TRAIN : \", train_index, \"TEST : \", test_index)\n",
        "\n",
        "  x_train, x_test = scaled_x[train_index], scaled_x[test_index]\n",
        "  y_train, y_test = scaled_y[train_index], scaled_y[test_index]\n",
        "\n",
        "  # print(x_train.shape, x_test.shape)\n",
        "  # print(y_train.shape, y_test.shape)\n",
        "\n",
        "  # training\n",
        "  model = AdaBoostRegressor(random_state=0,)\n",
        "  model = model.fit(x_train, y_train)\n",
        "\n",
        "\n",
        "  # evaluation\n",
        "  pred = model.predict(x_test).reshape((-1,1))\n",
        "  pred = y_min_max_scaler.inverse_transform(pred)\n",
        "  rmse = np.sqrt(metrics.mean_squared_error(y_test, pred)) #rmse : Root Mean Squared Error\n",
        "\n",
        "  print(rmse)\n",
        "  print(\"---------\")\n",
        "\n",
        "  rmses.append(rmse)\n",
        "\n",
        "print(\"Average rmse : \", np.mean(rmses))"
      ],
      "metadata": {
        "colab": {
          "base_uri": "https://localhost:8080/"
        },
        "id": "FuBAdXaUr0Ve",
        "outputId": "3662d4f1-e083-4f21-97d7-60dcf7947b7e"
      },
      "execution_count": 114,
      "outputs": [
        {
          "output_type": "stream",
          "name": "stderr",
          "text": [
            "/usr/local/lib/python3.8/dist-packages/sklearn/utils/validation.py:993: DataConversionWarning: A column-vector y was passed when a 1d array was expected. Please change the shape of y to (n_samples, ), for example using ravel().\n",
            "  y = column_or_1d(y, warn=True)\n"
          ]
        },
        {
          "output_type": "stream",
          "name": "stdout",
          "text": [
            "196274.57881322003\n",
            "---------\n"
          ]
        },
        {
          "output_type": "stream",
          "name": "stderr",
          "text": [
            "/usr/local/lib/python3.8/dist-packages/sklearn/utils/validation.py:993: DataConversionWarning: A column-vector y was passed when a 1d array was expected. Please change the shape of y to (n_samples, ), for example using ravel().\n",
            "  y = column_or_1d(y, warn=True)\n"
          ]
        },
        {
          "output_type": "stream",
          "name": "stdout",
          "text": [
            "200175.7712245431\n",
            "---------\n"
          ]
        },
        {
          "output_type": "stream",
          "name": "stderr",
          "text": [
            "/usr/local/lib/python3.8/dist-packages/sklearn/utils/validation.py:993: DataConversionWarning: A column-vector y was passed when a 1d array was expected. Please change the shape of y to (n_samples, ), for example using ravel().\n",
            "  y = column_or_1d(y, warn=True)\n"
          ]
        },
        {
          "output_type": "stream",
          "name": "stdout",
          "text": [
            "203109.01740714387\n",
            "---------\n"
          ]
        },
        {
          "output_type": "stream",
          "name": "stderr",
          "text": [
            "/usr/local/lib/python3.8/dist-packages/sklearn/utils/validation.py:993: DataConversionWarning: A column-vector y was passed when a 1d array was expected. Please change the shape of y to (n_samples, ), for example using ravel().\n",
            "  y = column_or_1d(y, warn=True)\n"
          ]
        },
        {
          "output_type": "stream",
          "name": "stdout",
          "text": [
            "207549.91681903644\n",
            "---------\n"
          ]
        },
        {
          "output_type": "stream",
          "name": "stderr",
          "text": [
            "/usr/local/lib/python3.8/dist-packages/sklearn/utils/validation.py:993: DataConversionWarning: A column-vector y was passed when a 1d array was expected. Please change the shape of y to (n_samples, ), for example using ravel().\n",
            "  y = column_or_1d(y, warn=True)\n"
          ]
        },
        {
          "output_type": "stream",
          "name": "stdout",
          "text": [
            "209043.50607817541\n",
            "---------\n"
          ]
        },
        {
          "output_type": "stream",
          "name": "stderr",
          "text": [
            "/usr/local/lib/python3.8/dist-packages/sklearn/utils/validation.py:993: DataConversionWarning: A column-vector y was passed when a 1d array was expected. Please change the shape of y to (n_samples, ), for example using ravel().\n",
            "  y = column_or_1d(y, warn=True)\n"
          ]
        },
        {
          "output_type": "stream",
          "name": "stdout",
          "text": [
            "194390.3255260536\n",
            "---------\n"
          ]
        },
        {
          "output_type": "stream",
          "name": "stderr",
          "text": [
            "/usr/local/lib/python3.8/dist-packages/sklearn/utils/validation.py:993: DataConversionWarning: A column-vector y was passed when a 1d array was expected. Please change the shape of y to (n_samples, ), for example using ravel().\n",
            "  y = column_or_1d(y, warn=True)\n"
          ]
        },
        {
          "output_type": "stream",
          "name": "stdout",
          "text": [
            "190739.04979546237\n",
            "---------\n"
          ]
        },
        {
          "output_type": "stream",
          "name": "stderr",
          "text": [
            "/usr/local/lib/python3.8/dist-packages/sklearn/utils/validation.py:993: DataConversionWarning: A column-vector y was passed when a 1d array was expected. Please change the shape of y to (n_samples, ), for example using ravel().\n",
            "  y = column_or_1d(y, warn=True)\n"
          ]
        },
        {
          "output_type": "stream",
          "name": "stdout",
          "text": [
            "187683.76815438917\n",
            "---------\n"
          ]
        },
        {
          "output_type": "stream",
          "name": "stderr",
          "text": [
            "/usr/local/lib/python3.8/dist-packages/sklearn/utils/validation.py:993: DataConversionWarning: A column-vector y was passed when a 1d array was expected. Please change the shape of y to (n_samples, ), for example using ravel().\n",
            "  y = column_or_1d(y, warn=True)\n"
          ]
        },
        {
          "output_type": "stream",
          "name": "stdout",
          "text": [
            "213067.950171168\n",
            "---------\n"
          ]
        },
        {
          "output_type": "stream",
          "name": "stderr",
          "text": [
            "/usr/local/lib/python3.8/dist-packages/sklearn/utils/validation.py:993: DataConversionWarning: A column-vector y was passed when a 1d array was expected. Please change the shape of y to (n_samples, ), for example using ravel().\n",
            "  y = column_or_1d(y, warn=True)\n"
          ]
        },
        {
          "output_type": "stream",
          "name": "stdout",
          "text": [
            "200498.31321385878\n",
            "---------\n",
            "Average rmse :  200253.2197203051\n"
          ]
        }
      ]
    },
    {
      "cell_type": "markdown",
      "source": [
        "- 아무래도 data preprocessiong이 정교하지 않아서 rmse가 더 좋아지지는 않음"
      ],
      "metadata": {
        "id": "f9KoCbttsZnk"
      }
    },
    {
      "cell_type": "markdown",
      "source": [
        "#### XGBoost"
      ],
      "metadata": {
        "id": "b9UwoR4UsP8j"
      }
    },
    {
      "cell_type": "code",
      "source": [
        "# XGBoost는 xgboost에 있다.\n",
        "from xgboost import XGBRegressor"
      ],
      "metadata": {
        "id": "LRMsfNIOsIXa"
      },
      "execution_count": 115,
      "outputs": []
    },
    {
      "cell_type": "markdown",
      "source": [
        "colab의 경우 xgboost를 많이 활용하기 때문에 그냥 import 할 수 있지만 일반적으로는 사용하기 위해 xgboost를 설치해야 한다."
      ],
      "metadata": {
        "id": "iD-VpeXss0Xq"
      }
    },
    {
      "cell_type": "code",
      "source": [
        "# 참고 : xgboost 설치 여부 확인해보기\n",
        "# pip install xgboost"
      ],
      "metadata": {
        "id": "cIw4PP5qsxj4"
      },
      "execution_count": 117,
      "outputs": []
    },
    {
      "cell_type": "code",
      "source": [
        "rmses = []\n",
        "\n",
        "for train_index, test_index in kf.split(scaled_x):\n",
        "  # print(\"TRAIN : \", train_index, \"TEST : \", test_index)\n",
        "\n",
        "  x_train, x_test = scaled_x[train_index], scaled_x[test_index]\n",
        "  y_train, y_test = scaled_y[train_index], scaled_y[test_index]\n",
        "\n",
        "  # print(x_train.shape, x_test.shape)\n",
        "  # print(y_train.shape, y_test.shape)\n",
        "\n",
        "  # training\n",
        "  model = XGBRegressor(n_estimators=100,)\n",
        "  model = model.fit(x_train, y_train)\n",
        "\n",
        "  # evaluation\n",
        "  pred = model.predict(x_test).reshape((-1,1))\n",
        "  pred = y_min_max_scaler.inverse_transform(pred)\n",
        "  rmse = np.sqrt(metrics.mean_squared_error(y_test, pred)) #rmse : Root Mean Squared Error\n",
        "\n",
        "  print(rmse)\n",
        "  print(\"---------\")\n",
        "\n",
        "  rmses.append(rmse)\n",
        "\n",
        "print(\"Average rmse : \", np.mean(rmses))"
      ],
      "metadata": {
        "colab": {
          "base_uri": "https://localhost:8080/"
        },
        "id": "-J1IooRItMyD",
        "outputId": "c033b04c-b38a-4b4a-866d-1201018062ea"
      },
      "execution_count": 118,
      "outputs": [
        {
          "output_type": "stream",
          "name": "stdout",
          "text": [
            "[06:11:58] WARNING: /workspace/src/objective/regression_obj.cu:152: reg:linear is now deprecated in favor of reg:squarederror.\n",
            "188881.40294138063\n",
            "---------\n",
            "[06:11:58] WARNING: /workspace/src/objective/regression_obj.cu:152: reg:linear is now deprecated in favor of reg:squarederror.\n",
            "199879.9121726611\n",
            "---------\n",
            "[06:11:58] WARNING: /workspace/src/objective/regression_obj.cu:152: reg:linear is now deprecated in favor of reg:squarederror.\n",
            "197412.713914698\n",
            "---------\n",
            "[06:11:59] WARNING: /workspace/src/objective/regression_obj.cu:152: reg:linear is now deprecated in favor of reg:squarederror.\n",
            "205702.62385019913\n",
            "---------\n",
            "[06:11:59] WARNING: /workspace/src/objective/regression_obj.cu:152: reg:linear is now deprecated in favor of reg:squarederror.\n",
            "200828.05615437523\n",
            "---------\n",
            "[06:11:59] WARNING: /workspace/src/objective/regression_obj.cu:152: reg:linear is now deprecated in favor of reg:squarederror.\n",
            "189503.72844541303\n",
            "---------\n",
            "[06:11:59] WARNING: /workspace/src/objective/regression_obj.cu:152: reg:linear is now deprecated in favor of reg:squarederror.\n",
            "185737.58116903782\n",
            "---------\n",
            "[06:11:59] WARNING: /workspace/src/objective/regression_obj.cu:152: reg:linear is now deprecated in favor of reg:squarederror.\n",
            "185231.44748908945\n",
            "---------\n",
            "[06:11:59] WARNING: /workspace/src/objective/regression_obj.cu:152: reg:linear is now deprecated in favor of reg:squarederror.\n",
            "204972.84561832104\n",
            "---------\n",
            "[06:12:00] WARNING: /workspace/src/objective/regression_obj.cu:152: reg:linear is now deprecated in favor of reg:squarederror.\n",
            "191383.18611069937\n",
            "---------\n",
            "Average rmse :  194953.3497865875\n"
          ]
        }
      ]
    },
    {
      "cell_type": "code",
      "source": [],
      "metadata": {
        "id": "4T6U4ZamtHzp"
      },
      "execution_count": null,
      "outputs": []
    }
  ]
}