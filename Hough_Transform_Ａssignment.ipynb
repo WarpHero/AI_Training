{
  "nbformat": 4,
  "nbformat_minor": 0,
  "metadata": {
    "colab": {
      "provenance": [],
      "gpuType": "T4",
      "authorship_tag": "ABX9TyMbyxLs2X5UGMoSyLhZEm2p"
    },
    "kernelspec": {
      "name": "python3",
      "display_name": "Python 3"
    },
    "language_info": {
      "name": "python"
    },
    "accelerator": "GPU",
    "widgets": {
      "application/vnd.jupyter.widget-state+json": {
        "5239f757a2a445128c1b3300066ba994": {
          "model_module": "@jupyter-widgets/controls",
          "model_name": "HBoxModel",
          "model_module_version": "1.5.0",
          "state": {
            "_dom_classes": [],
            "_model_module": "@jupyter-widgets/controls",
            "_model_module_version": "1.5.0",
            "_model_name": "HBoxModel",
            "_view_count": null,
            "_view_module": "@jupyter-widgets/controls",
            "_view_module_version": "1.5.0",
            "_view_name": "HBoxView",
            "box_style": "",
            "children": [
              "IPY_MODEL_568a0968c7f7422cb515312f0e6b0a59",
              "IPY_MODEL_69615d1c2ce243e9aa4793389205f1c6",
              "IPY_MODEL_8c4390cb349b4f2eb6d35cba59c86c85"
            ],
            "layout": "IPY_MODEL_aa12b6c6019e40aaa627746e534b6612"
          }
        },
        "568a0968c7f7422cb515312f0e6b0a59": {
          "model_module": "@jupyter-widgets/controls",
          "model_name": "HTMLModel",
          "model_module_version": "1.5.0",
          "state": {
            "_dom_classes": [],
            "_model_module": "@jupyter-widgets/controls",
            "_model_module_version": "1.5.0",
            "_model_name": "HTMLModel",
            "_view_count": null,
            "_view_module": "@jupyter-widgets/controls",
            "_view_module_version": "1.5.0",
            "_view_name": "HTMLView",
            "description": "",
            "description_tooltip": null,
            "layout": "IPY_MODEL_66356abd38574cb78f039cad0495e93b",
            "placeholder": "​",
            "style": "IPY_MODEL_f4afa4a5d9ce49c0b295079dcb60d930",
            "value": ""
          }
        },
        "69615d1c2ce243e9aa4793389205f1c6": {
          "model_module": "@jupyter-widgets/controls",
          "model_name": "FloatProgressModel",
          "model_module_version": "1.5.0",
          "state": {
            "_dom_classes": [],
            "_model_module": "@jupyter-widgets/controls",
            "_model_module_version": "1.5.0",
            "_model_name": "FloatProgressModel",
            "_view_count": null,
            "_view_module": "@jupyter-widgets/controls",
            "_view_module_version": "1.5.0",
            "_view_name": "ProgressView",
            "bar_style": "success",
            "description": "",
            "description_tooltip": null,
            "layout": "IPY_MODEL_e57c8e87f84d4ddc8d9a0c2add8f8637",
            "max": 1,
            "min": 0,
            "orientation": "horizontal",
            "style": "IPY_MODEL_e3bb8676332f4529a649eca7276baead",
            "value": 0
          }
        },
        "8c4390cb349b4f2eb6d35cba59c86c85": {
          "model_module": "@jupyter-widgets/controls",
          "model_name": "HTMLModel",
          "model_module_version": "1.5.0",
          "state": {
            "_dom_classes": [],
            "_model_module": "@jupyter-widgets/controls",
            "_model_module_version": "1.5.0",
            "_model_name": "HTMLModel",
            "_view_count": null,
            "_view_module": "@jupyter-widgets/controls",
            "_view_module_version": "1.5.0",
            "_view_name": "HTMLView",
            "description": "",
            "description_tooltip": null,
            "layout": "IPY_MODEL_3186548dd5034696a50e5513c0a1c4ca",
            "placeholder": "​",
            "style": "IPY_MODEL_f297f0d646ce4b7d8e1fdda246e3340a",
            "value": " 0/0 [00:00&lt;?, ?it/s]"
          }
        },
        "aa12b6c6019e40aaa627746e534b6612": {
          "model_module": "@jupyter-widgets/base",
          "model_name": "LayoutModel",
          "model_module_version": "1.2.0",
          "state": {
            "_model_module": "@jupyter-widgets/base",
            "_model_module_version": "1.2.0",
            "_model_name": "LayoutModel",
            "_view_count": null,
            "_view_module": "@jupyter-widgets/base",
            "_view_module_version": "1.2.0",
            "_view_name": "LayoutView",
            "align_content": null,
            "align_items": null,
            "align_self": null,
            "border": null,
            "bottom": null,
            "display": null,
            "flex": null,
            "flex_flow": null,
            "grid_area": null,
            "grid_auto_columns": null,
            "grid_auto_flow": null,
            "grid_auto_rows": null,
            "grid_column": null,
            "grid_gap": null,
            "grid_row": null,
            "grid_template_areas": null,
            "grid_template_columns": null,
            "grid_template_rows": null,
            "height": null,
            "justify_content": null,
            "justify_items": null,
            "left": null,
            "margin": null,
            "max_height": null,
            "max_width": null,
            "min_height": null,
            "min_width": null,
            "object_fit": null,
            "object_position": null,
            "order": null,
            "overflow": null,
            "overflow_x": null,
            "overflow_y": null,
            "padding": null,
            "right": null,
            "top": null,
            "visibility": null,
            "width": null
          }
        },
        "66356abd38574cb78f039cad0495e93b": {
          "model_module": "@jupyter-widgets/base",
          "model_name": "LayoutModel",
          "model_module_version": "1.2.0",
          "state": {
            "_model_module": "@jupyter-widgets/base",
            "_model_module_version": "1.2.0",
            "_model_name": "LayoutModel",
            "_view_count": null,
            "_view_module": "@jupyter-widgets/base",
            "_view_module_version": "1.2.0",
            "_view_name": "LayoutView",
            "align_content": null,
            "align_items": null,
            "align_self": null,
            "border": null,
            "bottom": null,
            "display": null,
            "flex": null,
            "flex_flow": null,
            "grid_area": null,
            "grid_auto_columns": null,
            "grid_auto_flow": null,
            "grid_auto_rows": null,
            "grid_column": null,
            "grid_gap": null,
            "grid_row": null,
            "grid_template_areas": null,
            "grid_template_columns": null,
            "grid_template_rows": null,
            "height": null,
            "justify_content": null,
            "justify_items": null,
            "left": null,
            "margin": null,
            "max_height": null,
            "max_width": null,
            "min_height": null,
            "min_width": null,
            "object_fit": null,
            "object_position": null,
            "order": null,
            "overflow": null,
            "overflow_x": null,
            "overflow_y": null,
            "padding": null,
            "right": null,
            "top": null,
            "visibility": null,
            "width": null
          }
        },
        "f4afa4a5d9ce49c0b295079dcb60d930": {
          "model_module": "@jupyter-widgets/controls",
          "model_name": "DescriptionStyleModel",
          "model_module_version": "1.5.0",
          "state": {
            "_model_module": "@jupyter-widgets/controls",
            "_model_module_version": "1.5.0",
            "_model_name": "DescriptionStyleModel",
            "_view_count": null,
            "_view_module": "@jupyter-widgets/base",
            "_view_module_version": "1.2.0",
            "_view_name": "StyleView",
            "description_width": ""
          }
        },
        "e57c8e87f84d4ddc8d9a0c2add8f8637": {
          "model_module": "@jupyter-widgets/base",
          "model_name": "LayoutModel",
          "model_module_version": "1.2.0",
          "state": {
            "_model_module": "@jupyter-widgets/base",
            "_model_module_version": "1.2.0",
            "_model_name": "LayoutModel",
            "_view_count": null,
            "_view_module": "@jupyter-widgets/base",
            "_view_module_version": "1.2.0",
            "_view_name": "LayoutView",
            "align_content": null,
            "align_items": null,
            "align_self": null,
            "border": null,
            "bottom": null,
            "display": null,
            "flex": null,
            "flex_flow": null,
            "grid_area": null,
            "grid_auto_columns": null,
            "grid_auto_flow": null,
            "grid_auto_rows": null,
            "grid_column": null,
            "grid_gap": null,
            "grid_row": null,
            "grid_template_areas": null,
            "grid_template_columns": null,
            "grid_template_rows": null,
            "height": null,
            "justify_content": null,
            "justify_items": null,
            "left": null,
            "margin": null,
            "max_height": null,
            "max_width": null,
            "min_height": null,
            "min_width": null,
            "object_fit": null,
            "object_position": null,
            "order": null,
            "overflow": null,
            "overflow_x": null,
            "overflow_y": null,
            "padding": null,
            "right": null,
            "top": null,
            "visibility": null,
            "width": "20px"
          }
        },
        "e3bb8676332f4529a649eca7276baead": {
          "model_module": "@jupyter-widgets/controls",
          "model_name": "ProgressStyleModel",
          "model_module_version": "1.5.0",
          "state": {
            "_model_module": "@jupyter-widgets/controls",
            "_model_module_version": "1.5.0",
            "_model_name": "ProgressStyleModel",
            "_view_count": null,
            "_view_module": "@jupyter-widgets/base",
            "_view_module_version": "1.2.0",
            "_view_name": "StyleView",
            "bar_color": null,
            "description_width": ""
          }
        },
        "3186548dd5034696a50e5513c0a1c4ca": {
          "model_module": "@jupyter-widgets/base",
          "model_name": "LayoutModel",
          "model_module_version": "1.2.0",
          "state": {
            "_model_module": "@jupyter-widgets/base",
            "_model_module_version": "1.2.0",
            "_model_name": "LayoutModel",
            "_view_count": null,
            "_view_module": "@jupyter-widgets/base",
            "_view_module_version": "1.2.0",
            "_view_name": "LayoutView",
            "align_content": null,
            "align_items": null,
            "align_self": null,
            "border": null,
            "bottom": null,
            "display": null,
            "flex": null,
            "flex_flow": null,
            "grid_area": null,
            "grid_auto_columns": null,
            "grid_auto_flow": null,
            "grid_auto_rows": null,
            "grid_column": null,
            "grid_gap": null,
            "grid_row": null,
            "grid_template_areas": null,
            "grid_template_columns": null,
            "grid_template_rows": null,
            "height": null,
            "justify_content": null,
            "justify_items": null,
            "left": null,
            "margin": null,
            "max_height": null,
            "max_width": null,
            "min_height": null,
            "min_width": null,
            "object_fit": null,
            "object_position": null,
            "order": null,
            "overflow": null,
            "overflow_x": null,
            "overflow_y": null,
            "padding": null,
            "right": null,
            "top": null,
            "visibility": null,
            "width": null
          }
        },
        "f297f0d646ce4b7d8e1fdda246e3340a": {
          "model_module": "@jupyter-widgets/controls",
          "model_name": "DescriptionStyleModel",
          "model_module_version": "1.5.0",
          "state": {
            "_model_module": "@jupyter-widgets/controls",
            "_model_module_version": "1.5.0",
            "_model_name": "DescriptionStyleModel",
            "_view_count": null,
            "_view_module": "@jupyter-widgets/base",
            "_view_module_version": "1.2.0",
            "_view_name": "StyleView",
            "description_width": ""
          }
        },
        "5d2af552b7e44b1498caab33b5056d58": {
          "model_module": "@jupyter-widgets/controls",
          "model_name": "HBoxModel",
          "model_module_version": "1.5.0",
          "state": {
            "_dom_classes": [],
            "_model_module": "@jupyter-widgets/controls",
            "_model_module_version": "1.5.0",
            "_model_name": "HBoxModel",
            "_view_count": null,
            "_view_module": "@jupyter-widgets/controls",
            "_view_module_version": "1.5.0",
            "_view_name": "HBoxView",
            "box_style": "",
            "children": [
              "IPY_MODEL_3bdf99a24ae24b2ca8bc08a916871ec3",
              "IPY_MODEL_e8c6068360f143ecbba61a85fe5cd3d9",
              "IPY_MODEL_97cfece915a54615a5a342754fcd3bdd"
            ],
            "layout": "IPY_MODEL_d1a090fabd43426793c8b6ab94733dfd"
          }
        },
        "3bdf99a24ae24b2ca8bc08a916871ec3": {
          "model_module": "@jupyter-widgets/controls",
          "model_name": "HTMLModel",
          "model_module_version": "1.5.0",
          "state": {
            "_dom_classes": [],
            "_model_module": "@jupyter-widgets/controls",
            "_model_module_version": "1.5.0",
            "_model_name": "HTMLModel",
            "_view_count": null,
            "_view_module": "@jupyter-widgets/controls",
            "_view_module_version": "1.5.0",
            "_view_name": "HTMLView",
            "description": "",
            "description_tooltip": null,
            "layout": "IPY_MODEL_05c1ec1aa5434262b291fd4238cc82d2",
            "placeholder": "​",
            "style": "IPY_MODEL_ae9b4c9e315343099487eca4ca72f463",
            "value": ""
          }
        },
        "e8c6068360f143ecbba61a85fe5cd3d9": {
          "model_module": "@jupyter-widgets/controls",
          "model_name": "FloatProgressModel",
          "model_module_version": "1.5.0",
          "state": {
            "_dom_classes": [],
            "_model_module": "@jupyter-widgets/controls",
            "_model_module_version": "1.5.0",
            "_model_name": "FloatProgressModel",
            "_view_count": null,
            "_view_module": "@jupyter-widgets/controls",
            "_view_module_version": "1.5.0",
            "_view_name": "ProgressView",
            "bar_style": "success",
            "description": "",
            "description_tooltip": null,
            "layout": "IPY_MODEL_a0f9da3dee064d68a65a07934d3557e9",
            "max": 1,
            "min": 0,
            "orientation": "horizontal",
            "style": "IPY_MODEL_0ee8372c44e048ab82c1446e1e66c5e8",
            "value": 0
          }
        },
        "97cfece915a54615a5a342754fcd3bdd": {
          "model_module": "@jupyter-widgets/controls",
          "model_name": "HTMLModel",
          "model_module_version": "1.5.0",
          "state": {
            "_dom_classes": [],
            "_model_module": "@jupyter-widgets/controls",
            "_model_module_version": "1.5.0",
            "_model_name": "HTMLModel",
            "_view_count": null,
            "_view_module": "@jupyter-widgets/controls",
            "_view_module_version": "1.5.0",
            "_view_name": "HTMLView",
            "description": "",
            "description_tooltip": null,
            "layout": "IPY_MODEL_75a5c292188a4034b100382e2364c35a",
            "placeholder": "​",
            "style": "IPY_MODEL_5f82e45c1a94400ab5100593e65e8c41",
            "value": " 0/0 [00:00&lt;?, ?it/s]"
          }
        },
        "d1a090fabd43426793c8b6ab94733dfd": {
          "model_module": "@jupyter-widgets/base",
          "model_name": "LayoutModel",
          "model_module_version": "1.2.0",
          "state": {
            "_model_module": "@jupyter-widgets/base",
            "_model_module_version": "1.2.0",
            "_model_name": "LayoutModel",
            "_view_count": null,
            "_view_module": "@jupyter-widgets/base",
            "_view_module_version": "1.2.0",
            "_view_name": "LayoutView",
            "align_content": null,
            "align_items": null,
            "align_self": null,
            "border": null,
            "bottom": null,
            "display": null,
            "flex": null,
            "flex_flow": null,
            "grid_area": null,
            "grid_auto_columns": null,
            "grid_auto_flow": null,
            "grid_auto_rows": null,
            "grid_column": null,
            "grid_gap": null,
            "grid_row": null,
            "grid_template_areas": null,
            "grid_template_columns": null,
            "grid_template_rows": null,
            "height": null,
            "justify_content": null,
            "justify_items": null,
            "left": null,
            "margin": null,
            "max_height": null,
            "max_width": null,
            "min_height": null,
            "min_width": null,
            "object_fit": null,
            "object_position": null,
            "order": null,
            "overflow": null,
            "overflow_x": null,
            "overflow_y": null,
            "padding": null,
            "right": null,
            "top": null,
            "visibility": null,
            "width": null
          }
        },
        "05c1ec1aa5434262b291fd4238cc82d2": {
          "model_module": "@jupyter-widgets/base",
          "model_name": "LayoutModel",
          "model_module_version": "1.2.0",
          "state": {
            "_model_module": "@jupyter-widgets/base",
            "_model_module_version": "1.2.0",
            "_model_name": "LayoutModel",
            "_view_count": null,
            "_view_module": "@jupyter-widgets/base",
            "_view_module_version": "1.2.0",
            "_view_name": "LayoutView",
            "align_content": null,
            "align_items": null,
            "align_self": null,
            "border": null,
            "bottom": null,
            "display": null,
            "flex": null,
            "flex_flow": null,
            "grid_area": null,
            "grid_auto_columns": null,
            "grid_auto_flow": null,
            "grid_auto_rows": null,
            "grid_column": null,
            "grid_gap": null,
            "grid_row": null,
            "grid_template_areas": null,
            "grid_template_columns": null,
            "grid_template_rows": null,
            "height": null,
            "justify_content": null,
            "justify_items": null,
            "left": null,
            "margin": null,
            "max_height": null,
            "max_width": null,
            "min_height": null,
            "min_width": null,
            "object_fit": null,
            "object_position": null,
            "order": null,
            "overflow": null,
            "overflow_x": null,
            "overflow_y": null,
            "padding": null,
            "right": null,
            "top": null,
            "visibility": null,
            "width": null
          }
        },
        "ae9b4c9e315343099487eca4ca72f463": {
          "model_module": "@jupyter-widgets/controls",
          "model_name": "DescriptionStyleModel",
          "model_module_version": "1.5.0",
          "state": {
            "_model_module": "@jupyter-widgets/controls",
            "_model_module_version": "1.5.0",
            "_model_name": "DescriptionStyleModel",
            "_view_count": null,
            "_view_module": "@jupyter-widgets/base",
            "_view_module_version": "1.2.0",
            "_view_name": "StyleView",
            "description_width": ""
          }
        },
        "a0f9da3dee064d68a65a07934d3557e9": {
          "model_module": "@jupyter-widgets/base",
          "model_name": "LayoutModel",
          "model_module_version": "1.2.0",
          "state": {
            "_model_module": "@jupyter-widgets/base",
            "_model_module_version": "1.2.0",
            "_model_name": "LayoutModel",
            "_view_count": null,
            "_view_module": "@jupyter-widgets/base",
            "_view_module_version": "1.2.0",
            "_view_name": "LayoutView",
            "align_content": null,
            "align_items": null,
            "align_self": null,
            "border": null,
            "bottom": null,
            "display": null,
            "flex": null,
            "flex_flow": null,
            "grid_area": null,
            "grid_auto_columns": null,
            "grid_auto_flow": null,
            "grid_auto_rows": null,
            "grid_column": null,
            "grid_gap": null,
            "grid_row": null,
            "grid_template_areas": null,
            "grid_template_columns": null,
            "grid_template_rows": null,
            "height": null,
            "justify_content": null,
            "justify_items": null,
            "left": null,
            "margin": null,
            "max_height": null,
            "max_width": null,
            "min_height": null,
            "min_width": null,
            "object_fit": null,
            "object_position": null,
            "order": null,
            "overflow": null,
            "overflow_x": null,
            "overflow_y": null,
            "padding": null,
            "right": null,
            "top": null,
            "visibility": null,
            "width": "20px"
          }
        },
        "0ee8372c44e048ab82c1446e1e66c5e8": {
          "model_module": "@jupyter-widgets/controls",
          "model_name": "ProgressStyleModel",
          "model_module_version": "1.5.0",
          "state": {
            "_model_module": "@jupyter-widgets/controls",
            "_model_module_version": "1.5.0",
            "_model_name": "ProgressStyleModel",
            "_view_count": null,
            "_view_module": "@jupyter-widgets/base",
            "_view_module_version": "1.2.0",
            "_view_name": "StyleView",
            "bar_color": null,
            "description_width": ""
          }
        },
        "75a5c292188a4034b100382e2364c35a": {
          "model_module": "@jupyter-widgets/base",
          "model_name": "LayoutModel",
          "model_module_version": "1.2.0",
          "state": {
            "_model_module": "@jupyter-widgets/base",
            "_model_module_version": "1.2.0",
            "_model_name": "LayoutModel",
            "_view_count": null,
            "_view_module": "@jupyter-widgets/base",
            "_view_module_version": "1.2.0",
            "_view_name": "LayoutView",
            "align_content": null,
            "align_items": null,
            "align_self": null,
            "border": null,
            "bottom": null,
            "display": null,
            "flex": null,
            "flex_flow": null,
            "grid_area": null,
            "grid_auto_columns": null,
            "grid_auto_flow": null,
            "grid_auto_rows": null,
            "grid_column": null,
            "grid_gap": null,
            "grid_row": null,
            "grid_template_areas": null,
            "grid_template_columns": null,
            "grid_template_rows": null,
            "height": null,
            "justify_content": null,
            "justify_items": null,
            "left": null,
            "margin": null,
            "max_height": null,
            "max_width": null,
            "min_height": null,
            "min_width": null,
            "object_fit": null,
            "object_position": null,
            "order": null,
            "overflow": null,
            "overflow_x": null,
            "overflow_y": null,
            "padding": null,
            "right": null,
            "top": null,
            "visibility": null,
            "width": null
          }
        },
        "5f82e45c1a94400ab5100593e65e8c41": {
          "model_module": "@jupyter-widgets/controls",
          "model_name": "DescriptionStyleModel",
          "model_module_version": "1.5.0",
          "state": {
            "_model_module": "@jupyter-widgets/controls",
            "_model_module_version": "1.5.0",
            "_model_name": "DescriptionStyleModel",
            "_view_count": null,
            "_view_module": "@jupyter-widgets/base",
            "_view_module_version": "1.2.0",
            "_view_name": "StyleView",
            "description_width": ""
          }
        }
      }
    }
  },
  "cells": [
    {
      "cell_type": "markdown",
      "source": [
        "# Hough Transform\n",
        "\n"
      ],
      "metadata": {
        "id": "8lEljbIpPSTJ"
      }
    },
    {
      "cell_type": "markdown",
      "source": [
        "## 1. Hough Transform"
      ],
      "metadata": {
        "id": "jxrJJHC0PjBO"
      }
    },
    {
      "cell_type": "markdown",
      "source": [
        "### GPU ver 확인"
      ],
      "metadata": {
        "id": "9Jqa1P-pPXII"
      }
    },
    {
      "cell_type": "code",
      "execution_count": 1,
      "metadata": {
        "colab": {
          "base_uri": "https://localhost:8080/"
        },
        "id": "c_fVa53AO5xX",
        "outputId": "54721586-038c-48ea-a9c0-32aec43b93ea"
      },
      "outputs": [
        {
          "output_type": "stream",
          "name": "stdout",
          "text": [
            "Wed Oct  9 09:55:07 2024       \n",
            "+---------------------------------------------------------------------------------------+\n",
            "| NVIDIA-SMI 535.104.05             Driver Version: 535.104.05   CUDA Version: 12.2     |\n",
            "|-----------------------------------------+----------------------+----------------------+\n",
            "| GPU  Name                 Persistence-M | Bus-Id        Disp.A | Volatile Uncorr. ECC |\n",
            "| Fan  Temp   Perf          Pwr:Usage/Cap |         Memory-Usage | GPU-Util  Compute M. |\n",
            "|                                         |                      |               MIG M. |\n",
            "|=========================================+======================+======================|\n",
            "|   0  Tesla T4                       Off | 00000000:00:04.0 Off |                    0 |\n",
            "| N/A   45C    P8              11W /  70W |      0MiB / 15360MiB |      0%      Default |\n",
            "|                                         |                      |                  N/A |\n",
            "+-----------------------------------------+----------------------+----------------------+\n",
            "                                                                                         \n",
            "+---------------------------------------------------------------------------------------+\n",
            "| Processes:                                                                            |\n",
            "|  GPU   GI   CI        PID   Type   Process name                            GPU Memory |\n",
            "|        ID   ID                                                             Usage      |\n",
            "|=======================================================================================|\n",
            "|  No running processes found                                                           |\n",
            "+---------------------------------------------------------------------------------------+\n"
          ]
        }
      ],
      "source": [
        "# gpu ver 확인\n",
        "!nvidia-smi"
      ]
    },
    {
      "cell_type": "markdown",
      "source": [
        "### 필요 라이브러리 설치"
      ],
      "metadata": {
        "id": "DUD7mvLEQGaA"
      }
    },
    {
      "cell_type": "code",
      "source": [
        "\n",
        "!pip install opencv-python-headless\n",
        "!pip install transformers\n",
        "!pip install -qq opencv-contrib-python diffusers transformers git+https://github.com/huggingface/accelerate.git\n"
      ],
      "metadata": {
        "colab": {
          "base_uri": "https://localhost:8080/"
        },
        "id": "5sPbWWbrP8ma",
        "outputId": "3b67d08f-df8d-48ed-f7c8-b9c102673530"
      },
      "execution_count": 2,
      "outputs": [
        {
          "output_type": "stream",
          "name": "stdout",
          "text": [
            "Requirement already satisfied: opencv-python-headless in /usr/local/lib/python3.10/dist-packages (4.10.0.84)\n",
            "Requirement already satisfied: numpy>=1.21.2 in /usr/local/lib/python3.10/dist-packages (from opencv-python-headless) (1.26.4)\n",
            "Requirement already satisfied: transformers in /usr/local/lib/python3.10/dist-packages (4.44.2)\n",
            "Requirement already satisfied: filelock in /usr/local/lib/python3.10/dist-packages (from transformers) (3.16.1)\n",
            "Requirement already satisfied: huggingface-hub<1.0,>=0.23.2 in /usr/local/lib/python3.10/dist-packages (from transformers) (0.24.7)\n",
            "Requirement already satisfied: numpy>=1.17 in /usr/local/lib/python3.10/dist-packages (from transformers) (1.26.4)\n",
            "Requirement already satisfied: packaging>=20.0 in /usr/local/lib/python3.10/dist-packages (from transformers) (24.1)\n",
            "Requirement already satisfied: pyyaml>=5.1 in /usr/local/lib/python3.10/dist-packages (from transformers) (6.0.2)\n",
            "Requirement already satisfied: regex!=2019.12.17 in /usr/local/lib/python3.10/dist-packages (from transformers) (2024.9.11)\n",
            "Requirement already satisfied: requests in /usr/local/lib/python3.10/dist-packages (from transformers) (2.32.3)\n",
            "Requirement already satisfied: safetensors>=0.4.1 in /usr/local/lib/python3.10/dist-packages (from transformers) (0.4.5)\n",
            "Requirement already satisfied: tokenizers<0.20,>=0.19 in /usr/local/lib/python3.10/dist-packages (from transformers) (0.19.1)\n",
            "Requirement already satisfied: tqdm>=4.27 in /usr/local/lib/python3.10/dist-packages (from transformers) (4.66.5)\n",
            "Requirement already satisfied: fsspec>=2023.5.0 in /usr/local/lib/python3.10/dist-packages (from huggingface-hub<1.0,>=0.23.2->transformers) (2024.6.1)\n",
            "Requirement already satisfied: typing-extensions>=3.7.4.3 in /usr/local/lib/python3.10/dist-packages (from huggingface-hub<1.0,>=0.23.2->transformers) (4.12.2)\n",
            "Requirement already satisfied: charset-normalizer<4,>=2 in /usr/local/lib/python3.10/dist-packages (from requests->transformers) (3.3.2)\n",
            "Requirement already satisfied: idna<4,>=2.5 in /usr/local/lib/python3.10/dist-packages (from requests->transformers) (3.10)\n",
            "Requirement already satisfied: urllib3<3,>=1.21.1 in /usr/local/lib/python3.10/dist-packages (from requests->transformers) (2.2.3)\n",
            "Requirement already satisfied: certifi>=2017.4.17 in /usr/local/lib/python3.10/dist-packages (from requests->transformers) (2024.8.30)\n",
            "  Installing build dependencies ... \u001b[?25l\u001b[?25hdone\n",
            "  Getting requirements to build wheel ... \u001b[?25l\u001b[?25hdone\n",
            "  Preparing metadata (pyproject.toml) ... \u001b[?25l\u001b[?25hdone\n",
            "\u001b[2K   \u001b[90m━━━━━━━━━━━━━━━━━━━━━━━━━━━━━━━━━━━━━━━━\u001b[0m \u001b[32m2.7/2.7 MB\u001b[0m \u001b[31m73.8 MB/s\u001b[0m eta \u001b[36m0:00:00\u001b[0m\n",
            "\u001b[?25h  Building wheel for accelerate (pyproject.toml) ... \u001b[?25l\u001b[?25hdone\n"
          ]
        }
      ]
    },
    {
      "cell_type": "code",
      "source": [
        "\n",
        "# print(cv2.cuda.getCudaEnabledDeviceCount())"
      ],
      "metadata": {
        "id": "T2J8IbiaH-J0"
      },
      "execution_count": null,
      "outputs": []
    },
    {
      "cell_type": "code",
      "source": [
        "from diffusers import StableDiffusionControlNetPipeline, ControlNetModel\n",
        "from diffusers.utils import load_image\n",
        "from diffusers import UniPCMultistepScheduler\n",
        "import cv2\n",
        "from PIL import Image\n",
        "import numpy as np\n",
        "from transformers.utils import move_cache\n",
        "from google.colab.patches import cv2_imshow"
      ],
      "metadata": {
        "id": "ZwkvvmajQKTm",
        "colab": {
          "base_uri": "https://localhost:8080/",
          "height": 87,
          "referenced_widgets": [
            "5239f757a2a445128c1b3300066ba994",
            "568a0968c7f7422cb515312f0e6b0a59",
            "69615d1c2ce243e9aa4793389205f1c6",
            "8c4390cb349b4f2eb6d35cba59c86c85",
            "aa12b6c6019e40aaa627746e534b6612",
            "66356abd38574cb78f039cad0495e93b",
            "f4afa4a5d9ce49c0b295079dcb60d930",
            "e57c8e87f84d4ddc8d9a0c2add8f8637",
            "e3bb8676332f4529a649eca7276baead",
            "3186548dd5034696a50e5513c0a1c4ca",
            "f297f0d646ce4b7d8e1fdda246e3340a"
          ]
        },
        "outputId": "c3400f83-6ee3-4e8b-de7d-0bc4b622ab57"
      },
      "execution_count": 3,
      "outputs": [
        {
          "output_type": "stream",
          "name": "stderr",
          "text": [
            "The cache for model files in Transformers v4.22.0 has been updated. Migrating your old cache. This is a one-time only operation. You can interrupt this and resume the migration later on by calling `transformers.utils.move_cache()`.\n"
          ]
        },
        {
          "output_type": "display_data",
          "data": {
            "text/plain": [
              "0it [00:00, ?it/s]"
            ],
            "application/vnd.jupyter.widget-view+json": {
              "version_major": 2,
              "version_minor": 0,
              "model_id": "5239f757a2a445128c1b3300066ba994"
            }
          },
          "metadata": {}
        }
      ]
    },
    {
      "cell_type": "code",
      "source": [
        "move_cache(0)"
      ],
      "metadata": {
        "colab": {
          "base_uri": "https://localhost:8080/",
          "height": 49,
          "referenced_widgets": [
            "5d2af552b7e44b1498caab33b5056d58",
            "3bdf99a24ae24b2ca8bc08a916871ec3",
            "e8c6068360f143ecbba61a85fe5cd3d9",
            "97cfece915a54615a5a342754fcd3bdd",
            "d1a090fabd43426793c8b6ab94733dfd",
            "05c1ec1aa5434262b291fd4238cc82d2",
            "ae9b4c9e315343099487eca4ca72f463",
            "a0f9da3dee064d68a65a07934d3557e9",
            "0ee8372c44e048ab82c1446e1e66c5e8",
            "75a5c292188a4034b100382e2364c35a",
            "5f82e45c1a94400ab5100593e65e8c41"
          ]
        },
        "id": "iVDKKUbtTzSz",
        "outputId": "36a0fa85-4fb1-4d8f-925f-3ce9e5493d5b"
      },
      "execution_count": 4,
      "outputs": [
        {
          "output_type": "display_data",
          "data": {
            "text/plain": [
              "0it [00:00, ?it/s]"
            ],
            "application/vnd.jupyter.widget-view+json": {
              "version_major": 2,
              "version_minor": 0,
              "model_id": "5d2af552b7e44b1498caab33b5056d58"
            }
          },
          "metadata": {}
        }
      ]
    },
    {
      "cell_type": "code",
      "source": [
        "# 사용할 이미지 로드 : sample.png\n",
        "samimg = load_image('/content/sample.png')\n",
        "samimg"
      ],
      "metadata": {
        "id": "S_gKVqnCT_2b",
        "colab": {
          "base_uri": "https://localhost:8080/",
          "height": 552
        },
        "outputId": "b6a2047f-9b92-4afb-aebc-97f8e94d5595"
      },
      "execution_count": 5,
      "outputs": [
        {
          "output_type": "execute_result",
          "data": {
            "text/plain": [
              "<PIL.Image.Image image mode=RGB size=824x535>"
            ],
            "image/png": "[encoded data removed]",
            "image/jpeg": "[encoded data removed]"
          },
          "metadata": {},
          "execution_count": 5
        }
      ]
    },
    {
      "cell_type": "markdown",
      "source": [
        "### Edge 추출\n",
        "- canny등 전처리를 이요해 edge를 추출한다. 그 이후 Hough Transform을 적용한다"
      ],
      "metadata": {
        "id": "bGCl_gyVUU4w"
      }
    },
    {
      "cell_type": "code",
      "source": [
        "print(type(samimg))"
      ],
      "metadata": {
        "colab": {
          "base_uri": "https://localhost:8080/"
        },
        "id": "ft6QXPP0V8ub",
        "outputId": "eb8f790c-250d-4d71-d63f-4c4e78d93fa5"
      },
      "execution_count": 6,
      "outputs": [
        {
          "output_type": "stream",
          "name": "stdout",
          "text": [
            "<class 'PIL.Image.Image'>\n"
          ]
        }
      ]
    },
    {
      "cell_type": "code",
      "source": [
        "# image의 형식이 PIL이므로 array 형식으로 변환해준다.\n",
        "img = np.array(samimg)"
      ],
      "metadata": {
        "id": "h6JHsN47WQOy"
      },
      "execution_count": 7,
      "outputs": []
    },
    {
      "cell_type": "code",
      "source": [
        "# img를 grayscale 시켜준다.\n",
        "img_gray = cv2.cvtColor(img, cv2.COLOR_BGR2GRAY)\n",
        "img_gray"
      ],
      "metadata": {
        "id": "qnqY4_S1Uwx9",
        "colab": {
          "base_uri": "https://localhost:8080/",
          "height": 574
        },
        "outputId": "429e932e-8482-4db4-bd02-4e8773794f64"
      },
      "execution_count": 8,
      "outputs": [
        {
          "output_type": "execute_result",
          "data": {
            "text/plain": [
              "array([[255, 255, 255, ..., 255, 255, 255],\n",
              "       [255, 255, 255, ..., 255, 255, 255],\n",
              "       [255, 255, 255, ..., 255, 255, 255],\n",
              "       ...,\n",
              "       [255, 255, 255, ..., 255, 255, 255],\n",
              "       [255, 255, 255, ..., 255, 255, 255],\n",
              "       [255, 255, 255, ..., 255, 255, 255]], dtype=uint8)"
            ],
            "text/html": [
              "<style>\n",
              "      .ndarray_repr .ndarray_raw_data {\n",
              "        display: none;\n",
              "      }\n",
              "      .ndarray_repr.show_array .ndarray_raw_data {\n",
              "        display: block;\n",
              "      }\n",
              "      .ndarray_repr.show_array .ndarray_image_preview {\n",
              "        display: none;\n",
              "      }\n",
              "      </style>\n",
              "      <div id=\"id-fe396e30-7995-4bc0-bb3d-8fa9ac9c044b\" class=\"ndarray_repr\"><pre>ndarray (535, 824) <button style=\"padding: 0 2px;\">show data</button></pre><img src=\"data:image/png;base64,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\" class=\"ndarray_image_preview\" /><pre class=\"ndarray_raw_data\">array([[255, 255, 255, ..., 255, 255, 255],\n",
              "       [255, 255, 255, ..., 255, 255, 255],\n",
              "       [255, 255, 255, ..., 255, 255, 255],\n",
              "       ...,\n",
              "       [255, 255, 255, ..., 255, 255, 255],\n",
              "       [255, 255, 255, ..., 255, 255, 255],\n",
              "       [255, 255, 255, ..., 255, 255, 255]], dtype=uint8)</pre></div><script>\n",
              "      (() => {\n",
              "      const titles = ['show data', 'hide data'];\n",
              "      let index = 0\n",
              "      document.querySelector('#id-fe396e30-7995-4bc0-bb3d-8fa9ac9c044b button').onclick = (e) => {\n",
              "        document.querySelector('#id-fe396e30-7995-4bc0-bb3d-8fa9ac9c044b').classList.toggle('show_array');\n",
              "        index = (++index) % 2;\n",
              "        document.querySelector('#id-fe396e30-7995-4bc0-bb3d-8fa9ac9c044b button').textContent = titles[index];\n",
              "        e.preventDefault();\n",
              "        e.stopPropagation();\n",
              "      }\n",
              "      })();\n",
              "    </script>"
            ]
          },
          "metadata": {},
          "execution_count": 8
        }
      ]
    },
    {
      "cell_type": "code",
      "source": [
        "img_canny = cv2.Canny(img_gray,50, 150, apertureSize=3)\n",
        "img_canny"
      ],
      "metadata": {
        "id": "OtI1-bWNZumM",
        "colab": {
          "base_uri": "https://localhost:8080/",
          "height": 574
        },
        "outputId": "a9e42386-594f-4bf4-91ed-2ad56f5634fc"
      },
      "execution_count": 9,
      "outputs": [
        {
          "output_type": "execute_result",
          "data": {
            "text/plain": [
              "array([[0, 0, 0, ..., 0, 0, 0],\n",
              "       [0, 0, 0, ..., 0, 0, 0],\n",
              "       [0, 0, 0, ..., 0, 0, 0],\n",
              "       ...,\n",
              "       [0, 0, 0, ..., 0, 0, 0],\n",
              "       [0, 0, 0, ..., 0, 0, 0],\n",
              "       [0, 0, 0, ..., 0, 0, 0]], dtype=uint8)"
            ],
            "text/html": [
              "<style>\n",
              "      .ndarray_repr .ndarray_raw_data {\n",
              "        display: none;\n",
              "      }\n",
              "      .ndarray_repr.show_array .ndarray_raw_data {\n",
              "        display: block;\n",
              "      }\n",
              "      .ndarray_repr.show_array .ndarray_image_preview {\n",
              "        display: none;\n",
              "      }\n",
              "      </style>\n",
              "      <div id=\"id-62559017-b6af-43cb-a5f1-4426b64f6045\" class=\"ndarray_repr\"><pre>ndarray (535, 824) <button style=\"padding: 0 2px;\">show data</button></pre><img src=\"data:image/png;base64,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\" class=\"ndarray_image_preview\" /><pre class=\"ndarray_raw_data\">array([[0, 0, 0, ..., 0, 0, 0],\n",
              "       [0, 0, 0, ..., 0, 0, 0],\n",
              "       [0, 0, 0, ..., 0, 0, 0],\n",
              "       ...,\n",
              "       [0, 0, 0, ..., 0, 0, 0],\n",
              "       [0, 0, 0, ..., 0, 0, 0],\n",
              "       [0, 0, 0, ..., 0, 0, 0]], dtype=uint8)</pre></div><script>\n",
              "      (() => {\n",
              "      const titles = ['show data', 'hide data'];\n",
              "      let index = 0\n",
              "      document.querySelector('#id-62559017-b6af-43cb-a5f1-4426b64f6045 button').onclick = (e) => {\n",
              "        document.querySelector('#id-62559017-b6af-43cb-a5f1-4426b64f6045').classList.toggle('show_array');\n",
              "        index = (++index) % 2;\n",
              "        document.querySelector('#id-62559017-b6af-43cb-a5f1-4426b64f6045 button').textContent = titles[index];\n",
              "        e.preventDefault();\n",
              "        e.stopPropagation();\n",
              "      }\n",
              "      })();\n",
              "    </script>"
            ]
          },
          "metadata": {},
          "execution_count": 9
        }
      ]
    },
    {
      "cell_type": "code",
      "source": [
        "cv2.HoughLines()"
      ],
      "metadata": {
        "id": "P_mZXmkF_qiA"
      },
      "execution_count": null,
      "outputs": []
    },
    {
      "cell_type": "code",
      "source": [
        "# hough_transform_int :\n",
        "\n",
        "def hough_transform_int(image, theta_res=1, rho_res=1):\n",
        "    height, width = image.shape\n",
        "    diag_len = int(np.round(np.sqrt(height**2 + width**2)))\n",
        "    rhos = np.linspace(-diag_len, diag_len, int(2*diag_len/rho_res))\n",
        "    thetas = np.deg2rad(np.arange(-90, 90, theta_res))\n",
        "\n",
        "    cos_t = np.cos(thetas)\n",
        "    sin_t = np.sin(thetas)\n",
        "    num_thetas = len(thetas)\n",
        "\n",
        "    accum = np.zeros((len(rhos), len(thetas)), dtype=np.uint64)\n",
        "    y_idxs, x_idxs = np.nonzero(image)\n",
        "\n",
        "    for i in range(len(x_idxs)):\n",
        "        x = x_idxs[i]\n",
        "        y = y_idxs[i]\n",
        "        for t_idx in range(num_thetas):\n",
        "            rho = int(x * cos_t[t_idx] + y * sin_t[t_idx]) + diag_len\n",
        "            accum[rho, t_idx] += 1\n",
        "\n",
        "    return accum, thetas, rhos"
      ],
      "metadata": {
        "id": "C3cPU5z5af0F"
      },
      "execution_count": null,
      "outputs": []
    },
    {
      "cell_type": "code",
      "source": [
        "def hough_transform(image, theta_res=1, rho_res=1):\n",
        "    height, width = image.shape\n",
        "    # 정확도 문제로 int 변환 안하고 그대로 float 형태로 둠\n",
        "    diag_len = np.sqrt(height**2 + width**2)\n",
        "\n",
        "    # rhos 계산 시 정수로 변환\n",
        "    num_rhos = int(2 * diag_len / rho_res)\n",
        "    rhos = np.linspace(-diag_len, diag_len, num_rhos)\n",
        "\n",
        "    thetas = np.deg2rad(np.arange(-90, 90, theta_res))\n",
        "\n",
        "    cos_t = np.cos(thetas)\n",
        "    sin_t = np.sin(thetas)\n",
        "    num_thetas = len(thetas)\n",
        "\n",
        "    accumulator = np.zeros((num_rhos, len(thetas)), dtype=np.uint64)\n",
        "    y_idxs, x_idxs = np.nonzero(image)\n",
        "\n",
        "    for i in range(len(x_idxs)):\n",
        "        x = x_idxs[i]\n",
        "        y = y_idxs[i]\n",
        "        for t_idx in range(num_thetas):\n",
        "            # rho 계산 시 정수로 변환하고, diag_len을 더하는 대신 rhos의 중간 인덱스를 사용\n",
        "            rho = int((x * cos_t[t_idx] + y * sin_t[t_idx]) + diag_len)\n",
        "            rho_idx = int(rho / rho_res)\n",
        "            if 0 <= rho_idx < num_rhos:\n",
        "                accumulator[rho_idx, t_idx] += 1\n",
        "\n",
        "    return accumulator, thetas, rhos"
      ],
      "metadata": {
        "id": "DROnBU94LoNU"
      },
      "execution_count": null,
      "outputs": []
    },
    {
      "cell_type": "code",
      "source": [
        "# claude 개선 코드 srn, stn 고려\n",
        "\n",
        "def hough_transform(image, rho, theta, threshold, srn=0, stn=0):\n",
        "    height, width = image.shape\n",
        "    diag_len = int(np.ceil(np.sqrt(height**2 + width**2)))\n",
        "\n",
        "    if srn == 0 and stn == 0:\n",
        "        # 표준 Hough 변환\n",
        "        num_rhos = int(2 * diag_len / rho)\n",
        "        rhos = np.linspace(-diag_len, diag_len, num_rhos)\n",
        "        thetas = np.arange(-np.pi/2, np.pi/2, theta)\n",
        "    else:\n",
        "        # 멀티스케일 Hough 변환\n",
        "        num_rhos = int(2 * diag_len / (rho * srn))\n",
        "        num_thetas = int(np.pi / (theta * stn))\n",
        "        rhos = np.linspace(-diag_len, diag_len, num_rhos)\n",
        "        thetas = np.linspace(-np.pi/2, np.pi/2, num_thetas)\n",
        "\n",
        "    cos_t = np.cos(thetas)\n",
        "    sin_t = np.sin(thetas)\n",
        "\n",
        "    accum = np.zeros((len(rhos), len(thetas)), dtype=np.uint32)\n",
        "    y_idxs, x_idxs = np.nonzero(image)\n",
        "\n",
        "    for i in range(len(x_idxs)):\n",
        "        x = x_idxs[i]\n",
        "        y = y_idxs[i]\n",
        "        for t_idx in range(len(thetas)):\n",
        "            rho = int((x * cos_t[t_idx] + y * sin_t[t_idx]) + diag_len)\n",
        "            if 0 <= rho < len(rhos):\n",
        "                accum[rho, t_idx] += 1\n",
        "\n",
        "    lines = []\n",
        "    for r in range(len(rhos)):\n",
        "        for t in range(len(thetas)):\n",
        "            if accum[r, t] > threshold:\n",
        "                lines.append((rhos[r] - diag_len, thetas[t]))\n",
        "\n",
        "    return np.array(lines)\n",
        "\n",
        "# 사용 예\n",
        "image = np.zeros((100, 100), dtype=np.uint8)\n",
        "image[25:75, 50] = 255  # 수직선 그리기\n",
        "\n",
        "rho = 1\n",
        "theta = np.pi / 180\n",
        "threshold = 50\n",
        "\n",
        "# 표준 Hough 변환\n",
        "lines_standard = hough_transform(image, rho, theta, threshold)\n",
        "print(\"Standard Hough Transform:\", lines_standard)\n",
        "\n",
        "# 멀티스케일 Hough 변환\n",
        "lines_multiscale = hough_transform(image, rho, theta, threshold, srn=2, stn=2)\n",
        "print(\"Multiscale Hough Transform:\", lines_multiscale)"
      ],
      "metadata": {
        "id": "0uJTL2Ba9fDI"
      },
      "execution_count": null,
      "outputs": []
    },
    {
      "cell_type": "code",
      "source": [
        "accum, thetas, rhos = hough_transform(img_canny)"
      ],
      "metadata": {
        "id": "8cZW2yr1bAGr"
      },
      "execution_count": null,
      "outputs": []
    },
    {
      "cell_type": "code",
      "source": [
        "accum[0]"
      ],
      "metadata": {
        "colab": {
          "base_uri": "https://localhost:8080/"
        },
        "id": "WZHkqochbRs-",
        "outputId": "be78b95b-18e6-403a-a2ed-eaa4557729d8"
      },
      "execution_count": null,
      "outputs": [
        {
          "output_type": "execute_result",
          "data": {
            "text/plain": [
              "array([0, 0, 0, 0, 0, 0, 0, 0, 0, 0, 0, 0, 0, 0, 0, 0, 0, 0, 0, 0, 0, 0,\n",
              "       0, 0, 0, 0, 0, 0, 0, 0, 0, 0, 0, 0, 0, 0, 0, 0, 0, 0, 0, 0, 0, 0,\n",
              "       0, 0, 0, 0, 0, 0, 0, 0, 0, 0, 0, 0, 0, 0, 0, 0, 0, 0, 0, 0, 0, 0,\n",
              "       0, 0, 0, 0, 0, 0, 0, 0, 0, 0, 0, 0, 0, 0, 0, 0, 0, 0, 0, 0, 0, 0,\n",
              "       0, 0, 0, 0, 0, 0, 0, 0, 0, 0, 0, 0, 0, 0, 0, 0, 0, 0, 0, 0, 0, 0,\n",
              "       0, 0, 0, 0, 0, 0, 0, 0, 0, 0, 0, 0, 0, 0, 0, 0, 0, 0, 0, 0, 0, 0,\n",
              "       0, 0, 0, 0, 0, 0, 0, 0, 0, 0, 0, 0, 0, 0, 0, 0, 0, 0, 0, 0, 0, 0,\n",
              "       0, 0, 0, 0, 0, 0, 0, 0, 0, 0, 0, 0, 0, 0, 0, 0, 0, 0, 0, 0, 0, 0,\n",
              "       0, 0, 0, 0], dtype=uint64)"
            ]
          },
          "metadata": {},
          "execution_count": 23
        }
      ]
    },
    {
      "cell_type": "code",
      "source": [
        "def GetLines(image, accumulator, thetas, rhos, maxval = 0.6):\n",
        "  new_image = np.ones(image.shape, dtype=np.uint8) * 255\n",
        "  threshold = np.max(accumulator) * maxval\n",
        "  y_idxs, x_idxs = np.where(accumulator > threshold)\n",
        "  for y_idx, x_idx in zip(y_idxs, x_idxs):\n",
        "    rho = rhos[y_idx]\n",
        "    theta = thetas[x_idx]\n",
        "    a = np.cos(theta)\n",
        "    b = np.sin(theta)\n",
        "    x0 = a * rho\n",
        "    y0 = b * rho\n",
        "    x1 = int(x0 + 1000 * (-b))\n",
        "    y1 = int(y0 + 1000 * (a))\n",
        "    x2 = int(x0 - 1000 * (-b))\n",
        "    y2 = int(y0 - 1000 * (a))\n",
        "    cv2.line(new_image, (x1, y1), (x2, y2), (0, 0, 255), 2) # line color = RED\n",
        "  return new_image"
      ],
      "metadata": {
        "id": "gvVG88ibenkc"
      },
      "execution_count": null,
      "outputs": []
    },
    {
      "cell_type": "code",
      "source": [
        "def GetLinesOrigin(image, accumulator, thetas, rhos, maxval = 0.6):\n",
        "  #new_image = np.ones(image.shape, dtype=np.uint8) * 255\n",
        "  threshold = np.max(accumulator) * maxval\n",
        "  y_idxs, x_idxs = np.where(accumulator > threshold)\n",
        "  for y_idx, x_idx in zip(y_idxs, x_idxs):\n",
        "    rho = rhos[y_idx]\n",
        "    theta = thetas[x_idx]\n",
        "    a = np.cos(theta)\n",
        "    b = np.sin(theta)\n",
        "    x0 = a * rho\n",
        "    y0 = b * rho\n",
        "    x1 = int(x0 + 1000 * (-b))\n",
        "    y1 = int(y0 + 1000 * (a))\n",
        "    x2 = int(x0 - 1000 * (-b))\n",
        "    y2 = int(y0 - 1000 * (a))\n",
        "    cv2.line(image, (x1, y1), (x2, y2), (0, 0, 255), 2) # line color = RED\n",
        "  return image"
      ],
      "metadata": {
        "id": "v0rDBYiDiVCZ"
      },
      "execution_count": null,
      "outputs": []
    },
    {
      "cell_type": "code",
      "source": [
        "temp_img = img_canny.copy()\n",
        "GetLines(temp_img, accumulator, thetas, rhos, 0.4)"
      ],
      "metadata": {
        "colab": {
          "base_uri": "https://localhost:8080/",
          "height": 574
        },
        "id": "Pcojs1KPH9-N",
        "outputId": "75a15f9d-2170-4cf0-b4f5-80ee1440e125"
      },
      "execution_count": null,
      "outputs": [
        {
          "output_type": "execute_result",
          "data": {
            "text/plain": [
              "array([[255, 255, 255, ..., 255, 255, 255],\n",
              "       [255, 255, 255, ..., 255, 255, 255],\n",
              "       [255, 255, 255, ..., 255, 255, 255],\n",
              "       ...,\n",
              "       [255, 255, 255, ..., 255, 255, 255],\n",
              "       [255, 255, 255, ..., 255, 255, 255],\n",
              "       [255, 255, 255, ..., 255, 255, 255]], dtype=uint8)"
            ],
            "text/html": [
              "<style>\n",
              "      .ndarray_repr .ndarray_raw_data {\n",
              "        display: none;\n",
              "      }\n",
              "      .ndarray_repr.show_array .ndarray_raw_data {\n",
              "        display: block;\n",
              "      }\n",
              "      .ndarray_repr.show_array .ndarray_image_preview {\n",
              "        display: none;\n",
              "      }\n",
              "      </style>\n",
              "      <div id=\"id-cd566399-26e5-4b12-9060-d955850b29ed\" class=\"ndarray_repr\"><pre>ndarray (535, 824) <button style=\"padding: 0 2px;\">show data</button></pre><img src=\"data:image/png;base64,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\" class=\"ndarray_image_preview\" /><pre class=\"ndarray_raw_data\">array([[255, 255, 255, ..., 255, 255, 255],\n",
              "       [255, 255, 255, ..., 255, 255, 255],\n",
              "       [255, 255, 255, ..., 255, 255, 255],\n",
              "       ...,\n",
              "       [255, 255, 255, ..., 255, 255, 255],\n",
              "       [255, 255, 255, ..., 255, 255, 255],\n",
              "       [255, 255, 255, ..., 255, 255, 255]], dtype=uint8)</pre></div><script>\n",
              "      (() => {\n",
              "      const titles = ['show data', 'hide data'];\n",
              "      let index = 0\n",
              "      document.querySelector('#id-cd566399-26e5-4b12-9060-d955850b29ed button').onclick = (e) => {\n",
              "        document.querySelector('#id-cd566399-26e5-4b12-9060-d955850b29ed').classList.toggle('show_array');\n",
              "        index = (++index) % 2;\n",
              "        document.querySelector('#id-cd566399-26e5-4b12-9060-d955850b29ed button').textContent = titles[index];\n",
              "        e.preventDefault();\n",
              "        e.stopPropagation();\n",
              "      }\n",
              "      })();\n",
              "    </script>"
            ]
          },
          "metadata": {},
          "execution_count": 29
        }
      ]
    },
    {
      "cell_type": "code",
      "source": [
        "temp_img = img_.copy()\n",
        "GetLinesOrigin(temp_img, accumulator, thetas, rhos, 0.4)"
      ],
      "metadata": {
        "colab": {
          "base_uri": "https://localhost:8080/",
          "height": 574
        },
        "id": "6r-4rkxjfvaL",
        "outputId": "f43a6a87-0aa9-4356-b672-019bd8cf18c2"
      },
      "execution_count": null,
      "outputs": [
        {
          "output_type": "execute_result",
          "data": {
            "text/plain": [
              "array([[255, 255, 255, ..., 255, 255, 255],\n",
              "       [255, 255, 255, ..., 255, 255, 255],\n",
              "       [255, 255, 255, ..., 255, 255, 255],\n",
              "       ...,\n",
              "       [255, 255, 255, ..., 255, 255, 255],\n",
              "       [255, 255, 255, ..., 255, 255, 255],\n",
              "       [255, 255, 255, ..., 255, 255, 255]], dtype=uint8)"
            ],
            "text/html": [
              "<style>\n",
              "      .ndarray_repr .ndarray_raw_data {\n",
              "        display: none;\n",
              "      }\n",
              "      .ndarray_repr.show_array .ndarray_raw_data {\n",
              "        display: block;\n",
              "      }\n",
              "      .ndarray_repr.show_array .ndarray_image_preview {\n",
              "        display: none;\n",
              "      }\n",
              "      </style>\n",
              "      <div id=\"id-b4ab16d6-0f9c-4885-9558-885cf0e87380\" class=\"ndarray_repr\"><pre>ndarray (535, 824) <button style=\"padding: 0 2px;\">show data</button></pre><img src=\"data:image/png;base64,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\" class=\"ndarray_image_preview\" /><pre class=\"ndarray_raw_data\">array([[255, 255, 255, ..., 255, 255, 255],\n",
              "       [255, 255, 255, ..., 255, 255, 255],\n",
              "       [255, 255, 255, ..., 255, 255, 255],\n",
              "       ...,\n",
              "       [255, 255, 255, ..., 255, 255, 255],\n",
              "       [255, 255, 255, ..., 255, 255, 255],\n",
              "       [255, 255, 255, ..., 255, 255, 255]], dtype=uint8)</pre></div><script>\n",
              "      (() => {\n",
              "      const titles = ['show data', 'hide data'];\n",
              "      let index = 0\n",
              "      document.querySelector('#id-b4ab16d6-0f9c-4885-9558-885cf0e87380 button').onclick = (e) => {\n",
              "        document.querySelector('#id-b4ab16d6-0f9c-4885-9558-885cf0e87380').classList.toggle('show_array');\n",
              "        index = (++index) % 2;\n",
              "        document.querySelector('#id-b4ab16d6-0f9c-4885-9558-885cf0e87380 button').textContent = titles[index];\n",
              "        e.preventDefault();\n",
              "        e.stopPropagation();\n",
              "      }\n",
              "      })();\n",
              "    </script>"
            ]
          },
          "metadata": {},
          "execution_count": 62
        }
      ]
    },
    {
      "cell_type": "code",
      "source": [
        "img_"
      ],
      "metadata": {
        "colab": {
          "base_uri": "https://localhost:8080/",
          "height": 574
        },
        "id": "0j1mYQaUjlV3",
        "outputId": "252a5139-a860-419c-ecf7-b270acc876b2"
      },
      "execution_count": null,
      "outputs": [
        {
          "output_type": "execute_result",
          "data": {
            "text/plain": [
              "array([[255, 255, 255, ..., 255, 255, 255],\n",
              "       [255, 255, 255, ..., 255, 255, 255],\n",
              "       [255, 255, 255, ..., 255, 255, 255],\n",
              "       ...,\n",
              "       [255, 255, 255, ..., 255, 255, 255],\n",
              "       [255, 255, 255, ..., 255, 255, 255],\n",
              "       [255, 255, 255, ..., 255, 255, 255]], dtype=uint8)"
            ],
            "text/html": [
              "<style>\n",
              "      .ndarray_repr .ndarray_raw_data {\n",
              "        display: none;\n",
              "      }\n",
              "      .ndarray_repr.show_array .ndarray_raw_data {\n",
              "        display: block;\n",
              "      }\n",
              "      .ndarray_repr.show_array .ndarray_image_preview {\n",
              "        display: none;\n",
              "      }\n",
              "      </style>\n",
              "      <div id=\"id-dd85c2ab-26a7-4736-b4c4-f1da0ec60c65\" class=\"ndarray_repr\"><pre>ndarray (535, 824) <button style=\"padding: 0 2px;\">show data</button></pre><img src=\"data:image/png;base64,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\" class=\"ndarray_image_preview\" /><pre class=\"ndarray_raw_data\">array([[255, 255, 255, ..., 255, 255, 255],\n",
              "       [255, 255, 255, ..., 255, 255, 255],\n",
              "       [255, 255, 255, ..., 255, 255, 255],\n",
              "       ...,\n",
              "       [255, 255, 255, ..., 255, 255, 255],\n",
              "       [255, 255, 255, ..., 255, 255, 255],\n",
              "       [255, 255, 255, ..., 255, 255, 255]], dtype=uint8)</pre></div><script>\n",
              "      (() => {\n",
              "      const titles = ['show data', 'hide data'];\n",
              "      let index = 0\n",
              "      document.querySelector('#id-dd85c2ab-26a7-4736-b4c4-f1da0ec60c65 button').onclick = (e) => {\n",
              "        document.querySelector('#id-dd85c2ab-26a7-4736-b4c4-f1da0ec60c65').classList.toggle('show_array');\n",
              "        index = (++index) % 2;\n",
              "        document.querySelector('#id-dd85c2ab-26a7-4736-b4c4-f1da0ec60c65 button').textContent = titles[index];\n",
              "        e.preventDefault();\n",
              "        e.stopPropagation();\n",
              "      }\n",
              "      })();\n",
              "    </script>"
            ]
          },
          "metadata": {},
          "execution_count": 63
        }
      ]
    },
    {
      "cell_type": "code",
      "source": [
        "temp_img = img_.copy()"
      ],
      "metadata": {
        "id": "4VMavyQ4jpi-"
      },
      "execution_count": null,
      "outputs": []
    },
    {
      "cell_type": "code",
      "source": [
        "new_img =  np.ones(temp_img.shape, dtype=np.uint8) * 255\n",
        "edges = cv2.Canny(temp_img, 50, 150, apertureSize=3)\n",
        "lines = cv2.HoughLines(edges, 1, np.pi / 180, threshold=100)\n",
        "lines[0]"
      ],
      "metadata": {
        "colab": {
          "base_uri": "https://localhost:8080/"
        },
        "id": "hEkwrZNujsUb",
        "outputId": "ab56ec31-f4c4-4c37-ee9d-b7cbb43e045b"
      },
      "execution_count": null,
      "outputs": [
        {
          "output_type": "execute_result",
          "data": {
            "text/plain": [
              "array([[361.       ,   1.1519173]], dtype=float32)"
            ]
          },
          "metadata": {},
          "execution_count": 14
        }
      ]
    },
    {
      "cell_type": "code",
      "source": [
        "lines = cv2.HoughLinesP(edges, 1, np.pi/180, threshold=50, minLineLength=50, maxLineGap=10)\n",
        "\n",
        "# 결과 이미지에 선 그리기\n",
        "result = temp_img.copy()\n",
        "if lines is not None:\n",
        "    for line in lines:\n",
        "        x1, y1, x2, y2 = line[0]\n",
        "        cv2.line(result, (x1, y1), (x2, y2), (0, 0, 255), 2)"
      ],
      "metadata": {
        "id": "l8yfKxuikfbm"
      },
      "execution_count": null,
      "outputs": []
    },
    {
      "cell_type": "code",
      "source": [
        "result"
      ],
      "metadata": {
        "colab": {
          "base_uri": "https://localhost:8080/",
          "height": 574
        },
        "id": "CiBs-iLUk8pA",
        "outputId": "afa14702-a344-4a13-b5a7-d8762146ee09"
      },
      "execution_count": null,
      "outputs": [
        {
          "output_type": "execute_result",
          "data": {
            "text/plain": [
              "array([[255, 255, 255, ..., 255, 255, 255],\n",
              "       [255, 255, 255, ..., 255, 255, 255],\n",
              "       [255, 255, 255, ..., 255, 255, 255],\n",
              "       ...,\n",
              "       [255, 255, 255, ..., 255, 255, 255],\n",
              "       [255, 255, 255, ..., 255, 255, 255],\n",
              "       [255, 255, 255, ..., 255, 255, 255]], dtype=uint8)"
            ],
            "text/html": [
              "<style>\n",
              "      .ndarray_repr .ndarray_raw_data {\n",
              "        display: none;\n",
              "      }\n",
              "      .ndarray_repr.show_array .ndarray_raw_data {\n",
              "        display: block;\n",
              "      }\n",
              "      .ndarray_repr.show_array .ndarray_image_preview {\n",
              "        display: none;\n",
              "      }\n",
              "      </style>\n",
              "      <div id=\"id-437b9939-5555-4b91-baf1-ceb91956bd6f\" class=\"ndarray_repr\"><pre>ndarray (535, 824) <button style=\"padding: 0 2px;\">show data</button></pre><img src=\"data:image/png;base64,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\" class=\"ndarray_image_preview\" /><pre class=\"ndarray_raw_data\">array([[255, 255, 255, ..., 255, 255, 255],\n",
              "       [255, 255, 255, ..., 255, 255, 255],\n",
              "       [255, 255, 255, ..., 255, 255, 255],\n",
              "       ...,\n",
              "       [255, 255, 255, ..., 255, 255, 255],\n",
              "       [255, 255, 255, ..., 255, 255, 255],\n",
              "       [255, 255, 255, ..., 255, 255, 255]], dtype=uint8)</pre></div><script>\n",
              "      (() => {\n",
              "      const titles = ['show data', 'hide data'];\n",
              "      let index = 0\n",
              "      document.querySelector('#id-437b9939-5555-4b91-baf1-ceb91956bd6f button').onclick = (e) => {\n",
              "        document.querySelector('#id-437b9939-5555-4b91-baf1-ceb91956bd6f').classList.toggle('show_array');\n",
              "        index = (++index) % 2;\n",
              "        document.querySelector('#id-437b9939-5555-4b91-baf1-ceb91956bd6f button').textContent = titles[index];\n",
              "        e.preventDefault();\n",
              "        e.stopPropagation();\n",
              "      }\n",
              "      })();\n",
              "    </script>"
            ]
          },
          "metadata": {},
          "execution_count": 17
        }
      ]
    },
    {
      "cell_type": "code",
      "source": [
        "lines = cv2.HoughLines(edges, 1, np.pi/180, 200)\n",
        "\n",
        "# 결과 이미지에 선 그리기\n",
        "result = temp_img.copy()\n",
        "if lines is not None:\n",
        "    for line in lines:\n",
        "        rho, theta = line[0]\n",
        "        a = np.cos(theta)\n",
        "        b = np.sin(theta)\n",
        "        x0 = a * rho\n",
        "        y0 = b * rho\n",
        "        x1 = int(x0 + 1000 * (-b))\n",
        "        y1 = int(y0 + 1000 * (a))\n",
        "        x2 = int(x0 - 1000 * (-b))\n",
        "        y2 = int(y0 - 1000 * (a))\n",
        "        cv2.line(result, (x1, y1), (x2, y2), (0, 0, 255), 2)"
      ],
      "metadata": {
        "id": "R3wlUId-lY7u"
      },
      "execution_count": null,
      "outputs": []
    },
    {
      "cell_type": "markdown",
      "source": [],
      "metadata": {
        "id": "MXW35KhRfmJ1"
      }
    }
  ]
}